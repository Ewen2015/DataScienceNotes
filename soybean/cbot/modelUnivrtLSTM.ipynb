{
 "cells": [
  {
   "cell_type": "markdown",
   "metadata": {},
   "source": [
    "reference: \n",
    "\n",
    "[Multivariate Time Series Forecasting with LSTMs in Keras](https://machinelearningmastery.com/multivariate-time-series-forecasting-lstms-keras/)\n",
    "\n"
   ]
  },
  {
   "cell_type": "code",
   "execution_count": 1,
   "metadata": {},
   "outputs": [],
   "source": [
    "import pandas as pd\n",
    "import numpy as np\n",
    "import matplotlib.pyplot as plt \n",
    "import datetime\n",
    "import os"
   ]
  },
  {
   "cell_type": "code",
   "execution_count": 2,
   "metadata": {},
   "outputs": [],
   "source": [
    "cwd = os.getcwd()\n",
    "f_d = '/data/DATA_CME_S1_22012021.csv'"
   ]
  },
  {
   "cell_type": "markdown",
   "metadata": {},
   "source": [
    "# data"
   ]
  },
  {
   "cell_type": "code",
   "execution_count": 3,
   "metadata": {},
   "outputs": [],
   "source": [
    "d = pd.read_csv(cwd+f_d)"
   ]
  },
  {
   "cell_type": "code",
   "execution_count": 4,
   "metadata": {},
   "outputs": [
    {
     "data": {
      "text/html": [
       "<div>\n",
       "<style scoped>\n",
       "    .dataframe tbody tr th:only-of-type {\n",
       "        vertical-align: middle;\n",
       "    }\n",
       "\n",
       "    .dataframe tbody tr th {\n",
       "        vertical-align: top;\n",
       "    }\n",
       "\n",
       "    .dataframe thead th {\n",
       "        text-align: right;\n",
       "    }\n",
       "</style>\n",
       "<table border=\"1\" class=\"dataframe\">\n",
       "  <thead>\n",
       "    <tr style=\"text-align: right;\">\n",
       "      <th></th>\n",
       "      <th>Date</th>\n",
       "      <th>Open</th>\n",
       "      <th>High</th>\n",
       "      <th>Low</th>\n",
       "      <th>Last</th>\n",
       "      <th>Change</th>\n",
       "      <th>Settle</th>\n",
       "      <th>Volume</th>\n",
       "      <th>Previous Day Open Interest</th>\n",
       "    </tr>\n",
       "  </thead>\n",
       "  <tbody>\n",
       "    <tr>\n",
       "      <th>0</th>\n",
       "      <td>2021-01-21</td>\n",
       "      <td>1369.00</td>\n",
       "      <td>1387.00</td>\n",
       "      <td>1365.50</td>\n",
       "      <td>1367.50</td>\n",
       "      <td>0.75</td>\n",
       "      <td>1370.25</td>\n",
       "      <td>108662.0</td>\n",
       "      <td>358270.0</td>\n",
       "    </tr>\n",
       "    <tr>\n",
       "      <th>1</th>\n",
       "      <td>2021-01-20</td>\n",
       "      <td>1384.50</td>\n",
       "      <td>1384.50</td>\n",
       "      <td>1352.00</td>\n",
       "      <td>1368.75</td>\n",
       "      <td>-16.25</td>\n",
       "      <td>1369.50</td>\n",
       "      <td>171018.0</td>\n",
       "      <td>366235.0</td>\n",
       "    </tr>\n",
       "    <tr>\n",
       "      <th>2</th>\n",
       "      <td>2021-01-19</td>\n",
       "      <td>1419.00</td>\n",
       "      <td>1421.25</td>\n",
       "      <td>1383.25</td>\n",
       "      <td>1385.00</td>\n",
       "      <td>-31.00</td>\n",
       "      <td>1385.75</td>\n",
       "      <td>121099.0</td>\n",
       "      <td>374876.0</td>\n",
       "    </tr>\n",
       "    <tr>\n",
       "      <th>3</th>\n",
       "      <td>2021-01-15</td>\n",
       "      <td>1432.25</td>\n",
       "      <td>1434.50</td>\n",
       "      <td>1413.50</td>\n",
       "      <td>1424.75</td>\n",
       "      <td>-13.75</td>\n",
       "      <td>1416.75</td>\n",
       "      <td>95665.0</td>\n",
       "      <td>378606.0</td>\n",
       "    </tr>\n",
       "    <tr>\n",
       "      <th>4</th>\n",
       "      <td>2021-01-14</td>\n",
       "      <td>1413.00</td>\n",
       "      <td>1413.00</td>\n",
       "      <td>1413.00</td>\n",
       "      <td>1411.75</td>\n",
       "      <td>25.50</td>\n",
       "      <td>1436.50</td>\n",
       "      <td>12.0</td>\n",
       "      <td>52.0</td>\n",
       "    </tr>\n",
       "  </tbody>\n",
       "</table>\n",
       "</div>"
      ],
      "text/plain": [
       "         Date     Open     High      Low     Last  Change   Settle    Volume  \\\n",
       "0  2021-01-21  1369.00  1387.00  1365.50  1367.50    0.75  1370.25  108662.0   \n",
       "1  2021-01-20  1384.50  1384.50  1352.00  1368.75  -16.25  1369.50  171018.0   \n",
       "2  2021-01-19  1419.00  1421.25  1383.25  1385.00  -31.00  1385.75  121099.0   \n",
       "3  2021-01-15  1432.25  1434.50  1413.50  1424.75  -13.75  1416.75   95665.0   \n",
       "4  2021-01-14  1413.00  1413.00  1413.00  1411.75   25.50  1436.50      12.0   \n",
       "\n",
       "   Previous Day Open Interest  \n",
       "0                    358270.0  \n",
       "1                    366235.0  \n",
       "2                    374876.0  \n",
       "3                    378606.0  \n",
       "4                        52.0  "
      ]
     },
     "execution_count": 4,
     "metadata": {},
     "output_type": "execute_result"
    }
   ],
   "source": [
    "d.head()"
   ]
  },
  {
   "cell_type": "markdown",
   "metadata": {},
   "source": [
    "## subset the data since 2010-01-01"
   ]
  },
  {
   "cell_type": "code",
   "execution_count": 5,
   "metadata": {},
   "outputs": [
    {
     "name": "stderr",
     "output_type": "stream",
     "text": [
      "/Library/Frameworks/Python.framework/Versions/3.8/lib/python3.8/site-packages/pandas/core/indexing.py:1676: SettingWithCopyWarning: \n",
      "A value is trying to be set on a copy of a slice from a DataFrame.\n",
      "Try using .loc[row_indexer,col_indexer] = value instead\n",
      "\n",
      "See the caveats in the documentation: https://pandas.pydata.org/pandas-docs/stable/user_guide/indexing.html#returning-a-view-versus-a-copy\n",
      "  self._setitem_single_column(ilocs[0], value, pi)\n"
     ]
    }
   ],
   "source": [
    "df = d[['Date', 'Settle']]\n",
    "df.loc[:,'Date'] = pd.to_datetime(df.loc[:,'Date'])\n",
    "df = df[df.loc[:,'Date'] >= '2010-01-01']"
   ]
  },
  {
   "cell_type": "code",
   "execution_count": 6,
   "metadata": {},
   "outputs": [
    {
     "data": {
      "text/html": [
       "<div>\n",
       "<style scoped>\n",
       "    .dataframe tbody tr th:only-of-type {\n",
       "        vertical-align: middle;\n",
       "    }\n",
       "\n",
       "    .dataframe tbody tr th {\n",
       "        vertical-align: top;\n",
       "    }\n",
       "\n",
       "    .dataframe thead th {\n",
       "        text-align: right;\n",
       "    }\n",
       "</style>\n",
       "<table border=\"1\" class=\"dataframe\">\n",
       "  <thead>\n",
       "    <tr style=\"text-align: right;\">\n",
       "      <th></th>\n",
       "      <th>Date</th>\n",
       "      <th>Settle</th>\n",
       "    </tr>\n",
       "  </thead>\n",
       "  <tbody>\n",
       "    <tr>\n",
       "      <th>0</th>\n",
       "      <td>2021-01-21</td>\n",
       "      <td>1370.25</td>\n",
       "    </tr>\n",
       "    <tr>\n",
       "      <th>1</th>\n",
       "      <td>2021-01-20</td>\n",
       "      <td>1369.50</td>\n",
       "    </tr>\n",
       "    <tr>\n",
       "      <th>2</th>\n",
       "      <td>2021-01-19</td>\n",
       "      <td>1385.75</td>\n",
       "    </tr>\n",
       "    <tr>\n",
       "      <th>3</th>\n",
       "      <td>2021-01-15</td>\n",
       "      <td>1416.75</td>\n",
       "    </tr>\n",
       "    <tr>\n",
       "      <th>4</th>\n",
       "      <td>2021-01-14</td>\n",
       "      <td>1436.50</td>\n",
       "    </tr>\n",
       "  </tbody>\n",
       "</table>\n",
       "</div>"
      ],
      "text/plain": [
       "        Date   Settle\n",
       "0 2021-01-21  1370.25\n",
       "1 2021-01-20  1369.50\n",
       "2 2021-01-19  1385.75\n",
       "3 2021-01-15  1416.75\n",
       "4 2021-01-14  1436.50"
      ]
     },
     "execution_count": 6,
     "metadata": {},
     "output_type": "execute_result"
    }
   ],
   "source": [
    "df.head()"
   ]
  },
  {
   "cell_type": "code",
   "execution_count": 7,
   "metadata": {},
   "outputs": [
    {
     "data": {
      "text/html": [
       "<div>\n",
       "<style scoped>\n",
       "    .dataframe tbody tr th:only-of-type {\n",
       "        vertical-align: middle;\n",
       "    }\n",
       "\n",
       "    .dataframe tbody tr th {\n",
       "        vertical-align: top;\n",
       "    }\n",
       "\n",
       "    .dataframe thead th {\n",
       "        text-align: right;\n",
       "    }\n",
       "</style>\n",
       "<table border=\"1\" class=\"dataframe\">\n",
       "  <thead>\n",
       "    <tr style=\"text-align: right;\">\n",
       "      <th></th>\n",
       "      <th>Date</th>\n",
       "      <th>Settle</th>\n",
       "    </tr>\n",
       "  </thead>\n",
       "  <tbody>\n",
       "    <tr>\n",
       "      <th>2781</th>\n",
       "      <td>2010-01-08</td>\n",
       "      <td>1013.00</td>\n",
       "    </tr>\n",
       "    <tr>\n",
       "      <th>2782</th>\n",
       "      <td>2010-01-07</td>\n",
       "      <td>1017.75</td>\n",
       "    </tr>\n",
       "    <tr>\n",
       "      <th>2783</th>\n",
       "      <td>2010-01-06</td>\n",
       "      <td>1050.50</td>\n",
       "    </tr>\n",
       "    <tr>\n",
       "      <th>2784</th>\n",
       "      <td>2010-01-05</td>\n",
       "      <td>1052.25</td>\n",
       "    </tr>\n",
       "    <tr>\n",
       "      <th>2785</th>\n",
       "      <td>2010-01-04</td>\n",
       "      <td>1049.50</td>\n",
       "    </tr>\n",
       "  </tbody>\n",
       "</table>\n",
       "</div>"
      ],
      "text/plain": [
       "           Date   Settle\n",
       "2781 2010-01-08  1013.00\n",
       "2782 2010-01-07  1017.75\n",
       "2783 2010-01-06  1050.50\n",
       "2784 2010-01-05  1052.25\n",
       "2785 2010-01-04  1049.50"
      ]
     },
     "execution_count": 7,
     "metadata": {},
     "output_type": "execute_result"
    }
   ],
   "source": [
    "df.tail()"
   ]
  },
  {
   "cell_type": "code",
   "execution_count": 8,
   "metadata": {},
   "outputs": [
    {
     "data": {
      "image/png": "[encoded data removed]",
      "text/plain": [
       "<Figure size 1152x360 with 1 Axes>"
      ]
     },
     "metadata": {
      "needs_background": "light"
     },
     "output_type": "display_data"
    }
   ],
   "source": [
    "import matplotlib.dates as mdates\n",
    "\n",
    "fig, ax = plt.subplots(figsize=(16, 5))\n",
    "plt.plot_date(x=df.Date, y=df.Settle, ms=1.5)\n",
    "ax.xaxis.set_major_locator(mdates.YearLocator())\n",
    "plt.grid()"
   ]
  },
  {
   "cell_type": "markdown",
   "metadata": {},
   "source": [
    "## convert the TS to supervised ML dataset\n",
    "\n",
    "reference: \n",
    "\n",
    "[How to Convert a Time Series to a Supervised Learning Problem in Python](https://machinelearningmastery.com/convert-time-series-supervised-learning-problem-python/)"
   ]
  },
  {
   "cell_type": "code",
   "execution_count": 12,
   "metadata": {},
   "outputs": [],
   "source": [
    "def series_to_supervised(data, n_in=1, n_out=1, dropnan=True):\n",
    "    \"\"\"\n",
    "    Frame a time series as a supervised learning dataset.\n",
    "    Arguments:\n",
    "        data: Sequence of observations (oldest first) as a list or NumPy array;\n",
    "              NOTE: the order of the list is .\n",
    "        n_in: Number of lag observations as input (X).\n",
    "        n_out: Number of observations as output (y).\n",
    "        dropnan: Boolean whether or not to drop rows with NaN values.\n",
    "    Returns:\n",
    "        Pandas DataFrame of series framed for supervised learning.\n",
    "    \"\"\"\n",
    "    n_vars = 1 if type(data) is np.ndarray or list else data.shape[1]\n",
    "    df = pd.DataFrame(data)\n",
    "    cols, names = list(), list()\n",
    "    # input sequence (t-n, ... t-1)\n",
    "    for i in range(n_in, 0, -1):\n",
    "        cols.append(df.shift(i))\n",
    "        names += [('var%d(t-%d)' % (j+1, i)) for j in range(n_vars)]\n",
    "    # forecast sequence (t, t+1, ... t+n)\n",
    "    for i in range(0, n_out):\n",
    "        cols.append(df.shift(-i))\n",
    "        if i == 0:\n",
    "            names += [('var%d(t)' % (j+1)) for j in range(n_vars)]\n",
    "        else:\n",
    "            names += [('var%d(t+%d)' % (j+1, i)) for j in range(n_vars)]\n",
    "    # put it all together\n",
    "    agg = pd.concat(cols, axis=1)\n",
    "    agg.columns = names\n",
    "    # drop rows with NaN values\n",
    "    if dropnan:\n",
    "        agg.dropna(inplace=True)\n",
    "    return agg"
   ]
  },
  {
   "cell_type": "code",
   "execution_count": 13,
   "metadata": {},
   "outputs": [
    {
     "data": {
      "text/html": [
       "<div>\n",
       "<style scoped>\n",
       "    .dataframe tbody tr th:only-of-type {\n",
       "        vertical-align: middle;\n",
       "    }\n",
       "\n",
       "    .dataframe tbody tr th {\n",
       "        vertical-align: top;\n",
       "    }\n",
       "\n",
       "    .dataframe thead th {\n",
       "        text-align: right;\n",
       "    }\n",
       "</style>\n",
       "<table border=\"1\" class=\"dataframe\">\n",
       "  <thead>\n",
       "    <tr style=\"text-align: right;\">\n",
       "      <th></th>\n",
       "      <th>Date</th>\n",
       "      <th>Settle</th>\n",
       "    </tr>\n",
       "  </thead>\n",
       "  <tbody>\n",
       "    <tr>\n",
       "      <th>4</th>\n",
       "      <td>2021-01-14</td>\n",
       "      <td>1436.50</td>\n",
       "    </tr>\n",
       "    <tr>\n",
       "      <th>3</th>\n",
       "      <td>2021-01-15</td>\n",
       "      <td>1416.75</td>\n",
       "    </tr>\n",
       "    <tr>\n",
       "      <th>2</th>\n",
       "      <td>2021-01-19</td>\n",
       "      <td>1385.75</td>\n",
       "    </tr>\n",
       "    <tr>\n",
       "      <th>1</th>\n",
       "      <td>2021-01-20</td>\n",
       "      <td>1369.50</td>\n",
       "    </tr>\n",
       "    <tr>\n",
       "      <th>0</th>\n",
       "      <td>2021-01-21</td>\n",
       "      <td>1370.25</td>\n",
       "    </tr>\n",
       "  </tbody>\n",
       "</table>\n",
       "</div>"
      ],
      "text/plain": [
       "        Date   Settle\n",
       "4 2021-01-14  1436.50\n",
       "3 2021-01-15  1416.75\n",
       "2 2021-01-19  1385.75\n",
       "1 2021-01-20  1369.50\n",
       "0 2021-01-21  1370.25"
      ]
     },
     "execution_count": 13,
     "metadata": {},
     "output_type": "execute_result"
    }
   ],
   "source": [
    "df.sort_values(by='Date', ascending=True).tail()"
   ]
  },
  {
   "cell_type": "code",
   "execution_count": 14,
   "metadata": {},
   "outputs": [],
   "source": [
    "values = df.sort_values(by='Date', ascending=True)['Settle'].values"
   ]
  },
  {
   "cell_type": "code",
   "execution_count": 15,
   "metadata": {},
   "outputs": [
    {
     "data": {
      "text/plain": [
       "array([1049.5 , 1052.25, 1050.5 , 1017.75, 1013.  , 1001.75,  969.5 ,\n",
       "        983.5 ,  968.5 ,  974.  ])"
      ]
     },
     "execution_count": 15,
     "metadata": {},
     "output_type": "execute_result"
    }
   ],
   "source": [
    "values[:10]"
   ]
  },
  {
   "cell_type": "markdown",
   "metadata": {},
   "source": [
    "## normalize the data"
   ]
  },
  {
   "cell_type": "code",
   "execution_count": 17,
   "metadata": {},
   "outputs": [],
   "source": [
    "from sklearn.preprocessing import MinMaxScaler\n",
    "\n",
    "scaler = MinMaxScaler(feature_range=(0, 1))\n",
    "scaled = scaler.fit_transform(values.reshape(-1, 1))"
   ]
  },
  {
   "cell_type": "code",
   "execution_count": 18,
   "metadata": {},
   "outputs": [
    {
     "data": {
      "text/plain": [
       "array([[0.26377551],\n",
       "       [0.26658163],\n",
       "       [0.26479592],\n",
       "       [0.23137755],\n",
       "       [0.22653061],\n",
       "       [0.21505102],\n",
       "       [0.18214286],\n",
       "       [0.19642857],\n",
       "       [0.18112245],\n",
       "       [0.18673469]])"
      ]
     },
     "execution_count": 18,
     "metadata": {},
     "output_type": "execute_result"
    }
   ],
   "source": [
    "scaled[:10]"
   ]
  },
  {
   "cell_type": "code",
   "execution_count": 83,
   "metadata": {},
   "outputs": [],
   "source": [
    "N_IN = 7\n",
    "N_OUT = 1"
   ]
  },
  {
   "cell_type": "code",
   "execution_count": 84,
   "metadata": {},
   "outputs": [],
   "source": [
    "reshaped = series_to_supervised(scaled, n_in=N_IN, n_out=N_OUT, dropnan=True)"
   ]
  },
  {
   "cell_type": "code",
   "execution_count": 85,
   "metadata": {},
   "outputs": [],
   "source": [
    "reshaped.index = df.sort_values(by='Date', ascending=True)['Date'][N_IN:]"
   ]
  },
  {
   "cell_type": "code",
   "execution_count": 86,
   "metadata": {},
   "outputs": [
    {
     "data": {
      "text/html": [
       "<div>\n",
       "<style scoped>\n",
       "    .dataframe tbody tr th:only-of-type {\n",
       "        vertical-align: middle;\n",
       "    }\n",
       "\n",
       "    .dataframe tbody tr th {\n",
       "        vertical-align: top;\n",
       "    }\n",
       "\n",
       "    .dataframe thead th {\n",
       "        text-align: right;\n",
       "    }\n",
       "</style>\n",
       "<table border=\"1\" class=\"dataframe\">\n",
       "  <thead>\n",
       "    <tr style=\"text-align: right;\">\n",
       "      <th></th>\n",
       "      <th>var1(t-7)</th>\n",
       "      <th>var1(t-6)</th>\n",
       "      <th>var1(t-5)</th>\n",
       "      <th>var1(t-4)</th>\n",
       "      <th>var1(t-3)</th>\n",
       "      <th>var1(t-2)</th>\n",
       "      <th>var1(t-1)</th>\n",
       "      <th>var1(t)</th>\n",
       "    </tr>\n",
       "    <tr>\n",
       "      <th>Date</th>\n",
       "      <th></th>\n",
       "      <th></th>\n",
       "      <th></th>\n",
       "      <th></th>\n",
       "      <th></th>\n",
       "      <th></th>\n",
       "      <th></th>\n",
       "      <th></th>\n",
       "    </tr>\n",
       "  </thead>\n",
       "  <tbody>\n",
       "    <tr>\n",
       "      <th>2021-01-14</th>\n",
       "      <td>0.570408</td>\n",
       "      <td>0.585969</td>\n",
       "      <td>0.581122</td>\n",
       "      <td>0.596684</td>\n",
       "      <td>0.595408</td>\n",
       "      <td>0.643878</td>\n",
       "      <td>0.632653</td>\n",
       "      <td>0.658673</td>\n",
       "    </tr>\n",
       "    <tr>\n",
       "      <th>2021-01-15</th>\n",
       "      <td>0.585969</td>\n",
       "      <td>0.581122</td>\n",
       "      <td>0.596684</td>\n",
       "      <td>0.595408</td>\n",
       "      <td>0.643878</td>\n",
       "      <td>0.632653</td>\n",
       "      <td>0.658673</td>\n",
       "      <td>0.638520</td>\n",
       "    </tr>\n",
       "    <tr>\n",
       "      <th>2021-01-19</th>\n",
       "      <td>0.581122</td>\n",
       "      <td>0.596684</td>\n",
       "      <td>0.595408</td>\n",
       "      <td>0.643878</td>\n",
       "      <td>0.632653</td>\n",
       "      <td>0.658673</td>\n",
       "      <td>0.638520</td>\n",
       "      <td>0.606888</td>\n",
       "    </tr>\n",
       "    <tr>\n",
       "      <th>2021-01-20</th>\n",
       "      <td>0.596684</td>\n",
       "      <td>0.595408</td>\n",
       "      <td>0.643878</td>\n",
       "      <td>0.632653</td>\n",
       "      <td>0.658673</td>\n",
       "      <td>0.638520</td>\n",
       "      <td>0.606888</td>\n",
       "      <td>0.590306</td>\n",
       "    </tr>\n",
       "    <tr>\n",
       "      <th>2021-01-21</th>\n",
       "      <td>0.595408</td>\n",
       "      <td>0.643878</td>\n",
       "      <td>0.632653</td>\n",
       "      <td>0.658673</td>\n",
       "      <td>0.638520</td>\n",
       "      <td>0.606888</td>\n",
       "      <td>0.590306</td>\n",
       "      <td>0.591071</td>\n",
       "    </tr>\n",
       "  </tbody>\n",
       "</table>\n",
       "</div>"
      ],
      "text/plain": [
       "            var1(t-7)  var1(t-6)  var1(t-5)  var1(t-4)  var1(t-3)  var1(t-2)  \\\n",
       "Date                                                                           \n",
       "2021-01-14   0.570408   0.585969   0.581122   0.596684   0.595408   0.643878   \n",
       "2021-01-15   0.585969   0.581122   0.596684   0.595408   0.643878   0.632653   \n",
       "2021-01-19   0.581122   0.596684   0.595408   0.643878   0.632653   0.658673   \n",
       "2021-01-20   0.596684   0.595408   0.643878   0.632653   0.658673   0.638520   \n",
       "2021-01-21   0.595408   0.643878   0.632653   0.658673   0.638520   0.606888   \n",
       "\n",
       "            var1(t-1)   var1(t)  \n",
       "Date                             \n",
       "2021-01-14   0.632653  0.658673  \n",
       "2021-01-15   0.658673  0.638520  \n",
       "2021-01-19   0.638520  0.606888  \n",
       "2021-01-20   0.606888  0.590306  \n",
       "2021-01-21   0.590306  0.591071  "
      ]
     },
     "execution_count": 86,
     "metadata": {},
     "output_type": "execute_result"
    }
   ],
   "source": [
    "reshaped.tail()"
   ]
  },
  {
   "cell_type": "markdown",
   "metadata": {},
   "source": [
    "## training/test data split"
   ]
  },
  {
   "cell_type": "code",
   "execution_count": 87,
   "metadata": {},
   "outputs": [
    {
     "data": {
      "text/plain": [
       "266"
      ]
     },
     "execution_count": 87,
     "metadata": {},
     "output_type": "execute_result"
    }
   ],
   "source": [
    "reshaped.loc[reshaped.index >= '2020-01-01'].shape[0]"
   ]
  },
  {
   "cell_type": "code",
   "execution_count": 88,
   "metadata": {},
   "outputs": [],
   "source": [
    "# split into train and test sets\n",
    "train = reshaped.loc[reshaped.index < '2020-01-01']\n",
    "test = reshaped.loc[reshaped.index >= '2020-01-01']"
   ]
  },
  {
   "cell_type": "code",
   "execution_count": 89,
   "metadata": {},
   "outputs": [],
   "source": [
    "# split into input and outputs\n",
    "train_X, train_y = train.iloc[:, :-1], train.iloc[:, -1]\n",
    "test_X, test_y = test.iloc[:, :-1], test.iloc[:, -1]"
   ]
  },
  {
   "cell_type": "markdown",
   "metadata": {},
   "source": [
    "> Finally, the inputs (X) are reshaped into the 3D format expected by LSTMs, namely [samples, timesteps, features]"
   ]
  },
  {
   "cell_type": "code",
   "execution_count": 90,
   "metadata": {},
   "outputs": [
    {
     "name": "stdout",
     "output_type": "stream",
     "text": [
      "(2513, 1, 7) (2513,) (266, 1, 7) (266,)\n"
     ]
    }
   ],
   "source": [
    "# reshape input to be 3D [samples, timesteps, features]\n",
    "train_X = train_X.values.reshape((train_X.shape[0], N_OUT, train_X.shape[1]))\n",
    "test_X = test_X.values.reshape((test_X.shape[0], N_OUT, test_X.shape[1]))\n",
    "\n",
    "print(train_X.shape, train_y.shape, test_X.shape, test_y.shape)"
   ]
  },
  {
   "cell_type": "markdown",
   "metadata": {},
   "source": [
    "# model"
   ]
  },
  {
   "cell_type": "markdown",
   "metadata": {},
   "source": [
    "## design network"
   ]
  },
  {
   "cell_type": "code",
   "execution_count": 91,
   "metadata": {},
   "outputs": [],
   "source": [
    "import tensorflow as tf"
   ]
  },
  {
   "cell_type": "code",
   "execution_count": 92,
   "metadata": {},
   "outputs": [
    {
     "name": "stdout",
     "output_type": "stream",
     "text": [
      "Model: \"sequential_2\"\n",
      "_________________________________________________________________\n",
      "Layer (type)                 Output Shape              Param #   \n",
      "=================================================================\n",
      "lstm1 (LSTM)                 (None, 1, 128)            69632     \n",
      "_________________________________________________________________\n",
      "lstm2 (LSTM)                 (None, 128)               131584    \n",
      "_________________________________________________________________\n",
      "output (Dense)               (None, 1)                 129       \n",
      "=================================================================\n",
      "Total params: 201,345\n",
      "Trainable params: 201,345\n",
      "Non-trainable params: 0\n",
      "_________________________________________________________________\n"
     ]
    }
   ],
   "source": [
    "# design network\n",
    "\n",
    "EPOCHS = 100\n",
    "BATCH_SIZE = 77\n",
    "TRAIN_SPLIT = 0.87\n",
    "LOSS_FUNCTION = 'mse' # 'mse': Mean Square Error, 'mae': Mean Absolute Error, 'binary_crossentropy'\n",
    "LEARNING_RATE = 0.001 #0.001\n",
    "NEURONS = 128\n",
    "\n",
    "model = tf.keras.models.Sequential()\n",
    "model.add(tf.keras.layers.LSTM(NEURONS, input_shape=(train_X.shape[1], train_X.shape[2]), return_sequences=True, name='lstm1'))\n",
    "model.add(tf.keras.layers.LSTM(NEURONS, name='lstm2'))\n",
    "model.add(tf.keras.layers.Dense(1, activation='relu', name='output'))\n",
    "optimizer = tf.keras.optimizers.Adam(lr=LEARNING_RATE)\n",
    "model.compile(loss=LOSS_FUNCTION, optimizer=optimizer)\n",
    "model.summary()"
   ]
  },
  {
   "cell_type": "markdown",
   "metadata": {},
   "source": [
    "## train the model"
   ]
  },
  {
   "cell_type": "code",
   "execution_count": 93,
   "metadata": {
    "collapsed": true,
    "jupyter": {
     "outputs_hidden": true
    }
   },
   "outputs": [
    {
     "name": "stdout",
     "output_type": "stream",
     "text": [
      "Epoch 1/100\n",
      "30/30 [==============================] - 3s 25ms/step - loss: 0.1314 - val_loss: 0.0155\n",
      "Epoch 2/100\n",
      "30/30 [==============================] - 0s 5ms/step - loss: 0.0050 - val_loss: 0.0029\n",
      "Epoch 3/100\n",
      "30/30 [==============================] - 0s 5ms/step - loss: 0.0055 - val_loss: 0.0019\n",
      "Epoch 4/100\n",
      "30/30 [==============================] - 0s 5ms/step - loss: 0.0014 - val_loss: 5.0102e-04\n",
      "Epoch 5/100\n",
      "30/30 [==============================] - 0s 5ms/step - loss: 0.0011 - val_loss: 3.6650e-04\n",
      "Epoch 6/100\n",
      "30/30 [==============================] - 0s 5ms/step - loss: 0.0011 - val_loss: 3.8739e-04\n",
      "Epoch 7/100\n",
      "30/30 [==============================] - 0s 5ms/step - loss: 0.0012 - val_loss: 3.7698e-04\n",
      "Epoch 8/100\n",
      "30/30 [==============================] - 0s 5ms/step - loss: 0.0012 - val_loss: 3.5146e-04\n",
      "Epoch 9/100\n",
      "30/30 [==============================] - 0s 5ms/step - loss: 0.0014 - val_loss: 3.2989e-04\n",
      "Epoch 10/100\n",
      "30/30 [==============================] - 0s 6ms/step - loss: 0.0015 - val_loss: 3.1166e-04\n",
      "Epoch 11/100\n",
      "30/30 [==============================] - 0s 6ms/step - loss: 0.0018 - val_loss: 2.9543e-04\n",
      "Epoch 12/100\n",
      "30/30 [==============================] - 0s 5ms/step - loss: 0.0022 - val_loss: 2.8117e-04\n",
      "Epoch 13/100\n",
      "30/30 [==============================] - 0s 5ms/step - loss: 0.0030 - val_loss: 2.6904e-04\n",
      "Epoch 14/100\n",
      "30/30 [==============================] - 0s 5ms/step - loss: 0.0041 - val_loss: 2.5919e-04\n",
      "Epoch 15/100\n",
      "30/30 [==============================] - 0s 6ms/step - loss: 0.0054 - val_loss: 2.4932e-04\n",
      "Epoch 16/100\n",
      "30/30 [==============================] - 0s 5ms/step - loss: 0.0062 - val_loss: 2.3619e-04\n",
      "Epoch 17/100\n",
      "30/30 [==============================] - 0s 5ms/step - loss: 0.0057 - val_loss: 2.2443e-04\n",
      "Epoch 18/100\n",
      "30/30 [==============================] - 0s 5ms/step - loss: 0.0043 - val_loss: 2.2042e-04\n",
      "Epoch 19/100\n",
      "30/30 [==============================] - 0s 6ms/step - loss: 0.0030 - val_loss: 2.1823e-04\n",
      "Epoch 20/100\n",
      "30/30 [==============================] - 0s 7ms/step - loss: 0.0023 - val_loss: 2.1547e-04\n",
      "Epoch 21/100\n",
      "30/30 [==============================] - 0s 6ms/step - loss: 0.0019 - val_loss: 2.1374e-04\n",
      "Epoch 22/100\n",
      "30/30 [==============================] - 0s 6ms/step - loss: 0.0019 - val_loss: 2.1358e-04\n",
      "Epoch 23/100\n",
      "30/30 [==============================] - 0s 5ms/step - loss: 0.0019 - val_loss: 2.1460e-04\n",
      "Epoch 24/100\n",
      "30/30 [==============================] - 0s 5ms/step - loss: 0.0020 - val_loss: 2.1666e-04\n",
      "Epoch 25/100\n",
      "30/30 [==============================] - 0s 5ms/step - loss: 0.0022 - val_loss: 2.1979e-04\n",
      "Epoch 26/100\n",
      "30/30 [==============================] - 0s 5ms/step - loss: 0.0024 - val_loss: 2.2396e-04\n",
      "Epoch 27/100\n",
      "30/30 [==============================] - 0s 5ms/step - loss: 0.0026 - val_loss: 2.2908e-04\n",
      "Epoch 28/100\n",
      "30/30 [==============================] - 0s 5ms/step - loss: 0.0027 - val_loss: 2.3489e-04\n",
      "Epoch 29/100\n",
      "30/30 [==============================] - 0s 5ms/step - loss: 0.0029 - val_loss: 2.4095e-04\n",
      "Epoch 30/100\n",
      "30/30 [==============================] - 0s 5ms/step - loss: 0.0029 - val_loss: 2.4676e-04\n",
      "Epoch 31/100\n",
      "30/30 [==============================] - 0s 5ms/step - loss: 0.0029 - val_loss: 2.5175e-04\n",
      "Epoch 32/100\n",
      "30/30 [==============================] - 0s 5ms/step - loss: 0.0028 - val_loss: 2.5551e-04\n",
      "Epoch 33/100\n",
      "30/30 [==============================] - 0s 5ms/step - loss: 0.0027 - val_loss: 2.5792e-04\n",
      "Epoch 34/100\n",
      "30/30 [==============================] - 0s 5ms/step - loss: 0.0025 - val_loss: 2.5913e-04\n",
      "Epoch 35/100\n",
      "30/30 [==============================] - 0s 5ms/step - loss: 0.0024 - val_loss: 2.5947e-04\n",
      "Epoch 36/100\n",
      "30/30 [==============================] - 0s 5ms/step - loss: 0.0023 - val_loss: 2.5933e-04\n",
      "Epoch 37/100\n",
      "30/30 [==============================] - 0s 5ms/step - loss: 0.0023 - val_loss: 2.5898e-04\n",
      "Epoch 38/100\n",
      "30/30 [==============================] - 0s 5ms/step - loss: 0.0022 - val_loss: 2.5863e-04\n",
      "Epoch 39/100\n",
      "30/30 [==============================] - 0s 5ms/step - loss: 0.0022 - val_loss: 2.5839e-04\n",
      "Epoch 40/100\n",
      "30/30 [==============================] - 0s 5ms/step - loss: 0.0022 - val_loss: 2.5831e-04\n",
      "Epoch 41/100\n",
      "30/30 [==============================] - 0s 5ms/step - loss: 0.0022 - val_loss: 2.5838e-04\n",
      "Epoch 42/100\n",
      "30/30 [==============================] - 0s 6ms/step - loss: 0.0022 - val_loss: 2.5855e-04\n",
      "Epoch 43/100\n",
      "30/30 [==============================] - 0s 5ms/step - loss: 0.0023 - val_loss: 2.5874e-04\n",
      "Epoch 44/100\n",
      "30/30 [==============================] - 0s 5ms/step - loss: 0.0023 - val_loss: 2.5889e-04\n",
      "Epoch 45/100\n",
      "30/30 [==============================] - 0s 5ms/step - loss: 0.0023 - val_loss: 2.5893e-04\n",
      "Epoch 46/100\n",
      "30/30 [==============================] - 0s 5ms/step - loss: 0.0022 - val_loss: 2.5879e-04\n",
      "Epoch 47/100\n",
      "30/30 [==============================] - 0s 5ms/step - loss: 0.0022 - val_loss: 2.5844e-04\n",
      "Epoch 48/100\n",
      "30/30 [==============================] - 0s 5ms/step - loss: 0.0022 - val_loss: 2.5787e-04\n",
      "Epoch 49/100\n",
      "30/30 [==============================] - 0s 5ms/step - loss: 0.0022 - val_loss: 2.5709e-04\n",
      "Epoch 50/100\n",
      "30/30 [==============================] - 0s 5ms/step - loss: 0.0022 - val_loss: 2.5613e-04\n",
      "Epoch 51/100\n",
      "30/30 [==============================] - 0s 5ms/step - loss: 0.0022 - val_loss: 2.5500e-04\n",
      "Epoch 52/100\n",
      "30/30 [==============================] - 0s 5ms/step - loss: 0.0021 - val_loss: 2.5377e-04\n",
      "Epoch 53/100\n",
      "30/30 [==============================] - 0s 5ms/step - loss: 0.0021 - val_loss: 2.5245e-04\n",
      "Epoch 54/100\n",
      "30/30 [==============================] - 0s 5ms/step - loss: 0.0021 - val_loss: 2.5108e-04\n",
      "Epoch 55/100\n",
      "30/30 [==============================] - 0s 5ms/step - loss: 0.0021 - val_loss: 2.4968e-04\n",
      "Epoch 56/100\n",
      "30/30 [==============================] - 0s 5ms/step - loss: 0.0021 - val_loss: 2.4827e-04\n",
      "Epoch 57/100\n",
      "30/30 [==============================] - 0s 5ms/step - loss: 0.0021 - val_loss: 2.4686e-04\n",
      "Epoch 58/100\n",
      "30/30 [==============================] - 0s 5ms/step - loss: 0.0021 - val_loss: 2.4545e-04\n",
      "Epoch 59/100\n",
      "30/30 [==============================] - 0s 5ms/step - loss: 0.0020 - val_loss: 2.4404e-04\n",
      "Epoch 60/100\n",
      "30/30 [==============================] - 0s 5ms/step - loss: 0.0020 - val_loss: 2.4264e-04\n",
      "Epoch 61/100\n",
      "30/30 [==============================] - 0s 5ms/step - loss: 0.0020 - val_loss: 2.4123e-04\n",
      "Epoch 62/100\n",
      "30/30 [==============================] - 0s 5ms/step - loss: 0.0020 - val_loss: 2.3982e-04\n",
      "Epoch 63/100\n",
      "30/30 [==============================] - 0s 5ms/step - loss: 0.0020 - val_loss: 2.3840e-04\n",
      "Epoch 64/100\n",
      "30/30 [==============================] - 0s 5ms/step - loss: 0.0020 - val_loss: 2.3698e-04\n",
      "Epoch 65/100\n",
      "30/30 [==============================] - 0s 5ms/step - loss: 0.0020 - val_loss: 2.3554e-04\n",
      "Epoch 66/100\n",
      "30/30 [==============================] - 0s 5ms/step - loss: 0.0020 - val_loss: 2.3411e-04\n",
      "Epoch 67/100\n",
      "30/30 [==============================] - 0s 5ms/step - loss: 0.0020 - val_loss: 2.3266e-04\n",
      "Epoch 68/100\n",
      "30/30 [==============================] - 0s 5ms/step - loss: 0.0020 - val_loss: 2.3122e-04\n",
      "Epoch 69/100\n",
      "30/30 [==============================] - 0s 5ms/step - loss: 0.0019 - val_loss: 2.2978e-04\n",
      "Epoch 70/100\n",
      "30/30 [==============================] - 0s 5ms/step - loss: 0.0019 - val_loss: 2.2835e-04\n",
      "Epoch 71/100\n",
      "30/30 [==============================] - 0s 5ms/step - loss: 0.0019 - val_loss: 2.2692e-04\n",
      "Epoch 72/100\n",
      "30/30 [==============================] - 0s 6ms/step - loss: 0.0019 - val_loss: 2.2551e-04\n",
      "Epoch 73/100\n",
      "30/30 [==============================] - 0s 6ms/step - loss: 0.0019 - val_loss: 2.2410e-04\n",
      "Epoch 74/100\n",
      "30/30 [==============================] - 0s 6ms/step - loss: 0.0019 - val_loss: 2.2271e-04\n",
      "Epoch 75/100\n",
      "30/30 [==============================] - 0s 5ms/step - loss: 0.0019 - val_loss: 2.2134e-04\n",
      "Epoch 76/100\n",
      "30/30 [==============================] - 0s 5ms/step - loss: 0.0019 - val_loss: 2.1998e-04\n",
      "Epoch 77/100\n",
      "30/30 [==============================] - 0s 5ms/step - loss: 0.0019 - val_loss: 2.1864e-04\n",
      "Epoch 78/100\n",
      "30/30 [==============================] - 0s 5ms/step - loss: 0.0019 - val_loss: 2.1731e-04\n",
      "Epoch 79/100\n",
      "30/30 [==============================] - 0s 5ms/step - loss: 0.0018 - val_loss: 2.1600e-04\n",
      "Epoch 80/100\n",
      "30/30 [==============================] - 0s 5ms/step - loss: 0.0018 - val_loss: 2.1470e-04\n",
      "Epoch 81/100\n",
      "30/30 [==============================] - 0s 5ms/step - loss: 0.0018 - val_loss: 2.1342e-04\n",
      "Epoch 82/100\n",
      "30/30 [==============================] - 0s 5ms/step - loss: 0.0018 - val_loss: 2.1216e-04\n",
      "Epoch 83/100\n",
      "30/30 [==============================] - 0s 5ms/step - loss: 0.0018 - val_loss: 2.1091e-04\n",
      "Epoch 84/100\n",
      "30/30 [==============================] - 0s 5ms/step - loss: 0.0018 - val_loss: 2.0968e-04\n",
      "Epoch 85/100\n",
      "30/30 [==============================] - 0s 6ms/step - loss: 0.0018 - val_loss: 2.0847e-04\n",
      "Epoch 86/100\n",
      "30/30 [==============================] - 0s 6ms/step - loss: 0.0018 - val_loss: 2.0727e-04\n",
      "Epoch 87/100\n",
      "30/30 [==============================] - 0s 5ms/step - loss: 0.0018 - val_loss: 2.0608e-04\n",
      "Epoch 88/100\n",
      "30/30 [==============================] - 0s 5ms/step - loss: 0.0018 - val_loss: 2.0491e-04\n",
      "Epoch 89/100\n",
      "30/30 [==============================] - 0s 5ms/step - loss: 0.0018 - val_loss: 2.0376e-04\n",
      "Epoch 90/100\n",
      "30/30 [==============================] - 0s 6ms/step - loss: 0.0018 - val_loss: 2.0262e-04\n",
      "Epoch 91/100\n",
      "30/30 [==============================] - 0s 6ms/step - loss: 0.0018 - val_loss: 2.0150e-04\n",
      "Epoch 92/100\n",
      "30/30 [==============================] - 0s 5ms/step - loss: 0.0017 - val_loss: 2.0040e-04\n",
      "Epoch 93/100\n",
      "30/30 [==============================] - 0s 6ms/step - loss: 0.0017 - val_loss: 1.9931e-04\n",
      "Epoch 94/100\n",
      "30/30 [==============================] - 0s 6ms/step - loss: 0.0017 - val_loss: 1.9824e-04\n",
      "Epoch 95/100\n",
      "30/30 [==============================] - 0s 6ms/step - loss: 0.0017 - val_loss: 1.9718e-04\n",
      "Epoch 96/100\n",
      "30/30 [==============================] - 0s 6ms/step - loss: 0.0017 - val_loss: 1.9614e-04\n",
      "Epoch 97/100\n",
      "30/30 [==============================] - 0s 5ms/step - loss: 0.0017 - val_loss: 1.9510e-04\n",
      "Epoch 98/100\n",
      "30/30 [==============================] - 0s 5ms/step - loss: 0.0017 - val_loss: 1.9409e-04\n",
      "Epoch 99/100\n",
      "30/30 [==============================] - 0s 6ms/step - loss: 0.0017 - val_loss: 1.9304e-04\n",
      "Epoch 100/100\n",
      "30/30 [==============================] - 0s 5ms/step - loss: 0.0017 - val_loss: 1.9198e-04\n"
     ]
    }
   ],
   "source": [
    "# fit network\n",
    "history = model.fit(\n",
    "    train_X, \n",
    "    train_y, \n",
    "    epochs=EPOCHS, \n",
    "    batch_size=BATCH_SIZE, \n",
    "    validation_split=0.1, \n",
    "    verbose=1, \n",
    "    shuffle=False)"
   ]
  },
  {
   "cell_type": "code",
   "execution_count": 94,
   "metadata": {},
   "outputs": [
    {
     "data": {
      "image/png": "[encoded data removed]",
      "text/plain": [
       "<Figure size 432x288 with 1 Axes>"
      ]
     },
     "metadata": {
      "needs_background": "light"
     },
     "output_type": "display_data"
    }
   ],
   "source": [
    "# plot history\n",
    "plt.plot(history.history['loss'], label='train')\n",
    "plt.plot(history.history['val_loss'], label='test')\n",
    "plt.legend()\n",
    "plt.show()"
   ]
  },
  {
   "cell_type": "markdown",
   "metadata": {},
   "source": [
    "## prediction"
   ]
  },
  {
   "cell_type": "code",
   "execution_count": 95,
   "metadata": {},
   "outputs": [],
   "source": [
    "yhat = model.predict(test_X)\n",
    "test_X = test_X.reshape((test_X.shape[0], N_OUT*test_X.shape[2]))"
   ]
  },
  {
   "cell_type": "markdown",
   "metadata": {},
   "source": [
    "## invert scaling for forcast and actual"
   ]
  },
  {
   "cell_type": "code",
   "execution_count": 96,
   "metadata": {},
   "outputs": [],
   "source": [
    "inv_yhat = scaler.inverse_transform(yhat)"
   ]
  },
  {
   "cell_type": "code",
   "execution_count": 97,
   "metadata": {},
   "outputs": [],
   "source": [
    "inv_yhat = inv_yhat.reshape(1, len(inv_yhat))"
   ]
  },
  {
   "cell_type": "code",
   "execution_count": 98,
   "metadata": {},
   "outputs": [],
   "source": [
    "inv_y = scaler.inverse_transform(np.array(test_y).reshape(1, len(test_y)))"
   ]
  },
  {
   "cell_type": "code",
   "execution_count": 99,
   "metadata": {},
   "outputs": [
    {
     "data": {
      "text/html": [
       "<div>\n",
       "<style scoped>\n",
       "    .dataframe tbody tr th:only-of-type {\n",
       "        vertical-align: middle;\n",
       "    }\n",
       "\n",
       "    .dataframe tbody tr th {\n",
       "        vertical-align: top;\n",
       "    }\n",
       "\n",
       "    .dataframe thead th {\n",
       "        text-align: right;\n",
       "    }\n",
       "</style>\n",
       "<table border=\"1\" class=\"dataframe\">\n",
       "  <thead>\n",
       "    <tr style=\"text-align: right;\">\n",
       "      <th></th>\n",
       "      <th>settle</th>\n",
       "      <th>prediction</th>\n",
       "    </tr>\n",
       "    <tr>\n",
       "      <th>Date</th>\n",
       "      <th></th>\n",
       "      <th></th>\n",
       "    </tr>\n",
       "  </thead>\n",
       "  <tbody>\n",
       "    <tr>\n",
       "      <th>2020-01-02</th>\n",
       "      <td>944.25</td>\n",
       "      <td>927.095154</td>\n",
       "    </tr>\n",
       "    <tr>\n",
       "      <th>2020-01-03</th>\n",
       "      <td>930.50</td>\n",
       "      <td>929.631470</td>\n",
       "    </tr>\n",
       "    <tr>\n",
       "      <th>2020-01-06</th>\n",
       "      <td>932.75</td>\n",
       "      <td>926.445190</td>\n",
       "    </tr>\n",
       "    <tr>\n",
       "      <th>2020-01-07</th>\n",
       "      <td>935.00</td>\n",
       "      <td>924.582031</td>\n",
       "    </tr>\n",
       "    <tr>\n",
       "      <th>2020-01-08</th>\n",
       "      <td>938.25</td>\n",
       "      <td>924.252136</td>\n",
       "    </tr>\n",
       "  </tbody>\n",
       "</table>\n",
       "</div>"
      ],
      "text/plain": [
       "            settle  prediction\n",
       "Date                          \n",
       "2020-01-02  944.25  927.095154\n",
       "2020-01-03  930.50  929.631470\n",
       "2020-01-06  932.75  926.445190\n",
       "2020-01-07  935.00  924.582031\n",
       "2020-01-08  938.25  924.252136"
      ]
     },
     "execution_count": 99,
     "metadata": {},
     "output_type": "execute_result"
    }
   ],
   "source": [
    "result = pd.DataFrame()\n",
    "result['settle'] = inv_y.tolist()[0]\n",
    "result['prediction'] = inv_yhat.tolist()[0]\n",
    "result.index = test_y.index\n",
    "result.head()"
   ]
  },
  {
   "cell_type": "code",
   "execution_count": 100,
   "metadata": {},
   "outputs": [
    {
     "data": {
      "image/png": "[encoded data removed]",
      "text/plain": [
       "<Figure size 936x360 with 1 Axes>"
      ]
     },
     "metadata": {
      "needs_background": "light"
     },
     "output_type": "display_data"
    }
   ],
   "source": [
    "# Make the plotting-canvas bigger.\n",
    "plt.figure(figsize=(13,5))\n",
    "\n",
    "# Plot and compare the two signals.\n",
    "plt.plot(result['settle'], label='true')\n",
    "plt.plot(result['prediction'], label='pred')\n",
    "\n",
    "# Plot labels etc.\n",
    "plt.legend()\n",
    "plt.show()"
   ]
  },
  {
   "cell_type": "code",
   "execution_count": 101,
   "metadata": {},
   "outputs": [
    {
     "name": "stdout",
     "output_type": "stream",
     "text": [
      "Test RMSE: 30.542\n"
     ]
    }
   ],
   "source": [
    "from sklearn.metrics import mean_squared_error\n",
    "\n",
    "rmse = np.sqrt(mean_squared_error(inv_y, inv_yhat))\n",
    "print('Test RMSE: %.3f' % rmse)"
   ]
  },
  {
   "cell_type": "code",
   "execution_count": null,
   "metadata": {},
   "outputs": [],
   "source": []
  }
 ],
 "metadata": {
  "kernelspec": {
   "display_name": "Python 3",
   "language": "python",
   "name": "python3"
  },
  "language_info": {
   "codemirror_mode": {
    "name": "ipython",
    "version": 3
   },
   "file_extension": ".py",
   "mimetype": "text/x-python",
   "name": "python",
   "nbconvert_exporter": "python",
   "pygments_lexer": "ipython3",
   "version": "3.8.6"
  },
  "toc-autonumbering": true
 },
 "nbformat": 4,
 "nbformat_minor": 4
}
