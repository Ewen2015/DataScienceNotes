{
 "cells": [
  {
   "cell_type": "markdown",
   "metadata": {},
   "source": [
    "reference: \n",
    "\n",
    "[Multivariate Time Series Forecasting with LSTMs in Keras](https://machinelearningmastery.com/multivariate-time-series-forecasting-lstms-keras/)\n",
    "\n"
   ]
  },
  {
   "cell_type": "code",
   "execution_count": 1,
   "metadata": {},
   "outputs": [],
   "source": [
    "import pandas as pd\n",
    "import numpy as np\n",
    "import matplotlib.pyplot as plt \n",
    "import datetime\n",
    "import os"
   ]
  },
  {
   "cell_type": "code",
   "execution_count": 2,
   "metadata": {},
   "outputs": [],
   "source": [
    "cwd = os.getcwd()\n",
    "f_d = '/data/DATA_CME_S1_22012021.csv'"
   ]
  },
  {
   "cell_type": "markdown",
   "metadata": {},
   "source": [
    "# data"
   ]
  },
  {
   "cell_type": "code",
   "execution_count": 3,
   "metadata": {},
   "outputs": [],
   "source": [
    "d = pd.read_csv(cwd+f_d)"
   ]
  },
  {
   "cell_type": "code",
   "execution_count": 4,
   "metadata": {},
   "outputs": [
    {
     "data": {
      "text/html": [
       "<div>\n",
       "<style scoped>\n",
       "    .dataframe tbody tr th:only-of-type {\n",
       "        vertical-align: middle;\n",
       "    }\n",
       "\n",
       "    .dataframe tbody tr th {\n",
       "        vertical-align: top;\n",
       "    }\n",
       "\n",
       "    .dataframe thead th {\n",
       "        text-align: right;\n",
       "    }\n",
       "</style>\n",
       "<table border=\"1\" class=\"dataframe\">\n",
       "  <thead>\n",
       "    <tr style=\"text-align: right;\">\n",
       "      <th></th>\n",
       "      <th>Date</th>\n",
       "      <th>Open</th>\n",
       "      <th>High</th>\n",
       "      <th>Low</th>\n",
       "      <th>Last</th>\n",
       "      <th>Change</th>\n",
       "      <th>Settle</th>\n",
       "      <th>Volume</th>\n",
       "      <th>Previous Day Open Interest</th>\n",
       "    </tr>\n",
       "  </thead>\n",
       "  <tbody>\n",
       "    <tr>\n",
       "      <th>0</th>\n",
       "      <td>2021-01-21</td>\n",
       "      <td>1369.00</td>\n",
       "      <td>1387.00</td>\n",
       "      <td>1365.50</td>\n",
       "      <td>1367.50</td>\n",
       "      <td>0.75</td>\n",
       "      <td>1370.25</td>\n",
       "      <td>108662.0</td>\n",
       "      <td>358270.0</td>\n",
       "    </tr>\n",
       "    <tr>\n",
       "      <th>1</th>\n",
       "      <td>2021-01-20</td>\n",
       "      <td>1384.50</td>\n",
       "      <td>1384.50</td>\n",
       "      <td>1352.00</td>\n",
       "      <td>1368.75</td>\n",
       "      <td>-16.25</td>\n",
       "      <td>1369.50</td>\n",
       "      <td>171018.0</td>\n",
       "      <td>366235.0</td>\n",
       "    </tr>\n",
       "    <tr>\n",
       "      <th>2</th>\n",
       "      <td>2021-01-19</td>\n",
       "      <td>1419.00</td>\n",
       "      <td>1421.25</td>\n",
       "      <td>1383.25</td>\n",
       "      <td>1385.00</td>\n",
       "      <td>-31.00</td>\n",
       "      <td>1385.75</td>\n",
       "      <td>121099.0</td>\n",
       "      <td>374876.0</td>\n",
       "    </tr>\n",
       "    <tr>\n",
       "      <th>3</th>\n",
       "      <td>2021-01-15</td>\n",
       "      <td>1432.25</td>\n",
       "      <td>1434.50</td>\n",
       "      <td>1413.50</td>\n",
       "      <td>1424.75</td>\n",
       "      <td>-13.75</td>\n",
       "      <td>1416.75</td>\n",
       "      <td>95665.0</td>\n",
       "      <td>378606.0</td>\n",
       "    </tr>\n",
       "    <tr>\n",
       "      <th>4</th>\n",
       "      <td>2021-01-14</td>\n",
       "      <td>1413.00</td>\n",
       "      <td>1413.00</td>\n",
       "      <td>1413.00</td>\n",
       "      <td>1411.75</td>\n",
       "      <td>25.50</td>\n",
       "      <td>1436.50</td>\n",
       "      <td>12.0</td>\n",
       "      <td>52.0</td>\n",
       "    </tr>\n",
       "  </tbody>\n",
       "</table>\n",
       "</div>"
      ],
      "text/plain": [
       "         Date     Open     High      Low     Last  Change   Settle    Volume  \\\n",
       "0  2021-01-21  1369.00  1387.00  1365.50  1367.50    0.75  1370.25  108662.0   \n",
       "1  2021-01-20  1384.50  1384.50  1352.00  1368.75  -16.25  1369.50  171018.0   \n",
       "2  2021-01-19  1419.00  1421.25  1383.25  1385.00  -31.00  1385.75  121099.0   \n",
       "3  2021-01-15  1432.25  1434.50  1413.50  1424.75  -13.75  1416.75   95665.0   \n",
       "4  2021-01-14  1413.00  1413.00  1413.00  1411.75   25.50  1436.50      12.0   \n",
       "\n",
       "   Previous Day Open Interest  \n",
       "0                    358270.0  \n",
       "1                    366235.0  \n",
       "2                    374876.0  \n",
       "3                    378606.0  \n",
       "4                        52.0  "
      ]
     },
     "execution_count": 4,
     "metadata": {},
     "output_type": "execute_result"
    }
   ],
   "source": [
    "d.head()"
   ]
  },
  {
   "cell_type": "markdown",
   "metadata": {},
   "source": [
    "## subset the data since 2010-01-01"
   ]
  },
  {
   "cell_type": "code",
   "execution_count": 5,
   "metadata": {},
   "outputs": [
    {
     "name": "stderr",
     "output_type": "stream",
     "text": [
      "/Library/Frameworks/Python.framework/Versions/3.8/lib/python3.8/site-packages/pandas/core/indexing.py:1676: SettingWithCopyWarning: \n",
      "A value is trying to be set on a copy of a slice from a DataFrame.\n",
      "Try using .loc[row_indexer,col_indexer] = value instead\n",
      "\n",
      "See the caveats in the documentation: https://pandas.pydata.org/pandas-docs/stable/user_guide/indexing.html#returning-a-view-versus-a-copy\n",
      "  self._setitem_single_column(ilocs[0], value, pi)\n"
     ]
    }
   ],
   "source": [
    "df = d[['Date', 'Settle']]\n",
    "df.loc[:,'Date'] = pd.to_datetime(df.loc[:,'Date'])\n",
    "df = df[df.loc[:,'Date'] >= '2010-01-01']"
   ]
  },
  {
   "cell_type": "code",
   "execution_count": 6,
   "metadata": {},
   "outputs": [
    {
     "data": {
      "text/html": [
       "<div>\n",
       "<style scoped>\n",
       "    .dataframe tbody tr th:only-of-type {\n",
       "        vertical-align: middle;\n",
       "    }\n",
       "\n",
       "    .dataframe tbody tr th {\n",
       "        vertical-align: top;\n",
       "    }\n",
       "\n",
       "    .dataframe thead th {\n",
       "        text-align: right;\n",
       "    }\n",
       "</style>\n",
       "<table border=\"1\" class=\"dataframe\">\n",
       "  <thead>\n",
       "    <tr style=\"text-align: right;\">\n",
       "      <th></th>\n",
       "      <th>Date</th>\n",
       "      <th>Settle</th>\n",
       "    </tr>\n",
       "  </thead>\n",
       "  <tbody>\n",
       "    <tr>\n",
       "      <th>0</th>\n",
       "      <td>2021-01-21</td>\n",
       "      <td>1370.25</td>\n",
       "    </tr>\n",
       "    <tr>\n",
       "      <th>1</th>\n",
       "      <td>2021-01-20</td>\n",
       "      <td>1369.50</td>\n",
       "    </tr>\n",
       "    <tr>\n",
       "      <th>2</th>\n",
       "      <td>2021-01-19</td>\n",
       "      <td>1385.75</td>\n",
       "    </tr>\n",
       "    <tr>\n",
       "      <th>3</th>\n",
       "      <td>2021-01-15</td>\n",
       "      <td>1416.75</td>\n",
       "    </tr>\n",
       "    <tr>\n",
       "      <th>4</th>\n",
       "      <td>2021-01-14</td>\n",
       "      <td>1436.50</td>\n",
       "    </tr>\n",
       "  </tbody>\n",
       "</table>\n",
       "</div>"
      ],
      "text/plain": [
       "        Date   Settle\n",
       "0 2021-01-21  1370.25\n",
       "1 2021-01-20  1369.50\n",
       "2 2021-01-19  1385.75\n",
       "3 2021-01-15  1416.75\n",
       "4 2021-01-14  1436.50"
      ]
     },
     "execution_count": 6,
     "metadata": {},
     "output_type": "execute_result"
    }
   ],
   "source": [
    "df.head()"
   ]
  },
  {
   "cell_type": "code",
   "execution_count": 7,
   "metadata": {},
   "outputs": [
    {
     "data": {
      "text/html": [
       "<div>\n",
       "<style scoped>\n",
       "    .dataframe tbody tr th:only-of-type {\n",
       "        vertical-align: middle;\n",
       "    }\n",
       "\n",
       "    .dataframe tbody tr th {\n",
       "        vertical-align: top;\n",
       "    }\n",
       "\n",
       "    .dataframe thead th {\n",
       "        text-align: right;\n",
       "    }\n",
       "</style>\n",
       "<table border=\"1\" class=\"dataframe\">\n",
       "  <thead>\n",
       "    <tr style=\"text-align: right;\">\n",
       "      <th></th>\n",
       "      <th>Date</th>\n",
       "      <th>Settle</th>\n",
       "    </tr>\n",
       "  </thead>\n",
       "  <tbody>\n",
       "    <tr>\n",
       "      <th>2781</th>\n",
       "      <td>2010-01-08</td>\n",
       "      <td>1013.00</td>\n",
       "    </tr>\n",
       "    <tr>\n",
       "      <th>2782</th>\n",
       "      <td>2010-01-07</td>\n",
       "      <td>1017.75</td>\n",
       "    </tr>\n",
       "    <tr>\n",
       "      <th>2783</th>\n",
       "      <td>2010-01-06</td>\n",
       "      <td>1050.50</td>\n",
       "    </tr>\n",
       "    <tr>\n",
       "      <th>2784</th>\n",
       "      <td>2010-01-05</td>\n",
       "      <td>1052.25</td>\n",
       "    </tr>\n",
       "    <tr>\n",
       "      <th>2785</th>\n",
       "      <td>2010-01-04</td>\n",
       "      <td>1049.50</td>\n",
       "    </tr>\n",
       "  </tbody>\n",
       "</table>\n",
       "</div>"
      ],
      "text/plain": [
       "           Date   Settle\n",
       "2781 2010-01-08  1013.00\n",
       "2782 2010-01-07  1017.75\n",
       "2783 2010-01-06  1050.50\n",
       "2784 2010-01-05  1052.25\n",
       "2785 2010-01-04  1049.50"
      ]
     },
     "execution_count": 7,
     "metadata": {},
     "output_type": "execute_result"
    }
   ],
   "source": [
    "df.tail()"
   ]
  },
  {
   "cell_type": "code",
   "execution_count": 8,
   "metadata": {},
   "outputs": [
    {
     "data": {
      "image/png": "[encoded data removed]",
      "text/plain": [
       "<Figure size 1152x360 with 1 Axes>"
      ]
     },
     "metadata": {
      "needs_background": "light"
     },
     "output_type": "display_data"
    }
   ],
   "source": [
    "import matplotlib.dates as mdates\n",
    "\n",
    "fig, ax = plt.subplots(figsize=(16, 5))\n",
    "plt.plot_date(x=df.Date, y=df.Settle, ms=1.5)\n",
    "ax.xaxis.set_major_locator(mdates.YearLocator())\n",
    "plt.grid()"
   ]
  },
  {
   "cell_type": "markdown",
   "metadata": {},
   "source": [
    "## convert the TS to supervised ML dataset\n",
    "\n",
    "reference: \n",
    "\n",
    "[How to Convert a Time Series to a Supervised Learning Problem in Python](https://machinelearningmastery.com/convert-time-series-supervised-learning-problem-python/)"
   ]
  },
  {
   "cell_type": "code",
   "execution_count": 9,
   "metadata": {},
   "outputs": [],
   "source": [
    "def series_to_supervised(data, n_in=1, n_out=1, dropnan=True):\n",
    "    \"\"\"\n",
    "    Frame a time series as a supervised learning dataset.\n",
    "    Arguments:\n",
    "        data: Sequence of observations (oldest first) as a list or NumPy array;\n",
    "              NOTE: the order of the list is .\n",
    "        n_in: Number of lag observations as input (X).\n",
    "        n_out: Number of observations as output (y).\n",
    "        dropnan: Boolean whether or not to drop rows with NaN values.\n",
    "    Returns:\n",
    "        Pandas DataFrame of series framed for supervised learning.\n",
    "    \"\"\"\n",
    "    n_vars = 1 if type(data) is np.ndarray or list else data.shape[1]\n",
    "    df = pd.DataFrame(data)\n",
    "    cols, names = list(), list()\n",
    "    # input sequence (t-n, ... t-1)\n",
    "    for i in range(n_in, 0, -1):\n",
    "        cols.append(df.shift(i))\n",
    "        names += [('var%d(t-%d)' % (j+1, i)) for j in range(n_vars)]\n",
    "    # forecast sequence (t, t+1, ... t+n)\n",
    "    for i in range(0, n_out):\n",
    "        cols.append(df.shift(-i))\n",
    "        if i == 0:\n",
    "            names += [('var%d(t)' % (j+1)) for j in range(n_vars)]\n",
    "        else:\n",
    "            names += [('var%d(t+%d)' % (j+1, i)) for j in range(n_vars)]\n",
    "    # put it all together\n",
    "    agg = pd.concat(cols, axis=1)\n",
    "    agg.columns = names\n",
    "    # drop rows with NaN values\n",
    "    if dropnan:\n",
    "        agg.dropna(inplace=True)\n",
    "    return agg"
   ]
  },
  {
   "cell_type": "code",
   "execution_count": 10,
   "metadata": {},
   "outputs": [
    {
     "data": {
      "text/html": [
       "<div>\n",
       "<style scoped>\n",
       "    .dataframe tbody tr th:only-of-type {\n",
       "        vertical-align: middle;\n",
       "    }\n",
       "\n",
       "    .dataframe tbody tr th {\n",
       "        vertical-align: top;\n",
       "    }\n",
       "\n",
       "    .dataframe thead th {\n",
       "        text-align: right;\n",
       "    }\n",
       "</style>\n",
       "<table border=\"1\" class=\"dataframe\">\n",
       "  <thead>\n",
       "    <tr style=\"text-align: right;\">\n",
       "      <th></th>\n",
       "      <th>Date</th>\n",
       "      <th>Settle</th>\n",
       "    </tr>\n",
       "  </thead>\n",
       "  <tbody>\n",
       "    <tr>\n",
       "      <th>4</th>\n",
       "      <td>2021-01-14</td>\n",
       "      <td>1436.50</td>\n",
       "    </tr>\n",
       "    <tr>\n",
       "      <th>3</th>\n",
       "      <td>2021-01-15</td>\n",
       "      <td>1416.75</td>\n",
       "    </tr>\n",
       "    <tr>\n",
       "      <th>2</th>\n",
       "      <td>2021-01-19</td>\n",
       "      <td>1385.75</td>\n",
       "    </tr>\n",
       "    <tr>\n",
       "      <th>1</th>\n",
       "      <td>2021-01-20</td>\n",
       "      <td>1369.50</td>\n",
       "    </tr>\n",
       "    <tr>\n",
       "      <th>0</th>\n",
       "      <td>2021-01-21</td>\n",
       "      <td>1370.25</td>\n",
       "    </tr>\n",
       "  </tbody>\n",
       "</table>\n",
       "</div>"
      ],
      "text/plain": [
       "        Date   Settle\n",
       "4 2021-01-14  1436.50\n",
       "3 2021-01-15  1416.75\n",
       "2 2021-01-19  1385.75\n",
       "1 2021-01-20  1369.50\n",
       "0 2021-01-21  1370.25"
      ]
     },
     "execution_count": 10,
     "metadata": {},
     "output_type": "execute_result"
    }
   ],
   "source": [
    "df.sort_values(by='Date', ascending=True).tail()"
   ]
  },
  {
   "cell_type": "code",
   "execution_count": 11,
   "metadata": {},
   "outputs": [],
   "source": [
    "values = df.sort_values(by='Date', ascending=True)['Settle'].values"
   ]
  },
  {
   "cell_type": "code",
   "execution_count": 120,
   "metadata": {},
   "outputs": [],
   "source": [
    "N_IN = 30\n",
    "N_OUT = 1"
   ]
  },
  {
   "cell_type": "code",
   "execution_count": 121,
   "metadata": {},
   "outputs": [],
   "source": [
    "reshaped = series_to_supervised(values, n_in=N_IN, n_out=N_OUT, dropnan=True)"
   ]
  },
  {
   "cell_type": "code",
   "execution_count": 122,
   "metadata": {},
   "outputs": [],
   "source": [
    "reshaped.index = df.sort_values(by='Date', ascending=True)['Date'][N_IN:]"
   ]
  },
  {
   "cell_type": "code",
   "execution_count": 123,
   "metadata": {},
   "outputs": [
    {
     "data": {
      "text/html": [
       "<div>\n",
       "<style scoped>\n",
       "    .dataframe tbody tr th:only-of-type {\n",
       "        vertical-align: middle;\n",
       "    }\n",
       "\n",
       "    .dataframe tbody tr th {\n",
       "        vertical-align: top;\n",
       "    }\n",
       "\n",
       "    .dataframe thead th {\n",
       "        text-align: right;\n",
       "    }\n",
       "</style>\n",
       "<table border=\"1\" class=\"dataframe\">\n",
       "  <thead>\n",
       "    <tr style=\"text-align: right;\">\n",
       "      <th></th>\n",
       "      <th>var1(t-30)</th>\n",
       "      <th>var1(t-29)</th>\n",
       "      <th>var1(t-28)</th>\n",
       "      <th>var1(t-27)</th>\n",
       "      <th>var1(t-26)</th>\n",
       "      <th>var1(t-25)</th>\n",
       "      <th>var1(t-24)</th>\n",
       "      <th>var1(t-23)</th>\n",
       "      <th>var1(t-22)</th>\n",
       "      <th>var1(t-21)</th>\n",
       "      <th>...</th>\n",
       "      <th>var1(t-9)</th>\n",
       "      <th>var1(t-8)</th>\n",
       "      <th>var1(t-7)</th>\n",
       "      <th>var1(t-6)</th>\n",
       "      <th>var1(t-5)</th>\n",
       "      <th>var1(t-4)</th>\n",
       "      <th>var1(t-3)</th>\n",
       "      <th>var1(t-2)</th>\n",
       "      <th>var1(t-1)</th>\n",
       "      <th>var1(t)</th>\n",
       "    </tr>\n",
       "    <tr>\n",
       "      <th>Date</th>\n",
       "      <th></th>\n",
       "      <th></th>\n",
       "      <th></th>\n",
       "      <th></th>\n",
       "      <th></th>\n",
       "      <th></th>\n",
       "      <th></th>\n",
       "      <th></th>\n",
       "      <th></th>\n",
       "      <th></th>\n",
       "      <th></th>\n",
       "      <th></th>\n",
       "      <th></th>\n",
       "      <th></th>\n",
       "      <th></th>\n",
       "      <th></th>\n",
       "      <th></th>\n",
       "      <th></th>\n",
       "      <th></th>\n",
       "      <th></th>\n",
       "      <th></th>\n",
       "    </tr>\n",
       "  </thead>\n",
       "  <tbody>\n",
       "    <tr>\n",
       "      <th>2021-01-14</th>\n",
       "      <td>1162.00</td>\n",
       "      <td>1153.00</td>\n",
       "      <td>1168.25</td>\n",
       "      <td>1163.00</td>\n",
       "      <td>1158.50</td>\n",
       "      <td>1145.75</td>\n",
       "      <td>1158.50</td>\n",
       "      <td>1152.75</td>\n",
       "      <td>1160.50</td>\n",
       "      <td>1169.50</td>\n",
       "      <td>...</td>\n",
       "      <td>1315.25</td>\n",
       "      <td>1316.50</td>\n",
       "      <td>1350.00</td>\n",
       "      <td>1365.25</td>\n",
       "      <td>1360.50</td>\n",
       "      <td>1375.75</td>\n",
       "      <td>1374.50</td>\n",
       "      <td>1422.00</td>\n",
       "      <td>1411.00</td>\n",
       "      <td>1436.50</td>\n",
       "    </tr>\n",
       "    <tr>\n",
       "      <th>2021-01-15</th>\n",
       "      <td>1153.00</td>\n",
       "      <td>1168.25</td>\n",
       "      <td>1163.00</td>\n",
       "      <td>1158.50</td>\n",
       "      <td>1145.75</td>\n",
       "      <td>1158.50</td>\n",
       "      <td>1152.75</td>\n",
       "      <td>1160.50</td>\n",
       "      <td>1169.50</td>\n",
       "      <td>1184.25</td>\n",
       "      <td>...</td>\n",
       "      <td>1316.50</td>\n",
       "      <td>1350.00</td>\n",
       "      <td>1365.25</td>\n",
       "      <td>1360.50</td>\n",
       "      <td>1375.75</td>\n",
       "      <td>1374.50</td>\n",
       "      <td>1422.00</td>\n",
       "      <td>1411.00</td>\n",
       "      <td>1436.50</td>\n",
       "      <td>1416.75</td>\n",
       "    </tr>\n",
       "    <tr>\n",
       "      <th>2021-01-19</th>\n",
       "      <td>1168.25</td>\n",
       "      <td>1163.00</td>\n",
       "      <td>1158.50</td>\n",
       "      <td>1145.75</td>\n",
       "      <td>1158.50</td>\n",
       "      <td>1152.75</td>\n",
       "      <td>1160.50</td>\n",
       "      <td>1169.50</td>\n",
       "      <td>1184.25</td>\n",
       "      <td>1183.75</td>\n",
       "      <td>...</td>\n",
       "      <td>1350.00</td>\n",
       "      <td>1365.25</td>\n",
       "      <td>1360.50</td>\n",
       "      <td>1375.75</td>\n",
       "      <td>1374.50</td>\n",
       "      <td>1422.00</td>\n",
       "      <td>1411.00</td>\n",
       "      <td>1436.50</td>\n",
       "      <td>1416.75</td>\n",
       "      <td>1385.75</td>\n",
       "    </tr>\n",
       "    <tr>\n",
       "      <th>2021-01-20</th>\n",
       "      <td>1163.00</td>\n",
       "      <td>1158.50</td>\n",
       "      <td>1145.75</td>\n",
       "      <td>1158.50</td>\n",
       "      <td>1152.75</td>\n",
       "      <td>1160.50</td>\n",
       "      <td>1169.50</td>\n",
       "      <td>1184.25</td>\n",
       "      <td>1183.75</td>\n",
       "      <td>1201.25</td>\n",
       "      <td>...</td>\n",
       "      <td>1365.25</td>\n",
       "      <td>1360.50</td>\n",
       "      <td>1375.75</td>\n",
       "      <td>1374.50</td>\n",
       "      <td>1422.00</td>\n",
       "      <td>1411.00</td>\n",
       "      <td>1436.50</td>\n",
       "      <td>1416.75</td>\n",
       "      <td>1385.75</td>\n",
       "      <td>1369.50</td>\n",
       "    </tr>\n",
       "    <tr>\n",
       "      <th>2021-01-21</th>\n",
       "      <td>1158.50</td>\n",
       "      <td>1145.75</td>\n",
       "      <td>1158.50</td>\n",
       "      <td>1152.75</td>\n",
       "      <td>1160.50</td>\n",
       "      <td>1169.50</td>\n",
       "      <td>1184.25</td>\n",
       "      <td>1183.75</td>\n",
       "      <td>1201.25</td>\n",
       "      <td>1220.00</td>\n",
       "      <td>...</td>\n",
       "      <td>1360.50</td>\n",
       "      <td>1375.75</td>\n",
       "      <td>1374.50</td>\n",
       "      <td>1422.00</td>\n",
       "      <td>1411.00</td>\n",
       "      <td>1436.50</td>\n",
       "      <td>1416.75</td>\n",
       "      <td>1385.75</td>\n",
       "      <td>1369.50</td>\n",
       "      <td>1370.25</td>\n",
       "    </tr>\n",
       "  </tbody>\n",
       "</table>\n",
       "<p>5 rows × 31 columns</p>\n",
       "</div>"
      ],
      "text/plain": [
       "            var1(t-30)  var1(t-29)  var1(t-28)  var1(t-27)  var1(t-26)  \\\n",
       "Date                                                                     \n",
       "2021-01-14     1162.00     1153.00     1168.25     1163.00     1158.50   \n",
       "2021-01-15     1153.00     1168.25     1163.00     1158.50     1145.75   \n",
       "2021-01-19     1168.25     1163.00     1158.50     1145.75     1158.50   \n",
       "2021-01-20     1163.00     1158.50     1145.75     1158.50     1152.75   \n",
       "2021-01-21     1158.50     1145.75     1158.50     1152.75     1160.50   \n",
       "\n",
       "            var1(t-25)  var1(t-24)  var1(t-23)  var1(t-22)  var1(t-21)  ...  \\\n",
       "Date                                                                    ...   \n",
       "2021-01-14     1145.75     1158.50     1152.75     1160.50     1169.50  ...   \n",
       "2021-01-15     1158.50     1152.75     1160.50     1169.50     1184.25  ...   \n",
       "2021-01-19     1152.75     1160.50     1169.50     1184.25     1183.75  ...   \n",
       "2021-01-20     1160.50     1169.50     1184.25     1183.75     1201.25  ...   \n",
       "2021-01-21     1169.50     1184.25     1183.75     1201.25     1220.00  ...   \n",
       "\n",
       "            var1(t-9)  var1(t-8)  var1(t-7)  var1(t-6)  var1(t-5)  var1(t-4)  \\\n",
       "Date                                                                           \n",
       "2021-01-14    1315.25    1316.50    1350.00    1365.25    1360.50    1375.75   \n",
       "2021-01-15    1316.50    1350.00    1365.25    1360.50    1375.75    1374.50   \n",
       "2021-01-19    1350.00    1365.25    1360.50    1375.75    1374.50    1422.00   \n",
       "2021-01-20    1365.25    1360.50    1375.75    1374.50    1422.00    1411.00   \n",
       "2021-01-21    1360.50    1375.75    1374.50    1422.00    1411.00    1436.50   \n",
       "\n",
       "            var1(t-3)  var1(t-2)  var1(t-1)  var1(t)  \n",
       "Date                                                  \n",
       "2021-01-14    1374.50    1422.00    1411.00  1436.50  \n",
       "2021-01-15    1422.00    1411.00    1436.50  1416.75  \n",
       "2021-01-19    1411.00    1436.50    1416.75  1385.75  \n",
       "2021-01-20    1436.50    1416.75    1385.75  1369.50  \n",
       "2021-01-21    1416.75    1385.75    1369.50  1370.25  \n",
       "\n",
       "[5 rows x 31 columns]"
      ]
     },
     "execution_count": 123,
     "metadata": {},
     "output_type": "execute_result"
    }
   ],
   "source": [
    "reshaped.tail()"
   ]
  },
  {
   "cell_type": "markdown",
   "metadata": {},
   "source": [
    "## training/test data split"
   ]
  },
  {
   "cell_type": "code",
   "execution_count": 124,
   "metadata": {},
   "outputs": [
    {
     "data": {
      "text/plain": [
       "266"
      ]
     },
     "execution_count": 124,
     "metadata": {},
     "output_type": "execute_result"
    }
   ],
   "source": [
    "reshaped.loc[reshaped.index >= '2020-01-01'].shape[0]"
   ]
  },
  {
   "cell_type": "code",
   "execution_count": 125,
   "metadata": {},
   "outputs": [],
   "source": [
    "# split into train and test sets\n",
    "train = reshaped.loc[reshaped.index < '2020-01-01']\n",
    "test = reshaped.loc[reshaped.index >= '2020-01-01']"
   ]
  },
  {
   "cell_type": "code",
   "execution_count": 126,
   "metadata": {},
   "outputs": [],
   "source": [
    "# split into input and outputs\n",
    "train_X, train_y = train.iloc[:, :-1], train.iloc[:, -1]\n",
    "test_X, test_y = test.iloc[:, :-1], test.iloc[:, -1]"
   ]
  },
  {
   "cell_type": "markdown",
   "metadata": {},
   "source": [
    "> Finally, the inputs (X) are reshaped into the 3D format expected by LSTMs, namely [samples, timesteps, features]"
   ]
  },
  {
   "cell_type": "code",
   "execution_count": 127,
   "metadata": {},
   "outputs": [
    {
     "name": "stdout",
     "output_type": "stream",
     "text": [
      "(2490, 1, 30) (2490,) (266, 1, 30) (266,)\n"
     ]
    }
   ],
   "source": [
    "# reshape input to be 3D [samples, timesteps, features]\n",
    "train_X = train_X.values.reshape((train_X.shape[0], N_OUT, train_X.shape[1]))\n",
    "test_X = test_X.values.reshape((test_X.shape[0], N_OUT, test_X.shape[1]))\n",
    "\n",
    "print(train_X.shape, train_y.shape, test_X.shape, test_y.shape)"
   ]
  },
  {
   "cell_type": "markdown",
   "metadata": {},
   "source": [
    "# model"
   ]
  },
  {
   "cell_type": "markdown",
   "metadata": {},
   "source": [
    "## design network"
   ]
  },
  {
   "cell_type": "code",
   "execution_count": 20,
   "metadata": {},
   "outputs": [],
   "source": [
    "import tensorflow as tf"
   ]
  },
  {
   "cell_type": "code",
   "execution_count": 128,
   "metadata": {},
   "outputs": [
    {
     "name": "stdout",
     "output_type": "stream",
     "text": [
      "Model: \"sequential_11\"\n",
      "_________________________________________________________________\n",
      "Layer (type)                 Output Shape              Param #   \n",
      "=================================================================\n",
      "lstm1 (LSTM)                 (None, 1, 128)            81408     \n",
      "_________________________________________________________________\n",
      "lstm2 (LSTM)                 (None, 128)               131584    \n",
      "_________________________________________________________________\n",
      "output (Dense)               (None, 1)                 129       \n",
      "=================================================================\n",
      "Total params: 213,121\n",
      "Trainable params: 213,121\n",
      "Non-trainable params: 0\n",
      "_________________________________________________________________\n"
     ]
    }
   ],
   "source": [
    "# design network\n",
    "\n",
    "EPOCHS = 500\n",
    "BATCH_SIZE = 77\n",
    "TRAIN_SPLIT = 0.87\n",
    "LOSS_FUNCTION = 'mse' # 'mse': Mean Square Error, 'mae': Mean Absolute Error, 'binary_crossentropy'\n",
    "LEARNING_RATE = 0.001 #0.001\n",
    "NEURONS = 128\n",
    "\n",
    "model = tf.keras.models.Sequential()\n",
    "model.add(tf.keras.layers.LSTM(NEURONS, input_shape=(train_X.shape[1], train_X.shape[2]), return_sequences=True, name='lstm1'))\n",
    "model.add(tf.keras.layers.LSTM(NEURONS, name='lstm2'))\n",
    "model.add(tf.keras.layers.Dense(1, activation='relu', name='output'))\n",
    "optimizer = tf.keras.optimizers.Adam(lr=LEARNING_RATE)\n",
    "model.compile(loss=LOSS_FUNCTION, optimizer=optimizer)\n",
    "model.summary()"
   ]
  },
  {
   "cell_type": "code",
   "execution_count": 113,
   "metadata": {},
   "outputs": [
    {
     "name": "stdout",
     "output_type": "stream",
     "text": [
      "('Failed to import pydot. You must `pip install pydot` and install graphviz (https://graphviz.gitlab.io/download/), ', 'for `pydotprint` to work.')\n"
     ]
    }
   ],
   "source": [
    "tf.keras.utils.plot_model(model, to_file='model_plot.png', show_shapes=True, show_layer_names=True)"
   ]
  },
  {
   "cell_type": "markdown",
   "metadata": {},
   "source": [
    "## train the model"
   ]
  },
  {
   "cell_type": "code",
   "execution_count": 136,
   "metadata": {},
   "outputs": [],
   "source": [
    "# fit network\n",
    "history = model.fit(\n",
    "    train_X, \n",
    "    train_y, \n",
    "    epochs=EPOCHS, \n",
    "    batch_size=BATCH_SIZE, \n",
    "    validation_split=0.1, \n",
    "    verbose=1, \n",
    "    shuffle=False)"
   ]
  },
  {
   "cell_type": "code",
   "execution_count": 130,
   "metadata": {},
   "outputs": [
    {
     "data": {
      "image/png": "[encoded data removed]",
      "text/plain": [
       "<Figure size 432x288 with 1 Axes>"
      ]
     },
     "metadata": {
      "needs_background": "light"
     },
     "output_type": "display_data"
    }
   ],
   "source": [
    "# plot history\n",
    "plt.plot(history.history['loss'], label='train')\n",
    "plt.plot(history.history['val_loss'], label='test')\n",
    "plt.legend()\n",
    "plt.show()"
   ]
  },
  {
   "cell_type": "code",
   "execution_count": 131,
   "metadata": {},
   "outputs": [],
   "source": [
    "train_yhat = model.predict(train_X)\n",
    "train_pred_y = pd.Series(train_yhat.reshape(len(train_yhat)), index=train_y.index)"
   ]
  },
  {
   "cell_type": "code",
   "execution_count": 132,
   "metadata": {},
   "outputs": [
    {
     "data": {
      "image/png": "[encoded data removed]",
      "text/plain": [
       "<Figure size 936x360 with 1 Axes>"
      ]
     },
     "metadata": {
      "needs_background": "light"
     },
     "output_type": "display_data"
    }
   ],
   "source": [
    "# Make the plotting-canvas bigger.\n",
    "plt.figure(figsize=(13,5))\n",
    "\n",
    "# Plot and compare the two signals.\n",
    "plt.plot(train_y, label='true')\n",
    "plt.plot(train_pred_y, label='pred')\n",
    "\n",
    "# Plot labels etc.\n",
    "plt.legend()\n",
    "plt.show()"
   ]
  },
  {
   "cell_type": "code",
   "execution_count": 133,
   "metadata": {},
   "outputs": [],
   "source": [
    "# prediction\n",
    "yhat = model.predict(test_X)\n",
    "pred_y = pd.Series(yhat.reshape(len(yhat)), index=test_y.index)"
   ]
  },
  {
   "cell_type": "code",
   "execution_count": 134,
   "metadata": {},
   "outputs": [
    {
     "name": "stdout",
     "output_type": "stream",
     "text": [
      "Test RMSE: 184.718\n"
     ]
    }
   ],
   "source": [
    "from sklearn.metrics import mean_squared_error\n",
    "\n",
    "rmse = np.sqrt(mean_squared_error(test_y, pred_y))\n",
    "print('Test RMSE: %.3f' % rmse)"
   ]
  },
  {
   "cell_type": "code",
   "execution_count": 137,
   "metadata": {},
   "outputs": [
    {
     "data": {
      "image/png": "[encoded data removed]",
      "text/plain": [
       "<Figure size 936x360 with 1 Axes>"
      ]
     },
     "metadata": {
      "needs_background": "light"
     },
     "output_type": "display_data"
    }
   ],
   "source": [
    "plt.figure(figsize=(13,5))\n",
    "\n",
    "plt.plot(test_y, label='true')\n",
    "plt.plot(pred_y, label='pred')\n",
    "\n",
    "# Plot labels etc.\n",
    "plt.legend()\n",
    "plt.show()"
   ]
  },
  {
   "cell_type": "code",
   "execution_count": null,
   "metadata": {},
   "outputs": [],
   "source": []
  }
 ],
 "metadata": {
  "kernelspec": {
   "display_name": "Python 3",
   "language": "python",
   "name": "python3"
  },
  "language_info": {
   "codemirror_mode": {
    "name": "ipython",
    "version": 3
   },
   "file_extension": ".py",
   "mimetype": "text/x-python",
   "name": "python",
   "nbconvert_exporter": "python",
   "pygments_lexer": "ipython3",
   "version": "3.8.6"
  },
  "toc-autonumbering": true
 },
 "nbformat": 4,
 "nbformat_minor": 4
}
