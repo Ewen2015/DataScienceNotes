{
 "cells": [
  {
   "cell_type": "code",
   "execution_count": 1,
   "metadata": {
    "ExecuteTime": {
     "end_time": "2018-11-14T08:51:34.186236+00:00",
     "start_time": "2018-11-14T08:51:34.181397Z"
    }
   },
   "outputs": [],
   "source": [
    "system = {\"wd_raw\": \"../data/raw/\",\n",
    "          \"wd_train\": \"../data/train/\",\n",
    "          \"wd_test\": \"../data/test/\",\n",
    "          \"wd_result\": \"../data/result/\",\n",
    "          \"wd_report\": \"../data/report/\"\n",
    "         }\n",
    "\n",
    "config = {\"version\": \"20181114\"}"
   ]
  },
  {
   "cell_type": "code",
   "execution_count": 3,
   "metadata": {
    "ExecuteTime": {
     "end_time": "2018-11-14T08:54:16.307114+00:00",
     "start_time": "2018-11-14T08:54:16.292439Z"
    }
   },
   "outputs": [],
   "source": [
    "config = {**config, **system}"
   ]
  },
  {
   "cell_type": "code",
   "execution_count": 4,
   "metadata": {
    "ExecuteTime": {
     "end_time": "2018-11-14T08:54:19.855969+00:00",
     "start_time": "2018-11-14T08:54:19.838320Z"
    }
   },
   "outputs": [
    {
     "data": {
      "text/plain": [
       "{'version': '20181114',\n",
       " 'wd_raw': '../data/raw/',\n",
       " 'wd_train': '../data/train/',\n",
       " 'wd_test': '../data/test/',\n",
       " 'wd_result': '../data/result/',\n",
       " 'wd_report': '../data/report/'}"
      ]
     },
     "execution_count": 4,
     "metadata": {},
     "output_type": "execute_result"
    }
   ],
   "source": [
    "config"
   ]
  },
  {
   "cell_type": "code",
   "execution_count": 5,
   "metadata": {
    "ExecuteTime": {
     "end_time": "2018-11-14T08:56:37.316092+00:00",
     "start_time": "2018-11-14T08:56:37.310190Z"
    }
   },
   "outputs": [],
   "source": [
    "config[\"file_raw\"] = \"raw_\"+config[\"version\"]+\".csv\""
   ]
  },
  {
   "cell_type": "code",
   "execution_count": 6,
   "metadata": {
    "ExecuteTime": {
     "end_time": "2018-11-14T08:56:42.133921+00:00",
     "start_time": "2018-11-14T08:56:42.127486Z"
    }
   },
   "outputs": [
    {
     "data": {
      "text/plain": [
       "{'version': '20181114',\n",
       " 'wd_raw': '../data/raw/',\n",
       " 'wd_train': '../data/train/',\n",
       " 'wd_test': '../data/test/',\n",
       " 'wd_result': '../data/result/',\n",
       " 'wd_report': '../data/report/',\n",
       " 'file_raw': 'raw_20181114.csv'}"
      ]
     },
     "execution_count": 6,
     "metadata": {},
     "output_type": "execute_result"
    }
   ],
   "source": [
    "config"
   ]
  },
  {
   "cell_type": "code",
   "execution_count": 9,
   "metadata": {
    "ExecuteTime": {
     "end_time": "2018-11-14T09:26:33.855570+00:00",
     "start_time": "2018-11-14T09:26:33.851302Z"
    }
   },
   "outputs": [
    {
     "name": "stdout",
     "output_type": "stream",
     "text": [
      "{}\n"
     ]
    }
   ],
   "source": [
    "addin = dict()\n",
    "\n",
    "# addin = None\n",
    "\n",
    "if addin == None:\n",
    "    print('no addin')\n",
    "else:\n",
    "    print(addin)"
   ]
  },
  {
   "cell_type": "code",
   "execution_count": 13,
   "metadata": {
    "ExecuteTime": {
     "end_time": "2018-11-15T03:04:56.944776+00:00",
     "start_time": "2018-11-15T03:04:56.940285Z"
    }
   },
   "outputs": [
    {
     "name": "stdout",
     "output_type": "stream",
     "text": [
      "\n",
      "Model Report:\n",
      "Accuracy : 0.333\n",
      "ROC AUC Score (train): 0.889\n"
     ]
    }
   ],
   "source": [
    "message = '\\nModel Report:' + \\\n",
    "          '\\nAccuracy : %0.3f' %0.3333 + \\\n",
    "          '\\nROC AUC Score (train): %0.3f' %0.88888\n",
    "print(message)"
   ]
  },
  {
   "cell_type": "code",
   "execution_count": null,
   "metadata": {},
   "outputs": [],
   "source": []
  }
 ],
 "metadata": {
  "kernelspec": {
   "display_name": "Python 3",
   "language": "python",
   "name": "python3"
  },
  "language_info": {
   "codemirror_mode": {
    "name": "ipython",
    "version": 3
   },
   "file_extension": ".py",
   "mimetype": "text/x-python",
   "name": "python",
   "nbconvert_exporter": "python",
   "pygments_lexer": "ipython3",
   "version": "3.6.3"
  },
  "toc": {
   "nav_menu": {},
   "number_sections": true,
   "sideBar": true,
   "skip_h1_title": false,
   "toc_cell": false,
   "toc_position": {},
   "toc_section_display": "block",
   "toc_window_display": false
  },
  "varInspector": {
   "cols": {
    "lenName": 16,
    "lenType": 16,
    "lenVar": 40
   },
   "kernels_config": {
    "python": {
     "delete_cmd_postfix": "",
     "delete_cmd_prefix": "del ",
     "library": "var_list.py",
     "varRefreshCmd": "print(var_dic_list())"
    },
    "r": {
     "delete_cmd_postfix": ") ",
     "delete_cmd_prefix": "rm(",
     "library": "var_list.r",
     "varRefreshCmd": "cat(var_dic_list()) "
    }
   },
   "types_to_exclude": [
    "module",
    "function",
    "builtin_function_or_method",
    "instance",
    "_Feature"
   ],
   "window_display": false
  }
 },
 "nbformat": 4,
 "nbformat_minor": 2
}
