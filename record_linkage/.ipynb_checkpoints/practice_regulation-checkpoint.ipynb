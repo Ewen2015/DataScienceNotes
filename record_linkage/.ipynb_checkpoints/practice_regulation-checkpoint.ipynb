{
 "cells": [
  {
   "cell_type": "markdown",
   "metadata": {
    "toc": true
   },
   "source": [
    "<h1>Table of Contents<span class=\"tocSkip\"></span></h1>\n",
    "<div class=\"toc\" style=\"margin-top: 1em;\"><ul class=\"toc-item\"><li><span><a href=\"#Entity-Resolution-Practice:-Regulation-Data\" data-toc-modified-id=\"Entity-Resolution-Practice:-Regulation-Data-1\">Entity Resolution Practice: Regulation Data</a></span><ul class=\"toc-item\"><li><span><a href=\"#Introduction\" data-toc-modified-id=\"Introduction-1.1\">Introduction</a></span></li><li><span><a href=\"#Make-A-Practice-Dataset\" data-toc-modified-id=\"Make-A-Practice-Dataset-1.2\">Make A Practice Dataset</a></span></li><li><span><a href=\"#Practice\" data-toc-modified-id=\"Practice-1.3\">Practice</a></span></li><li><span><a href=\"#Discussion\" data-toc-modified-id=\"Discussion-1.4\">Discussion</a></span></li><li><span><a href=\"#Conclusion\" data-toc-modified-id=\"Conclusion-1.5\">Conclusion</a></span></li></ul></li></ul></div>"
   ]
  },
  {
   "cell_type": "markdown",
   "metadata": {},
   "source": [
    "# Entity Resolution Practice: Regulation Data\n",
    "\n",
    "## Introduction\n",
    "\n",
    "This practice is designed to realize entity resolution on a real dataset. As rare real datasets can be used in practice, a practice data will be generated from a published data on [datashanghai](http://www.datashanghai.gov.cn/) and mixed with randomly sampled rows from itself. \n",
    "\n",
    "The most important part of the project lays in the **Practice**, which will introduce `recordlinkage` module and apply it to our dataset `regulation_dup`."
   ]
  },
  {
   "cell_type": "markdown",
   "metadata": {},
   "source": [
    "## Make A Practice Dataset\n",
    "\n",
    "The data contains regulation information of company in Shanghai, downloaded from [datashanghai](http://www.datashanghai.gov.cn/). The made data contains 5% duplicated companies but each row has a unique index. "
   ]
  },
  {
   "cell_type": "code",
   "execution_count": 18,
   "metadata": {
    "ExecuteTime": {
     "end_time": "2017-12-20T10:03:51.134475Z",
     "start_time": "2017-12-20T10:03:50.873324Z"
    }
   },
   "outputs": [],
   "source": [
    "import os\n",
    "import pandas as pd\n",
    "\n",
    "wd = '/Users/ewenwang/Documents/practice_data'\n",
    "file = 'regulation.csv'\n",
    "\n",
    "os.chdir(wd)\n",
    "regulation = pd.read_csv(file)"
   ]
  },
  {
   "cell_type": "code",
   "execution_count": 13,
   "metadata": {
    "ExecuteTime": {
     "end_time": "2017-12-19T14:04:02.741890Z",
     "start_time": "2017-12-19T14:04:02.724535Z"
    }
   },
   "outputs": [
    {
     "data": {
      "text/html": [
       "<div>\n",
       "<style scoped>\n",
       "    .dataframe tbody tr th:only-of-type {\n",
       "        vertical-align: middle;\n",
       "    }\n",
       "\n",
       "    .dataframe tbody tr th {\n",
       "        vertical-align: top;\n",
       "    }\n",
       "\n",
       "    .dataframe thead th {\n",
       "        text-align: right;\n",
       "    }\n",
       "</style>\n",
       "<table border=\"1\" class=\"dataframe\">\n",
       "  <thead>\n",
       "    <tr style=\"text-align: right;\">\n",
       "      <th></th>\n",
       "      <th>序号</th>\n",
       "      <th>企业名称</th>\n",
       "      <th>组织机构代码</th>\n",
       "      <th>注册地址</th>\n",
       "      <th>生产地址</th>\n",
       "      <th>检查日期</th>\n",
       "      <th>处理措施</th>\n",
       "    </tr>\n",
       "  </thead>\n",
       "  <tbody>\n",
       "    <tr>\n",
       "      <th>0</th>\n",
       "      <td>1</td>\n",
       "      <td>上海巴士五汽公共交通有限公司</td>\n",
       "      <td>607392127</td>\n",
       "      <td>上海市共和新路３０３４号</td>\n",
       "      <td>南陈路98号</td>\n",
       "      <td>1/8/10 1:01</td>\n",
       "      <td>未发现问题。</td>\n",
       "    </tr>\n",
       "    <tr>\n",
       "      <th>1</th>\n",
       "      <td>2</td>\n",
       "      <td>上海康志物业管理有限公司</td>\n",
       "      <td>86158393</td>\n",
       "      <td>上海市宝山区锦秋路４８号Ｇ１５</td>\n",
       "      <td>上海市宝山区锦秋路４８号Ｇ１５</td>\n",
       "      <td>1/8/10 8:01</td>\n",
       "      <td>未发现问题。</td>\n",
       "    </tr>\n",
       "    <tr>\n",
       "      <th>2</th>\n",
       "      <td>3</td>\n",
       "      <td>上海地矿物业管理有限公司</td>\n",
       "      <td>630350240</td>\n",
       "      <td>上海市沪太路１０６３弄５号甲</td>\n",
       "      <td>灵石路930号</td>\n",
       "      <td>1/8/10 9:01</td>\n",
       "      <td>未发现问题。</td>\n",
       "    </tr>\n",
       "    <tr>\n",
       "      <th>3</th>\n",
       "      <td>4</td>\n",
       "      <td>上海立新五金厂</td>\n",
       "      <td>132808298</td>\n",
       "      <td>上海市静安区南京西路１９５５弄９号</td>\n",
       "      <td>南陈路24号</td>\n",
       "      <td>1/8/10 9:01</td>\n",
       "      <td>未发现问题。</td>\n",
       "    </tr>\n",
       "    <tr>\n",
       "      <th>4</th>\n",
       "      <td>5</td>\n",
       "      <td>上海同祁置业有限公司</td>\n",
       "      <td>586791275</td>\n",
       "      <td>上海市宝山区锦秋路４８号Ｆ１３８</td>\n",
       "      <td>上海市宝山区锦秋路４８号Ｆ１３８</td>\n",
       "      <td>1/8/10 9:01</td>\n",
       "      <td>未发现问题。</td>\n",
       "    </tr>\n",
       "  </tbody>\n",
       "</table>\n",
       "</div>"
      ],
      "text/plain": [
       "   序号            企业名称     组织机构代码               注册地址              生产地址  \\\n",
       "0   1  上海巴士五汽公共交通有限公司  607392127       上海市共和新路３０３４号            南陈路98号   \n",
       "1   2    上海康志物业管理有限公司   86158393    上海市宝山区锦秋路４８号Ｇ１５   上海市宝山区锦秋路４８号Ｇ１５   \n",
       "2   3    上海地矿物业管理有限公司  630350240     上海市沪太路１０６３弄５号甲           灵石路930号   \n",
       "3   4         上海立新五金厂  132808298  上海市静安区南京西路１９５５弄９号            南陈路24号   \n",
       "4   5      上海同祁置业有限公司  586791275   上海市宝山区锦秋路４８号Ｆ１３８  上海市宝山区锦秋路４８号Ｆ１３８   \n",
       "\n",
       "          检查日期    处理措施  \n",
       "0  1/8/10 1:01  未发现问题。  \n",
       "1  1/8/10 8:01  未发现问题。  \n",
       "2  1/8/10 9:01  未发现问题。  \n",
       "3  1/8/10 9:01  未发现问题。  \n",
       "4  1/8/10 9:01  未发现问题。  "
      ]
     },
     "execution_count": 13,
     "metadata": {},
     "output_type": "execute_result"
    }
   ],
   "source": [
    "regulation.head()"
   ]
  },
  {
   "cell_type": "code",
   "execution_count": 14,
   "metadata": {
    "ExecuteTime": {
     "end_time": "2017-12-19T14:09:16.672464Z",
     "start_time": "2017-12-19T14:09:16.666884Z"
    }
   },
   "outputs": [
    {
     "data": {
      "text/plain": [
       "(36672, 7)"
      ]
     },
     "execution_count": 14,
     "metadata": {},
     "output_type": "execute_result"
    }
   ],
   "source": [
    "regulation.shape"
   ]
  },
  {
   "cell_type": "code",
   "execution_count": 19,
   "metadata": {
    "ExecuteTime": {
     "end_time": "2017-12-20T10:04:01.926367Z",
     "start_time": "2017-12-20T10:04:01.907896Z"
    }
   },
   "outputs": [],
   "source": [
    "seed = 2017\n",
    "n_dup = round(regulation.shape[0]*.05)\n",
    "duplication = regulation.sample(n=n_dup, replace=True, random_state=seed)"
   ]
  },
  {
   "cell_type": "code",
   "execution_count": 56,
   "metadata": {
    "ExecuteTime": {
     "end_time": "2017-12-19T14:33:52.394963Z",
     "start_time": "2017-12-19T14:33:52.387246Z"
    }
   },
   "outputs": [
    {
     "data": {
      "text/plain": [
       "(1834, 7)"
      ]
     },
     "execution_count": 56,
     "metadata": {},
     "output_type": "execute_result"
    }
   ],
   "source": [
    "duplication.shape"
   ]
  },
  {
   "cell_type": "code",
   "execution_count": 57,
   "metadata": {
    "ExecuteTime": {
     "end_time": "2017-12-19T14:33:53.591441Z",
     "start_time": "2017-12-19T14:33:53.575194Z"
    }
   },
   "outputs": [
    {
     "data": {
      "text/html": [
       "<div>\n",
       "<style scoped>\n",
       "    .dataframe tbody tr th:only-of-type {\n",
       "        vertical-align: middle;\n",
       "    }\n",
       "\n",
       "    .dataframe tbody tr th {\n",
       "        vertical-align: top;\n",
       "    }\n",
       "\n",
       "    .dataframe thead th {\n",
       "        text-align: right;\n",
       "    }\n",
       "</style>\n",
       "<table border=\"1\" class=\"dataframe\">\n",
       "  <thead>\n",
       "    <tr style=\"text-align: right;\">\n",
       "      <th></th>\n",
       "      <th>序号</th>\n",
       "      <th>企业名称</th>\n",
       "      <th>组织机构代码</th>\n",
       "      <th>注册地址</th>\n",
       "      <th>生产地址</th>\n",
       "      <th>检查日期</th>\n",
       "      <th>处理措施</th>\n",
       "    </tr>\n",
       "  </thead>\n",
       "  <tbody>\n",
       "    <tr>\n",
       "      <th>16186</th>\n",
       "      <td>16187</td>\n",
       "      <td>上海嘉方市政建筑有限公司</td>\n",
       "      <td>631661753</td>\n",
       "      <td>上海市嘉定区安亭镇翔方公路２３７７号</td>\n",
       "      <td>嘉定</td>\n",
       "      <td>5/31/16 2:05</td>\n",
       "      <td>未发现问题。</td>\n",
       "    </tr>\n",
       "    <tr>\n",
       "      <th>8963</th>\n",
       "      <td>8964</td>\n",
       "      <td>上海尚原餐饮管理有限公司</td>\n",
       "      <td>692932609</td>\n",
       "      <td>上海市浦东新区苗圃路６３号１－３层</td>\n",
       "      <td>上海市浦东新区苗圃路６３号１－３层</td>\n",
       "      <td>11/20/15 10:11</td>\n",
       "      <td>未发现问题。</td>\n",
       "    </tr>\n",
       "    <tr>\n",
       "      <th>7727</th>\n",
       "      <td>7728</td>\n",
       "      <td>上海万辉汽车附件有限公司</td>\n",
       "      <td>630910922</td>\n",
       "      <td>上海市浦东新区万祥镇万灵路１３８号</td>\n",
       "      <td>南汇万祥工业区</td>\n",
       "      <td>9/24/15 9:09</td>\n",
       "      <td>未发现问题。</td>\n",
       "    </tr>\n",
       "    <tr>\n",
       "      <th>1224</th>\n",
       "      <td>1225</td>\n",
       "      <td>上海申得欧有限公司</td>\n",
       "      <td>607299571</td>\n",
       "      <td>上海市浦东新区庆达路２８８号</td>\n",
       "      <td>庆达路288号</td>\n",
       "      <td>3/12/14 3:03</td>\n",
       "      <td>未发现问题。 其他问题：叉车未张贴有效期内的检验合格标志</td>\n",
       "    </tr>\n",
       "    <tr>\n",
       "      <th>30208</th>\n",
       "      <td>30209</td>\n",
       "      <td>上海顺城物流有限公司</td>\n",
       "      <td>07483557X</td>\n",
       "      <td>上海市闵行区莲花南路２５８８号５幢二层Ｂ区</td>\n",
       "      <td>上海市闵行区莲花南路２５８８号５幢二层Ｂ区</td>\n",
       "      <td>12/5/16 11:12</td>\n",
       "      <td>在检查“场（厂）内机动车辆使用情况(叉车，5110310112201512003 7)”时发...</td>\n",
       "    </tr>\n",
       "  </tbody>\n",
       "</table>\n",
       "</div>"
      ],
      "text/plain": [
       "          序号          企业名称     组织机构代码                   注册地址  \\\n",
       "16186  16187  上海嘉方市政建筑有限公司  631661753     上海市嘉定区安亭镇翔方公路２３７７号   \n",
       "8963    8964  上海尚原餐饮管理有限公司  692932609      上海市浦东新区苗圃路６３号１－３层   \n",
       "7727    7728  上海万辉汽车附件有限公司  630910922      上海市浦东新区万祥镇万灵路１３８号   \n",
       "1224    1225     上海申得欧有限公司  607299571         上海市浦东新区庆达路２８８号   \n",
       "30208  30209    上海顺城物流有限公司  07483557X  上海市闵行区莲花南路２５８８号５幢二层Ｂ区   \n",
       "\n",
       "                        生产地址            检查日期  \\\n",
       "16186                     嘉定    5/31/16 2:05   \n",
       "8963       上海市浦东新区苗圃路６３号１－３层  11/20/15 10:11   \n",
       "7727                 南汇万祥工业区    9/24/15 9:09   \n",
       "1224                 庆达路288号    3/12/14 3:03   \n",
       "30208  上海市闵行区莲花南路２５８８号５幢二层Ｂ区   12/5/16 11:12   \n",
       "\n",
       "                                                    处理措施  \n",
       "16186                                             未发现问题。  \n",
       "8963                                              未发现问题。  \n",
       "7727                                              未发现问题。  \n",
       "1224                        未发现问题。 其他问题：叉车未张贴有效期内的检验合格标志  \n",
       "30208  在检查“场（厂）内机动车辆使用情况(叉车，5110310112201512003 7)”时发...  "
      ]
     },
     "execution_count": 57,
     "metadata": {},
     "output_type": "execute_result"
    }
   ],
   "source": [
    "duplication.head()"
   ]
  },
  {
   "cell_type": "code",
   "execution_count": 20,
   "metadata": {
    "ExecuteTime": {
     "end_time": "2017-12-20T10:04:09.400255Z",
     "start_time": "2017-12-20T10:04:09.389975Z"
    }
   },
   "outputs": [],
   "source": [
    "duplication['序号'] = range(regulation.shape[0]+1, regulation.shape[0]+1+duplication.shape[0])\n",
    "duplication.index = range(regulation.shape[0]+1, regulation.shape[0]+1+duplication.shape[0])"
   ]
  },
  {
   "cell_type": "code",
   "execution_count": 61,
   "metadata": {
    "ExecuteTime": {
     "end_time": "2017-12-19T14:40:36.103795Z",
     "start_time": "2017-12-19T14:40:36.086333Z"
    }
   },
   "outputs": [
    {
     "data": {
      "text/html": [
       "<div>\n",
       "<style scoped>\n",
       "    .dataframe tbody tr th:only-of-type {\n",
       "        vertical-align: middle;\n",
       "    }\n",
       "\n",
       "    .dataframe tbody tr th {\n",
       "        vertical-align: top;\n",
       "    }\n",
       "\n",
       "    .dataframe thead th {\n",
       "        text-align: right;\n",
       "    }\n",
       "</style>\n",
       "<table border=\"1\" class=\"dataframe\">\n",
       "  <thead>\n",
       "    <tr style=\"text-align: right;\">\n",
       "      <th></th>\n",
       "      <th>序号</th>\n",
       "      <th>企业名称</th>\n",
       "      <th>组织机构代码</th>\n",
       "      <th>注册地址</th>\n",
       "      <th>生产地址</th>\n",
       "      <th>检查日期</th>\n",
       "      <th>处理措施</th>\n",
       "    </tr>\n",
       "  </thead>\n",
       "  <tbody>\n",
       "    <tr>\n",
       "      <th>36673</th>\n",
       "      <td>36673</td>\n",
       "      <td>上海嘉方市政建筑有限公司</td>\n",
       "      <td>631661753</td>\n",
       "      <td>上海市嘉定区安亭镇翔方公路２３７７号</td>\n",
       "      <td>嘉定</td>\n",
       "      <td>5/31/16 2:05</td>\n",
       "      <td>未发现问题。</td>\n",
       "    </tr>\n",
       "    <tr>\n",
       "      <th>36674</th>\n",
       "      <td>36674</td>\n",
       "      <td>上海尚原餐饮管理有限公司</td>\n",
       "      <td>692932609</td>\n",
       "      <td>上海市浦东新区苗圃路６３号１－３层</td>\n",
       "      <td>上海市浦东新区苗圃路６３号１－３层</td>\n",
       "      <td>11/20/15 10:11</td>\n",
       "      <td>未发现问题。</td>\n",
       "    </tr>\n",
       "    <tr>\n",
       "      <th>36675</th>\n",
       "      <td>36675</td>\n",
       "      <td>上海万辉汽车附件有限公司</td>\n",
       "      <td>630910922</td>\n",
       "      <td>上海市浦东新区万祥镇万灵路１３８号</td>\n",
       "      <td>南汇万祥工业区</td>\n",
       "      <td>9/24/15 9:09</td>\n",
       "      <td>未发现问题。</td>\n",
       "    </tr>\n",
       "    <tr>\n",
       "      <th>36676</th>\n",
       "      <td>36676</td>\n",
       "      <td>上海申得欧有限公司</td>\n",
       "      <td>607299571</td>\n",
       "      <td>上海市浦东新区庆达路２８８号</td>\n",
       "      <td>庆达路288号</td>\n",
       "      <td>3/12/14 3:03</td>\n",
       "      <td>未发现问题。 其他问题：叉车未张贴有效期内的检验合格标志</td>\n",
       "    </tr>\n",
       "    <tr>\n",
       "      <th>36677</th>\n",
       "      <td>36677</td>\n",
       "      <td>上海顺城物流有限公司</td>\n",
       "      <td>07483557X</td>\n",
       "      <td>上海市闵行区莲花南路２５８８号５幢二层Ｂ区</td>\n",
       "      <td>上海市闵行区莲花南路２５８８号５幢二层Ｂ区</td>\n",
       "      <td>12/5/16 11:12</td>\n",
       "      <td>在检查“场（厂）内机动车辆使用情况(叉车，5110310112201512003 7)”时发...</td>\n",
       "    </tr>\n",
       "  </tbody>\n",
       "</table>\n",
       "</div>"
      ],
      "text/plain": [
       "          序号          企业名称     组织机构代码                   注册地址  \\\n",
       "36673  36673  上海嘉方市政建筑有限公司  631661753     上海市嘉定区安亭镇翔方公路２３７７号   \n",
       "36674  36674  上海尚原餐饮管理有限公司  692932609      上海市浦东新区苗圃路６３号１－３层   \n",
       "36675  36675  上海万辉汽车附件有限公司  630910922      上海市浦东新区万祥镇万灵路１３８号   \n",
       "36676  36676     上海申得欧有限公司  607299571         上海市浦东新区庆达路２８８号   \n",
       "36677  36677    上海顺城物流有限公司  07483557X  上海市闵行区莲花南路２５８８号５幢二层Ｂ区   \n",
       "\n",
       "                        生产地址            检查日期  \\\n",
       "36673                     嘉定    5/31/16 2:05   \n",
       "36674      上海市浦东新区苗圃路６３号１－３层  11/20/15 10:11   \n",
       "36675                南汇万祥工业区    9/24/15 9:09   \n",
       "36676                庆达路288号    3/12/14 3:03   \n",
       "36677  上海市闵行区莲花南路２５８８号５幢二层Ｂ区   12/5/16 11:12   \n",
       "\n",
       "                                                    处理措施  \n",
       "36673                                             未发现问题。  \n",
       "36674                                             未发现问题。  \n",
       "36675                                             未发现问题。  \n",
       "36676                       未发现问题。 其他问题：叉车未张贴有效期内的检验合格标志  \n",
       "36677  在检查“场（厂）内机动车辆使用情况(叉车，5110310112201512003 7)”时发...  "
      ]
     },
     "execution_count": 61,
     "metadata": {},
     "output_type": "execute_result"
    }
   ],
   "source": [
    "duplication.head()"
   ]
  },
  {
   "cell_type": "code",
   "execution_count": 68,
   "metadata": {
    "ExecuteTime": {
     "end_time": "2017-12-19T14:45:40.616078Z",
     "start_time": "2017-12-19T14:45:40.596479Z"
    }
   },
   "outputs": [
    {
     "data": {
      "text/html": [
       "<div>\n",
       "<style scoped>\n",
       "    .dataframe tbody tr th:only-of-type {\n",
       "        vertical-align: middle;\n",
       "    }\n",
       "\n",
       "    .dataframe tbody tr th {\n",
       "        vertical-align: top;\n",
       "    }\n",
       "\n",
       "    .dataframe thead th {\n",
       "        text-align: right;\n",
       "    }\n",
       "</style>\n",
       "<table border=\"1\" class=\"dataframe\">\n",
       "  <thead>\n",
       "    <tr style=\"text-align: right;\">\n",
       "      <th></th>\n",
       "      <th>序号</th>\n",
       "      <th>企业名称</th>\n",
       "      <th>组织机构代码</th>\n",
       "      <th>注册地址</th>\n",
       "      <th>生产地址</th>\n",
       "      <th>检查日期</th>\n",
       "      <th>处理措施</th>\n",
       "    </tr>\n",
       "  </thead>\n",
       "  <tbody>\n",
       "    <tr>\n",
       "      <th>38502</th>\n",
       "      <td>38502</td>\n",
       "      <td>上海沪菲电缆有限公司</td>\n",
       "      <td>774778246</td>\n",
       "      <td>上海市松江区中山街道荣乐东路１８号Ａ区</td>\n",
       "      <td>上海市金山区朱泾镇温河村新民1109号</td>\n",
       "      <td>5/31/16 2:05</td>\n",
       "      <td>在检查“场（厂）内机动车辆使用情况(叉车，5110310116201205002 2)”时发...</td>\n",
       "    </tr>\n",
       "    <tr>\n",
       "      <th>38503</th>\n",
       "      <td>38503</td>\n",
       "      <td>上海乐益物业有限公司</td>\n",
       "      <td>134501417</td>\n",
       "      <td>上海市普育东路１８５号１０２室</td>\n",
       "      <td>重庆北路318号</td>\n",
       "      <td>4/18/16 2:04</td>\n",
       "      <td>设备登记使用单位为上海捷艾尔物业管理有限公司。移动端登记为上海乐益物业有限公司。</td>\n",
       "    </tr>\n",
       "    <tr>\n",
       "      <th>38504</th>\n",
       "      <td>38504</td>\n",
       "      <td>上海凯顿酒店管理有限公司</td>\n",
       "      <td>776252678</td>\n",
       "      <td>上海市浦东唐镇创新中路６０１号８幢２０１室</td>\n",
       "      <td>上海市浦东唐镇创新中路６０１号８幢２０１室</td>\n",
       "      <td>11/2/15 3:11</td>\n",
       "      <td>未发现问题。</td>\n",
       "    </tr>\n",
       "    <tr>\n",
       "      <th>38505</th>\n",
       "      <td>38505</td>\n",
       "      <td>上海凡宏实业有限公司</td>\n",
       "      <td>630977326</td>\n",
       "      <td>上海市松江区洞泾镇洞舟路６１９号</td>\n",
       "      <td>上海市松江区洞泾镇洞舟路６１９号</td>\n",
       "      <td>7/8/16 12:07</td>\n",
       "      <td>未发现问题。</td>\n",
       "    </tr>\n",
       "    <tr>\n",
       "      <th>38506</th>\n",
       "      <td>38506</td>\n",
       "      <td>上海富达日用化工厂</td>\n",
       "      <td>134423527</td>\n",
       "      <td>上海市崇明县北沿公路１２１８号</td>\n",
       "      <td>上海市崇明县前进农场</td>\n",
       "      <td>12/27/13 10:12</td>\n",
       "      <td>未发现问题。</td>\n",
       "    </tr>\n",
       "  </tbody>\n",
       "</table>\n",
       "</div>"
      ],
      "text/plain": [
       "          序号          企业名称     组织机构代码                   注册地址  \\\n",
       "38502  38502    上海沪菲电缆有限公司  774778246    上海市松江区中山街道荣乐东路１８号Ａ区   \n",
       "38503  38503    上海乐益物业有限公司  134501417        上海市普育东路１８５号１０２室   \n",
       "38504  38504  上海凯顿酒店管理有限公司  776252678  上海市浦东唐镇创新中路６０１号８幢２０１室   \n",
       "38505  38505    上海凡宏实业有限公司  630977326       上海市松江区洞泾镇洞舟路６１９号   \n",
       "38506  38506     上海富达日用化工厂  134423527        上海市崇明县北沿公路１２１８号   \n",
       "\n",
       "                        生产地址            检查日期  \\\n",
       "38502    上海市金山区朱泾镇温河村新民1109号    5/31/16 2:05   \n",
       "38503               重庆北路318号    4/18/16 2:04   \n",
       "38504  上海市浦东唐镇创新中路６０１号８幢２０１室    11/2/15 3:11   \n",
       "38505       上海市松江区洞泾镇洞舟路６１９号    7/8/16 12:07   \n",
       "38506             上海市崇明县前进农场  12/27/13 10:12   \n",
       "\n",
       "                                                    处理措施  \n",
       "38502  在检查“场（厂）内机动车辆使用情况(叉车，5110310116201205002 2)”时发...  \n",
       "38503           设备登记使用单位为上海捷艾尔物业管理有限公司。移动端登记为上海乐益物业有限公司。  \n",
       "38504                                             未发现问题。  \n",
       "38505                                             未发现问题。  \n",
       "38506                                             未发现问题。  "
      ]
     },
     "execution_count": 68,
     "metadata": {},
     "output_type": "execute_result"
    }
   ],
   "source": [
    "duplication.tail()"
   ]
  },
  {
   "cell_type": "code",
   "execution_count": 21,
   "metadata": {
    "ExecuteTime": {
     "end_time": "2017-12-20T10:04:15.022072Z",
     "start_time": "2017-12-20T10:04:15.006304Z"
    }
   },
   "outputs": [
    {
     "data": {
      "text/plain": [
       "(38506, 7)"
      ]
     },
     "execution_count": 21,
     "metadata": {},
     "output_type": "execute_result"
    }
   ],
   "source": [
    "regulation_dup = pd.concat([regulation, duplication])\n",
    "regulation_dup.shape"
   ]
  },
  {
   "cell_type": "code",
   "execution_count": 22,
   "metadata": {
    "ExecuteTime": {
     "end_time": "2017-12-20T10:04:29.765252Z",
     "start_time": "2017-12-20T10:04:29.748121Z"
    }
   },
   "outputs": [
    {
     "data": {
      "text/html": [
       "<div>\n",
       "<style scoped>\n",
       "    .dataframe tbody tr th:only-of-type {\n",
       "        vertical-align: middle;\n",
       "    }\n",
       "\n",
       "    .dataframe tbody tr th {\n",
       "        vertical-align: top;\n",
       "    }\n",
       "\n",
       "    .dataframe thead th {\n",
       "        text-align: right;\n",
       "    }\n",
       "</style>\n",
       "<table border=\"1\" class=\"dataframe\">\n",
       "  <thead>\n",
       "    <tr style=\"text-align: right;\">\n",
       "      <th></th>\n",
       "      <th>序号</th>\n",
       "      <th>企业名称</th>\n",
       "      <th>组织机构代码</th>\n",
       "      <th>注册地址</th>\n",
       "      <th>生产地址</th>\n",
       "      <th>检查日期</th>\n",
       "      <th>处理措施</th>\n",
       "    </tr>\n",
       "  </thead>\n",
       "  <tbody>\n",
       "    <tr>\n",
       "      <th>0</th>\n",
       "      <td>1</td>\n",
       "      <td>上海巴士五汽公共交通有限公司</td>\n",
       "      <td>607392127</td>\n",
       "      <td>上海市共和新路３０３４号</td>\n",
       "      <td>南陈路98号</td>\n",
       "      <td>1/8/10 1:01</td>\n",
       "      <td>未发现问题。</td>\n",
       "    </tr>\n",
       "    <tr>\n",
       "      <th>1</th>\n",
       "      <td>2</td>\n",
       "      <td>上海康志物业管理有限公司</td>\n",
       "      <td>86158393</td>\n",
       "      <td>上海市宝山区锦秋路４８号Ｇ１５</td>\n",
       "      <td>上海市宝山区锦秋路４８号Ｇ１５</td>\n",
       "      <td>1/8/10 8:01</td>\n",
       "      <td>未发现问题。</td>\n",
       "    </tr>\n",
       "    <tr>\n",
       "      <th>2</th>\n",
       "      <td>3</td>\n",
       "      <td>上海地矿物业管理有限公司</td>\n",
       "      <td>630350240</td>\n",
       "      <td>上海市沪太路１０６３弄５号甲</td>\n",
       "      <td>灵石路930号</td>\n",
       "      <td>1/8/10 9:01</td>\n",
       "      <td>未发现问题。</td>\n",
       "    </tr>\n",
       "    <tr>\n",
       "      <th>3</th>\n",
       "      <td>4</td>\n",
       "      <td>上海立新五金厂</td>\n",
       "      <td>132808298</td>\n",
       "      <td>上海市静安区南京西路１９５５弄９号</td>\n",
       "      <td>南陈路24号</td>\n",
       "      <td>1/8/10 9:01</td>\n",
       "      <td>未发现问题。</td>\n",
       "    </tr>\n",
       "    <tr>\n",
       "      <th>4</th>\n",
       "      <td>5</td>\n",
       "      <td>上海同祁置业有限公司</td>\n",
       "      <td>586791275</td>\n",
       "      <td>上海市宝山区锦秋路４８号Ｆ１３８</td>\n",
       "      <td>上海市宝山区锦秋路４８号Ｆ１３８</td>\n",
       "      <td>1/8/10 9:01</td>\n",
       "      <td>未发现问题。</td>\n",
       "    </tr>\n",
       "  </tbody>\n",
       "</table>\n",
       "</div>"
      ],
      "text/plain": [
       "   序号            企业名称     组织机构代码               注册地址              生产地址  \\\n",
       "0   1  上海巴士五汽公共交通有限公司  607392127       上海市共和新路３０３４号            南陈路98号   \n",
       "1   2    上海康志物业管理有限公司   86158393    上海市宝山区锦秋路４８号Ｇ１５   上海市宝山区锦秋路４８号Ｇ１５   \n",
       "2   3    上海地矿物业管理有限公司  630350240     上海市沪太路１０６３弄５号甲           灵石路930号   \n",
       "3   4         上海立新五金厂  132808298  上海市静安区南京西路１９５５弄９号            南陈路24号   \n",
       "4   5      上海同祁置业有限公司  586791275   上海市宝山区锦秋路４８号Ｆ１３８  上海市宝山区锦秋路４８号Ｆ１３８   \n",
       "\n",
       "          检查日期    处理措施  \n",
       "0  1/8/10 1:01  未发现问题。  \n",
       "1  1/8/10 8:01  未发现问题。  \n",
       "2  1/8/10 9:01  未发现问题。  \n",
       "3  1/8/10 9:01  未发现问题。  \n",
       "4  1/8/10 9:01  未发现问题。  "
      ]
     },
     "execution_count": 22,
     "metadata": {},
     "output_type": "execute_result"
    }
   ],
   "source": [
    "regulation_dup.head()"
   ]
  },
  {
   "cell_type": "code",
   "execution_count": 23,
   "metadata": {
    "ExecuteTime": {
     "end_time": "2017-12-20T10:04:31.964304Z",
     "start_time": "2017-12-20T10:04:31.942786Z"
    }
   },
   "outputs": [
    {
     "data": {
      "text/html": [
       "<div>\n",
       "<style scoped>\n",
       "    .dataframe tbody tr th:only-of-type {\n",
       "        vertical-align: middle;\n",
       "    }\n",
       "\n",
       "    .dataframe tbody tr th {\n",
       "        vertical-align: top;\n",
       "    }\n",
       "\n",
       "    .dataframe thead th {\n",
       "        text-align: right;\n",
       "    }\n",
       "</style>\n",
       "<table border=\"1\" class=\"dataframe\">\n",
       "  <thead>\n",
       "    <tr style=\"text-align: right;\">\n",
       "      <th></th>\n",
       "      <th>序号</th>\n",
       "      <th>企业名称</th>\n",
       "      <th>组织机构代码</th>\n",
       "      <th>注册地址</th>\n",
       "      <th>生产地址</th>\n",
       "      <th>检查日期</th>\n",
       "      <th>处理措施</th>\n",
       "    </tr>\n",
       "  </thead>\n",
       "  <tbody>\n",
       "    <tr>\n",
       "      <th>38502</th>\n",
       "      <td>38502</td>\n",
       "      <td>上海沪菲电缆有限公司</td>\n",
       "      <td>774778246</td>\n",
       "      <td>上海市松江区中山街道荣乐东路１８号Ａ区</td>\n",
       "      <td>上海市金山区朱泾镇温河村新民1109号</td>\n",
       "      <td>5/31/16 2:05</td>\n",
       "      <td>在检查“场（厂）内机动车辆使用情况(叉车，5110310116201205002 2)”时发...</td>\n",
       "    </tr>\n",
       "    <tr>\n",
       "      <th>38503</th>\n",
       "      <td>38503</td>\n",
       "      <td>上海乐益物业有限公司</td>\n",
       "      <td>134501417</td>\n",
       "      <td>上海市普育东路１８５号１０２室</td>\n",
       "      <td>重庆北路318号</td>\n",
       "      <td>4/18/16 2:04</td>\n",
       "      <td>设备登记使用单位为上海捷艾尔物业管理有限公司。移动端登记为上海乐益物业有限公司。</td>\n",
       "    </tr>\n",
       "    <tr>\n",
       "      <th>38504</th>\n",
       "      <td>38504</td>\n",
       "      <td>上海凯顿酒店管理有限公司</td>\n",
       "      <td>776252678</td>\n",
       "      <td>上海市浦东唐镇创新中路６０１号８幢２０１室</td>\n",
       "      <td>上海市浦东唐镇创新中路６０１号８幢２０１室</td>\n",
       "      <td>11/2/15 3:11</td>\n",
       "      <td>未发现问题。</td>\n",
       "    </tr>\n",
       "    <tr>\n",
       "      <th>38505</th>\n",
       "      <td>38505</td>\n",
       "      <td>上海凡宏实业有限公司</td>\n",
       "      <td>630977326</td>\n",
       "      <td>上海市松江区洞泾镇洞舟路６１９号</td>\n",
       "      <td>上海市松江区洞泾镇洞舟路６１９号</td>\n",
       "      <td>7/8/16 12:07</td>\n",
       "      <td>未发现问题。</td>\n",
       "    </tr>\n",
       "    <tr>\n",
       "      <th>38506</th>\n",
       "      <td>38506</td>\n",
       "      <td>上海富达日用化工厂</td>\n",
       "      <td>134423527</td>\n",
       "      <td>上海市崇明县北沿公路１２１８号</td>\n",
       "      <td>上海市崇明县前进农场</td>\n",
       "      <td>12/27/13 10:12</td>\n",
       "      <td>未发现问题。</td>\n",
       "    </tr>\n",
       "  </tbody>\n",
       "</table>\n",
       "</div>"
      ],
      "text/plain": [
       "          序号          企业名称     组织机构代码                   注册地址  \\\n",
       "38502  38502    上海沪菲电缆有限公司  774778246    上海市松江区中山街道荣乐东路１８号Ａ区   \n",
       "38503  38503    上海乐益物业有限公司  134501417        上海市普育东路１８５号１０２室   \n",
       "38504  38504  上海凯顿酒店管理有限公司  776252678  上海市浦东唐镇创新中路６０１号８幢２０１室   \n",
       "38505  38505    上海凡宏实业有限公司  630977326       上海市松江区洞泾镇洞舟路６１９号   \n",
       "38506  38506     上海富达日用化工厂  134423527        上海市崇明县北沿公路１２１８号   \n",
       "\n",
       "                        生产地址            检查日期  \\\n",
       "38502    上海市金山区朱泾镇温河村新民1109号    5/31/16 2:05   \n",
       "38503               重庆北路318号    4/18/16 2:04   \n",
       "38504  上海市浦东唐镇创新中路６０１号８幢２０１室    11/2/15 3:11   \n",
       "38505       上海市松江区洞泾镇洞舟路６１９号    7/8/16 12:07   \n",
       "38506             上海市崇明县前进农场  12/27/13 10:12   \n",
       "\n",
       "                                                    处理措施  \n",
       "38502  在检查“场（厂）内机动车辆使用情况(叉车，5110310116201205002 2)”时发...  \n",
       "38503           设备登记使用单位为上海捷艾尔物业管理有限公司。移动端登记为上海乐益物业有限公司。  \n",
       "38504                                             未发现问题。  \n",
       "38505                                             未发现问题。  \n",
       "38506                                             未发现问题。  "
      ]
     },
     "execution_count": 23,
     "metadata": {},
     "output_type": "execute_result"
    }
   ],
   "source": [
    "regulation_dup.tail()"
   ]
  },
  {
   "cell_type": "code",
   "execution_count": 69,
   "metadata": {
    "ExecuteTime": {
     "end_time": "2017-12-19T14:45:56.508043Z",
     "start_time": "2017-12-19T14:45:48.311133Z"
    }
   },
   "outputs": [],
   "source": [
    "regulation_dup.to_excel('regulation_dup.xlsx', index = False)"
   ]
  },
  {
   "cell_type": "markdown",
   "metadata": {},
   "source": [
    "## Practice\n",
    "\n",
    "Task: Try to find out all indexes that belong to each company via its registered address and production address."
   ]
  },
  {
   "cell_type": "code",
   "execution_count": 1,
   "metadata": {
    "ExecuteTime": {
     "end_time": "2017-12-20T10:51:18.263121Z",
     "start_time": "2017-12-20T10:51:15.164660Z"
    }
   },
   "outputs": [],
   "source": [
    "import os\n",
    "import pandas as pd\n",
    "\n",
    "wd = '/Users/ewenwang/Documents/practice_data'\n",
    "file = 'regulation_dup.csv'\n",
    "\n",
    "os.chdir(wd)\n",
    "regulation_dup = pd.read_csv(file)"
   ]
  },
  {
   "cell_type": "code",
   "execution_count": 2,
   "metadata": {
    "ExecuteTime": {
     "end_time": "2017-12-20T10:51:20.585265Z",
     "start_time": "2017-12-20T10:51:20.557085Z"
    }
   },
   "outputs": [
    {
     "data": {
      "text/html": [
       "<div>\n",
       "<style scoped>\n",
       "    .dataframe tbody tr th:only-of-type {\n",
       "        vertical-align: middle;\n",
       "    }\n",
       "\n",
       "    .dataframe tbody tr th {\n",
       "        vertical-align: top;\n",
       "    }\n",
       "\n",
       "    .dataframe thead th {\n",
       "        text-align: right;\n",
       "    }\n",
       "</style>\n",
       "<table border=\"1\" class=\"dataframe\">\n",
       "  <thead>\n",
       "    <tr style=\"text-align: right;\">\n",
       "      <th></th>\n",
       "      <th>序号</th>\n",
       "      <th>企业名称</th>\n",
       "      <th>组织机构代码</th>\n",
       "      <th>注册地址</th>\n",
       "      <th>生产地址</th>\n",
       "      <th>检查日期</th>\n",
       "      <th>处理措施</th>\n",
       "    </tr>\n",
       "  </thead>\n",
       "  <tbody>\n",
       "    <tr>\n",
       "      <th>0</th>\n",
       "      <td>1</td>\n",
       "      <td>上海巴士五汽公共交通有限公司</td>\n",
       "      <td>607392127</td>\n",
       "      <td>上海市共和新路３０３４号</td>\n",
       "      <td>南陈路98号</td>\n",
       "      <td>1/8/10 1:01</td>\n",
       "      <td>未发现问题。</td>\n",
       "    </tr>\n",
       "    <tr>\n",
       "      <th>1</th>\n",
       "      <td>2</td>\n",
       "      <td>上海康志物业管理有限公司</td>\n",
       "      <td>86158393</td>\n",
       "      <td>上海市宝山区锦秋路４８号Ｇ１５</td>\n",
       "      <td>上海市宝山区锦秋路４８号Ｇ１５</td>\n",
       "      <td>1/8/10 8:01</td>\n",
       "      <td>未发现问题。</td>\n",
       "    </tr>\n",
       "    <tr>\n",
       "      <th>2</th>\n",
       "      <td>3</td>\n",
       "      <td>上海地矿物业管理有限公司</td>\n",
       "      <td>630350240</td>\n",
       "      <td>上海市沪太路１０６３弄５号甲</td>\n",
       "      <td>灵石路930号</td>\n",
       "      <td>1/8/10 9:01</td>\n",
       "      <td>未发现问题。</td>\n",
       "    </tr>\n",
       "    <tr>\n",
       "      <th>3</th>\n",
       "      <td>4</td>\n",
       "      <td>上海立新五金厂</td>\n",
       "      <td>132808298</td>\n",
       "      <td>上海市静安区南京西路１９５５弄９号</td>\n",
       "      <td>南陈路24号</td>\n",
       "      <td>1/8/10 9:01</td>\n",
       "      <td>未发现问题。</td>\n",
       "    </tr>\n",
       "    <tr>\n",
       "      <th>4</th>\n",
       "      <td>5</td>\n",
       "      <td>上海同祁置业有限公司</td>\n",
       "      <td>586791275</td>\n",
       "      <td>上海市宝山区锦秋路４８号Ｆ１３８</td>\n",
       "      <td>上海市宝山区锦秋路４８号Ｆ１３８</td>\n",
       "      <td>1/8/10 9:01</td>\n",
       "      <td>未发现问题。</td>\n",
       "    </tr>\n",
       "  </tbody>\n",
       "</table>\n",
       "</div>"
      ],
      "text/plain": [
       "   序号            企业名称     组织机构代码               注册地址              生产地址  \\\n",
       "0   1  上海巴士五汽公共交通有限公司  607392127       上海市共和新路３０３４号            南陈路98号   \n",
       "1   2    上海康志物业管理有限公司   86158393    上海市宝山区锦秋路４８号Ｇ１５   上海市宝山区锦秋路４８号Ｇ１５   \n",
       "2   3    上海地矿物业管理有限公司  630350240     上海市沪太路１０６３弄５号甲           灵石路930号   \n",
       "3   4         上海立新五金厂  132808298  上海市静安区南京西路１９５５弄９号            南陈路24号   \n",
       "4   5      上海同祁置业有限公司  586791275   上海市宝山区锦秋路４８号Ｆ１３８  上海市宝山区锦秋路４８号Ｆ１３８   \n",
       "\n",
       "          检查日期    处理措施  \n",
       "0  1/8/10 1:01  未发现问题。  \n",
       "1  1/8/10 8:01  未发现问题。  \n",
       "2  1/8/10 9:01  未发现问题。  \n",
       "3  1/8/10 9:01  未发现问题。  \n",
       "4  1/8/10 9:01  未发现问题。  "
      ]
     },
     "execution_count": 2,
     "metadata": {},
     "output_type": "execute_result"
    }
   ],
   "source": [
    "sample = regulation_dup.head(10)\n",
    "sample.head()"
   ]
  },
  {
   "cell_type": "code",
   "execution_count": 3,
   "metadata": {
    "ExecuteTime": {
     "end_time": "2017-12-20T10:51:23.520947Z",
     "start_time": "2017-12-20T10:51:23.516374Z"
    }
   },
   "outputs": [],
   "source": [
    "sample.columns = ['index', 'name', 'company_id', 'registered_add', 'production_add', 'date', 'content']"
   ]
  },
  {
   "cell_type": "code",
   "execution_count": 4,
   "metadata": {
    "ExecuteTime": {
     "end_time": "2017-12-20T10:51:24.337212Z",
     "start_time": "2017-12-20T10:51:24.320449Z"
    }
   },
   "outputs": [
    {
     "data": {
      "text/html": [
       "<div>\n",
       "<style scoped>\n",
       "    .dataframe tbody tr th:only-of-type {\n",
       "        vertical-align: middle;\n",
       "    }\n",
       "\n",
       "    .dataframe tbody tr th {\n",
       "        vertical-align: top;\n",
       "    }\n",
       "\n",
       "    .dataframe thead th {\n",
       "        text-align: right;\n",
       "    }\n",
       "</style>\n",
       "<table border=\"1\" class=\"dataframe\">\n",
       "  <thead>\n",
       "    <tr style=\"text-align: right;\">\n",
       "      <th></th>\n",
       "      <th>index</th>\n",
       "      <th>name</th>\n",
       "      <th>company_id</th>\n",
       "      <th>registered_add</th>\n",
       "      <th>production_add</th>\n",
       "      <th>date</th>\n",
       "      <th>content</th>\n",
       "    </tr>\n",
       "  </thead>\n",
       "  <tbody>\n",
       "    <tr>\n",
       "      <th>0</th>\n",
       "      <td>1</td>\n",
       "      <td>上海巴士五汽公共交通有限公司</td>\n",
       "      <td>607392127</td>\n",
       "      <td>上海市共和新路３０３４号</td>\n",
       "      <td>南陈路98号</td>\n",
       "      <td>1/8/10 1:01</td>\n",
       "      <td>未发现问题。</td>\n",
       "    </tr>\n",
       "    <tr>\n",
       "      <th>1</th>\n",
       "      <td>2</td>\n",
       "      <td>上海康志物业管理有限公司</td>\n",
       "      <td>86158393</td>\n",
       "      <td>上海市宝山区锦秋路４８号Ｇ１５</td>\n",
       "      <td>上海市宝山区锦秋路４８号Ｇ１５</td>\n",
       "      <td>1/8/10 8:01</td>\n",
       "      <td>未发现问题。</td>\n",
       "    </tr>\n",
       "    <tr>\n",
       "      <th>2</th>\n",
       "      <td>3</td>\n",
       "      <td>上海地矿物业管理有限公司</td>\n",
       "      <td>630350240</td>\n",
       "      <td>上海市沪太路１０６３弄５号甲</td>\n",
       "      <td>灵石路930号</td>\n",
       "      <td>1/8/10 9:01</td>\n",
       "      <td>未发现问题。</td>\n",
       "    </tr>\n",
       "    <tr>\n",
       "      <th>3</th>\n",
       "      <td>4</td>\n",
       "      <td>上海立新五金厂</td>\n",
       "      <td>132808298</td>\n",
       "      <td>上海市静安区南京西路１９５５弄９号</td>\n",
       "      <td>南陈路24号</td>\n",
       "      <td>1/8/10 9:01</td>\n",
       "      <td>未发现问题。</td>\n",
       "    </tr>\n",
       "    <tr>\n",
       "      <th>4</th>\n",
       "      <td>5</td>\n",
       "      <td>上海同祁置业有限公司</td>\n",
       "      <td>586791275</td>\n",
       "      <td>上海市宝山区锦秋路４８号Ｆ１３８</td>\n",
       "      <td>上海市宝山区锦秋路４８号Ｆ１３８</td>\n",
       "      <td>1/8/10 9:01</td>\n",
       "      <td>未发现问题。</td>\n",
       "    </tr>\n",
       "  </tbody>\n",
       "</table>\n",
       "</div>"
      ],
      "text/plain": [
       "   index            name company_id     registered_add    production_add  \\\n",
       "0      1  上海巴士五汽公共交通有限公司  607392127       上海市共和新路３０３４号            南陈路98号   \n",
       "1      2    上海康志物业管理有限公司   86158393    上海市宝山区锦秋路４８号Ｇ１５   上海市宝山区锦秋路４８号Ｇ１５   \n",
       "2      3    上海地矿物业管理有限公司  630350240     上海市沪太路１０６３弄５号甲           灵石路930号   \n",
       "3      4         上海立新五金厂  132808298  上海市静安区南京西路１９５５弄９号            南陈路24号   \n",
       "4      5      上海同祁置业有限公司  586791275   上海市宝山区锦秋路４８号Ｆ１３８  上海市宝山区锦秋路４８号Ｆ１３８   \n",
       "\n",
       "          date content  \n",
       "0  1/8/10 1:01  未发现问题。  \n",
       "1  1/8/10 8:01  未发现问题。  \n",
       "2  1/8/10 9:01  未发现问题。  \n",
       "3  1/8/10 9:01  未发现问题。  \n",
       "4  1/8/10 9:01  未发现问题。  "
      ]
     },
     "execution_count": 4,
     "metadata": {},
     "output_type": "execute_result"
    }
   ],
   "source": [
    "sample.head()"
   ]
  },
  {
   "cell_type": "code",
   "execution_count": 5,
   "metadata": {
    "ExecuteTime": {
     "end_time": "2017-12-20T10:51:25.655729Z",
     "start_time": "2017-12-20T10:51:25.651189Z"
    }
   },
   "outputs": [],
   "source": [
    "regulation_dup.columns = ['index', 'name', 'company_id', 'registered_add', 'production_add', 'date', 'content']"
   ]
  },
  {
   "cell_type": "code",
   "execution_count": 6,
   "metadata": {
    "ExecuteTime": {
     "end_time": "2017-12-20T10:51:26.488955Z",
     "start_time": "2017-12-20T10:51:26.471214Z"
    }
   },
   "outputs": [
    {
     "data": {
      "text/html": [
       "<div>\n",
       "<style scoped>\n",
       "    .dataframe tbody tr th:only-of-type {\n",
       "        vertical-align: middle;\n",
       "    }\n",
       "\n",
       "    .dataframe tbody tr th {\n",
       "        vertical-align: top;\n",
       "    }\n",
       "\n",
       "    .dataframe thead th {\n",
       "        text-align: right;\n",
       "    }\n",
       "</style>\n",
       "<table border=\"1\" class=\"dataframe\">\n",
       "  <thead>\n",
       "    <tr style=\"text-align: right;\">\n",
       "      <th></th>\n",
       "      <th>index</th>\n",
       "      <th>name</th>\n",
       "      <th>company_id</th>\n",
       "      <th>registered_add</th>\n",
       "      <th>production_add</th>\n",
       "      <th>date</th>\n",
       "      <th>content</th>\n",
       "    </tr>\n",
       "  </thead>\n",
       "  <tbody>\n",
       "    <tr>\n",
       "      <th>0</th>\n",
       "      <td>1</td>\n",
       "      <td>上海巴士五汽公共交通有限公司</td>\n",
       "      <td>607392127</td>\n",
       "      <td>上海市共和新路３０３４号</td>\n",
       "      <td>南陈路98号</td>\n",
       "      <td>1/8/10 1:01</td>\n",
       "      <td>未发现问题。</td>\n",
       "    </tr>\n",
       "    <tr>\n",
       "      <th>1</th>\n",
       "      <td>2</td>\n",
       "      <td>上海康志物业管理有限公司</td>\n",
       "      <td>86158393</td>\n",
       "      <td>上海市宝山区锦秋路４８号Ｇ１５</td>\n",
       "      <td>上海市宝山区锦秋路４８号Ｇ１５</td>\n",
       "      <td>1/8/10 8:01</td>\n",
       "      <td>未发现问题。</td>\n",
       "    </tr>\n",
       "    <tr>\n",
       "      <th>2</th>\n",
       "      <td>3</td>\n",
       "      <td>上海地矿物业管理有限公司</td>\n",
       "      <td>630350240</td>\n",
       "      <td>上海市沪太路１０６３弄５号甲</td>\n",
       "      <td>灵石路930号</td>\n",
       "      <td>1/8/10 9:01</td>\n",
       "      <td>未发现问题。</td>\n",
       "    </tr>\n",
       "    <tr>\n",
       "      <th>3</th>\n",
       "      <td>4</td>\n",
       "      <td>上海立新五金厂</td>\n",
       "      <td>132808298</td>\n",
       "      <td>上海市静安区南京西路１９５５弄９号</td>\n",
       "      <td>南陈路24号</td>\n",
       "      <td>1/8/10 9:01</td>\n",
       "      <td>未发现问题。</td>\n",
       "    </tr>\n",
       "    <tr>\n",
       "      <th>4</th>\n",
       "      <td>5</td>\n",
       "      <td>上海同祁置业有限公司</td>\n",
       "      <td>586791275</td>\n",
       "      <td>上海市宝山区锦秋路４８号Ｆ１３８</td>\n",
       "      <td>上海市宝山区锦秋路４８号Ｆ１３８</td>\n",
       "      <td>1/8/10 9:01</td>\n",
       "      <td>未发现问题。</td>\n",
       "    </tr>\n",
       "  </tbody>\n",
       "</table>\n",
       "</div>"
      ],
      "text/plain": [
       "   index            name company_id     registered_add    production_add  \\\n",
       "0      1  上海巴士五汽公共交通有限公司  607392127       上海市共和新路３０３４号            南陈路98号   \n",
       "1      2    上海康志物业管理有限公司   86158393    上海市宝山区锦秋路４８号Ｇ１５   上海市宝山区锦秋路４８号Ｇ１５   \n",
       "2      3    上海地矿物业管理有限公司  630350240     上海市沪太路１０６３弄５号甲           灵石路930号   \n",
       "3      4         上海立新五金厂  132808298  上海市静安区南京西路１９５５弄９号            南陈路24号   \n",
       "4      5      上海同祁置业有限公司  586791275   上海市宝山区锦秋路４８号Ｆ１３８  上海市宝山区锦秋路４８号Ｆ１３８   \n",
       "\n",
       "          date content  \n",
       "0  1/8/10 1:01  未发现问题。  \n",
       "1  1/8/10 8:01  未发现问题。  \n",
       "2  1/8/10 9:01  未发现问题。  \n",
       "3  1/8/10 9:01  未发现问题。  \n",
       "4  1/8/10 9:01  未发现问题。  "
      ]
     },
     "execution_count": 6,
     "metadata": {},
     "output_type": "execute_result"
    }
   ],
   "source": [
    "regulation_dup.head()"
   ]
  },
  {
   "cell_type": "code",
   "execution_count": 7,
   "metadata": {
    "ExecuteTime": {
     "end_time": "2017-12-20T10:51:30.709599Z",
     "start_time": "2017-12-20T10:51:28.956162Z"
    }
   },
   "outputs": [],
   "source": [
    "import recordlinkage\n",
    "\n",
    "indexer = recordlinkage.FullIndex()"
   ]
  },
  {
   "cell_type": "code",
   "execution_count": 8,
   "metadata": {
    "ExecuteTime": {
     "end_time": "2017-12-20T10:52:04.142828Z",
     "start_time": "2017-12-20T10:52:04.098279Z"
    }
   },
   "outputs": [
    {
     "name": "stdout",
     "output_type": "stream",
     "text": [
      "0\n"
     ]
    }
   ],
   "source": [
    "pairs = indexer.index(sample)\n",
    "indexer = recordlinkage.BlockIndex(on='registered_add')\n",
    "pairs = indexer.index(sample)\n",
    "\n",
    "print(len(pairs))"
   ]
  },
  {
   "cell_type": "code",
   "execution_count": 9,
   "metadata": {
    "ExecuteTime": {
     "end_time": "2017-12-20T10:53:29.520748Z",
     "start_time": "2017-12-20T10:53:29.514929Z"
    }
   },
   "outputs": [
    {
     "data": {
      "text/plain": [
       "pandas.core.frame.DataFrame"
      ]
     },
     "execution_count": 9,
     "metadata": {},
     "output_type": "execute_result"
    }
   ],
   "source": [
    "type(sample)"
   ]
  },
  {
   "cell_type": "code",
   "execution_count": 10,
   "metadata": {
    "ExecuteTime": {
     "end_time": "2017-12-20T10:53:43.571146Z",
     "start_time": "2017-12-20T10:53:43.562545Z"
    }
   },
   "outputs": [
    {
     "data": {
      "text/plain": [
       "pandas.core.frame.DataFrame"
      ]
     },
     "execution_count": 10,
     "metadata": {},
     "output_type": "execute_result"
    }
   ],
   "source": [
    "type(regulation_dup)"
   ]
  },
  {
   "cell_type": "code",
   "execution_count": 11,
   "metadata": {
    "ExecuteTime": {
     "end_time": "2017-12-20T10:53:48.140511Z",
     "start_time": "2017-12-20T10:53:47.779202Z"
    }
   },
   "outputs": [
    {
     "name": "stdout",
     "output_type": "stream",
     "text": [
      "56051\n"
     ]
    }
   ],
   "source": [
    "pairs = indexer.index(regulation_dup)\n",
    "indexer = recordlinkage.BlockIndex(on='registered_add')\n",
    "pairs = indexer.index(regulation_dup)\n",
    "\n",
    "print(len(pairs))"
   ]
  },
  {
   "cell_type": "code",
   "execution_count": 12,
   "metadata": {
    "ExecuteTime": {
     "end_time": "2017-12-20T10:54:09.975872Z",
     "start_time": "2017-12-20T10:54:00.558942Z"
    }
   },
   "outputs": [],
   "source": [
    "compare_cl = recordlinkage.Compare()\n",
    "\n",
    "compare_cl.string('registered_add', 'registered_add', method='jarowinkler', threshold=0.85, label='registered_add')\n",
    "compare_cl.string('production_add', 'production_add', method='jarowinkler', threshold=0.85, label='production_add')\n",
    "\n",
    "features = compare_cl.compute(pairs, regulation_dup)"
   ]
  },
  {
   "cell_type": "code",
   "execution_count": 13,
   "metadata": {
    "ExecuteTime": {
     "end_time": "2017-12-20T10:56:10.965134Z",
     "start_time": "2017-12-20T10:56:10.954039Z"
    }
   },
   "outputs": [
    {
     "data": {
      "text/html": [
       "<div>\n",
       "<style scoped>\n",
       "    .dataframe tbody tr th:only-of-type {\n",
       "        vertical-align: middle;\n",
       "    }\n",
       "\n",
       "    .dataframe tbody tr th {\n",
       "        vertical-align: top;\n",
       "    }\n",
       "\n",
       "    .dataframe thead th {\n",
       "        text-align: right;\n",
       "    }\n",
       "</style>\n",
       "<table border=\"1\" class=\"dataframe\">\n",
       "  <thead>\n",
       "    <tr style=\"text-align: right;\">\n",
       "      <th></th>\n",
       "      <th></th>\n",
       "      <th>registered_add</th>\n",
       "      <th>production_add</th>\n",
       "    </tr>\n",
       "  </thead>\n",
       "  <tbody>\n",
       "    <tr>\n",
       "      <th>2</th>\n",
       "      <th>21530</th>\n",
       "      <td>1.0</td>\n",
       "      <td>1.0</td>\n",
       "    </tr>\n",
       "    <tr>\n",
       "      <th>3</th>\n",
       "      <th>23032</th>\n",
       "      <td>1.0</td>\n",
       "      <td>1.0</td>\n",
       "    </tr>\n",
       "    <tr>\n",
       "      <th rowspan=\"3\" valign=\"top\">4</th>\n",
       "      <th>20566</th>\n",
       "      <td>1.0</td>\n",
       "      <td>1.0</td>\n",
       "    </tr>\n",
       "    <tr>\n",
       "      <th>27518</th>\n",
       "      <td>1.0</td>\n",
       "      <td>1.0</td>\n",
       "    </tr>\n",
       "    <tr>\n",
       "      <th>36223</th>\n",
       "      <td>1.0</td>\n",
       "      <td>1.0</td>\n",
       "    </tr>\n",
       "    <tr>\n",
       "      <th rowspan=\"2\" valign=\"top\">20566</th>\n",
       "      <th>27518</th>\n",
       "      <td>1.0</td>\n",
       "      <td>1.0</td>\n",
       "    </tr>\n",
       "    <tr>\n",
       "      <th>36223</th>\n",
       "      <td>1.0</td>\n",
       "      <td>1.0</td>\n",
       "    </tr>\n",
       "    <tr>\n",
       "      <th>27518</th>\n",
       "      <th>36223</th>\n",
       "      <td>1.0</td>\n",
       "      <td>1.0</td>\n",
       "    </tr>\n",
       "    <tr>\n",
       "      <th>5</th>\n",
       "      <th>21989</th>\n",
       "      <td>1.0</td>\n",
       "      <td>1.0</td>\n",
       "    </tr>\n",
       "    <tr>\n",
       "      <th>6</th>\n",
       "      <th>33683</th>\n",
       "      <td>1.0</td>\n",
       "      <td>1.0</td>\n",
       "    </tr>\n",
       "  </tbody>\n",
       "</table>\n",
       "</div>"
      ],
      "text/plain": [
       "             registered_add  production_add\n",
       "2     21530             1.0             1.0\n",
       "3     23032             1.0             1.0\n",
       "4     20566             1.0             1.0\n",
       "      27518             1.0             1.0\n",
       "      36223             1.0             1.0\n",
       "20566 27518             1.0             1.0\n",
       "      36223             1.0             1.0\n",
       "27518 36223             1.0             1.0\n",
       "5     21989             1.0             1.0\n",
       "6     33683             1.0             1.0"
      ]
     },
     "execution_count": 13,
     "metadata": {},
     "output_type": "execute_result"
    }
   ],
   "source": [
    "features.head(10)"
   ]
  },
  {
   "cell_type": "code",
   "execution_count": 14,
   "metadata": {
    "ExecuteTime": {
     "end_time": "2017-12-20T10:56:22.942555Z",
     "start_time": "2017-12-20T10:56:22.935925Z"
    }
   },
   "outputs": [
    {
     "data": {
      "text/plain": [
       "array([(2, 21530), (3, 23032), (4, 20566), (4, 27518), (4, 36223),\n",
       "       (20566, 27518), (20566, 36223), (27518, 36223), (5, 21989),\n",
       "       (6, 33683)], dtype=object)"
      ]
     },
     "execution_count": 14,
     "metadata": {},
     "output_type": "execute_result"
    }
   ],
   "source": [
    "# features.index.values\n",
    "pairs.values[0:10]"
   ]
  },
  {
   "cell_type": "code",
   "execution_count": 15,
   "metadata": {
    "ExecuteTime": {
     "end_time": "2017-12-20T10:56:25.858403Z",
     "start_time": "2017-12-20T10:56:25.853781Z"
    }
   },
   "outputs": [
    {
     "data": {
      "text/plain": [
       "(2, 21530)"
      ]
     },
     "execution_count": 15,
     "metadata": {},
     "output_type": "execute_result"
    }
   ],
   "source": [
    "pairs.values[0]"
   ]
  },
  {
   "cell_type": "code",
   "execution_count": 16,
   "metadata": {
    "ExecuteTime": {
     "end_time": "2017-12-20T10:56:32.984633Z",
     "start_time": "2017-12-20T10:56:32.949687Z"
    }
   },
   "outputs": [
    {
     "name": "stdout",
     "output_type": "stream",
     "text": [
      "(2, 21530) 2 上海地矿物业管理有限公司 21530 上海地矿物业管理有限公司\n"
     ]
    }
   ],
   "source": [
    "print(pairs.values[0], \n",
    "      pairs.values[0][0], regulation_dup.values[pairs.values[0][0],1], \n",
    "      pairs.values[0][1], regulation_dup.values[pairs.values[0][1],1])"
   ]
  },
  {
   "cell_type": "code",
   "execution_count": 17,
   "metadata": {
    "ExecuteTime": {
     "end_time": "2017-12-20T10:56:48.449749Z",
     "start_time": "2017-12-20T10:56:48.442150Z"
    }
   },
   "outputs": [],
   "source": [
    "def print_pairs(pairs, n=10):\n",
    "    for i in range(n):\n",
    "        print(pairs.values[i], \n",
    "              pairs.values[i][0], regulation_dup.values[pairs.values[i][0],1], \n",
    "              pairs.values[i][1], regulation_dup.values[pairs.values[i][1],1])\n",
    "    return None"
   ]
  },
  {
   "cell_type": "code",
   "execution_count": 18,
   "metadata": {
    "ExecuteTime": {
     "end_time": "2017-12-20T10:56:51.427876Z",
     "start_time": "2017-12-20T10:56:51.296274Z"
    }
   },
   "outputs": [
    {
     "name": "stdout",
     "output_type": "stream",
     "text": [
      "(2, 21530) 2 上海地矿物业管理有限公司 21530 上海地矿物业管理有限公司\n",
      "(3, 23032) 3 上海立新五金厂 23032 上海立新五金厂\n",
      "(4, 20566) 4 上海同祁置业有限公司 20566 上海同祁置业有限公司\n",
      "(4, 27518) 4 上海同祁置业有限公司 27518 上海同祁置业有限公司\n",
      "(4, 36223) 4 上海同祁置业有限公司 36223 上海同祁置业有限公司\n",
      "(20566, 27518) 20566 上海同祁置业有限公司 27518 上海同祁置业有限公司\n",
      "(20566, 36223) 20566 上海同祁置业有限公司 36223 上海同祁置业有限公司\n",
      "(27518, 36223) 27518 上海同祁置业有限公司 36223 上海同祁置业有限公司\n",
      "(5, 21989) 5 上海高地物业管理有限公司虹口分公司 21989 上海高地物业管理有限公司虹口分公司\n",
      "(6, 33683) 6 上海康通电缆组件有限公司 33683 上海康通电缆组件有限公司\n"
     ]
    }
   ],
   "source": [
    "print_pairs(pairs, 10)"
   ]
  },
  {
   "cell_type": "code",
   "execution_count": 19,
   "metadata": {
    "ExecuteTime": {
     "end_time": "2017-12-20T10:57:42.625670Z",
     "start_time": "2017-12-20T10:57:42.594977Z"
    }
   },
   "outputs": [
    {
     "data": {
      "text/plain": [
       "True"
      ]
     },
     "execution_count": 19,
     "metadata": {},
     "output_type": "execute_result"
    }
   ],
   "source": [
    "regulation_dup.values[pairs.values[0][0],1] == regulation_dup.values[pairs.values[0][1],1]"
   ]
  },
  {
   "cell_type": "code",
   "execution_count": 20,
   "metadata": {
    "ExecuteTime": {
     "end_time": "2017-12-20T11:02:59.551702Z",
     "start_time": "2017-12-20T11:02:59.545310Z"
    }
   },
   "outputs": [
    {
     "data": {
      "text/plain": [
       "56051"
      ]
     },
     "execution_count": 20,
     "metadata": {},
     "output_type": "execute_result"
    }
   ],
   "source": [
    "len(pairs.values)"
   ]
  },
  {
   "cell_type": "code",
   "execution_count": 21,
   "metadata": {
    "ExecuteTime": {
     "end_time": "2017-12-20T11:13:00.691580Z",
     "start_time": "2017-12-20T11:13:00.685760Z"
    }
   },
   "outputs": [
    {
     "data": {
      "text/plain": [
       "'上海巴士五汽公共交通有限公司'"
      ]
     },
     "execution_count": 21,
     "metadata": {},
     "output_type": "execute_result"
    }
   ],
   "source": [
    "regulation_dup['name'][0]"
   ]
  },
  {
   "cell_type": "code",
   "execution_count": 43,
   "metadata": {
    "ExecuteTime": {
     "end_time": "2017-12-20T12:28:31.403680Z",
     "start_time": "2017-12-20T12:04:37.757018Z"
    }
   },
   "outputs": [],
   "source": [
    "import numpy as np\n",
    "\n",
    "results = pd.DataFrame(columns=['pairs', 'first', 'second', 'result'], index=np.arange(len(pairs.values)))\n",
    "\n",
    "for index, value in enumerate(pairs.values):\n",
    "    results['pairs'][index] = value\n",
    "    results['first'][index] = regulation_dup.values[value[0],1]\n",
    "    results['second'][index] = regulation_dup.values[value[1],1]\n",
    "    results['result'][index] = 1 if regulation_dup.values[value[0],2] == regulation_dup.values[value[1],2] else 0"
   ]
  },
  {
   "cell_type": "code",
   "execution_count": 48,
   "metadata": {
    "ExecuteTime": {
     "end_time": "2017-12-20T13:05:53.742273Z",
     "start_time": "2017-12-20T13:05:53.733078Z"
    }
   },
   "outputs": [
    {
     "data": {
      "text/plain": [
       "0.9491534495370287"
      ]
     },
     "execution_count": 48,
     "metadata": {},
     "output_type": "execute_result"
    }
   ],
   "source": [
    "accuracy = results['result'].values.sum()/results.shape[0]\n",
    "accuracy"
   ]
  },
  {
   "cell_type": "code",
   "execution_count": 55,
   "metadata": {
    "ExecuteTime": {
     "end_time": "2017-12-20T13:10:29.319382Z",
     "start_time": "2017-12-20T13:10:29.302493Z"
    }
   },
   "outputs": [
    {
     "data": {
      "text/html": [
       "<div>\n",
       "<style scoped>\n",
       "    .dataframe tbody tr th:only-of-type {\n",
       "        vertical-align: middle;\n",
       "    }\n",
       "\n",
       "    .dataframe tbody tr th {\n",
       "        vertical-align: top;\n",
       "    }\n",
       "\n",
       "    .dataframe thead th {\n",
       "        text-align: right;\n",
       "    }\n",
       "</style>\n",
       "<table border=\"1\" class=\"dataframe\">\n",
       "  <thead>\n",
       "    <tr style=\"text-align: right;\">\n",
       "      <th></th>\n",
       "      <th>pairs</th>\n",
       "      <th>first</th>\n",
       "      <th>second</th>\n",
       "      <th>result</th>\n",
       "    </tr>\n",
       "  </thead>\n",
       "  <tbody>\n",
       "    <tr>\n",
       "      <th>48789</th>\n",
       "      <td>(21161, 34172)</td>\n",
       "      <td>上海天伦医院有限公司</td>\n",
       "      <td>上海天伦医院有限公司</td>\n",
       "      <td>1</td>\n",
       "    </tr>\n",
       "    <tr>\n",
       "      <th>31673</th>\n",
       "      <td>(3136, 4580)</td>\n",
       "      <td>上海万宇房地产（集团）有限公司</td>\n",
       "      <td>上海万宇房地产（集团）有限公司</td>\n",
       "      <td>1</td>\n",
       "    </tr>\n",
       "    <tr>\n",
       "      <th>38667</th>\n",
       "      <td>(5867, 10381)</td>\n",
       "      <td>上海金玉兰物业管理有限公司</td>\n",
       "      <td>上海金玉兰物业管理有限公司</td>\n",
       "      <td>1</td>\n",
       "    </tr>\n",
       "    <tr>\n",
       "      <th>19741</th>\n",
       "      <td>(10355, 31254)</td>\n",
       "      <td>上海久创建设管理有限公司</td>\n",
       "      <td>上海磁浮交通发展有限公司</td>\n",
       "      <td>0</td>\n",
       "    </tr>\n",
       "    <tr>\n",
       "      <th>37881</th>\n",
       "      <td>(7080, 34605)</td>\n",
       "      <td>上海慧山投资管理有限公司</td>\n",
       "      <td>上海慧山投资管理有限公司</td>\n",
       "      <td>1</td>\n",
       "    </tr>\n",
       "    <tr>\n",
       "      <th>14237</th>\n",
       "      <td>(9198, 9214)</td>\n",
       "      <td>上海中医药大学附属曙光医院</td>\n",
       "      <td>上海中医药大学附属曙光医院</td>\n",
       "      <td>1</td>\n",
       "    </tr>\n",
       "    <tr>\n",
       "      <th>48951</th>\n",
       "      <td>(14303, 14702)</td>\n",
       "      <td>上海利通置业有限公司</td>\n",
       "      <td>上海利通置业有限公司</td>\n",
       "      <td>1</td>\n",
       "    </tr>\n",
       "    <tr>\n",
       "      <th>51608</th>\n",
       "      <td>(16872, 16876)</td>\n",
       "      <td>上海光明荷斯坦牧业有限公司</td>\n",
       "      <td>上海光明荷斯坦牧业有限公司</td>\n",
       "      <td>1</td>\n",
       "    </tr>\n",
       "    <tr>\n",
       "      <th>18844</th>\n",
       "      <td>(22504, 36895)</td>\n",
       "      <td>上海地铁运营有限公司客运一分公司</td>\n",
       "      <td>上海地铁运营有限公司客运一分公司</td>\n",
       "      <td>1</td>\n",
       "    </tr>\n",
       "    <tr>\n",
       "      <th>50750</th>\n",
       "      <td>(15573, 22509)</td>\n",
       "      <td>上海岩森实业发展有限公司</td>\n",
       "      <td>上海岩森实业发展有限公司</td>\n",
       "      <td>1</td>\n",
       "    </tr>\n",
       "  </tbody>\n",
       "</table>\n",
       "</div>"
      ],
      "text/plain": [
       "                pairs             first            second result\n",
       "48789  (21161, 34172)        上海天伦医院有限公司        上海天伦医院有限公司      1\n",
       "31673    (3136, 4580)   上海万宇房地产（集团）有限公司   上海万宇房地产（集团）有限公司      1\n",
       "38667   (5867, 10381)     上海金玉兰物业管理有限公司     上海金玉兰物业管理有限公司      1\n",
       "19741  (10355, 31254)      上海久创建设管理有限公司      上海磁浮交通发展有限公司      0\n",
       "37881   (7080, 34605)      上海慧山投资管理有限公司      上海慧山投资管理有限公司      1\n",
       "14237    (9198, 9214)     上海中医药大学附属曙光医院     上海中医药大学附属曙光医院      1\n",
       "48951  (14303, 14702)        上海利通置业有限公司        上海利通置业有限公司      1\n",
       "51608  (16872, 16876)     上海光明荷斯坦牧业有限公司     上海光明荷斯坦牧业有限公司      1\n",
       "18844  (22504, 36895)  上海地铁运营有限公司客运一分公司  上海地铁运营有限公司客运一分公司      1\n",
       "50750  (15573, 22509)      上海岩森实业发展有限公司      上海岩森实业发展有限公司      1"
      ]
     },
     "execution_count": 55,
     "metadata": {},
     "output_type": "execute_result"
    }
   ],
   "source": [
    "seed = 2018\n",
    "results.sample(10, random_state=seed)"
   ]
  },
  {
   "cell_type": "code",
   "execution_count": 77,
   "metadata": {
    "ExecuteTime": {
     "end_time": "2017-12-20T14:47:13.499544Z",
     "start_time": "2017-12-20T14:47:13.487632Z"
    }
   },
   "outputs": [],
   "source": [
    "wrong = results.iloc[np.where(results.iloc[:, 3] == 0)[0],:]"
   ]
  },
  {
   "cell_type": "code",
   "execution_count": 78,
   "metadata": {
    "ExecuteTime": {
     "end_time": "2017-12-20T14:47:16.472730Z",
     "start_time": "2017-12-20T14:47:16.468290Z"
    }
   },
   "outputs": [
    {
     "data": {
      "text/plain": [
       "(2850, 4)"
      ]
     },
     "execution_count": 78,
     "metadata": {},
     "output_type": "execute_result"
    }
   ],
   "source": [
    "wrong.shape"
   ]
  },
  {
   "cell_type": "code",
   "execution_count": 79,
   "metadata": {
    "ExecuteTime": {
     "end_time": "2017-12-20T14:47:22.048557Z",
     "start_time": "2017-12-20T14:47:22.033275Z"
    }
   },
   "outputs": [
    {
     "data": {
      "text/html": [
       "<div>\n",
       "<style scoped>\n",
       "    .dataframe tbody tr th:only-of-type {\n",
       "        vertical-align: middle;\n",
       "    }\n",
       "\n",
       "    .dataframe tbody tr th {\n",
       "        vertical-align: top;\n",
       "    }\n",
       "\n",
       "    .dataframe thead th {\n",
       "        text-align: right;\n",
       "    }\n",
       "</style>\n",
       "<table border=\"1\" class=\"dataframe\">\n",
       "  <thead>\n",
       "    <tr style=\"text-align: right;\">\n",
       "      <th></th>\n",
       "      <th>pairs</th>\n",
       "      <th>first</th>\n",
       "      <th>second</th>\n",
       "      <th>result</th>\n",
       "    </tr>\n",
       "  </thead>\n",
       "  <tbody>\n",
       "    <tr>\n",
       "      <th>51</th>\n",
       "      <td>(11, 10854)</td>\n",
       "      <td>新世界百货（中国）有限公司</td>\n",
       "      <td>上海中燃船舶燃料有限公司</td>\n",
       "      <td>0</td>\n",
       "    </tr>\n",
       "    <tr>\n",
       "      <th>52</th>\n",
       "      <td>(11, 11223)</td>\n",
       "      <td>新世界百货（中国）有限公司</td>\n",
       "      <td>上海福德物业管理经营有限公司</td>\n",
       "      <td>0</td>\n",
       "    </tr>\n",
       "    <tr>\n",
       "      <th>53</th>\n",
       "      <td>(11, 16032)</td>\n",
       "      <td>新世界百货（中国）有限公司</td>\n",
       "      <td>上海福德物业管理经营有限公司</td>\n",
       "      <td>0</td>\n",
       "    </tr>\n",
       "    <tr>\n",
       "      <th>55</th>\n",
       "      <td>(11, 24369)</td>\n",
       "      <td>新世界百货（中国）有限公司</td>\n",
       "      <td>上海福德物业管理经营有限公司</td>\n",
       "      <td>0</td>\n",
       "    </tr>\n",
       "    <tr>\n",
       "      <th>56</th>\n",
       "      <td>(11, 35551)</td>\n",
       "      <td>新世界百货（中国）有限公司</td>\n",
       "      <td>上海福德物业管理经营有限公司</td>\n",
       "      <td>0</td>\n",
       "    </tr>\n",
       "  </tbody>\n",
       "</table>\n",
       "</div>"
      ],
      "text/plain": [
       "          pairs          first          second result\n",
       "51  (11, 10854)  新世界百货（中国）有限公司    上海中燃船舶燃料有限公司      0\n",
       "52  (11, 11223)  新世界百货（中国）有限公司  上海福德物业管理经营有限公司      0\n",
       "53  (11, 16032)  新世界百货（中国）有限公司  上海福德物业管理经营有限公司      0\n",
       "55  (11, 24369)  新世界百货（中国）有限公司  上海福德物业管理经营有限公司      0\n",
       "56  (11, 35551)  新世界百货（中国）有限公司  上海福德物业管理经营有限公司      0"
      ]
     },
     "execution_count": 79,
     "metadata": {},
     "output_type": "execute_result"
    }
   ],
   "source": [
    "wrong.head()"
   ]
  },
  {
   "cell_type": "code",
   "execution_count": 83,
   "metadata": {
    "ExecuteTime": {
     "end_time": "2017-12-20T14:55:29.364822Z",
     "start_time": "2017-12-20T14:55:29.353716Z"
    }
   },
   "outputs": [
    {
     "name": "stdout",
     "output_type": "stream",
     "text": [
      "上海市四川北路１６８８号 \t 上海市四川北路１６８８号 \t 上海市四川北路１６８８号\n",
      "\n",
      "四川北路1688号 \t\t 杨浦区军工路3500号 \t 上海市四川北路１６８８号\n"
     ]
    }
   ],
   "source": [
    "print(regulation_dup['registered_add'][11], '\\t',\n",
    "      regulation_dup['registered_add'][10854], '\\t',\n",
    "      regulation_dup['registered_add'][11223])\n",
    "print()\n",
    "print(regulation_dup['production_add'][11], '\\t\\t',\n",
    "      regulation_dup['production_add'][10854], '\\t',\n",
    "      regulation_dup['production_add'][11223])"
   ]
  },
  {
   "cell_type": "code",
   "execution_count": 46,
   "metadata": {
    "ExecuteTime": {
     "end_time": "2017-12-20T12:29:36.729423Z",
     "start_time": "2017-12-20T12:29:29.773171Z"
    }
   },
   "outputs": [],
   "source": [
    "results.to_excel('regulation_results.xlsx', index=False)"
   ]
  },
  {
   "cell_type": "markdown",
   "metadata": {},
   "source": [
    "Features Analysis"
   ]
  },
  {
   "cell_type": "code",
   "execution_count": 85,
   "metadata": {
    "ExecuteTime": {
     "end_time": "2017-12-19T16:56:38.047365Z",
     "start_time": "2017-12-19T16:56:37.874759Z"
    }
   },
   "outputs": [
    {
     "data": {
      "text/html": [
       "<div>\n",
       "<style scoped>\n",
       "    .dataframe tbody tr th:only-of-type {\n",
       "        vertical-align: middle;\n",
       "    }\n",
       "\n",
       "    .dataframe tbody tr th {\n",
       "        vertical-align: top;\n",
       "    }\n",
       "\n",
       "    .dataframe thead th {\n",
       "        text-align: right;\n",
       "    }\n",
       "</style>\n",
       "<table border=\"1\" class=\"dataframe\">\n",
       "  <thead>\n",
       "    <tr style=\"text-align: right;\">\n",
       "      <th></th>\n",
       "      <th>registered_add</th>\n",
       "      <th>production_add</th>\n",
       "    </tr>\n",
       "  </thead>\n",
       "  <tbody>\n",
       "    <tr>\n",
       "      <th>count</th>\n",
       "      <td>56051.0</td>\n",
       "      <td>56051.000000</td>\n",
       "    </tr>\n",
       "    <tr>\n",
       "      <th>mean</th>\n",
       "      <td>1.0</td>\n",
       "      <td>0.960143</td>\n",
       "    </tr>\n",
       "    <tr>\n",
       "      <th>std</th>\n",
       "      <td>0.0</td>\n",
       "      <td>0.195624</td>\n",
       "    </tr>\n",
       "    <tr>\n",
       "      <th>min</th>\n",
       "      <td>1.0</td>\n",
       "      <td>0.000000</td>\n",
       "    </tr>\n",
       "    <tr>\n",
       "      <th>25%</th>\n",
       "      <td>1.0</td>\n",
       "      <td>1.000000</td>\n",
       "    </tr>\n",
       "    <tr>\n",
       "      <th>50%</th>\n",
       "      <td>1.0</td>\n",
       "      <td>1.000000</td>\n",
       "    </tr>\n",
       "    <tr>\n",
       "      <th>75%</th>\n",
       "      <td>1.0</td>\n",
       "      <td>1.000000</td>\n",
       "    </tr>\n",
       "    <tr>\n",
       "      <th>max</th>\n",
       "      <td>1.0</td>\n",
       "      <td>1.000000</td>\n",
       "    </tr>\n",
       "  </tbody>\n",
       "</table>\n",
       "</div>"
      ],
      "text/plain": [
       "       registered_add  production_add\n",
       "count         56051.0    56051.000000\n",
       "mean              1.0        0.960143\n",
       "std               0.0        0.195624\n",
       "min               1.0        0.000000\n",
       "25%               1.0        1.000000\n",
       "50%               1.0        1.000000\n",
       "75%               1.0        1.000000\n",
       "max               1.0        1.000000"
      ]
     },
     "execution_count": 85,
     "metadata": {},
     "output_type": "execute_result"
    }
   ],
   "source": [
    "features.describe()"
   ]
  },
  {
   "cell_type": "code",
   "execution_count": 86,
   "metadata": {
    "ExecuteTime": {
     "end_time": "2017-12-19T16:57:09.415804Z",
     "start_time": "2017-12-19T16:57:09.395927Z"
    }
   },
   "outputs": [
    {
     "data": {
      "text/plain": [
       "2.0    53817\n",
       "1.0     2234\n",
       "dtype: int64"
      ]
     },
     "execution_count": 86,
     "metadata": {},
     "output_type": "execute_result"
    }
   ],
   "source": [
    "# Sum the comparison results.\n",
    "features.sum(axis=1).value_counts().sort_index(ascending=False)"
   ]
  },
  {
   "cell_type": "code",
   "execution_count": 88,
   "metadata": {
    "ExecuteTime": {
     "end_time": "2017-12-19T16:57:25.638735Z",
     "start_time": "2017-12-19T16:57:25.616523Z"
    }
   },
   "outputs": [
    {
     "name": "stdout",
     "output_type": "stream",
     "text": [
      "56051\n"
     ]
    },
    {
     "data": {
      "text/html": [
       "<div>\n",
       "<style scoped>\n",
       "    .dataframe tbody tr th:only-of-type {\n",
       "        vertical-align: middle;\n",
       "    }\n",
       "\n",
       "    .dataframe tbody tr th {\n",
       "        vertical-align: top;\n",
       "    }\n",
       "\n",
       "    .dataframe thead th {\n",
       "        text-align: right;\n",
       "    }\n",
       "</style>\n",
       "<table border=\"1\" class=\"dataframe\">\n",
       "  <thead>\n",
       "    <tr style=\"text-align: right;\">\n",
       "      <th></th>\n",
       "      <th></th>\n",
       "      <th>registered_add</th>\n",
       "      <th>production_add</th>\n",
       "    </tr>\n",
       "  </thead>\n",
       "  <tbody>\n",
       "    <tr>\n",
       "      <th>2</th>\n",
       "      <th>21530</th>\n",
       "      <td>1.0</td>\n",
       "      <td>1.0</td>\n",
       "    </tr>\n",
       "    <tr>\n",
       "      <th>3</th>\n",
       "      <th>23032</th>\n",
       "      <td>1.0</td>\n",
       "      <td>1.0</td>\n",
       "    </tr>\n",
       "    <tr>\n",
       "      <th rowspan=\"3\" valign=\"top\">4</th>\n",
       "      <th>20566</th>\n",
       "      <td>1.0</td>\n",
       "      <td>1.0</td>\n",
       "    </tr>\n",
       "    <tr>\n",
       "      <th>27518</th>\n",
       "      <td>1.0</td>\n",
       "      <td>1.0</td>\n",
       "    </tr>\n",
       "    <tr>\n",
       "      <th>36223</th>\n",
       "      <td>1.0</td>\n",
       "      <td>1.0</td>\n",
       "    </tr>\n",
       "    <tr>\n",
       "      <th rowspan=\"2\" valign=\"top\">20566</th>\n",
       "      <th>27518</th>\n",
       "      <td>1.0</td>\n",
       "      <td>1.0</td>\n",
       "    </tr>\n",
       "    <tr>\n",
       "      <th>36223</th>\n",
       "      <td>1.0</td>\n",
       "      <td>1.0</td>\n",
       "    </tr>\n",
       "    <tr>\n",
       "      <th>27518</th>\n",
       "      <th>36223</th>\n",
       "      <td>1.0</td>\n",
       "      <td>1.0</td>\n",
       "    </tr>\n",
       "    <tr>\n",
       "      <th>5</th>\n",
       "      <th>21989</th>\n",
       "      <td>1.0</td>\n",
       "      <td>1.0</td>\n",
       "    </tr>\n",
       "    <tr>\n",
       "      <th>6</th>\n",
       "      <th>33683</th>\n",
       "      <td>1.0</td>\n",
       "      <td>1.0</td>\n",
       "    </tr>\n",
       "  </tbody>\n",
       "</table>\n",
       "</div>"
      ],
      "text/plain": [
       "             registered_add  production_add\n",
       "2     21530             1.0             1.0\n",
       "3     23032             1.0             1.0\n",
       "4     20566             1.0             1.0\n",
       "      27518             1.0             1.0\n",
       "      36223             1.0             1.0\n",
       "20566 27518             1.0             1.0\n",
       "      36223             1.0             1.0\n",
       "27518 36223             1.0             1.0\n",
       "5     21989             1.0             1.0\n",
       "6     33683             1.0             1.0"
      ]
     },
     "execution_count": 88,
     "metadata": {},
     "output_type": "execute_result"
    }
   ],
   "source": [
    "matches = features[features.sum(axis=1) > 0]\n",
    "\n",
    "print(len(matches))\n",
    "matches.head(10)"
   ]
  },
  {
   "cell_type": "markdown",
   "metadata": {},
   "source": [
    "## Discussion\n",
    "\n",
    "In the practice above, we didn't consider Chinese characters as an issue, which potentially be a problem in reality. As a result, we introduce a translation module `googletrans` as following, which may be used in the future but not included in this project."
   ]
  },
  {
   "cell_type": "code",
   "execution_count": 86,
   "metadata": {
    "ExecuteTime": {
     "end_time": "2017-12-20T15:16:55.379993Z",
     "start_time": "2017-12-20T15:16:53.211826Z"
    }
   },
   "outputs": [
    {
     "name": "stdout",
     "output_type": "stream",
     "text": [
      "Good morning.\n"
     ]
    },
    {
     "data": {
      "text/plain": [
       "'Keyuan Road'"
      ]
     },
     "execution_count": 86,
     "metadata": {},
     "output_type": "execute_result"
    }
   ],
   "source": [
    "from googletrans import Translator\n",
    "\n",
    "translator = Translator()\n",
    "\n",
    "example = translator.translate('안녕하세요.')\n",
    "print(example.text)\n",
    "\n",
    "translator.translate('科苑路').text"
   ]
  },
  {
   "cell_type": "markdown",
   "metadata": {},
   "source": [
    "## Conclusion\n",
    "\n",
    "In this project, we made a dataset to practice data deduplication or entity resolution, which is to find records in datasets belonging to the same entity. In detail, we employed `recordlinkage` module to realize our goal. \n",
    "\n",
    "**Steps of Data Deduplication:**\n",
    "\n",
    "1. Make record pairs. \n",
    "2. Use **block** to fix identity columns and control the number of records to be passed to next step.\n",
    "3. Compare records on specific columns, which can be regarded as **a weak block**.\n",
    "4. *Manually double check.* \n",
    "\n",
    "**Note:** The step 4 is not included in our project but can be employed in practice.\n",
    "\n",
    "In the discussion part, we introduced a potential issue of Chinese characters, which may be considered in practice as well."
   ]
  },
  {
   "cell_type": "code",
   "execution_count": null,
   "metadata": {},
   "outputs": [],
   "source": []
  }
 ],
 "metadata": {
  "kernelspec": {
   "display_name": "Python 3",
   "language": "python",
   "name": "python3"
  },
  "language_info": {
   "codemirror_mode": {
    "name": "ipython",
    "version": 3
   },
   "file_extension": ".py",
   "mimetype": "text/x-python",
   "name": "python",
   "nbconvert_exporter": "python",
   "pygments_lexer": "ipython3",
   "version": "3.6.3"
  },
  "toc": {
   "nav_menu": {
    "height": "121px",
    "width": "258px"
   },
   "number_sections": false,
   "sideBar": true,
   "skip_h1_title": false,
   "toc_cell": true,
   "toc_position": {},
   "toc_section_display": "none",
   "toc_window_display": false
  },
  "varInspector": {
   "cols": {
    "lenName": 16,
    "lenType": 16,
    "lenVar": 40
   },
   "kernels_config": {
    "python": {
     "delete_cmd_postfix": "",
     "delete_cmd_prefix": "del ",
     "library": "var_list.py",
     "varRefreshCmd": "print(var_dic_list())"
    },
    "r": {
     "delete_cmd_postfix": ") ",
     "delete_cmd_prefix": "rm(",
     "library": "var_list.r",
     "varRefreshCmd": "cat(var_dic_list()) "
    }
   },
   "types_to_exclude": [
    "module",
    "function",
    "builtin_function_or_method",
    "instance",
    "_Feature"
   ],
   "window_display": false
  }
 },
 "nbformat": 4,
 "nbformat_minor": 2
}
