{
 "cells": [
  {
   "cell_type": "markdown",
   "metadata": {},
   "source": [
    "# Translate Tables"
   ]
  },
  {
   "cell_type": "markdown",
   "metadata": {},
   "source": [
    "## Introduction\n",
    "\n",
    "This project is design to translate Chinese charactors in a table to English, so that the table can be handled by some English-based packages. The assumption here is that the meaning of the content is not essential and we only care about the structure of a phrase. "
   ]
  },
  {
   "cell_type": "code",
   "execution_count": 1,
   "metadata": {
    "ExecuteTime": {
     "end_time": "2017-12-19T11:17:17.931198Z",
     "start_time": "2017-12-19T11:17:16.942696Z"
    }
   },
   "outputs": [],
   "source": [
    "from googletrans import Translator\n",
    "\n",
    "translator = Translator()"
   ]
  },
  {
   "cell_type": "code",
   "execution_count": 2,
   "metadata": {
    "ExecuteTime": {
     "end_time": "2017-12-19T11:17:48.965122Z",
     "start_time": "2017-12-19T11:17:47.859703Z"
    }
   },
   "outputs": [
    {
     "data": {
      "text/plain": [
       "<googletrans.models.Translated at 0x1045cbc50>"
      ]
     },
     "execution_count": 2,
     "metadata": {},
     "output_type": "execute_result"
    }
   ],
   "source": [
    "translator.translate('안녕하세요.')"
   ]
  },
  {
   "cell_type": "code",
   "execution_count": 5,
   "metadata": {
    "ExecuteTime": {
     "end_time": "2017-12-19T11:20:06.710217Z",
     "start_time": "2017-12-19T11:20:06.481410Z"
    }
   },
   "outputs": [],
   "source": [
    "example = translator.translate('안녕하세요.')"
   ]
  },
  {
   "cell_type": "code",
   "execution_count": 9,
   "metadata": {
    "ExecuteTime": {
     "end_time": "2017-12-19T11:20:33.684563Z",
     "start_time": "2017-12-19T11:20:33.680135Z"
    }
   },
   "outputs": [
    {
     "data": {
      "text/plain": [
       "'Good morning.'"
      ]
     },
     "execution_count": 9,
     "metadata": {},
     "output_type": "execute_result"
    }
   ],
   "source": [
    "example.text"
   ]
  },
  {
   "cell_type": "code",
   "execution_count": 11,
   "metadata": {
    "ExecuteTime": {
     "end_time": "2017-12-19T11:22:45.025454Z",
     "start_time": "2017-12-19T11:22:44.832405Z"
    }
   },
   "outputs": [
    {
     "data": {
      "text/plain": [
       "'Keyuan Road'"
      ]
     },
     "execution_count": 11,
     "metadata": {},
     "output_type": "execute_result"
    }
   ],
   "source": [
    "translator.translate('科苑路').text"
   ]
  },
  {
   "cell_type": "markdown",
   "metadata": {},
   "source": [
    "## Make A Practice Dataset\n",
    "\n",
    "The data contains regulation information of company in Shanghai, downloaded from [datashang](http://www.datashanghai.gov.cn/). The made data contains 5% duplicated companies but each row has a unique index. "
   ]
  },
  {
   "cell_type": "code",
   "execution_count": 12,
   "metadata": {
    "ExecuteTime": {
     "end_time": "2017-12-19T14:03:54.177024Z",
     "start_time": "2017-12-19T14:03:52.189322Z"
    }
   },
   "outputs": [],
   "source": [
    "import os\n",
    "import pandas as pd\n",
    "\n",
    "wd = '/Users/ewenwang/Documents/practice_data'\n",
    "file = 'regulation.csv'\n",
    "\n",
    "os.chdir(wd)\n",
    "regulation = pd.read_csv(file)"
   ]
  },
  {
   "cell_type": "code",
   "execution_count": 13,
   "metadata": {
    "ExecuteTime": {
     "end_time": "2017-12-19T14:04:02.741890Z",
     "start_time": "2017-12-19T14:04:02.724535Z"
    }
   },
   "outputs": [
    {
     "data": {
      "text/html": [
       "<div>\n",
       "<style scoped>\n",
       "    .dataframe tbody tr th:only-of-type {\n",
       "        vertical-align: middle;\n",
       "    }\n",
       "\n",
       "    .dataframe tbody tr th {\n",
       "        vertical-align: top;\n",
       "    }\n",
       "\n",
       "    .dataframe thead th {\n",
       "        text-align: right;\n",
       "    }\n",
       "</style>\n",
       "<table border=\"1\" class=\"dataframe\">\n",
       "  <thead>\n",
       "    <tr style=\"text-align: right;\">\n",
       "      <th></th>\n",
       "      <th>序号</th>\n",
       "      <th>企业名称</th>\n",
       "      <th>组织机构代码</th>\n",
       "      <th>注册地址</th>\n",
       "      <th>生产地址</th>\n",
       "      <th>检查日期</th>\n",
       "      <th>处理措施</th>\n",
       "    </tr>\n",
       "  </thead>\n",
       "  <tbody>\n",
       "    <tr>\n",
       "      <th>0</th>\n",
       "      <td>1</td>\n",
       "      <td>上海巴士五汽公共交通有限公司</td>\n",
       "      <td>607392127</td>\n",
       "      <td>上海市共和新路３０３４号</td>\n",
       "      <td>南陈路98号</td>\n",
       "      <td>1/8/10 1:01</td>\n",
       "      <td>未发现问题。</td>\n",
       "    </tr>\n",
       "    <tr>\n",
       "      <th>1</th>\n",
       "      <td>2</td>\n",
       "      <td>上海康志物业管理有限公司</td>\n",
       "      <td>86158393</td>\n",
       "      <td>上海市宝山区锦秋路４８号Ｇ１５</td>\n",
       "      <td>上海市宝山区锦秋路４８号Ｇ１５</td>\n",
       "      <td>1/8/10 8:01</td>\n",
       "      <td>未发现问题。</td>\n",
       "    </tr>\n",
       "    <tr>\n",
       "      <th>2</th>\n",
       "      <td>3</td>\n",
       "      <td>上海地矿物业管理有限公司</td>\n",
       "      <td>630350240</td>\n",
       "      <td>上海市沪太路１０６３弄５号甲</td>\n",
       "      <td>灵石路930号</td>\n",
       "      <td>1/8/10 9:01</td>\n",
       "      <td>未发现问题。</td>\n",
       "    </tr>\n",
       "    <tr>\n",
       "      <th>3</th>\n",
       "      <td>4</td>\n",
       "      <td>上海立新五金厂</td>\n",
       "      <td>132808298</td>\n",
       "      <td>上海市静安区南京西路１９５５弄９号</td>\n",
       "      <td>南陈路24号</td>\n",
       "      <td>1/8/10 9:01</td>\n",
       "      <td>未发现问题。</td>\n",
       "    </tr>\n",
       "    <tr>\n",
       "      <th>4</th>\n",
       "      <td>5</td>\n",
       "      <td>上海同祁置业有限公司</td>\n",
       "      <td>586791275</td>\n",
       "      <td>上海市宝山区锦秋路４８号Ｆ１３８</td>\n",
       "      <td>上海市宝山区锦秋路４８号Ｆ１３８</td>\n",
       "      <td>1/8/10 9:01</td>\n",
       "      <td>未发现问题。</td>\n",
       "    </tr>\n",
       "  </tbody>\n",
       "</table>\n",
       "</div>"
      ],
      "text/plain": [
       "   序号            企业名称     组织机构代码               注册地址              生产地址  \\\n",
       "0   1  上海巴士五汽公共交通有限公司  607392127       上海市共和新路３０３４号            南陈路98号   \n",
       "1   2    上海康志物业管理有限公司   86158393    上海市宝山区锦秋路４８号Ｇ１５   上海市宝山区锦秋路４８号Ｇ１５   \n",
       "2   3    上海地矿物业管理有限公司  630350240     上海市沪太路１０６３弄５号甲           灵石路930号   \n",
       "3   4         上海立新五金厂  132808298  上海市静安区南京西路１９５５弄９号            南陈路24号   \n",
       "4   5      上海同祁置业有限公司  586791275   上海市宝山区锦秋路４８号Ｆ１３８  上海市宝山区锦秋路４８号Ｆ１３８   \n",
       "\n",
       "          检查日期    处理措施  \n",
       "0  1/8/10 1:01  未发现问题。  \n",
       "1  1/8/10 8:01  未发现问题。  \n",
       "2  1/8/10 9:01  未发现问题。  \n",
       "3  1/8/10 9:01  未发现问题。  \n",
       "4  1/8/10 9:01  未发现问题。  "
      ]
     },
     "execution_count": 13,
     "metadata": {},
     "output_type": "execute_result"
    }
   ],
   "source": [
    "regulation.head()"
   ]
  },
  {
   "cell_type": "code",
   "execution_count": 53,
   "metadata": {
    "ExecuteTime": {
     "end_time": "2017-12-19T14:33:13.752933Z",
     "start_time": "2017-12-19T14:33:13.735078Z"
    }
   },
   "outputs": [
    {
     "data": {
      "text/html": [
       "<div>\n",
       "<style scoped>\n",
       "    .dataframe tbody tr th:only-of-type {\n",
       "        vertical-align: middle;\n",
       "    }\n",
       "\n",
       "    .dataframe tbody tr th {\n",
       "        vertical-align: top;\n",
       "    }\n",
       "\n",
       "    .dataframe thead th {\n",
       "        text-align: right;\n",
       "    }\n",
       "</style>\n",
       "<table border=\"1\" class=\"dataframe\">\n",
       "  <thead>\n",
       "    <tr style=\"text-align: right;\">\n",
       "      <th></th>\n",
       "      <th>序号</th>\n",
       "      <th>企业名称</th>\n",
       "      <th>组织机构代码</th>\n",
       "      <th>注册地址</th>\n",
       "      <th>生产地址</th>\n",
       "      <th>检查日期</th>\n",
       "      <th>处理措施</th>\n",
       "    </tr>\n",
       "  </thead>\n",
       "  <tbody>\n",
       "    <tr>\n",
       "      <th>36667</th>\n",
       "      <td>36668</td>\n",
       "      <td>上海吉亿电机有限公司</td>\n",
       "      <td>782829293</td>\n",
       "      <td>上海市松江区九亭镇八佰伴路７７号</td>\n",
       "      <td>松江区九亭镇高科技园区洋河浜路180号3号楼</td>\n",
       "      <td>3/1/17 11:03</td>\n",
       "      <td>在检查“场（厂）内机动车辆使用情况(叉车，5110310117200801006 7)”时发...</td>\n",
       "    </tr>\n",
       "    <tr>\n",
       "      <th>36668</th>\n",
       "      <td>36669</td>\n",
       "      <td>上海鸿日物业发展有限公司</td>\n",
       "      <td>132285562</td>\n",
       "      <td>上海市浦东新区浦东大道２０００号１３楼Ｉ室</td>\n",
       "      <td>新华路2号</td>\n",
       "      <td>3/1/17 11:03</td>\n",
       "      <td>在检查“电梯使用情况(曳引式客梯，31103101052006040033)”时 发现以下问...</td>\n",
       "    </tr>\n",
       "    <tr>\n",
       "      <th>36669</th>\n",
       "      <td>36670</td>\n",
       "      <td>上海市金山区谭晓峰废旧物资回收站</td>\n",
       "      <td>NaN</td>\n",
       "      <td>NaN</td>\n",
       "      <td>NaN</td>\n",
       "      <td>3/1/17 11:03</td>\n",
       "      <td>现场查见2台叉车，企业反映1台已报检，1台新买报检中，要求企业提供相关证明。</td>\n",
       "    </tr>\n",
       "    <tr>\n",
       "      <th>36670</th>\n",
       "      <td>36671</td>\n",
       "      <td>上海市宝山区计量质量检测所</td>\n",
       "      <td>425050871</td>\n",
       "      <td>上海市友谊支路７５号</td>\n",
       "      <td>友谊支路75号</td>\n",
       "      <td>3/1/17 11:03</td>\n",
       "      <td>未发现问题。</td>\n",
       "    </tr>\n",
       "    <tr>\n",
       "      <th>36671</th>\n",
       "      <td>36672</td>\n",
       "      <td>上海电力环保设备总厂有限公司</td>\n",
       "      <td>133030473</td>\n",
       "      <td>上海市宝山区真陈路８８９号</td>\n",
       "      <td>上海市宝山区真陈路８８９号</td>\n",
       "      <td>3/1/17 12:03</td>\n",
       "      <td>在检查“特种设备使用单位现场安全监督检查安全管理情况”时发现以下问题： 1、未配 备</td>\n",
       "    </tr>\n",
       "  </tbody>\n",
       "</table>\n",
       "</div>"
      ],
      "text/plain": [
       "          序号              企业名称     组织机构代码                   注册地址  \\\n",
       "36667  36668        上海吉亿电机有限公司  782829293       上海市松江区九亭镇八佰伴路７７号   \n",
       "36668  36669      上海鸿日物业发展有限公司  132285562  上海市浦东新区浦东大道２０００号１３楼Ｉ室   \n",
       "36669  36670  上海市金山区谭晓峰废旧物资回收站        NaN                    NaN   \n",
       "36670  36671     上海市宝山区计量质量检测所  425050871             上海市友谊支路７５号   \n",
       "36671  36672    上海电力环保设备总厂有限公司  133030473          上海市宝山区真陈路８８９号   \n",
       "\n",
       "                         生产地址          检查日期  \\\n",
       "36667  松江区九亭镇高科技园区洋河浜路180号3号楼  3/1/17 11:03   \n",
       "36668                   新华路2号  3/1/17 11:03   \n",
       "36669                     NaN  3/1/17 11:03   \n",
       "36670                 友谊支路75号  3/1/17 11:03   \n",
       "36671           上海市宝山区真陈路８８９号  3/1/17 12:03   \n",
       "\n",
       "                                                    处理措施  \n",
       "36667  在检查“场（厂）内机动车辆使用情况(叉车，5110310117200801006 7)”时发...  \n",
       "36668  在检查“电梯使用情况(曳引式客梯，31103101052006040033)”时 发现以下问...  \n",
       "36669             现场查见2台叉车，企业反映1台已报检，1台新买报检中，要求企业提供相关证明。  \n",
       "36670                                             未发现问题。  \n",
       "36671         在检查“特种设备使用单位现场安全监督检查安全管理情况”时发现以下问题： 1、未配 备  "
      ]
     },
     "execution_count": 53,
     "metadata": {},
     "output_type": "execute_result"
    }
   ],
   "source": [
    "regulation.tail()"
   ]
  },
  {
   "cell_type": "code",
   "execution_count": 14,
   "metadata": {
    "ExecuteTime": {
     "end_time": "2017-12-19T14:09:16.672464Z",
     "start_time": "2017-12-19T14:09:16.666884Z"
    }
   },
   "outputs": [
    {
     "data": {
      "text/plain": [
       "(36672, 7)"
      ]
     },
     "execution_count": 14,
     "metadata": {},
     "output_type": "execute_result"
    }
   ],
   "source": [
    "regulation.shape"
   ]
  },
  {
   "cell_type": "code",
   "execution_count": 55,
   "metadata": {
    "ExecuteTime": {
     "end_time": "2017-12-19T14:33:51.713395Z",
     "start_time": "2017-12-19T14:33:51.706215Z"
    }
   },
   "outputs": [],
   "source": [
    "seed = 2017\n",
    "n_dup = round(regulation.shape[0]*.05)\n",
    "duplication = regulation.sample(n=n_dup, replace=True, random_state=seed)"
   ]
  },
  {
   "cell_type": "code",
   "execution_count": 56,
   "metadata": {
    "ExecuteTime": {
     "end_time": "2017-12-19T14:33:52.394963Z",
     "start_time": "2017-12-19T14:33:52.387246Z"
    }
   },
   "outputs": [
    {
     "data": {
      "text/plain": [
       "(1834, 7)"
      ]
     },
     "execution_count": 56,
     "metadata": {},
     "output_type": "execute_result"
    }
   ],
   "source": [
    "duplication.shape"
   ]
  },
  {
   "cell_type": "code",
   "execution_count": 57,
   "metadata": {
    "ExecuteTime": {
     "end_time": "2017-12-19T14:33:53.591441Z",
     "start_time": "2017-12-19T14:33:53.575194Z"
    }
   },
   "outputs": [
    {
     "data": {
      "text/html": [
       "<div>\n",
       "<style scoped>\n",
       "    .dataframe tbody tr th:only-of-type {\n",
       "        vertical-align: middle;\n",
       "    }\n",
       "\n",
       "    .dataframe tbody tr th {\n",
       "        vertical-align: top;\n",
       "    }\n",
       "\n",
       "    .dataframe thead th {\n",
       "        text-align: right;\n",
       "    }\n",
       "</style>\n",
       "<table border=\"1\" class=\"dataframe\">\n",
       "  <thead>\n",
       "    <tr style=\"text-align: right;\">\n",
       "      <th></th>\n",
       "      <th>序号</th>\n",
       "      <th>企业名称</th>\n",
       "      <th>组织机构代码</th>\n",
       "      <th>注册地址</th>\n",
       "      <th>生产地址</th>\n",
       "      <th>检查日期</th>\n",
       "      <th>处理措施</th>\n",
       "    </tr>\n",
       "  </thead>\n",
       "  <tbody>\n",
       "    <tr>\n",
       "      <th>16186</th>\n",
       "      <td>16187</td>\n",
       "      <td>上海嘉方市政建筑有限公司</td>\n",
       "      <td>631661753</td>\n",
       "      <td>上海市嘉定区安亭镇翔方公路２３７７号</td>\n",
       "      <td>嘉定</td>\n",
       "      <td>5/31/16 2:05</td>\n",
       "      <td>未发现问题。</td>\n",
       "    </tr>\n",
       "    <tr>\n",
       "      <th>8963</th>\n",
       "      <td>8964</td>\n",
       "      <td>上海尚原餐饮管理有限公司</td>\n",
       "      <td>692932609</td>\n",
       "      <td>上海市浦东新区苗圃路６３号１－３层</td>\n",
       "      <td>上海市浦东新区苗圃路６３号１－３层</td>\n",
       "      <td>11/20/15 10:11</td>\n",
       "      <td>未发现问题。</td>\n",
       "    </tr>\n",
       "    <tr>\n",
       "      <th>7727</th>\n",
       "      <td>7728</td>\n",
       "      <td>上海万辉汽车附件有限公司</td>\n",
       "      <td>630910922</td>\n",
       "      <td>上海市浦东新区万祥镇万灵路１３８号</td>\n",
       "      <td>南汇万祥工业区</td>\n",
       "      <td>9/24/15 9:09</td>\n",
       "      <td>未发现问题。</td>\n",
       "    </tr>\n",
       "    <tr>\n",
       "      <th>1224</th>\n",
       "      <td>1225</td>\n",
       "      <td>上海申得欧有限公司</td>\n",
       "      <td>607299571</td>\n",
       "      <td>上海市浦东新区庆达路２８８号</td>\n",
       "      <td>庆达路288号</td>\n",
       "      <td>3/12/14 3:03</td>\n",
       "      <td>未发现问题。 其他问题：叉车未张贴有效期内的检验合格标志</td>\n",
       "    </tr>\n",
       "    <tr>\n",
       "      <th>30208</th>\n",
       "      <td>30209</td>\n",
       "      <td>上海顺城物流有限公司</td>\n",
       "      <td>07483557X</td>\n",
       "      <td>上海市闵行区莲花南路２５８８号５幢二层Ｂ区</td>\n",
       "      <td>上海市闵行区莲花南路２５８８号５幢二层Ｂ区</td>\n",
       "      <td>12/5/16 11:12</td>\n",
       "      <td>在检查“场（厂）内机动车辆使用情况(叉车，5110310112201512003 7)”时发...</td>\n",
       "    </tr>\n",
       "  </tbody>\n",
       "</table>\n",
       "</div>"
      ],
      "text/plain": [
       "          序号          企业名称     组织机构代码                   注册地址  \\\n",
       "16186  16187  上海嘉方市政建筑有限公司  631661753     上海市嘉定区安亭镇翔方公路２３７７号   \n",
       "8963    8964  上海尚原餐饮管理有限公司  692932609      上海市浦东新区苗圃路６３号１－３层   \n",
       "7727    7728  上海万辉汽车附件有限公司  630910922      上海市浦东新区万祥镇万灵路１３８号   \n",
       "1224    1225     上海申得欧有限公司  607299571         上海市浦东新区庆达路２８８号   \n",
       "30208  30209    上海顺城物流有限公司  07483557X  上海市闵行区莲花南路２５８８号５幢二层Ｂ区   \n",
       "\n",
       "                        生产地址            检查日期  \\\n",
       "16186                     嘉定    5/31/16 2:05   \n",
       "8963       上海市浦东新区苗圃路６３号１－３层  11/20/15 10:11   \n",
       "7727                 南汇万祥工业区    9/24/15 9:09   \n",
       "1224                 庆达路288号    3/12/14 3:03   \n",
       "30208  上海市闵行区莲花南路２５８８号５幢二层Ｂ区   12/5/16 11:12   \n",
       "\n",
       "                                                    处理措施  \n",
       "16186                                             未发现问题。  \n",
       "8963                                              未发现问题。  \n",
       "7727                                              未发现问题。  \n",
       "1224                        未发现问题。 其他问题：叉车未张贴有效期内的检验合格标志  \n",
       "30208  在检查“场（厂）内机动车辆使用情况(叉车，5110310112201512003 7)”时发...  "
      ]
     },
     "execution_count": 57,
     "metadata": {},
     "output_type": "execute_result"
    }
   ],
   "source": [
    "duplication.head()"
   ]
  },
  {
   "cell_type": "code",
   "execution_count": 60,
   "metadata": {
    "ExecuteTime": {
     "end_time": "2017-12-19T14:40:34.777677Z",
     "start_time": "2017-12-19T14:40:34.768509Z"
    }
   },
   "outputs": [],
   "source": [
    "duplication['序号'] = range(regulation.shape[0]+1, regulation.shape[0]+1+duplication.shape[0])\n",
    "duplication.index = range(regulation.shape[0]+1, regulation.shape[0]+1+duplication.shape[0])"
   ]
  },
  {
   "cell_type": "code",
   "execution_count": 61,
   "metadata": {
    "ExecuteTime": {
     "end_time": "2017-12-19T14:40:36.103795Z",
     "start_time": "2017-12-19T14:40:36.086333Z"
    }
   },
   "outputs": [
    {
     "data": {
      "text/html": [
       "<div>\n",
       "<style scoped>\n",
       "    .dataframe tbody tr th:only-of-type {\n",
       "        vertical-align: middle;\n",
       "    }\n",
       "\n",
       "    .dataframe tbody tr th {\n",
       "        vertical-align: top;\n",
       "    }\n",
       "\n",
       "    .dataframe thead th {\n",
       "        text-align: right;\n",
       "    }\n",
       "</style>\n",
       "<table border=\"1\" class=\"dataframe\">\n",
       "  <thead>\n",
       "    <tr style=\"text-align: right;\">\n",
       "      <th></th>\n",
       "      <th>序号</th>\n",
       "      <th>企业名称</th>\n",
       "      <th>组织机构代码</th>\n",
       "      <th>注册地址</th>\n",
       "      <th>生产地址</th>\n",
       "      <th>检查日期</th>\n",
       "      <th>处理措施</th>\n",
       "    </tr>\n",
       "  </thead>\n",
       "  <tbody>\n",
       "    <tr>\n",
       "      <th>36673</th>\n",
       "      <td>36673</td>\n",
       "      <td>上海嘉方市政建筑有限公司</td>\n",
       "      <td>631661753</td>\n",
       "      <td>上海市嘉定区安亭镇翔方公路２３７７号</td>\n",
       "      <td>嘉定</td>\n",
       "      <td>5/31/16 2:05</td>\n",
       "      <td>未发现问题。</td>\n",
       "    </tr>\n",
       "    <tr>\n",
       "      <th>36674</th>\n",
       "      <td>36674</td>\n",
       "      <td>上海尚原餐饮管理有限公司</td>\n",
       "      <td>692932609</td>\n",
       "      <td>上海市浦东新区苗圃路６３号１－３层</td>\n",
       "      <td>上海市浦东新区苗圃路６３号１－３层</td>\n",
       "      <td>11/20/15 10:11</td>\n",
       "      <td>未发现问题。</td>\n",
       "    </tr>\n",
       "    <tr>\n",
       "      <th>36675</th>\n",
       "      <td>36675</td>\n",
       "      <td>上海万辉汽车附件有限公司</td>\n",
       "      <td>630910922</td>\n",
       "      <td>上海市浦东新区万祥镇万灵路１３８号</td>\n",
       "      <td>南汇万祥工业区</td>\n",
       "      <td>9/24/15 9:09</td>\n",
       "      <td>未发现问题。</td>\n",
       "    </tr>\n",
       "    <tr>\n",
       "      <th>36676</th>\n",
       "      <td>36676</td>\n",
       "      <td>上海申得欧有限公司</td>\n",
       "      <td>607299571</td>\n",
       "      <td>上海市浦东新区庆达路２８８号</td>\n",
       "      <td>庆达路288号</td>\n",
       "      <td>3/12/14 3:03</td>\n",
       "      <td>未发现问题。 其他问题：叉车未张贴有效期内的检验合格标志</td>\n",
       "    </tr>\n",
       "    <tr>\n",
       "      <th>36677</th>\n",
       "      <td>36677</td>\n",
       "      <td>上海顺城物流有限公司</td>\n",
       "      <td>07483557X</td>\n",
       "      <td>上海市闵行区莲花南路２５８８号５幢二层Ｂ区</td>\n",
       "      <td>上海市闵行区莲花南路２５８８号５幢二层Ｂ区</td>\n",
       "      <td>12/5/16 11:12</td>\n",
       "      <td>在检查“场（厂）内机动车辆使用情况(叉车，5110310112201512003 7)”时发...</td>\n",
       "    </tr>\n",
       "  </tbody>\n",
       "</table>\n",
       "</div>"
      ],
      "text/plain": [
       "          序号          企业名称     组织机构代码                   注册地址  \\\n",
       "36673  36673  上海嘉方市政建筑有限公司  631661753     上海市嘉定区安亭镇翔方公路２３７７号   \n",
       "36674  36674  上海尚原餐饮管理有限公司  692932609      上海市浦东新区苗圃路６３号１－３层   \n",
       "36675  36675  上海万辉汽车附件有限公司  630910922      上海市浦东新区万祥镇万灵路１３８号   \n",
       "36676  36676     上海申得欧有限公司  607299571         上海市浦东新区庆达路２８８号   \n",
       "36677  36677    上海顺城物流有限公司  07483557X  上海市闵行区莲花南路２５８８号５幢二层Ｂ区   \n",
       "\n",
       "                        生产地址            检查日期  \\\n",
       "36673                     嘉定    5/31/16 2:05   \n",
       "36674      上海市浦东新区苗圃路６３号１－３层  11/20/15 10:11   \n",
       "36675                南汇万祥工业区    9/24/15 9:09   \n",
       "36676                庆达路288号    3/12/14 3:03   \n",
       "36677  上海市闵行区莲花南路２５８８号５幢二层Ｂ区   12/5/16 11:12   \n",
       "\n",
       "                                                    处理措施  \n",
       "36673                                             未发现问题。  \n",
       "36674                                             未发现问题。  \n",
       "36675                                             未发现问题。  \n",
       "36676                       未发现问题。 其他问题：叉车未张贴有效期内的检验合格标志  \n",
       "36677  在检查“场（厂）内机动车辆使用情况(叉车，5110310112201512003 7)”时发...  "
      ]
     },
     "execution_count": 61,
     "metadata": {},
     "output_type": "execute_result"
    }
   ],
   "source": [
    "duplication.head()"
   ]
  },
  {
   "cell_type": "code",
   "execution_count": 68,
   "metadata": {
    "ExecuteTime": {
     "end_time": "2017-12-19T14:45:40.616078Z",
     "start_time": "2017-12-19T14:45:40.596479Z"
    }
   },
   "outputs": [
    {
     "data": {
      "text/html": [
       "<div>\n",
       "<style scoped>\n",
       "    .dataframe tbody tr th:only-of-type {\n",
       "        vertical-align: middle;\n",
       "    }\n",
       "\n",
       "    .dataframe tbody tr th {\n",
       "        vertical-align: top;\n",
       "    }\n",
       "\n",
       "    .dataframe thead th {\n",
       "        text-align: right;\n",
       "    }\n",
       "</style>\n",
       "<table border=\"1\" class=\"dataframe\">\n",
       "  <thead>\n",
       "    <tr style=\"text-align: right;\">\n",
       "      <th></th>\n",
       "      <th>序号</th>\n",
       "      <th>企业名称</th>\n",
       "      <th>组织机构代码</th>\n",
       "      <th>注册地址</th>\n",
       "      <th>生产地址</th>\n",
       "      <th>检查日期</th>\n",
       "      <th>处理措施</th>\n",
       "    </tr>\n",
       "  </thead>\n",
       "  <tbody>\n",
       "    <tr>\n",
       "      <th>38502</th>\n",
       "      <td>38502</td>\n",
       "      <td>上海沪菲电缆有限公司</td>\n",
       "      <td>774778246</td>\n",
       "      <td>上海市松江区中山街道荣乐东路１８号Ａ区</td>\n",
       "      <td>上海市金山区朱泾镇温河村新民1109号</td>\n",
       "      <td>5/31/16 2:05</td>\n",
       "      <td>在检查“场（厂）内机动车辆使用情况(叉车，5110310116201205002 2)”时发...</td>\n",
       "    </tr>\n",
       "    <tr>\n",
       "      <th>38503</th>\n",
       "      <td>38503</td>\n",
       "      <td>上海乐益物业有限公司</td>\n",
       "      <td>134501417</td>\n",
       "      <td>上海市普育东路１８５号１０２室</td>\n",
       "      <td>重庆北路318号</td>\n",
       "      <td>4/18/16 2:04</td>\n",
       "      <td>设备登记使用单位为上海捷艾尔物业管理有限公司。移动端登记为上海乐益物业有限公司。</td>\n",
       "    </tr>\n",
       "    <tr>\n",
       "      <th>38504</th>\n",
       "      <td>38504</td>\n",
       "      <td>上海凯顿酒店管理有限公司</td>\n",
       "      <td>776252678</td>\n",
       "      <td>上海市浦东唐镇创新中路６０１号８幢２０１室</td>\n",
       "      <td>上海市浦东唐镇创新中路６０１号８幢２０１室</td>\n",
       "      <td>11/2/15 3:11</td>\n",
       "      <td>未发现问题。</td>\n",
       "    </tr>\n",
       "    <tr>\n",
       "      <th>38505</th>\n",
       "      <td>38505</td>\n",
       "      <td>上海凡宏实业有限公司</td>\n",
       "      <td>630977326</td>\n",
       "      <td>上海市松江区洞泾镇洞舟路６１９号</td>\n",
       "      <td>上海市松江区洞泾镇洞舟路６１９号</td>\n",
       "      <td>7/8/16 12:07</td>\n",
       "      <td>未发现问题。</td>\n",
       "    </tr>\n",
       "    <tr>\n",
       "      <th>38506</th>\n",
       "      <td>38506</td>\n",
       "      <td>上海富达日用化工厂</td>\n",
       "      <td>134423527</td>\n",
       "      <td>上海市崇明县北沿公路１２１８号</td>\n",
       "      <td>上海市崇明县前进农场</td>\n",
       "      <td>12/27/13 10:12</td>\n",
       "      <td>未发现问题。</td>\n",
       "    </tr>\n",
       "  </tbody>\n",
       "</table>\n",
       "</div>"
      ],
      "text/plain": [
       "          序号          企业名称     组织机构代码                   注册地址  \\\n",
       "38502  38502    上海沪菲电缆有限公司  774778246    上海市松江区中山街道荣乐东路１８号Ａ区   \n",
       "38503  38503    上海乐益物业有限公司  134501417        上海市普育东路１８５号１０２室   \n",
       "38504  38504  上海凯顿酒店管理有限公司  776252678  上海市浦东唐镇创新中路６０１号８幢２０１室   \n",
       "38505  38505    上海凡宏实业有限公司  630977326       上海市松江区洞泾镇洞舟路６１９号   \n",
       "38506  38506     上海富达日用化工厂  134423527        上海市崇明县北沿公路１２１８号   \n",
       "\n",
       "                        生产地址            检查日期  \\\n",
       "38502    上海市金山区朱泾镇温河村新民1109号    5/31/16 2:05   \n",
       "38503               重庆北路318号    4/18/16 2:04   \n",
       "38504  上海市浦东唐镇创新中路６０１号８幢２０１室    11/2/15 3:11   \n",
       "38505       上海市松江区洞泾镇洞舟路６１９号    7/8/16 12:07   \n",
       "38506             上海市崇明县前进农场  12/27/13 10:12   \n",
       "\n",
       "                                                    处理措施  \n",
       "38502  在检查“场（厂）内机动车辆使用情况(叉车，5110310116201205002 2)”时发...  \n",
       "38503           设备登记使用单位为上海捷艾尔物业管理有限公司。移动端登记为上海乐益物业有限公司。  \n",
       "38504                                             未发现问题。  \n",
       "38505                                             未发现问题。  \n",
       "38506                                             未发现问题。  "
      ]
     },
     "execution_count": 68,
     "metadata": {},
     "output_type": "execute_result"
    }
   ],
   "source": [
    "duplication.tail()"
   ]
  },
  {
   "cell_type": "code",
   "execution_count": 65,
   "metadata": {
    "ExecuteTime": {
     "end_time": "2017-12-19T14:45:06.729647Z",
     "start_time": "2017-12-19T14:45:06.718099Z"
    }
   },
   "outputs": [
    {
     "data": {
      "text/plain": [
       "(38506, 7)"
      ]
     },
     "execution_count": 65,
     "metadata": {},
     "output_type": "execute_result"
    }
   ],
   "source": [
    "regulation_dup = pd.concat([regulation, duplication])\n",
    "regulation_dup.shape"
   ]
  },
  {
   "cell_type": "code",
   "execution_count": 66,
   "metadata": {
    "ExecuteTime": {
     "end_time": "2017-12-19T14:45:08.034122Z",
     "start_time": "2017-12-19T14:45:08.021125Z"
    }
   },
   "outputs": [
    {
     "data": {
      "text/html": [
       "<div>\n",
       "<style scoped>\n",
       "    .dataframe tbody tr th:only-of-type {\n",
       "        vertical-align: middle;\n",
       "    }\n",
       "\n",
       "    .dataframe tbody tr th {\n",
       "        vertical-align: top;\n",
       "    }\n",
       "\n",
       "    .dataframe thead th {\n",
       "        text-align: right;\n",
       "    }\n",
       "</style>\n",
       "<table border=\"1\" class=\"dataframe\">\n",
       "  <thead>\n",
       "    <tr style=\"text-align: right;\">\n",
       "      <th></th>\n",
       "      <th>序号</th>\n",
       "      <th>企业名称</th>\n",
       "      <th>组织机构代码</th>\n",
       "      <th>注册地址</th>\n",
       "      <th>生产地址</th>\n",
       "      <th>检查日期</th>\n",
       "      <th>处理措施</th>\n",
       "    </tr>\n",
       "  </thead>\n",
       "  <tbody>\n",
       "    <tr>\n",
       "      <th>0</th>\n",
       "      <td>1</td>\n",
       "      <td>上海巴士五汽公共交通有限公司</td>\n",
       "      <td>607392127</td>\n",
       "      <td>上海市共和新路３０３４号</td>\n",
       "      <td>南陈路98号</td>\n",
       "      <td>1/8/10 1:01</td>\n",
       "      <td>未发现问题。</td>\n",
       "    </tr>\n",
       "    <tr>\n",
       "      <th>1</th>\n",
       "      <td>2</td>\n",
       "      <td>上海康志物业管理有限公司</td>\n",
       "      <td>86158393</td>\n",
       "      <td>上海市宝山区锦秋路４８号Ｇ１５</td>\n",
       "      <td>上海市宝山区锦秋路４８号Ｇ１５</td>\n",
       "      <td>1/8/10 8:01</td>\n",
       "      <td>未发现问题。</td>\n",
       "    </tr>\n",
       "    <tr>\n",
       "      <th>2</th>\n",
       "      <td>3</td>\n",
       "      <td>上海地矿物业管理有限公司</td>\n",
       "      <td>630350240</td>\n",
       "      <td>上海市沪太路１０６３弄５号甲</td>\n",
       "      <td>灵石路930号</td>\n",
       "      <td>1/8/10 9:01</td>\n",
       "      <td>未发现问题。</td>\n",
       "    </tr>\n",
       "    <tr>\n",
       "      <th>3</th>\n",
       "      <td>4</td>\n",
       "      <td>上海立新五金厂</td>\n",
       "      <td>132808298</td>\n",
       "      <td>上海市静安区南京西路１９５５弄９号</td>\n",
       "      <td>南陈路24号</td>\n",
       "      <td>1/8/10 9:01</td>\n",
       "      <td>未发现问题。</td>\n",
       "    </tr>\n",
       "    <tr>\n",
       "      <th>4</th>\n",
       "      <td>5</td>\n",
       "      <td>上海同祁置业有限公司</td>\n",
       "      <td>586791275</td>\n",
       "      <td>上海市宝山区锦秋路４８号Ｆ１３８</td>\n",
       "      <td>上海市宝山区锦秋路４８号Ｆ１３８</td>\n",
       "      <td>1/8/10 9:01</td>\n",
       "      <td>未发现问题。</td>\n",
       "    </tr>\n",
       "  </tbody>\n",
       "</table>\n",
       "</div>"
      ],
      "text/plain": [
       "   序号            企业名称     组织机构代码               注册地址              生产地址  \\\n",
       "0   1  上海巴士五汽公共交通有限公司  607392127       上海市共和新路３０３４号            南陈路98号   \n",
       "1   2    上海康志物业管理有限公司   86158393    上海市宝山区锦秋路４８号Ｇ１５   上海市宝山区锦秋路４８号Ｇ１５   \n",
       "2   3    上海地矿物业管理有限公司  630350240     上海市沪太路１０６３弄５号甲           灵石路930号   \n",
       "3   4         上海立新五金厂  132808298  上海市静安区南京西路１９５５弄９号            南陈路24号   \n",
       "4   5      上海同祁置业有限公司  586791275   上海市宝山区锦秋路４８号Ｆ１３８  上海市宝山区锦秋路４８号Ｆ１３８   \n",
       "\n",
       "          检查日期    处理措施  \n",
       "0  1/8/10 1:01  未发现问题。  \n",
       "1  1/8/10 8:01  未发现问题。  \n",
       "2  1/8/10 9:01  未发现问题。  \n",
       "3  1/8/10 9:01  未发现问题。  \n",
       "4  1/8/10 9:01  未发现问题。  "
      ]
     },
     "execution_count": 66,
     "metadata": {},
     "output_type": "execute_result"
    }
   ],
   "source": [
    "regulation_dup.head()"
   ]
  },
  {
   "cell_type": "code",
   "execution_count": 67,
   "metadata": {
    "ExecuteTime": {
     "end_time": "2017-12-19T14:45:20.239229Z",
     "start_time": "2017-12-19T14:45:20.223431Z"
    }
   },
   "outputs": [
    {
     "data": {
      "text/html": [
       "<div>\n",
       "<style scoped>\n",
       "    .dataframe tbody tr th:only-of-type {\n",
       "        vertical-align: middle;\n",
       "    }\n",
       "\n",
       "    .dataframe tbody tr th {\n",
       "        vertical-align: top;\n",
       "    }\n",
       "\n",
       "    .dataframe thead th {\n",
       "        text-align: right;\n",
       "    }\n",
       "</style>\n",
       "<table border=\"1\" class=\"dataframe\">\n",
       "  <thead>\n",
       "    <tr style=\"text-align: right;\">\n",
       "      <th></th>\n",
       "      <th>序号</th>\n",
       "      <th>企业名称</th>\n",
       "      <th>组织机构代码</th>\n",
       "      <th>注册地址</th>\n",
       "      <th>生产地址</th>\n",
       "      <th>检查日期</th>\n",
       "      <th>处理措施</th>\n",
       "    </tr>\n",
       "  </thead>\n",
       "  <tbody>\n",
       "    <tr>\n",
       "      <th>38502</th>\n",
       "      <td>38502</td>\n",
       "      <td>上海沪菲电缆有限公司</td>\n",
       "      <td>774778246</td>\n",
       "      <td>上海市松江区中山街道荣乐东路１８号Ａ区</td>\n",
       "      <td>上海市金山区朱泾镇温河村新民1109号</td>\n",
       "      <td>5/31/16 2:05</td>\n",
       "      <td>在检查“场（厂）内机动车辆使用情况(叉车，5110310116201205002 2)”时发...</td>\n",
       "    </tr>\n",
       "    <tr>\n",
       "      <th>38503</th>\n",
       "      <td>38503</td>\n",
       "      <td>上海乐益物业有限公司</td>\n",
       "      <td>134501417</td>\n",
       "      <td>上海市普育东路１８５号１０２室</td>\n",
       "      <td>重庆北路318号</td>\n",
       "      <td>4/18/16 2:04</td>\n",
       "      <td>设备登记使用单位为上海捷艾尔物业管理有限公司。移动端登记为上海乐益物业有限公司。</td>\n",
       "    </tr>\n",
       "    <tr>\n",
       "      <th>38504</th>\n",
       "      <td>38504</td>\n",
       "      <td>上海凯顿酒店管理有限公司</td>\n",
       "      <td>776252678</td>\n",
       "      <td>上海市浦东唐镇创新中路６０１号８幢２０１室</td>\n",
       "      <td>上海市浦东唐镇创新中路６０１号８幢２０１室</td>\n",
       "      <td>11/2/15 3:11</td>\n",
       "      <td>未发现问题。</td>\n",
       "    </tr>\n",
       "    <tr>\n",
       "      <th>38505</th>\n",
       "      <td>38505</td>\n",
       "      <td>上海凡宏实业有限公司</td>\n",
       "      <td>630977326</td>\n",
       "      <td>上海市松江区洞泾镇洞舟路６１９号</td>\n",
       "      <td>上海市松江区洞泾镇洞舟路６１９号</td>\n",
       "      <td>7/8/16 12:07</td>\n",
       "      <td>未发现问题。</td>\n",
       "    </tr>\n",
       "    <tr>\n",
       "      <th>38506</th>\n",
       "      <td>38506</td>\n",
       "      <td>上海富达日用化工厂</td>\n",
       "      <td>134423527</td>\n",
       "      <td>上海市崇明县北沿公路１２１８号</td>\n",
       "      <td>上海市崇明县前进农场</td>\n",
       "      <td>12/27/13 10:12</td>\n",
       "      <td>未发现问题。</td>\n",
       "    </tr>\n",
       "  </tbody>\n",
       "</table>\n",
       "</div>"
      ],
      "text/plain": [
       "          序号          企业名称     组织机构代码                   注册地址  \\\n",
       "38502  38502    上海沪菲电缆有限公司  774778246    上海市松江区中山街道荣乐东路１８号Ａ区   \n",
       "38503  38503    上海乐益物业有限公司  134501417        上海市普育东路１８５号１０２室   \n",
       "38504  38504  上海凯顿酒店管理有限公司  776252678  上海市浦东唐镇创新中路６０１号８幢２０１室   \n",
       "38505  38505    上海凡宏实业有限公司  630977326       上海市松江区洞泾镇洞舟路６１９号   \n",
       "38506  38506     上海富达日用化工厂  134423527        上海市崇明县北沿公路１２１８号   \n",
       "\n",
       "                        生产地址            检查日期  \\\n",
       "38502    上海市金山区朱泾镇温河村新民1109号    5/31/16 2:05   \n",
       "38503               重庆北路318号    4/18/16 2:04   \n",
       "38504  上海市浦东唐镇创新中路６０１号８幢２０１室    11/2/15 3:11   \n",
       "38505       上海市松江区洞泾镇洞舟路６１９号    7/8/16 12:07   \n",
       "38506             上海市崇明县前进农场  12/27/13 10:12   \n",
       "\n",
       "                                                    处理措施  \n",
       "38502  在检查“场（厂）内机动车辆使用情况(叉车，5110310116201205002 2)”时发...  \n",
       "38503           设备登记使用单位为上海捷艾尔物业管理有限公司。移动端登记为上海乐益物业有限公司。  \n",
       "38504                                             未发现问题。  \n",
       "38505                                             未发现问题。  \n",
       "38506                                             未发现问题。  "
      ]
     },
     "execution_count": 67,
     "metadata": {},
     "output_type": "execute_result"
    }
   ],
   "source": [
    "regulation_dup.tail()"
   ]
  },
  {
   "cell_type": "code",
   "execution_count": 69,
   "metadata": {
    "ExecuteTime": {
     "end_time": "2017-12-19T14:45:56.508043Z",
     "start_time": "2017-12-19T14:45:48.311133Z"
    }
   },
   "outputs": [],
   "source": [
    "regulation_dup.to_excel('regulation_dup.xlsx', index = False)"
   ]
  },
  {
   "cell_type": "markdown",
   "metadata": {},
   "source": [
    "## Practice\n",
    "\n",
    "Task: Try to find out all indexes that belong to each company via its registered address and production address."
   ]
  },
  {
   "cell_type": "code",
   "execution_count": 70,
   "metadata": {
    "ExecuteTime": {
     "end_time": "2017-12-19T16:02:36.527793Z",
     "start_time": "2017-12-19T16:02:36.477375Z"
    }
   },
   "outputs": [
    {
     "data": {
      "text/html": [
       "<div>\n",
       "<style scoped>\n",
       "    .dataframe tbody tr th:only-of-type {\n",
       "        vertical-align: middle;\n",
       "    }\n",
       "\n",
       "    .dataframe tbody tr th {\n",
       "        vertical-align: top;\n",
       "    }\n",
       "\n",
       "    .dataframe thead th {\n",
       "        text-align: right;\n",
       "    }\n",
       "</style>\n",
       "<table border=\"1\" class=\"dataframe\">\n",
       "  <thead>\n",
       "    <tr style=\"text-align: right;\">\n",
       "      <th></th>\n",
       "      <th>序号</th>\n",
       "      <th>企业名称</th>\n",
       "      <th>组织机构代码</th>\n",
       "      <th>注册地址</th>\n",
       "      <th>生产地址</th>\n",
       "      <th>检查日期</th>\n",
       "      <th>处理措施</th>\n",
       "    </tr>\n",
       "  </thead>\n",
       "  <tbody>\n",
       "    <tr>\n",
       "      <th>0</th>\n",
       "      <td>1</td>\n",
       "      <td>上海巴士五汽公共交通有限公司</td>\n",
       "      <td>607392127</td>\n",
       "      <td>上海市共和新路３０３４号</td>\n",
       "      <td>南陈路98号</td>\n",
       "      <td>1/8/10 1:01</td>\n",
       "      <td>未发现问题。</td>\n",
       "    </tr>\n",
       "    <tr>\n",
       "      <th>1</th>\n",
       "      <td>2</td>\n",
       "      <td>上海康志物业管理有限公司</td>\n",
       "      <td>86158393</td>\n",
       "      <td>上海市宝山区锦秋路４８号Ｇ１５</td>\n",
       "      <td>上海市宝山区锦秋路４８号Ｇ１５</td>\n",
       "      <td>1/8/10 8:01</td>\n",
       "      <td>未发现问题。</td>\n",
       "    </tr>\n",
       "    <tr>\n",
       "      <th>2</th>\n",
       "      <td>3</td>\n",
       "      <td>上海地矿物业管理有限公司</td>\n",
       "      <td>630350240</td>\n",
       "      <td>上海市沪太路１０６３弄５号甲</td>\n",
       "      <td>灵石路930号</td>\n",
       "      <td>1/8/10 9:01</td>\n",
       "      <td>未发现问题。</td>\n",
       "    </tr>\n",
       "    <tr>\n",
       "      <th>3</th>\n",
       "      <td>4</td>\n",
       "      <td>上海立新五金厂</td>\n",
       "      <td>132808298</td>\n",
       "      <td>上海市静安区南京西路１９５５弄９号</td>\n",
       "      <td>南陈路24号</td>\n",
       "      <td>1/8/10 9:01</td>\n",
       "      <td>未发现问题。</td>\n",
       "    </tr>\n",
       "    <tr>\n",
       "      <th>4</th>\n",
       "      <td>5</td>\n",
       "      <td>上海同祁置业有限公司</td>\n",
       "      <td>586791275</td>\n",
       "      <td>上海市宝山区锦秋路４８号Ｆ１３８</td>\n",
       "      <td>上海市宝山区锦秋路４８号Ｆ１３８</td>\n",
       "      <td>1/8/10 9:01</td>\n",
       "      <td>未发现问题。</td>\n",
       "    </tr>\n",
       "  </tbody>\n",
       "</table>\n",
       "</div>"
      ],
      "text/plain": [
       "   序号            企业名称     组织机构代码               注册地址              生产地址  \\\n",
       "0   1  上海巴士五汽公共交通有限公司  607392127       上海市共和新路３０３４号            南陈路98号   \n",
       "1   2    上海康志物业管理有限公司   86158393    上海市宝山区锦秋路４８号Ｇ１５   上海市宝山区锦秋路４８号Ｇ１５   \n",
       "2   3    上海地矿物业管理有限公司  630350240     上海市沪太路１０６３弄５号甲           灵石路930号   \n",
       "3   4         上海立新五金厂  132808298  上海市静安区南京西路１９５５弄９号            南陈路24号   \n",
       "4   5      上海同祁置业有限公司  586791275   上海市宝山区锦秋路４８号Ｆ１３８  上海市宝山区锦秋路４８号Ｆ１３８   \n",
       "\n",
       "          检查日期    处理措施  \n",
       "0  1/8/10 1:01  未发现问题。  \n",
       "1  1/8/10 8:01  未发现问题。  \n",
       "2  1/8/10 9:01  未发现问题。  \n",
       "3  1/8/10 9:01  未发现问题。  \n",
       "4  1/8/10 9:01  未发现问题。  "
      ]
     },
     "execution_count": 70,
     "metadata": {},
     "output_type": "execute_result"
    }
   ],
   "source": [
    "sample = regulation_dup.head(10)\n",
    "sample.head()"
   ]
  },
  {
   "cell_type": "code",
   "execution_count": 74,
   "metadata": {
    "ExecuteTime": {
     "end_time": "2017-12-19T16:41:56.233648Z",
     "start_time": "2017-12-19T16:41:56.229130Z"
    }
   },
   "outputs": [],
   "source": [
    "sample.columns = ['index', 'name', 'company_id', 'registered_add', 'production_add', 'date', 'content']"
   ]
  },
  {
   "cell_type": "code",
   "execution_count": 75,
   "metadata": {
    "ExecuteTime": {
     "end_time": "2017-12-19T16:41:56.960337Z",
     "start_time": "2017-12-19T16:41:56.942664Z"
    }
   },
   "outputs": [
    {
     "data": {
      "text/html": [
       "<div>\n",
       "<style scoped>\n",
       "    .dataframe tbody tr th:only-of-type {\n",
       "        vertical-align: middle;\n",
       "    }\n",
       "\n",
       "    .dataframe tbody tr th {\n",
       "        vertical-align: top;\n",
       "    }\n",
       "\n",
       "    .dataframe thead th {\n",
       "        text-align: right;\n",
       "    }\n",
       "</style>\n",
       "<table border=\"1\" class=\"dataframe\">\n",
       "  <thead>\n",
       "    <tr style=\"text-align: right;\">\n",
       "      <th></th>\n",
       "      <th>index</th>\n",
       "      <th>name</th>\n",
       "      <th>company_id</th>\n",
       "      <th>registered_add</th>\n",
       "      <th>production_add</th>\n",
       "      <th>date</th>\n",
       "      <th>content</th>\n",
       "    </tr>\n",
       "  </thead>\n",
       "  <tbody>\n",
       "    <tr>\n",
       "      <th>0</th>\n",
       "      <td>1</td>\n",
       "      <td>上海巴士五汽公共交通有限公司</td>\n",
       "      <td>607392127</td>\n",
       "      <td>上海市共和新路３０３４号</td>\n",
       "      <td>南陈路98号</td>\n",
       "      <td>1/8/10 1:01</td>\n",
       "      <td>未发现问题。</td>\n",
       "    </tr>\n",
       "    <tr>\n",
       "      <th>1</th>\n",
       "      <td>2</td>\n",
       "      <td>上海康志物业管理有限公司</td>\n",
       "      <td>86158393</td>\n",
       "      <td>上海市宝山区锦秋路４８号Ｇ１５</td>\n",
       "      <td>上海市宝山区锦秋路４８号Ｇ１５</td>\n",
       "      <td>1/8/10 8:01</td>\n",
       "      <td>未发现问题。</td>\n",
       "    </tr>\n",
       "    <tr>\n",
       "      <th>2</th>\n",
       "      <td>3</td>\n",
       "      <td>上海地矿物业管理有限公司</td>\n",
       "      <td>630350240</td>\n",
       "      <td>上海市沪太路１０６３弄５号甲</td>\n",
       "      <td>灵石路930号</td>\n",
       "      <td>1/8/10 9:01</td>\n",
       "      <td>未发现问题。</td>\n",
       "    </tr>\n",
       "    <tr>\n",
       "      <th>3</th>\n",
       "      <td>4</td>\n",
       "      <td>上海立新五金厂</td>\n",
       "      <td>132808298</td>\n",
       "      <td>上海市静安区南京西路１９５５弄９号</td>\n",
       "      <td>南陈路24号</td>\n",
       "      <td>1/8/10 9:01</td>\n",
       "      <td>未发现问题。</td>\n",
       "    </tr>\n",
       "    <tr>\n",
       "      <th>4</th>\n",
       "      <td>5</td>\n",
       "      <td>上海同祁置业有限公司</td>\n",
       "      <td>586791275</td>\n",
       "      <td>上海市宝山区锦秋路４８号Ｆ１３８</td>\n",
       "      <td>上海市宝山区锦秋路４８号Ｆ１３８</td>\n",
       "      <td>1/8/10 9:01</td>\n",
       "      <td>未发现问题。</td>\n",
       "    </tr>\n",
       "  </tbody>\n",
       "</table>\n",
       "</div>"
      ],
      "text/plain": [
       "   index            name company_id     registered_add    production_add  \\\n",
       "0      1  上海巴士五汽公共交通有限公司  607392127       上海市共和新路３０３４号            南陈路98号   \n",
       "1      2    上海康志物业管理有限公司   86158393    上海市宝山区锦秋路４８号Ｇ１５   上海市宝山区锦秋路４８号Ｇ１５   \n",
       "2      3    上海地矿物业管理有限公司  630350240     上海市沪太路１０６３弄５号甲           灵石路930号   \n",
       "3      4         上海立新五金厂  132808298  上海市静安区南京西路１９５５弄９号            南陈路24号   \n",
       "4      5      上海同祁置业有限公司  586791275   上海市宝山区锦秋路４８号Ｆ１３８  上海市宝山区锦秋路４８号Ｆ１３８   \n",
       "\n",
       "          date content  \n",
       "0  1/8/10 1:01  未发现问题。  \n",
       "1  1/8/10 8:01  未发现问题。  \n",
       "2  1/8/10 9:01  未发现问题。  \n",
       "3  1/8/10 9:01  未发现问题。  \n",
       "4  1/8/10 9:01  未发现问题。  "
      ]
     },
     "execution_count": 75,
     "metadata": {},
     "output_type": "execute_result"
    }
   ],
   "source": [
    "sample.head()"
   ]
  },
  {
   "cell_type": "code",
   "execution_count": 80,
   "metadata": {
    "ExecuteTime": {
     "end_time": "2017-12-19T16:55:12.688722Z",
     "start_time": "2017-12-19T16:55:12.685187Z"
    }
   },
   "outputs": [],
   "source": [
    "regulation_dup.columns = ['index', 'name', 'company_id', 'registered_add', 'production_add', 'date', 'content']"
   ]
  },
  {
   "cell_type": "code",
   "execution_count": 81,
   "metadata": {
    "ExecuteTime": {
     "end_time": "2017-12-19T16:55:27.739325Z",
     "start_time": "2017-12-19T16:55:27.719751Z"
    }
   },
   "outputs": [
    {
     "data": {
      "text/html": [
       "<div>\n",
       "<style scoped>\n",
       "    .dataframe tbody tr th:only-of-type {\n",
       "        vertical-align: middle;\n",
       "    }\n",
       "\n",
       "    .dataframe tbody tr th {\n",
       "        vertical-align: top;\n",
       "    }\n",
       "\n",
       "    .dataframe thead th {\n",
       "        text-align: right;\n",
       "    }\n",
       "</style>\n",
       "<table border=\"1\" class=\"dataframe\">\n",
       "  <thead>\n",
       "    <tr style=\"text-align: right;\">\n",
       "      <th></th>\n",
       "      <th>index</th>\n",
       "      <th>name</th>\n",
       "      <th>company_id</th>\n",
       "      <th>registered_add</th>\n",
       "      <th>production_add</th>\n",
       "      <th>date</th>\n",
       "      <th>content</th>\n",
       "    </tr>\n",
       "  </thead>\n",
       "  <tbody>\n",
       "    <tr>\n",
       "      <th>0</th>\n",
       "      <td>1</td>\n",
       "      <td>上海巴士五汽公共交通有限公司</td>\n",
       "      <td>607392127</td>\n",
       "      <td>上海市共和新路３０３４号</td>\n",
       "      <td>南陈路98号</td>\n",
       "      <td>1/8/10 1:01</td>\n",
       "      <td>未发现问题。</td>\n",
       "    </tr>\n",
       "    <tr>\n",
       "      <th>1</th>\n",
       "      <td>2</td>\n",
       "      <td>上海康志物业管理有限公司</td>\n",
       "      <td>86158393</td>\n",
       "      <td>上海市宝山区锦秋路４８号Ｇ１５</td>\n",
       "      <td>上海市宝山区锦秋路４８号Ｇ１５</td>\n",
       "      <td>1/8/10 8:01</td>\n",
       "      <td>未发现问题。</td>\n",
       "    </tr>\n",
       "    <tr>\n",
       "      <th>2</th>\n",
       "      <td>3</td>\n",
       "      <td>上海地矿物业管理有限公司</td>\n",
       "      <td>630350240</td>\n",
       "      <td>上海市沪太路１０６３弄５号甲</td>\n",
       "      <td>灵石路930号</td>\n",
       "      <td>1/8/10 9:01</td>\n",
       "      <td>未发现问题。</td>\n",
       "    </tr>\n",
       "    <tr>\n",
       "      <th>3</th>\n",
       "      <td>4</td>\n",
       "      <td>上海立新五金厂</td>\n",
       "      <td>132808298</td>\n",
       "      <td>上海市静安区南京西路１９５５弄９号</td>\n",
       "      <td>南陈路24号</td>\n",
       "      <td>1/8/10 9:01</td>\n",
       "      <td>未发现问题。</td>\n",
       "    </tr>\n",
       "    <tr>\n",
       "      <th>4</th>\n",
       "      <td>5</td>\n",
       "      <td>上海同祁置业有限公司</td>\n",
       "      <td>586791275</td>\n",
       "      <td>上海市宝山区锦秋路４８号Ｆ１３８</td>\n",
       "      <td>上海市宝山区锦秋路４８号Ｆ１３８</td>\n",
       "      <td>1/8/10 9:01</td>\n",
       "      <td>未发现问题。</td>\n",
       "    </tr>\n",
       "  </tbody>\n",
       "</table>\n",
       "</div>"
      ],
      "text/plain": [
       "   index            name company_id     registered_add    production_add  \\\n",
       "0      1  上海巴士五汽公共交通有限公司  607392127       上海市共和新路３０３４号            南陈路98号   \n",
       "1      2    上海康志物业管理有限公司   86158393    上海市宝山区锦秋路４８号Ｇ１５   上海市宝山区锦秋路４８号Ｇ１５   \n",
       "2      3    上海地矿物业管理有限公司  630350240     上海市沪太路１０６３弄５号甲           灵石路930号   \n",
       "3      4         上海立新五金厂  132808298  上海市静安区南京西路１９５５弄９号            南陈路24号   \n",
       "4      5      上海同祁置业有限公司  586791275   上海市宝山区锦秋路４８号Ｆ１３８  上海市宝山区锦秋路４８号Ｆ１３８   \n",
       "\n",
       "          date content  \n",
       "0  1/8/10 1:01  未发现问题。  \n",
       "1  1/8/10 8:01  未发现问题。  \n",
       "2  1/8/10 9:01  未发现问题。  \n",
       "3  1/8/10 9:01  未发现问题。  \n",
       "4  1/8/10 9:01  未发现问题。  "
      ]
     },
     "execution_count": 81,
     "metadata": {},
     "output_type": "execute_result"
    }
   ],
   "source": [
    "regulation_dup.head()"
   ]
  },
  {
   "cell_type": "code",
   "execution_count": 76,
   "metadata": {
    "ExecuteTime": {
     "end_time": "2017-12-19T16:49:52.731597Z",
     "start_time": "2017-12-19T16:49:51.165632Z"
    }
   },
   "outputs": [],
   "source": [
    "import recordlinkage\n",
    "\n",
    "indexer = recordlinkage.FullIndex()"
   ]
  },
  {
   "cell_type": "code",
   "execution_count": 82,
   "metadata": {
    "ExecuteTime": {
     "end_time": "2017-12-19T16:55:31.840491Z",
     "start_time": "2017-12-19T16:55:31.292553Z"
    }
   },
   "outputs": [
    {
     "name": "stdout",
     "output_type": "stream",
     "text": [
      "56051\n"
     ]
    }
   ],
   "source": [
    "pairs = indexer.index(regulation_dup)\n",
    "indexer = recordlinkage.BlockIndex(on='registered_add')\n",
    "pairs = indexer.index(regulation_dup)\n",
    "\n",
    "print (len(pairs))"
   ]
  },
  {
   "cell_type": "code",
   "execution_count": 83,
   "metadata": {
    "ExecuteTime": {
     "end_time": "2017-12-19T16:56:09.693327Z",
     "start_time": "2017-12-19T16:56:00.852402Z"
    }
   },
   "outputs": [],
   "source": [
    "compare_cl = recordlinkage.Compare()\n",
    "\n",
    "compare_cl.string('registered_add', 'registered_add', method='jarowinkler', threshold=0.85, label='registered_add')\n",
    "compare_cl.string('production_add', 'production_add', method='jarowinkler', threshold=0.85, label='production_add')\n",
    "\n",
    "features = compare_cl.compute(pairs, regulation_dup)"
   ]
  },
  {
   "cell_type": "code",
   "execution_count": 84,
   "metadata": {
    "ExecuteTime": {
     "end_time": "2017-12-19T16:56:22.146303Z",
     "start_time": "2017-12-19T16:56:22.131138Z"
    }
   },
   "outputs": [
    {
     "data": {
      "text/html": [
       "<div>\n",
       "<style scoped>\n",
       "    .dataframe tbody tr th:only-of-type {\n",
       "        vertical-align: middle;\n",
       "    }\n",
       "\n",
       "    .dataframe tbody tr th {\n",
       "        vertical-align: top;\n",
       "    }\n",
       "\n",
       "    .dataframe thead th {\n",
       "        text-align: right;\n",
       "    }\n",
       "</style>\n",
       "<table border=\"1\" class=\"dataframe\">\n",
       "  <thead>\n",
       "    <tr style=\"text-align: right;\">\n",
       "      <th></th>\n",
       "      <th></th>\n",
       "      <th>registered_add</th>\n",
       "      <th>production_add</th>\n",
       "    </tr>\n",
       "  </thead>\n",
       "  <tbody>\n",
       "    <tr>\n",
       "      <th>2</th>\n",
       "      <th>21530</th>\n",
       "      <td>1.0</td>\n",
       "      <td>1.0</td>\n",
       "    </tr>\n",
       "    <tr>\n",
       "      <th>3</th>\n",
       "      <th>23032</th>\n",
       "      <td>1.0</td>\n",
       "      <td>1.0</td>\n",
       "    </tr>\n",
       "    <tr>\n",
       "      <th rowspan=\"3\" valign=\"top\">4</th>\n",
       "      <th>20566</th>\n",
       "      <td>1.0</td>\n",
       "      <td>1.0</td>\n",
       "    </tr>\n",
       "    <tr>\n",
       "      <th>27518</th>\n",
       "      <td>1.0</td>\n",
       "      <td>1.0</td>\n",
       "    </tr>\n",
       "    <tr>\n",
       "      <th>36223</th>\n",
       "      <td>1.0</td>\n",
       "      <td>1.0</td>\n",
       "    </tr>\n",
       "    <tr>\n",
       "      <th rowspan=\"2\" valign=\"top\">20566</th>\n",
       "      <th>27518</th>\n",
       "      <td>1.0</td>\n",
       "      <td>1.0</td>\n",
       "    </tr>\n",
       "    <tr>\n",
       "      <th>36223</th>\n",
       "      <td>1.0</td>\n",
       "      <td>1.0</td>\n",
       "    </tr>\n",
       "    <tr>\n",
       "      <th>27518</th>\n",
       "      <th>36223</th>\n",
       "      <td>1.0</td>\n",
       "      <td>1.0</td>\n",
       "    </tr>\n",
       "    <tr>\n",
       "      <th>5</th>\n",
       "      <th>21989</th>\n",
       "      <td>1.0</td>\n",
       "      <td>1.0</td>\n",
       "    </tr>\n",
       "    <tr>\n",
       "      <th>6</th>\n",
       "      <th>33683</th>\n",
       "      <td>1.0</td>\n",
       "      <td>1.0</td>\n",
       "    </tr>\n",
       "  </tbody>\n",
       "</table>\n",
       "</div>"
      ],
      "text/plain": [
       "             registered_add  production_add\n",
       "2     21530             1.0             1.0\n",
       "3     23032             1.0             1.0\n",
       "4     20566             1.0             1.0\n",
       "      27518             1.0             1.0\n",
       "      36223             1.0             1.0\n",
       "20566 27518             1.0             1.0\n",
       "      36223             1.0             1.0\n",
       "27518 36223             1.0             1.0\n",
       "5     21989             1.0             1.0\n",
       "6     33683             1.0             1.0"
      ]
     },
     "execution_count": 84,
     "metadata": {},
     "output_type": "execute_result"
    }
   ],
   "source": [
    "features.head(10)"
   ]
  },
  {
   "cell_type": "code",
   "execution_count": 100,
   "metadata": {
    "ExecuteTime": {
     "end_time": "2017-12-19T17:51:57.780567Z",
     "start_time": "2017-12-19T17:51:57.775127Z"
    }
   },
   "outputs": [
    {
     "data": {
      "text/plain": [
       "array([(2, 21530), (3, 23032), (4, 20566), (4, 27518), (4, 36223),\n",
       "       (20566, 27518), (20566, 36223), (27518, 36223), (5, 21989),\n",
       "       (6, 33683)], dtype=object)"
      ]
     },
     "execution_count": 100,
     "metadata": {},
     "output_type": "execute_result"
    }
   ],
   "source": [
    "# features.index.values\n",
    "pairs.values[0:10]"
   ]
  },
  {
   "cell_type": "code",
   "execution_count": 101,
   "metadata": {
    "ExecuteTime": {
     "end_time": "2017-12-19T18:05:44.281268Z",
     "start_time": "2017-12-19T18:05:44.263096Z"
    }
   },
   "outputs": [
    {
     "data": {
      "text/plain": [
       "(2, 21530)"
      ]
     },
     "execution_count": 101,
     "metadata": {},
     "output_type": "execute_result"
    }
   ],
   "source": [
    "pairs.values[0]"
   ]
  },
  {
   "cell_type": "code",
   "execution_count": 106,
   "metadata": {
    "ExecuteTime": {
     "end_time": "2017-12-19T18:09:43.573948Z",
     "start_time": "2017-12-19T18:09:43.548399Z"
    }
   },
   "outputs": [
    {
     "name": "stdout",
     "output_type": "stream",
     "text": [
      "(2, 21530) 2 上海地矿物业管理有限公司 21530 上海地矿物业管理有限公司\n"
     ]
    }
   ],
   "source": [
    "print(pairs.values[0], \n",
    "      pairs.values[0][0], regulation_dup.values[pairs.values[0][0],1], \n",
    "      pairs.values[0][1], regulation_dup.values[pairs.values[0][1],1])"
   ]
  },
  {
   "cell_type": "code",
   "execution_count": 113,
   "metadata": {
    "ExecuteTime": {
     "end_time": "2017-12-19T18:14:18.517949Z",
     "start_time": "2017-12-19T18:14:18.510262Z"
    }
   },
   "outputs": [],
   "source": [
    "def print_pairs(pairs, n=10):\n",
    "    for i in range(n):\n",
    "        print(pairs.values[i], \n",
    "              pairs.values[i][0], regulation_dup.values[pairs.values[i][0],1], \n",
    "              pairs.values[i][1], regulation_dup.values[pairs.values[i][1],1])\n",
    "    return None"
   ]
  },
  {
   "cell_type": "code",
   "execution_count": 114,
   "metadata": {
    "ExecuteTime": {
     "end_time": "2017-12-19T18:14:21.583357Z",
     "start_time": "2017-12-19T18:14:21.371992Z"
    }
   },
   "outputs": [
    {
     "name": "stdout",
     "output_type": "stream",
     "text": [
      "(2, 21530) 2 上海地矿物业管理有限公司 21530 上海地矿物业管理有限公司\n",
      "(3, 23032) 3 上海立新五金厂 23032 上海立新五金厂\n",
      "(4, 20566) 4 上海同祁置业有限公司 20566 上海同祁置业有限公司\n",
      "(4, 27518) 4 上海同祁置业有限公司 27518 上海同祁置业有限公司\n",
      "(4, 36223) 4 上海同祁置业有限公司 36223 上海同祁置业有限公司\n",
      "(20566, 27518) 20566 上海同祁置业有限公司 27518 上海同祁置业有限公司\n",
      "(20566, 36223) 20566 上海同祁置业有限公司 36223 上海同祁置业有限公司\n",
      "(27518, 36223) 27518 上海同祁置业有限公司 36223 上海同祁置业有限公司\n",
      "(5, 21989) 5 上海高地物业管理有限公司虹口分公司 21989 上海高地物业管理有限公司虹口分公司\n",
      "(6, 33683) 6 上海康通电缆组件有限公司 33683 上海康通电缆组件有限公司\n"
     ]
    }
   ],
   "source": [
    "print_pairs(pairs, 10)"
   ]
  },
  {
   "cell_type": "code",
   "execution_count": 85,
   "metadata": {
    "ExecuteTime": {
     "end_time": "2017-12-19T16:56:38.047365Z",
     "start_time": "2017-12-19T16:56:37.874759Z"
    }
   },
   "outputs": [
    {
     "data": {
      "text/html": [
       "<div>\n",
       "<style scoped>\n",
       "    .dataframe tbody tr th:only-of-type {\n",
       "        vertical-align: middle;\n",
       "    }\n",
       "\n",
       "    .dataframe tbody tr th {\n",
       "        vertical-align: top;\n",
       "    }\n",
       "\n",
       "    .dataframe thead th {\n",
       "        text-align: right;\n",
       "    }\n",
       "</style>\n",
       "<table border=\"1\" class=\"dataframe\">\n",
       "  <thead>\n",
       "    <tr style=\"text-align: right;\">\n",
       "      <th></th>\n",
       "      <th>registered_add</th>\n",
       "      <th>production_add</th>\n",
       "    </tr>\n",
       "  </thead>\n",
       "  <tbody>\n",
       "    <tr>\n",
       "      <th>count</th>\n",
       "      <td>56051.0</td>\n",
       "      <td>56051.000000</td>\n",
       "    </tr>\n",
       "    <tr>\n",
       "      <th>mean</th>\n",
       "      <td>1.0</td>\n",
       "      <td>0.960143</td>\n",
       "    </tr>\n",
       "    <tr>\n",
       "      <th>std</th>\n",
       "      <td>0.0</td>\n",
       "      <td>0.195624</td>\n",
       "    </tr>\n",
       "    <tr>\n",
       "      <th>min</th>\n",
       "      <td>1.0</td>\n",
       "      <td>0.000000</td>\n",
       "    </tr>\n",
       "    <tr>\n",
       "      <th>25%</th>\n",
       "      <td>1.0</td>\n",
       "      <td>1.000000</td>\n",
       "    </tr>\n",
       "    <tr>\n",
       "      <th>50%</th>\n",
       "      <td>1.0</td>\n",
       "      <td>1.000000</td>\n",
       "    </tr>\n",
       "    <tr>\n",
       "      <th>75%</th>\n",
       "      <td>1.0</td>\n",
       "      <td>1.000000</td>\n",
       "    </tr>\n",
       "    <tr>\n",
       "      <th>max</th>\n",
       "      <td>1.0</td>\n",
       "      <td>1.000000</td>\n",
       "    </tr>\n",
       "  </tbody>\n",
       "</table>\n",
       "</div>"
      ],
      "text/plain": [
       "       registered_add  production_add\n",
       "count         56051.0    56051.000000\n",
       "mean              1.0        0.960143\n",
       "std               0.0        0.195624\n",
       "min               1.0        0.000000\n",
       "25%               1.0        1.000000\n",
       "50%               1.0        1.000000\n",
       "75%               1.0        1.000000\n",
       "max               1.0        1.000000"
      ]
     },
     "execution_count": 85,
     "metadata": {},
     "output_type": "execute_result"
    }
   ],
   "source": [
    "features.describe()"
   ]
  },
  {
   "cell_type": "code",
   "execution_count": 86,
   "metadata": {
    "ExecuteTime": {
     "end_time": "2017-12-19T16:57:09.415804Z",
     "start_time": "2017-12-19T16:57:09.395927Z"
    }
   },
   "outputs": [
    {
     "data": {
      "text/plain": [
       "2.0    53817\n",
       "1.0     2234\n",
       "dtype: int64"
      ]
     },
     "execution_count": 86,
     "metadata": {},
     "output_type": "execute_result"
    }
   ],
   "source": [
    "# Sum the comparison results.\n",
    "features.sum(axis=1).value_counts().sort_index(ascending=False)"
   ]
  },
  {
   "cell_type": "code",
   "execution_count": 88,
   "metadata": {
    "ExecuteTime": {
     "end_time": "2017-12-19T16:57:25.638735Z",
     "start_time": "2017-12-19T16:57:25.616523Z"
    }
   },
   "outputs": [
    {
     "name": "stdout",
     "output_type": "stream",
     "text": [
      "56051\n"
     ]
    },
    {
     "data": {
      "text/html": [
       "<div>\n",
       "<style scoped>\n",
       "    .dataframe tbody tr th:only-of-type {\n",
       "        vertical-align: middle;\n",
       "    }\n",
       "\n",
       "    .dataframe tbody tr th {\n",
       "        vertical-align: top;\n",
       "    }\n",
       "\n",
       "    .dataframe thead th {\n",
       "        text-align: right;\n",
       "    }\n",
       "</style>\n",
       "<table border=\"1\" class=\"dataframe\">\n",
       "  <thead>\n",
       "    <tr style=\"text-align: right;\">\n",
       "      <th></th>\n",
       "      <th></th>\n",
       "      <th>registered_add</th>\n",
       "      <th>production_add</th>\n",
       "    </tr>\n",
       "  </thead>\n",
       "  <tbody>\n",
       "    <tr>\n",
       "      <th>2</th>\n",
       "      <th>21530</th>\n",
       "      <td>1.0</td>\n",
       "      <td>1.0</td>\n",
       "    </tr>\n",
       "    <tr>\n",
       "      <th>3</th>\n",
       "      <th>23032</th>\n",
       "      <td>1.0</td>\n",
       "      <td>1.0</td>\n",
       "    </tr>\n",
       "    <tr>\n",
       "      <th rowspan=\"3\" valign=\"top\">4</th>\n",
       "      <th>20566</th>\n",
       "      <td>1.0</td>\n",
       "      <td>1.0</td>\n",
       "    </tr>\n",
       "    <tr>\n",
       "      <th>27518</th>\n",
       "      <td>1.0</td>\n",
       "      <td>1.0</td>\n",
       "    </tr>\n",
       "    <tr>\n",
       "      <th>36223</th>\n",
       "      <td>1.0</td>\n",
       "      <td>1.0</td>\n",
       "    </tr>\n",
       "    <tr>\n",
       "      <th rowspan=\"2\" valign=\"top\">20566</th>\n",
       "      <th>27518</th>\n",
       "      <td>1.0</td>\n",
       "      <td>1.0</td>\n",
       "    </tr>\n",
       "    <tr>\n",
       "      <th>36223</th>\n",
       "      <td>1.0</td>\n",
       "      <td>1.0</td>\n",
       "    </tr>\n",
       "    <tr>\n",
       "      <th>27518</th>\n",
       "      <th>36223</th>\n",
       "      <td>1.0</td>\n",
       "      <td>1.0</td>\n",
       "    </tr>\n",
       "    <tr>\n",
       "      <th>5</th>\n",
       "      <th>21989</th>\n",
       "      <td>1.0</td>\n",
       "      <td>1.0</td>\n",
       "    </tr>\n",
       "    <tr>\n",
       "      <th>6</th>\n",
       "      <th>33683</th>\n",
       "      <td>1.0</td>\n",
       "      <td>1.0</td>\n",
       "    </tr>\n",
       "  </tbody>\n",
       "</table>\n",
       "</div>"
      ],
      "text/plain": [
       "             registered_add  production_add\n",
       "2     21530             1.0             1.0\n",
       "3     23032             1.0             1.0\n",
       "4     20566             1.0             1.0\n",
       "      27518             1.0             1.0\n",
       "      36223             1.0             1.0\n",
       "20566 27518             1.0             1.0\n",
       "      36223             1.0             1.0\n",
       "27518 36223             1.0             1.0\n",
       "5     21989             1.0             1.0\n",
       "6     33683             1.0             1.0"
      ]
     },
     "execution_count": 88,
     "metadata": {},
     "output_type": "execute_result"
    }
   ],
   "source": [
    "matches = features[features.sum(axis=1) > 0]\n",
    "\n",
    "print(len(matches))\n",
    "matches.head(10)"
   ]
  },
  {
   "cell_type": "code",
   "execution_count": null,
   "metadata": {},
   "outputs": [],
   "source": []
  }
 ],
 "metadata": {
  "kernelspec": {
   "display_name": "Python 3",
   "language": "python",
   "name": "python3"
  },
  "language_info": {
   "codemirror_mode": {
    "name": "ipython",
    "version": 3
   },
   "file_extension": ".py",
   "mimetype": "text/x-python",
   "name": "python",
   "nbconvert_exporter": "python",
   "pygments_lexer": "ipython3",
   "version": "3.6.3"
  },
  "toc": {
   "nav_menu": {
    "height": "121px",
    "width": "258px"
   },
   "number_sections": true,
   "sideBar": true,
   "skip_h1_title": false,
   "toc_cell": false,
   "toc_position": {},
   "toc_section_display": "block",
   "toc_window_display": false
  },
  "varInspector": {
   "cols": {
    "lenName": 16,
    "lenType": 16,
    "lenVar": 40
   },
   "kernels_config": {
    "python": {
     "delete_cmd_postfix": "",
     "delete_cmd_prefix": "del ",
     "library": "var_list.py",
     "varRefreshCmd": "print(var_dic_list())"
    },
    "r": {
     "delete_cmd_postfix": ") ",
     "delete_cmd_prefix": "rm(",
     "library": "var_list.r",
     "varRefreshCmd": "cat(var_dic_list()) "
    }
   },
   "types_to_exclude": [
    "module",
    "function",
    "builtin_function_or_method",
    "instance",
    "_Feature"
   ],
   "window_display": false
  }
 },
 "nbformat": 4,
 "nbformat_minor": 2
}
