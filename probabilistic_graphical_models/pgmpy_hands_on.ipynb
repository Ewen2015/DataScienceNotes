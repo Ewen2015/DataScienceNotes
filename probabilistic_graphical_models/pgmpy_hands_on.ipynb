{
 "cells": [
  {
   "cell_type": "markdown",
   "metadata": {},
   "source": [
    "# Probabilistic Graphical Models using Python\n",
    "\n",
    "## Introduction\n",
    "\n",
    "**Probabilistic Graphical Model (PGM)** is a technique of representing Joint Distributions over random variables in a compact way by exploiting the dependencies between them. PGMs use a network structure to encode the relationships between the random variables and some parameters to represent the joint distribution.\n",
    "\n",
    "There are two major types of Graphical Models: **Bayesian Networks** and **Markov Networks**.\n",
    "\n",
    "**Bayesian Network**: A Bayesian Network consists of a directed graph and a conditional probability distribution associated with each of the random variables. A Bayesian network is used mostly when there is a causal relationship between the random variables.\n",
    "\n",
    "**Markov Network**: A Markov Network consists of an undirected graph and a few Factors are associated with it. Unlike Conditional Probability Distributions, a Factor does not rep- resent the probabilities of variables in the network; instead it represents the compatibility between random variables that is how much a particular state of a random variable likely to agree with the another state of some other random variable.\n",
    "\n",
    "There are numerous open source packages available in Python for working with graphical models. eBay’s bayesian-belief-networks [bbn](https://github.com/ eBay/bayesian- belief- networks) mostly focuses on Bayesian Models and has implementation of a limited number of inference algorithms. Another package pymc [pymc](https://pymc- devs.github.io/pymc/) focuses mainly on Markov Chain Monte Carlo (MCMC) method. libpgm [libpgm](https://github.com/CyberPoint/libpgm http://bigbird.comp.nus.edu.sg/pmwiki/farm/appl/index. php?n=Main.PomdpXDocumentation) also mainly focuses on Bayesian Networks.\n",
    "\n",
    "pgmpy [pgmpy](https://github.com/pgmpy/pgmpy) is a python library for working with graphical models. It allows the user to create their own graphical models and answer inference or map queries over them. pgmpy has implementation of many inference algorithms like VariableElimination, Belief Propagation etc.\n",
    "\n",
    "\n",
    "## Creating Bayesian Models using pgmpy\n",
    "\n",
    "A Bayesian Network consists of a directed graph where nodes represents random variables and edges represent the the relation between them. It is parameterized using Conditional Probability Distributions(CPD). Each random variable in a Bayesian Network has a CPD associated with it. If a random varible has parents in the network then the CPD represents $P(var|Parvar)$ i.e. the probability of that variable given its parents. In the case, when the random variable has no parents it simply represents $P(var)$ i.e. the probability of that variable."
   ]
  },
  {
   "cell_type": "code",
   "execution_count": 1,
   "metadata": {
    "ExecuteTime": {
     "end_time": "2017-12-28T10:25:29.843666Z",
     "start_time": "2017-12-28T10:25:26.523474Z"
    }
   },
   "outputs": [],
   "source": [
    "from pgmpy.models import BayesianModel\n",
    "\n",
    "student_model = BayesianModel([('D', 'G'),\n",
    "                               ('I', 'G'),\n",
    "                               ('G', 'L'),\n",
    "                               ('I', 'S')])"
   ]
  },
  {
   "cell_type": "code",
   "execution_count": 2,
   "metadata": {
    "ExecuteTime": {
     "end_time": "2017-12-28T10:25:30.834927Z",
     "start_time": "2017-12-28T10:25:30.826956Z"
    }
   },
   "outputs": [],
   "source": [
    "from pgmpy.factors.discrete import TabularCPD\n",
    "\n",
    "grade_cpd = TabularCPD(\n",
    "    variable='G',\n",
    "    variable_card=3,\n",
    "    values=[[0.3, 0.05, 0.9, 0.5],\n",
    "            [0.4, 0.25, 0.08, 0.3],\n",
    "            [0.3, 0.7, 0.02, 0.2]],\n",
    "    evidence=['I', 'D'],\n",
    "    evidence_card=[2, 2])"
   ]
  },
  {
   "cell_type": "code",
   "execution_count": 3,
   "metadata": {
    "ExecuteTime": {
     "end_time": "2017-12-28T10:25:31.753757Z",
     "start_time": "2017-12-28T10:25:31.748228Z"
    }
   },
   "outputs": [],
   "source": [
    "difficulty_cpd = TabularCPD(\n",
    "    variable='D',\n",
    "    variable_card=2,\n",
    "    values=[[0.6, 0.4]])"
   ]
  },
  {
   "cell_type": "code",
   "execution_count": 4,
   "metadata": {
    "ExecuteTime": {
     "end_time": "2017-12-28T10:25:32.413938Z",
     "start_time": "2017-12-28T10:25:32.406656Z"
    }
   },
   "outputs": [],
   "source": [
    "intel_cpd = TabularCPD(\n",
    "    variable='I',\n",
    "    variable_card=2,\n",
    "    values=[[0.7, 0.3]])"
   ]
  },
  {
   "cell_type": "code",
   "execution_count": 5,
   "metadata": {
    "ExecuteTime": {
     "end_time": "2017-12-28T10:25:33.100990Z",
     "start_time": "2017-12-28T10:25:33.093692Z"
    }
   },
   "outputs": [],
   "source": [
    "letter_cpd = TabularCPD(\n",
    "    variable='L',\n",
    "    variable_card=2,\n",
    "    values=[[0.1, 0.4, 0.99],\n",
    "            [0.9, 0.6, 0.01]],\n",
    "    evidence=['G'],\n",
    "    evidence_card=[3])"
   ]
  },
  {
   "cell_type": "code",
   "execution_count": 6,
   "metadata": {
    "ExecuteTime": {
     "end_time": "2017-12-28T10:25:34.022669Z",
     "start_time": "2017-12-28T10:25:34.016529Z"
    }
   },
   "outputs": [],
   "source": [
    "sat_cpd = TabularCPD(\n",
    "    variable='S',\n",
    "    variable_card=2,\n",
    "    values=[[0.95, 0.2],\n",
    "            [0.05, 0.8]],\n",
    "    evidence=['I'],\n",
    "    evidence_card=[2])"
   ]
  },
  {
   "cell_type": "code",
   "execution_count": 7,
   "metadata": {
    "ExecuteTime": {
     "end_time": "2017-12-28T10:25:34.826978Z",
     "start_time": "2017-12-28T10:25:34.822344Z"
    }
   },
   "outputs": [],
   "source": [
    "student_model.add_cpds(grade_cpd, difficulty_cpd,\n",
    "                       intel_cpd, letter_cpd,\n",
    "                       sat_cpd)"
   ]
  },
  {
   "cell_type": "code",
   "execution_count": 8,
   "metadata": {
    "ExecuteTime": {
     "end_time": "2017-12-28T10:25:35.919134Z",
     "start_time": "2017-12-28T10:25:35.884353Z"
    }
   },
   "outputs": [
    {
     "name": "stdout",
     "output_type": "stream",
     "text": [
      "╒═════╤══════════╕\n",
      "│ G   │   phi(G) │\n",
      "╞═════╪══════════╡\n",
      "│ G_0 │   0.3620 │\n",
      "├─────┼──────────┤\n",
      "│ G_1 │   0.2884 │\n",
      "├─────┼──────────┤\n",
      "│ G_2 │   0.3496 │\n",
      "╘═════╧══════════╛\n"
     ]
    }
   ],
   "source": [
    "from pgmpy.inference import VariableElimination \n",
    "\n",
    "student_infer = VariableElimination(student_model) \n",
    "prob_G = student_infer.query(variables=['G']) \n",
    "print(prob_G['G'])"
   ]
  },
  {
   "cell_type": "code",
   "execution_count": 9,
   "metadata": {
    "ExecuteTime": {
     "end_time": "2017-12-28T10:25:36.905997Z",
     "start_time": "2017-12-28T10:25:36.881175Z"
    }
   },
   "outputs": [
    {
     "data": {
      "text/plain": [
       "{'G': 2}"
      ]
     },
     "execution_count": 9,
     "metadata": {},
     "output_type": "execute_result"
    }
   ],
   "source": [
    "student_infer.map_query(variables='G')"
   ]
  },
  {
   "cell_type": "code",
   "execution_count": 10,
   "metadata": {
    "ExecuteTime": {
     "end_time": "2017-12-28T10:25:38.073901Z",
     "start_time": "2017-12-28T10:25:37.986426Z"
    }
   },
   "outputs": [
    {
     "data": {
      "text/plain": [
       "[<TabularCPD representing P(D:2) at 0x1040f8630>,\n",
       " <TabularCPD representing P(G:2 | D:2, I:2) at 0x113564e10>,\n",
       " <TabularCPD representing P(I:2) at 0x1135843c8>,\n",
       " <TabularCPD representing P(L:2 | G:2) at 0x1135840f0>,\n",
       " <TabularCPD representing P(S:2 | I:2) at 0x113584ac8>]"
      ]
     },
     "execution_count": 10,
     "metadata": {},
     "output_type": "execute_result"
    }
   ],
   "source": [
    "from pgmpy.models import BayesianModel \n",
    "import pandas as pd\n",
    "import numpy as np\n",
    "\n",
    "\n",
    "# Considering that each variable have only 2 states, \n",
    "# we can generate some random data.\n",
    "\n",
    "raw_data = np.random.randint(low=0, high=2, size=(1000, 5))\n",
    "data = pd.DataFrame(raw_data, columns=['D', 'I', 'G', 'L', 'S'])\n",
    "\n",
    "data_train = data[: int(data.shape[0] * 0.75)]\n",
    "\n",
    "student_model = BayesianModel([('D', 'G'),\n",
    "                               ('I', 'G'),\n",
    "                               ('I', 'S'),\n",
    "                               ('G', 'L')])\n",
    "\n",
    "student_model.fit(data_train)\n",
    "\n",
    "student_model.get_cpds()"
   ]
  },
  {
   "cell_type": "code",
   "execution_count": 11,
   "metadata": {
    "ExecuteTime": {
     "end_time": "2017-12-28T10:25:40.693104Z",
     "start_time": "2017-12-28T10:25:40.687332Z"
    }
   },
   "outputs": [
    {
     "data": {
      "text/plain": [
       "4"
      ]
     },
     "execution_count": 11,
     "metadata": {},
     "output_type": "execute_result"
    }
   ],
   "source": [
    "student_model.size()"
   ]
  },
  {
   "cell_type": "code",
   "execution_count": 12,
   "metadata": {
    "ExecuteTime": {
     "end_time": "2017-12-28T10:25:43.374191Z",
     "start_time": "2017-12-28T10:25:41.765376Z"
    }
   },
   "outputs": [
    {
     "name": "stderr",
     "output_type": "stream",
     "text": [
      "/Library/Frameworks/Python.framework/Versions/3.6/lib/python3.6/site-packages/ipykernel_launcher.py:2: SettingWithCopyWarning: \n",
      "A value is trying to be set on a copy of a slice from a DataFrame\n",
      "\n",
      "See the caveats in the documentation: http://pandas.pydata.org/pandas-docs/stable/indexing.html#indexing-view-versus-copy\n",
      "  \n"
     ]
    },
    {
     "data": {
      "text/html": [
       "<div>\n",
       "<style scoped>\n",
       "    .dataframe tbody tr th:only-of-type {\n",
       "        vertical-align: middle;\n",
       "    }\n",
       "\n",
       "    .dataframe tbody tr th {\n",
       "        vertical-align: top;\n",
       "    }\n",
       "\n",
       "    .dataframe thead th {\n",
       "        text-align: right;\n",
       "    }\n",
       "</style>\n",
       "<table border=\"1\" class=\"dataframe\">\n",
       "  <thead>\n",
       "    <tr style=\"text-align: right;\">\n",
       "      <th></th>\n",
       "      <th>L</th>\n",
       "    </tr>\n",
       "  </thead>\n",
       "  <tbody>\n",
       "    <tr>\n",
       "      <th>750</th>\n",
       "      <td>0</td>\n",
       "    </tr>\n",
       "    <tr>\n",
       "      <th>751</th>\n",
       "      <td>0</td>\n",
       "    </tr>\n",
       "    <tr>\n",
       "      <th>752</th>\n",
       "      <td>0</td>\n",
       "    </tr>\n",
       "    <tr>\n",
       "      <th>753</th>\n",
       "      <td>0</td>\n",
       "    </tr>\n",
       "    <tr>\n",
       "      <th>754</th>\n",
       "      <td>0</td>\n",
       "    </tr>\n",
       "    <tr>\n",
       "      <th>755</th>\n",
       "      <td>0</td>\n",
       "    </tr>\n",
       "    <tr>\n",
       "      <th>756</th>\n",
       "      <td>0</td>\n",
       "    </tr>\n",
       "    <tr>\n",
       "      <th>757</th>\n",
       "      <td>0</td>\n",
       "    </tr>\n",
       "    <tr>\n",
       "      <th>758</th>\n",
       "      <td>0</td>\n",
       "    </tr>\n",
       "    <tr>\n",
       "      <th>759</th>\n",
       "      <td>0</td>\n",
       "    </tr>\n",
       "    <tr>\n",
       "      <th>760</th>\n",
       "      <td>0</td>\n",
       "    </tr>\n",
       "    <tr>\n",
       "      <th>761</th>\n",
       "      <td>0</td>\n",
       "    </tr>\n",
       "    <tr>\n",
       "      <th>762</th>\n",
       "      <td>0</td>\n",
       "    </tr>\n",
       "    <tr>\n",
       "      <th>763</th>\n",
       "      <td>0</td>\n",
       "    </tr>\n",
       "    <tr>\n",
       "      <th>764</th>\n",
       "      <td>0</td>\n",
       "    </tr>\n",
       "    <tr>\n",
       "      <th>765</th>\n",
       "      <td>0</td>\n",
       "    </tr>\n",
       "    <tr>\n",
       "      <th>766</th>\n",
       "      <td>0</td>\n",
       "    </tr>\n",
       "    <tr>\n",
       "      <th>767</th>\n",
       "      <td>0</td>\n",
       "    </tr>\n",
       "    <tr>\n",
       "      <th>768</th>\n",
       "      <td>0</td>\n",
       "    </tr>\n",
       "    <tr>\n",
       "      <th>769</th>\n",
       "      <td>0</td>\n",
       "    </tr>\n",
       "    <tr>\n",
       "      <th>770</th>\n",
       "      <td>0</td>\n",
       "    </tr>\n",
       "    <tr>\n",
       "      <th>771</th>\n",
       "      <td>0</td>\n",
       "    </tr>\n",
       "    <tr>\n",
       "      <th>772</th>\n",
       "      <td>0</td>\n",
       "    </tr>\n",
       "    <tr>\n",
       "      <th>773</th>\n",
       "      <td>0</td>\n",
       "    </tr>\n",
       "    <tr>\n",
       "      <th>774</th>\n",
       "      <td>0</td>\n",
       "    </tr>\n",
       "    <tr>\n",
       "      <th>775</th>\n",
       "      <td>0</td>\n",
       "    </tr>\n",
       "    <tr>\n",
       "      <th>776</th>\n",
       "      <td>0</td>\n",
       "    </tr>\n",
       "    <tr>\n",
       "      <th>777</th>\n",
       "      <td>0</td>\n",
       "    </tr>\n",
       "    <tr>\n",
       "      <th>778</th>\n",
       "      <td>0</td>\n",
       "    </tr>\n",
       "    <tr>\n",
       "      <th>779</th>\n",
       "      <td>0</td>\n",
       "    </tr>\n",
       "    <tr>\n",
       "      <th>...</th>\n",
       "      <td>...</td>\n",
       "    </tr>\n",
       "    <tr>\n",
       "      <th>970</th>\n",
       "      <td>0</td>\n",
       "    </tr>\n",
       "    <tr>\n",
       "      <th>971</th>\n",
       "      <td>0</td>\n",
       "    </tr>\n",
       "    <tr>\n",
       "      <th>972</th>\n",
       "      <td>0</td>\n",
       "    </tr>\n",
       "    <tr>\n",
       "      <th>973</th>\n",
       "      <td>0</td>\n",
       "    </tr>\n",
       "    <tr>\n",
       "      <th>974</th>\n",
       "      <td>0</td>\n",
       "    </tr>\n",
       "    <tr>\n",
       "      <th>975</th>\n",
       "      <td>0</td>\n",
       "    </tr>\n",
       "    <tr>\n",
       "      <th>976</th>\n",
       "      <td>0</td>\n",
       "    </tr>\n",
       "    <tr>\n",
       "      <th>977</th>\n",
       "      <td>0</td>\n",
       "    </tr>\n",
       "    <tr>\n",
       "      <th>978</th>\n",
       "      <td>0</td>\n",
       "    </tr>\n",
       "    <tr>\n",
       "      <th>979</th>\n",
       "      <td>0</td>\n",
       "    </tr>\n",
       "    <tr>\n",
       "      <th>980</th>\n",
       "      <td>0</td>\n",
       "    </tr>\n",
       "    <tr>\n",
       "      <th>981</th>\n",
       "      <td>0</td>\n",
       "    </tr>\n",
       "    <tr>\n",
       "      <th>982</th>\n",
       "      <td>0</td>\n",
       "    </tr>\n",
       "    <tr>\n",
       "      <th>983</th>\n",
       "      <td>0</td>\n",
       "    </tr>\n",
       "    <tr>\n",
       "      <th>984</th>\n",
       "      <td>0</td>\n",
       "    </tr>\n",
       "    <tr>\n",
       "      <th>985</th>\n",
       "      <td>0</td>\n",
       "    </tr>\n",
       "    <tr>\n",
       "      <th>986</th>\n",
       "      <td>0</td>\n",
       "    </tr>\n",
       "    <tr>\n",
       "      <th>987</th>\n",
       "      <td>0</td>\n",
       "    </tr>\n",
       "    <tr>\n",
       "      <th>988</th>\n",
       "      <td>0</td>\n",
       "    </tr>\n",
       "    <tr>\n",
       "      <th>989</th>\n",
       "      <td>0</td>\n",
       "    </tr>\n",
       "    <tr>\n",
       "      <th>990</th>\n",
       "      <td>0</td>\n",
       "    </tr>\n",
       "    <tr>\n",
       "      <th>991</th>\n",
       "      <td>0</td>\n",
       "    </tr>\n",
       "    <tr>\n",
       "      <th>992</th>\n",
       "      <td>0</td>\n",
       "    </tr>\n",
       "    <tr>\n",
       "      <th>993</th>\n",
       "      <td>0</td>\n",
       "    </tr>\n",
       "    <tr>\n",
       "      <th>994</th>\n",
       "      <td>0</td>\n",
       "    </tr>\n",
       "    <tr>\n",
       "      <th>995</th>\n",
       "      <td>0</td>\n",
       "    </tr>\n",
       "    <tr>\n",
       "      <th>996</th>\n",
       "      <td>0</td>\n",
       "    </tr>\n",
       "    <tr>\n",
       "      <th>997</th>\n",
       "      <td>0</td>\n",
       "    </tr>\n",
       "    <tr>\n",
       "      <th>998</th>\n",
       "      <td>0</td>\n",
       "    </tr>\n",
       "    <tr>\n",
       "      <th>999</th>\n",
       "      <td>0</td>\n",
       "    </tr>\n",
       "  </tbody>\n",
       "</table>\n",
       "<p>250 rows × 1 columns</p>\n",
       "</div>"
      ],
      "text/plain": [
       "     L\n",
       "750  0\n",
       "751  0\n",
       "752  0\n",
       "753  0\n",
       "754  0\n",
       "755  0\n",
       "756  0\n",
       "757  0\n",
       "758  0\n",
       "759  0\n",
       "760  0\n",
       "761  0\n",
       "762  0\n",
       "763  0\n",
       "764  0\n",
       "765  0\n",
       "766  0\n",
       "767  0\n",
       "768  0\n",
       "769  0\n",
       "770  0\n",
       "771  0\n",
       "772  0\n",
       "773  0\n",
       "774  0\n",
       "775  0\n",
       "776  0\n",
       "777  0\n",
       "778  0\n",
       "779  0\n",
       "..  ..\n",
       "970  0\n",
       "971  0\n",
       "972  0\n",
       "973  0\n",
       "974  0\n",
       "975  0\n",
       "976  0\n",
       "977  0\n",
       "978  0\n",
       "979  0\n",
       "980  0\n",
       "981  0\n",
       "982  0\n",
       "983  0\n",
       "984  0\n",
       "985  0\n",
       "986  0\n",
       "987  0\n",
       "988  0\n",
       "989  0\n",
       "990  0\n",
       "991  0\n",
       "992  0\n",
       "993  0\n",
       "994  0\n",
       "995  0\n",
       "996  0\n",
       "997  0\n",
       "998  0\n",
       "999  0\n",
       "\n",
       "[250 rows x 1 columns]"
      ]
     },
     "execution_count": 12,
     "metadata": {},
     "output_type": "execute_result"
    }
   ],
   "source": [
    "data_test = data[int(data.shape[0] * 0.75) : data.shape[0]]\n",
    "data_test.drop('L', axis=1, inplace=True)\n",
    "\n",
    "student_model.predict(data_test)"
   ]
  },
  {
   "cell_type": "code",
   "execution_count": 13,
   "metadata": {
    "ExecuteTime": {
     "end_time": "2017-12-28T10:25:47.246446Z",
     "start_time": "2017-12-28T10:25:46.682707Z"
    }
   },
   "outputs": [],
   "source": [
    "import matplotlib.pyplot as plt\n",
    "import networkx as nx\n",
    "\n",
    "nx.draw(student_model)"
   ]
  },
  {
   "cell_type": "code",
   "execution_count": 14,
   "metadata": {
    "ExecuteTime": {
     "end_time": "2017-12-28T10:25:54.102728Z",
     "start_time": "2017-12-28T10:25:53.928324Z"
    }
   },
   "outputs": [
    {
     "data": {
      "image/png": "[encoded data removed]",
      "text/plain": [
       "<matplotlib.figure.Figure at 0x1135d5898>"
      ]
     },
     "metadata": {},
     "output_type": "display_data"
    }
   ],
   "source": [
    "plt.show()"
   ]
  },
  {
   "cell_type": "code",
   "execution_count": 16,
   "metadata": {
    "ExecuteTime": {
     "end_time": "2017-12-28T10:26:40.804380Z",
     "start_time": "2017-12-28T10:26:40.642204Z"
    }
   },
   "outputs": [
    {
     "data": {
      "image/png": "[encoded data removed]",
      "text/plain": [
       "<matplotlib.figure.Figure at 0x114814908>"
      ]
     },
     "metadata": {},
     "output_type": "display_data"
    }
   ],
   "source": [
    "nx.draw_random(student_model)\n",
    "plt.show()"
   ]
  },
  {
   "cell_type": "code",
   "execution_count": 17,
   "metadata": {
    "ExecuteTime": {
     "end_time": "2017-12-28T10:26:55.714147Z",
     "start_time": "2017-12-28T10:26:55.527689Z"
    }
   },
   "outputs": [
    {
     "data": {
      "image/png": "[encoded data removed]",
      "text/plain": [
       "<matplotlib.figure.Figure at 0x114849550>"
      ]
     },
     "metadata": {},
     "output_type": "display_data"
    }
   ],
   "source": [
    "nx.draw_circular(student_model)\n",
    "plt.show()"
   ]
  },
  {
   "cell_type": "code",
   "execution_count": 18,
   "metadata": {
    "ExecuteTime": {
     "end_time": "2017-12-28T10:27:10.179185Z",
     "start_time": "2017-12-28T10:27:09.997207Z"
    }
   },
   "outputs": [
    {
     "data": {
      "image/png": "[encoded data removed]",
      "text/plain": [
       "<matplotlib.figure.Figure at 0x114866cf8>"
      ]
     },
     "metadata": {},
     "output_type": "display_data"
    }
   ],
   "source": [
    "nx.draw_spectral(student_model)\n",
    "plt.show()"
   ]
  },
  {
   "cell_type": "code",
   "execution_count": null,
   "metadata": {},
   "outputs": [],
   "source": []
  }
 ],
 "metadata": {
  "kernelspec": {
   "display_name": "Python 3",
   "language": "python",
   "name": "python3"
  },
  "language_info": {
   "codemirror_mode": {
    "name": "ipython",
    "version": 3
   },
   "file_extension": ".py",
   "mimetype": "text/x-python",
   "name": "python",
   "nbconvert_exporter": "python",
   "pygments_lexer": "ipython3",
   "version": "3.6.3"
  },
  "toc": {
   "nav_menu": {},
   "number_sections": false,
   "sideBar": true,
   "skip_h1_title": false,
   "toc_cell": false,
   "toc_position": {},
   "toc_section_display": "none",
   "toc_window_display": false
  },
  "varInspector": {
   "cols": {
    "lenName": 16,
    "lenType": 16,
    "lenVar": 40
   },
   "kernels_config": {
    "python": {
     "delete_cmd_postfix": "",
     "delete_cmd_prefix": "del ",
     "library": "var_list.py",
     "varRefreshCmd": "print(var_dic_list())"
    },
    "r": {
     "delete_cmd_postfix": ") ",
     "delete_cmd_prefix": "rm(",
     "library": "var_list.r",
     "varRefreshCmd": "cat(var_dic_list()) "
    }
   },
   "types_to_exclude": [
    "module",
    "function",
    "builtin_function_or_method",
    "instance",
    "_Feature"
   ],
   "window_display": false
  }
 },
 "nbformat": 4,
 "nbformat_minor": 2
}
