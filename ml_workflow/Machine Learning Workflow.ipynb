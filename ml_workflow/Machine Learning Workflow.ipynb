{
 "cells": [
  {
   "cell_type": "markdown",
   "metadata": {},
   "source": [
    "# 机器学习建模项目工作流程\n",
    "\n",
    "## 简介\n",
    "\n",
    "完整的机器学习建模项目包含需求探查、问题界定、问题转化、提数需求、数据加工、特征构建、特征筛选、算法建模、投产运用等一些列基于业务、数据、算法的工作流程。本工作流程将基于`Python`语言，着重构建其中算法建模的必要流程：\n",
    "\n",
    "- 算法库导入\n",
    "- 数据导入\n",
    "- 训练、测试集划分\n",
    "- 建模基础算法构建基础比较模型\n",
    "- 构建高级算法\n",
    "- 超参数调参\n",
    "- 建模结果分析\n",
    "- 全量数据建模\n",
    "- 模型导出"
   ]
  },
  {
   "cell_type": "markdown",
   "metadata": {},
   "source": [
    "## 算法库导入\n",
    "\n",
    "Python 作为机器学习的重要编程语言，拥有丰富且高效的算法库。例如，做数据处理的`Pandas`，做基础机器学习的`scikit-learn`，以及Google开发的神经网络库`TensorFlow`等等。"
   ]
  },
  {
   "cell_type": "code",
   "execution_count": null,
   "metadata": {},
   "outputs": [],
   "source": [
    "import pandas as pd"
   ]
  },
  {
   "cell_type": "markdown",
   "metadata": {},
   "source": [
    "## 数据导入"
   ]
  },
  {
   "cell_type": "code",
   "execution_count": null,
   "metadata": {},
   "outputs": [],
   "source": [
    "wd = '/yourdatadirectory/'\n",
    "data_file = 'yourdata.csv'\n",
    "\n",
    "data = pd.read_csv(wd+data_file)"
   ]
  },
  {
   "cell_type": "code",
   "execution_count": null,
   "metadata": {},
   "outputs": [],
   "source": []
  }
 ],
 "metadata": {
  "kernelspec": {
   "display_name": "Python 3",
   "language": "python",
   "name": "python3"
  },
  "language_info": {
   "codemirror_mode": {
    "name": "ipython",
    "version": 3
   },
   "file_extension": ".py",
   "mimetype": "text/x-python",
   "name": "python",
   "nbconvert_exporter": "python",
   "pygments_lexer": "ipython3",
   "version": "3.6.3"
  },
  "toc": {
   "nav_menu": {},
   "number_sections": false,
   "sideBar": true,
   "skip_h1_title": false,
   "toc_cell": false,
   "toc_position": {},
   "toc_section_display": "none",
   "toc_window_display": false
  },
  "varInspector": {
   "cols": {
    "lenName": 16,
    "lenType": 16,
    "lenVar": 40
   },
   "kernels_config": {
    "python": {
     "delete_cmd_postfix": "",
     "delete_cmd_prefix": "del ",
     "library": "var_list.py",
     "varRefreshCmd": "print(var_dic_list())"
    },
    "r": {
     "delete_cmd_postfix": ") ",
     "delete_cmd_prefix": "rm(",
     "library": "var_list.r",
     "varRefreshCmd": "cat(var_dic_list()) "
    }
   },
   "types_to_exclude": [
    "module",
    "function",
    "builtin_function_or_method",
    "instance",
    "_Feature"
   ],
   "window_display": false
  }
 },
 "nbformat": 4,
 "nbformat_minor": 2
}
