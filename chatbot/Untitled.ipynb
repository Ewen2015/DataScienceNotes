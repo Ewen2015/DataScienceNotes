{
 "cells": [
  {
   "cell_type": "code",
   "execution_count": 24,
   "metadata": {
    "ExecuteTime": {
     "end_time": "2019-07-04T12:33:38.242551Z",
     "start_time": "2019-07-04T12:33:38.236125Z"
    }
   },
   "outputs": [],
   "source": [
    "import random\n",
    "\n",
    "\n",
    "# Sentences we'll respond with if the user greeted us\n",
    "GREETING_KEYWORDS = (\"hello\", \"hi\", \"greetings\", \"sup\", \"what's up\",)\n",
    "\n",
    "GREETING_RESPONSES = [\"'sup bro\", \"hey\", \"*nods*\", \"hey you get my snap?\"]\n",
    "\n",
    "def check_for_greeting(sentence):\n",
    "    \"\"\"If any of the words in the user's input was a greeting, return a greeting response\"\"\"\n",
    "    for word in sentence.words():\n",
    "        if word.lower() in GREETING_KEYWORDS:\n",
    "            return random.choice(GREETING_RESPONSES)"
   ]
  },
  {
   "cell_type": "code",
   "execution_count": 25,
   "metadata": {
    "ExecuteTime": {
     "end_time": "2019-07-04T12:33:38.853499Z",
     "start_time": "2019-07-04T12:33:38.847332Z"
    }
   },
   "outputs": [],
   "source": [
    "class Sentence(object):\n",
    "    \"\"\"docstring for ClassName\"\"\"\n",
    "    def __init__(self, sentence):\n",
    "        super(Sentence, self).__init__()\n",
    "        self.sentence = sentence\n",
    "    \n",
    "    def words(self):\n",
    "        return self.sentence.split()"
   ]
  },
  {
   "cell_type": "code",
   "execution_count": 34,
   "metadata": {
    "ExecuteTime": {
     "end_time": "2019-07-04T13:51:36.478122Z",
     "start_time": "2019-07-04T13:51:36.473770Z"
    }
   },
   "outputs": [],
   "source": [
    "from time import sleep\n",
    "\n",
    "def ChatBot():\n",
    "    print('Hi, there!/n')\n",
    "#     sleep(5)\n",
    "#     print('Am a boring robot, who can always reply you boring things.\\n')\n",
    "#     sleep(5)\n",
    "#     print('emmm...not my fault, but my designer...\\n')\n",
    "#     sleep(5)\n",
    "#     print('so...talk to me, will not disappoint you if you wanna a boring chat LOL\\n')\n",
    "#     sleep(5)\n",
    "    print(\"oh, remember: say 'bye' if you feel enough...\\n\")\n",
    "    \n",
    "    ask = input()\n",
    "\n",
    "    while ask != 'bye':\n",
    "        sentence = Sentence(ask)\n",
    "        response = check_for_greeting(sentence)\n",
    "        print(response)\n",
    "        ask = input()"
   ]
  },
  {
   "cell_type": "code",
   "execution_count": 36,
   "metadata": {
    "ExecuteTime": {
     "end_time": "2019-07-04T13:53:35.165719Z",
     "start_time": "2019-07-04T13:52:06.058400Z"
    }
   },
   "outputs": [
    {
     "name": "stdout",
     "output_type": "stream",
     "text": [
      "Hi, there!/n\n",
      "oh, remember: say 'bye' if you feel enough...\n",
      "\n",
      "nihao\n",
      "None\n",
      "hi bye\n",
      "*nods*\n",
      "kkk\n",
      "None\n",
      "hi\n",
      "'sup bro\n",
      "hey\n",
      "None\n",
      "hell\n",
      "None\n",
      "hello\n",
      "hey\n",
      "hey\n",
      "None\n",
      "sup\n",
      "hey\n",
      "bye\n"
     ]
    }
   ],
   "source": [
    "ChatBot()"
   ]
  },
  {
   "cell_type": "code",
   "execution_count": null,
   "metadata": {},
   "outputs": [],
   "source": []
  }
 ],
 "metadata": {
  "kernelspec": {
   "display_name": "python3.7",
   "language": "python",
   "name": "python3.7"
  },
  "language_info": {
   "codemirror_mode": {
    "name": "ipython",
    "version": 3
   },
   "file_extension": ".py",
   "mimetype": "text/x-python",
   "name": "python",
   "nbconvert_exporter": "python",
   "pygments_lexer": "ipython3",
   "version": "3.7.3"
  },
  "toc": {
   "nav_menu": {},
   "number_sections": true,
   "sideBar": true,
   "skip_h1_title": false,
   "toc_cell": false,
   "toc_position": {},
   "toc_section_display": "block",
   "toc_window_display": false
  },
  "varInspector": {
   "cols": {
    "lenName": 16,
    "lenType": 16,
    "lenVar": 40
   },
   "kernels_config": {
    "python": {
     "delete_cmd_postfix": "",
     "delete_cmd_prefix": "del ",
     "library": "var_list.py",
     "varRefreshCmd": "print(var_dic_list())"
    },
    "r": {
     "delete_cmd_postfix": ") ",
     "delete_cmd_prefix": "rm(",
     "library": "var_list.r",
     "varRefreshCmd": "cat(var_dic_list()) "
    }
   },
   "types_to_exclude": [
    "module",
    "function",
    "builtin_function_or_method",
    "instance",
    "_Feature"
   ],
   "window_display": false
  }
 },
 "nbformat": 4,
 "nbformat_minor": 2
}
