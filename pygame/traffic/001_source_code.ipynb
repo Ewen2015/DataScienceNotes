{
 "cells": [
  {
   "cell_type": "code",
   "execution_count": 1,
   "id": "b79ef9f8-ee49-4d5d-8754-eb37d39f21b0",
   "metadata": {},
   "outputs": [
    {
     "name": "stdout",
     "output_type": "stream",
     "text": [
      "pygame 2.1.2 (SDL 2.0.18, Python 3.8.9)\n",
      "Hello from the pygame community. https://www.pygame.org/contribute.html\n"
     ]
    }
   ],
   "source": [
    "from traficSimulator import *"
   ]
  },
  {
   "cell_type": "code",
   "execution_count": 2,
   "id": "1ac0725f-0139-42ba-beca-565afeebade0",
   "metadata": {},
   "outputs": [],
   "source": [
    "sim = Simulation()"
   ]
  },
  {
   "cell_type": "code",
   "execution_count": 3,
   "id": "0b353029-f11d-4b30-acd0-1eef0c0b0077",
   "metadata": {},
   "outputs": [
    {
     "data": {
      "text/plain": [
       "<traficSimulator.road.Road at 0x107a4ea00>"
      ]
     },
     "execution_count": 3,
     "metadata": {},
     "output_type": "execute_result"
    }
   ],
   "source": [
    "# Add one road\n",
    "sim.create_road((300, 98), (0, 98))"
   ]
  },
  {
   "cell_type": "code",
   "execution_count": 4,
   "id": "884e1934-dde5-49e2-88f2-ee7e9987731a",
   "metadata": {},
   "outputs": [],
   "source": [
    "# Start simulation\n",
    "win = Window(sim)\n",
    "win.loop()"
   ]
  },
  {
   "cell_type": "code",
   "execution_count": null,
   "id": "6944b3cd-f78d-459c-8c94-798ba1a2b295",
   "metadata": {},
   "outputs": [],
   "source": []
  }
 ],
 "metadata": {
  "kernelspec": {
   "display_name": "Python 3 (ipykernel)",
   "language": "python",
   "name": "python3"
  },
  "language_info": {
   "codemirror_mode": {
    "name": "ipython",
    "version": 3
   },
   "file_extension": ".py",
   "mimetype": "text/x-python",
   "name": "python",
   "nbconvert_exporter": "python",
   "pygments_lexer": "ipython3",
   "version": "3.8.9"
  }
 },
 "nbformat": 4,
 "nbformat_minor": 5
}
