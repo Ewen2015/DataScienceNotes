{
 "cells": [
  {
   "cell_type": "markdown",
   "id": "widespread-interference",
   "metadata": {},
   "source": [
    "# Dice Game\n",
    "\n",
    "Two players play the dice game. Each one got $1000 at the beginning.\n",
    "\n",
    "**Steps:**\n",
    "\n",
    "1. Two players roll a dice sperately.\n",
    "2. The one getting a bigger number wins $10 from the other player.\n",
    "3. Return to step1."
   ]
  },
  {
   "cell_type": "code",
   "execution_count": 1,
   "id": "absolute-journey",
   "metadata": {},
   "outputs": [],
   "source": [
    "import os\n",
    "import random\n",
    "import pandas as pd"
   ]
  },
  {
   "cell_type": "code",
   "execution_count": 2,
   "id": "tested-growing",
   "metadata": {},
   "outputs": [
    {
     "data": {
      "text/html": [
       "<div>\n",
       "<style scoped>\n",
       "    .dataframe tbody tr th:only-of-type {\n",
       "        vertical-align: middle;\n",
       "    }\n",
       "\n",
       "    .dataframe tbody tr th {\n",
       "        vertical-align: top;\n",
       "    }\n",
       "\n",
       "    .dataframe thead th {\n",
       "        text-align: right;\n",
       "    }\n",
       "</style>\n",
       "<table border=\"1\" class=\"dataframe\">\n",
       "  <thead>\n",
       "    <tr style=\"text-align: right;\">\n",
       "      <th></th>\n",
       "      <th>PART1</th>\n",
       "      <th>PART2</th>\n",
       "      <th>PROB_1</th>\n",
       "      <th>PROB_2</th>\n",
       "      <th>RATIO_1</th>\n",
       "      <th>RATIO_2</th>\n",
       "      <th>WINNER</th>\n",
       "      <th>BALANCE_1</th>\n",
       "      <th>BALANCE_2</th>\n",
       "    </tr>\n",
       "  </thead>\n",
       "  <tbody>\n",
       "    <tr>\n",
       "      <th>0</th>\n",
       "      <td>4</td>\n",
       "      <td>6</td>\n",
       "      <td></td>\n",
       "      <td></td>\n",
       "      <td></td>\n",
       "      <td></td>\n",
       "      <td></td>\n",
       "      <td></td>\n",
       "      <td></td>\n",
       "    </tr>\n",
       "    <tr>\n",
       "      <th>1</th>\n",
       "      <td>4</td>\n",
       "      <td>3</td>\n",
       "      <td></td>\n",
       "      <td></td>\n",
       "      <td></td>\n",
       "      <td></td>\n",
       "      <td></td>\n",
       "      <td></td>\n",
       "      <td></td>\n",
       "    </tr>\n",
       "    <tr>\n",
       "      <th>2</th>\n",
       "      <td>1</td>\n",
       "      <td>4</td>\n",
       "      <td></td>\n",
       "      <td></td>\n",
       "      <td></td>\n",
       "      <td></td>\n",
       "      <td></td>\n",
       "      <td></td>\n",
       "      <td></td>\n",
       "    </tr>\n",
       "    <tr>\n",
       "      <th>3</th>\n",
       "      <td>3</td>\n",
       "      <td>1</td>\n",
       "      <td></td>\n",
       "      <td></td>\n",
       "      <td></td>\n",
       "      <td></td>\n",
       "      <td></td>\n",
       "      <td></td>\n",
       "      <td></td>\n",
       "    </tr>\n",
       "    <tr>\n",
       "      <th>4</th>\n",
       "      <td>5</td>\n",
       "      <td>1</td>\n",
       "      <td></td>\n",
       "      <td></td>\n",
       "      <td></td>\n",
       "      <td></td>\n",
       "      <td></td>\n",
       "      <td></td>\n",
       "      <td></td>\n",
       "    </tr>\n",
       "  </tbody>\n",
       "</table>\n",
       "</div>"
      ],
      "text/plain": [
       "   PART1  PART2 PROB_1 PROB_2 RATIO_1 RATIO_2 WINNER BALANCE_1 BALANCE_2\n",
       "0      4      6                                                         \n",
       "1      4      3                                                         \n",
       "2      1      4                                                         \n",
       "3      3      1                                                         \n",
       "4      5      1                                                         "
      ]
     },
     "execution_count": 2,
     "metadata": {},
     "output_type": "execute_result"
    }
   ],
   "source": [
    "random.seed(0)\n",
    "NUM = 100\n",
    "\n",
    "results = pd.DataFrame()\n",
    "results['PART1'] = [random.randint(1, 6) for x in range(NUM)]\n",
    "results['PART2'] = [random.randint(1, 6) for x in range(NUM)]\n",
    "results['PROB_1'] = ''\n",
    "results['PROB_2'] = ''\n",
    "results['RATIO_1'] = ''\n",
    "results['RATIO_2'] = ''\n",
    "results['WINNER'] = ''\n",
    "results['BALANCE_1'] = ''\n",
    "results['BALANCE_2'] = ''\n",
    "results.head()"
   ]
  },
  {
   "cell_type": "code",
   "execution_count": 3,
   "id": "cordless-record",
   "metadata": {},
   "outputs": [],
   "source": [
    "results.to_csv(os.getcwd()+'/dice_game_results.csv', index=False)"
   ]
  },
  {
   "cell_type": "markdown",
   "id": "painful-recipe",
   "metadata": {},
   "source": [
    "**Tasks:**\n",
    "\n",
    "1. Choose one player from the above two and use your strategy to play the game (suppose the other player will always play regardless the dice he got);\n",
    "2. Calculate your probability to win (`PROB_1` or `PROB_2`);\n",
    "3. Calculate your win ratio (`RATIO_1` or `RATIO_2`);\n",
    "4. Find out the winner (`WINNER`);\n",
    "5. Find out your balance (`BALANCE_1` or `BALANCE_2`).\n",
    "6. Who is the final winner?"
   ]
  }
 ],
 "metadata": {
  "kernelspec": {
   "display_name": "Python 3",
   "language": "python",
   "name": "python3"
  },
  "language_info": {
   "codemirror_mode": {
    "name": "ipython",
    "version": 3
   },
   "file_extension": ".py",
   "mimetype": "text/x-python",
   "name": "python",
   "nbconvert_exporter": "python",
   "pygments_lexer": "ipython3",
   "version": "3.8.6"
  },
  "toc-autonumbering": false,
  "toc-showcode": false
 },
 "nbformat": 4,
 "nbformat_minor": 5
}
