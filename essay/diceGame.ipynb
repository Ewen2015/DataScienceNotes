{
 "cells": [
  {
   "cell_type": "markdown",
   "id": "convertible-arctic",
   "metadata": {},
   "source": [
    "# Dice Game\n",
    "\n",
    "**Steps:**\n",
    "\n",
    "1. Two players roll a dice sperately.\n",
    "2. Players take a look at thier own dice and decide weather to continue.\n",
    "3. The one getting a bigger number wins $10 from the other player.\n",
    "4. Return to step1."
   ]
  },
  {
   "cell_type": "code",
   "execution_count": 1,
   "id": "royal-catholic",
   "metadata": {},
   "outputs": [],
   "source": [
    "import os\n",
    "import random\n",
    "import pandas as pd"
   ]
  },
  {
   "cell_type": "code",
   "execution_count": 2,
   "id": "optional-volume",
   "metadata": {},
   "outputs": [
    {
     "data": {
      "text/html": [
       "<div>\n",
       "<style scoped>\n",
       "    .dataframe tbody tr th:only-of-type {\n",
       "        vertical-align: middle;\n",
       "    }\n",
       "\n",
       "    .dataframe tbody tr th {\n",
       "        vertical-align: top;\n",
       "    }\n",
       "\n",
       "    .dataframe thead th {\n",
       "        text-align: right;\n",
       "    }\n",
       "</style>\n",
       "<table border=\"1\" class=\"dataframe\">\n",
       "  <thead>\n",
       "    <tr style=\"text-align: right;\">\n",
       "      <th></th>\n",
       "      <th>PART1</th>\n",
       "      <th>PART2</th>\n",
       "      <th>PROB_1</th>\n",
       "      <th>PROB_2</th>\n",
       "      <th>KELLY_1</th>\n",
       "      <th>KELLY_2</th>\n",
       "      <th>WINNER</th>\n",
       "    </tr>\n",
       "  </thead>\n",
       "  <tbody>\n",
       "    <tr>\n",
       "      <th>0</th>\n",
       "      <td>4</td>\n",
       "      <td>6</td>\n",
       "      <td></td>\n",
       "      <td></td>\n",
       "      <td></td>\n",
       "      <td></td>\n",
       "      <td></td>\n",
       "    </tr>\n",
       "    <tr>\n",
       "      <th>1</th>\n",
       "      <td>4</td>\n",
       "      <td>3</td>\n",
       "      <td></td>\n",
       "      <td></td>\n",
       "      <td></td>\n",
       "      <td></td>\n",
       "      <td></td>\n",
       "    </tr>\n",
       "    <tr>\n",
       "      <th>2</th>\n",
       "      <td>1</td>\n",
       "      <td>4</td>\n",
       "      <td></td>\n",
       "      <td></td>\n",
       "      <td></td>\n",
       "      <td></td>\n",
       "      <td></td>\n",
       "    </tr>\n",
       "    <tr>\n",
       "      <th>3</th>\n",
       "      <td>3</td>\n",
       "      <td>1</td>\n",
       "      <td></td>\n",
       "      <td></td>\n",
       "      <td></td>\n",
       "      <td></td>\n",
       "      <td></td>\n",
       "    </tr>\n",
       "    <tr>\n",
       "      <th>4</th>\n",
       "      <td>5</td>\n",
       "      <td>1</td>\n",
       "      <td></td>\n",
       "      <td></td>\n",
       "      <td></td>\n",
       "      <td></td>\n",
       "      <td></td>\n",
       "    </tr>\n",
       "  </tbody>\n",
       "</table>\n",
       "</div>"
      ],
      "text/plain": [
       "   PART1  PART2 PROB_1 PROB_2 KELLY_1 KELLY_2 WINNER\n",
       "0      4      6                                     \n",
       "1      4      3                                     \n",
       "2      1      4                                     \n",
       "3      3      1                                     \n",
       "4      5      1                                     "
      ]
     },
     "execution_count": 2,
     "metadata": {},
     "output_type": "execute_result"
    }
   ],
   "source": [
    "random.seed(0)\n",
    "NUM = 100\n",
    "\n",
    "results = pd.DataFrame()\n",
    "results['PART1'] = [random.randint(1, 6) for x in range(NUM)]\n",
    "results['PART2'] = [random.randint(1, 6) for x in range(NUM)]\n",
    "results['PROB_1'] = ''\n",
    "results['PROB_2'] = ''\n",
    "results['KELLY_1'] = ''\n",
    "results['KELLY_2'] = ''\n",
    "results['WINNER'] = ''\n",
    "results.head()"
   ]
  },
  {
   "cell_type": "markdown",
   "id": "cellular-station",
   "metadata": {},
   "source": [
    "**Tasks:**\n",
    "\n",
    "1. Choose one player from the above two and use your strategy to play the game (suppose the other player will always play regardless the dice he got);\n",
    "2. Calculate your probability to win (`PROB_1` or `PROB_2`);;\n",
    "3. Find out the winner (`WINNER`);\n",
    "4. Find out who is the final winner after 1000 turns."
   ]
  },
  {
   "cell_type": "markdown",
   "id": "fifth-strap",
   "metadata": {},
   "source": [
    "**Answers**\n",
    "\n",
    "Take the role of player 1 and use the Kelly Method -- only play if `p - q > 0`."
   ]
  },
  {
   "cell_type": "code",
   "execution_count": 3,
   "id": "innovative-monitoring",
   "metadata": {},
   "outputs": [],
   "source": [
    "results['PROB_1'] = results['PART1'].apply(lambda x: (x-1)/6)\n",
    "results['PROB_2'] = results['PART2'].apply(lambda x: (x-1)/6)\n",
    "\n",
    "results['KELLY_1'] = results['PROB_1'].apply(lambda x: 1 if 2*x-1 >= 0 else 0)\n",
    "results['KELLY_2'] = results['PROB_2'].apply(lambda x: 1 if 2*x-1 >= 0 else 0)\n",
    "\n",
    "results['WINNER'] = results['KELLY_1'] * results[['PART1', 'PART2']].apply(lambda x: 1 if x[0] > x[1] else 2, axis=1)"
   ]
  },
  {
   "cell_type": "code",
   "execution_count": 4,
   "id": "relative-appointment",
   "metadata": {},
   "outputs": [
    {
     "data": {
      "text/html": [
       "<div>\n",
       "<style scoped>\n",
       "    .dataframe tbody tr th:only-of-type {\n",
       "        vertical-align: middle;\n",
       "    }\n",
       "\n",
       "    .dataframe tbody tr th {\n",
       "        vertical-align: top;\n",
       "    }\n",
       "\n",
       "    .dataframe thead th {\n",
       "        text-align: right;\n",
       "    }\n",
       "</style>\n",
       "<table border=\"1\" class=\"dataframe\">\n",
       "  <thead>\n",
       "    <tr style=\"text-align: right;\">\n",
       "      <th></th>\n",
       "      <th>PART1</th>\n",
       "      <th>PART2</th>\n",
       "      <th>PROB_1</th>\n",
       "      <th>PROB_2</th>\n",
       "      <th>KELLY_1</th>\n",
       "      <th>KELLY_2</th>\n",
       "      <th>WINNER</th>\n",
       "    </tr>\n",
       "  </thead>\n",
       "  <tbody>\n",
       "    <tr>\n",
       "      <th>0</th>\n",
       "      <td>4</td>\n",
       "      <td>6</td>\n",
       "      <td>0.500000</td>\n",
       "      <td>0.833333</td>\n",
       "      <td>1</td>\n",
       "      <td>1</td>\n",
       "      <td>2</td>\n",
       "    </tr>\n",
       "    <tr>\n",
       "      <th>1</th>\n",
       "      <td>4</td>\n",
       "      <td>3</td>\n",
       "      <td>0.500000</td>\n",
       "      <td>0.333333</td>\n",
       "      <td>1</td>\n",
       "      <td>0</td>\n",
       "      <td>1</td>\n",
       "    </tr>\n",
       "    <tr>\n",
       "      <th>2</th>\n",
       "      <td>1</td>\n",
       "      <td>4</td>\n",
       "      <td>0.000000</td>\n",
       "      <td>0.500000</td>\n",
       "      <td>0</td>\n",
       "      <td>1</td>\n",
       "      <td>0</td>\n",
       "    </tr>\n",
       "    <tr>\n",
       "      <th>3</th>\n",
       "      <td>3</td>\n",
       "      <td>1</td>\n",
       "      <td>0.333333</td>\n",
       "      <td>0.000000</td>\n",
       "      <td>0</td>\n",
       "      <td>0</td>\n",
       "      <td>0</td>\n",
       "    </tr>\n",
       "    <tr>\n",
       "      <th>4</th>\n",
       "      <td>5</td>\n",
       "      <td>1</td>\n",
       "      <td>0.666667</td>\n",
       "      <td>0.000000</td>\n",
       "      <td>1</td>\n",
       "      <td>0</td>\n",
       "      <td>1</td>\n",
       "    </tr>\n",
       "  </tbody>\n",
       "</table>\n",
       "</div>"
      ],
      "text/plain": [
       "   PART1  PART2    PROB_1    PROB_2  KELLY_1  KELLY_2  WINNER\n",
       "0      4      6  0.500000  0.833333        1        1       2\n",
       "1      4      3  0.500000  0.333333        1        0       1\n",
       "2      1      4  0.000000  0.500000        0        1       0\n",
       "3      3      1  0.333333  0.000000        0        0       0\n",
       "4      5      1  0.666667  0.000000        1        0       1"
      ]
     },
     "execution_count": 4,
     "metadata": {},
     "output_type": "execute_result"
    }
   ],
   "source": [
    "results.head()"
   ]
  },
  {
   "cell_type": "code",
   "execution_count": 5,
   "id": "contained-uganda",
   "metadata": {},
   "outputs": [
    {
     "data": {
      "text/html": [
       "<div>\n",
       "<style scoped>\n",
       "    .dataframe tbody tr th:only-of-type {\n",
       "        vertical-align: middle;\n",
       "    }\n",
       "\n",
       "    .dataframe tbody tr th {\n",
       "        vertical-align: top;\n",
       "    }\n",
       "\n",
       "    .dataframe thead th {\n",
       "        text-align: right;\n",
       "    }\n",
       "</style>\n",
       "<table border=\"1\" class=\"dataframe\">\n",
       "  <thead>\n",
       "    <tr style=\"text-align: right;\">\n",
       "      <th></th>\n",
       "      <th>count</th>\n",
       "    </tr>\n",
       "    <tr>\n",
       "      <th>WINNER</th>\n",
       "      <th></th>\n",
       "    </tr>\n",
       "  </thead>\n",
       "  <tbody>\n",
       "    <tr>\n",
       "      <th>0</th>\n",
       "      <td>50</td>\n",
       "    </tr>\n",
       "    <tr>\n",
       "      <th>1</th>\n",
       "      <td>32</td>\n",
       "    </tr>\n",
       "    <tr>\n",
       "      <th>2</th>\n",
       "      <td>18</td>\n",
       "    </tr>\n",
       "  </tbody>\n",
       "</table>\n",
       "</div>"
      ],
      "text/plain": [
       "        count\n",
       "WINNER       \n",
       "0          50\n",
       "1          32\n",
       "2          18"
      ]
     },
     "execution_count": 5,
     "metadata": {},
     "output_type": "execute_result"
    }
   ],
   "source": [
    "results[['PART1', 'WINNER']].groupby(by='WINNER').count().rename(columns={'PART1': 'count'})"
   ]
  },
  {
   "cell_type": "markdown",
   "id": "protective-appearance",
   "metadata": {},
   "source": [
    "According to the summary table above, it is clear that the player 1 with the Kelly Method won 14 more times than player 2. The simulation illustrates the effectiveness of the Kelly Method."
   ]
  },
  {
   "cell_type": "code",
   "execution_count": 6,
   "id": "chemical-enzyme",
   "metadata": {},
   "outputs": [],
   "source": [
    "results.to_csv(os.getcwd()+'/dice_game_results.csv', index=False)"
   ]
  }
 ],
 "metadata": {
  "kernelspec": {
   "display_name": "Python 3",
   "language": "python",
   "name": "python3"
  },
  "language_info": {
   "codemirror_mode": {
    "name": "ipython",
    "version": 3
   },
   "file_extension": ".py",
   "mimetype": "text/x-python",
   "name": "python",
   "nbconvert_exporter": "python",
   "pygments_lexer": "ipython3",
   "version": "3.8.6"
  },
  "toc-autonumbering": false,
  "toc-showcode": false
 },
 "nbformat": 4,
 "nbformat_minor": 5
}
