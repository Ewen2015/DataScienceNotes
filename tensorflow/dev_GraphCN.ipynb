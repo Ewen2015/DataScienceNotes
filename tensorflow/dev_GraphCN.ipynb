{
 "cells": [
  {
   "cell_type": "code",
   "execution_count": 1,
   "metadata": {
    "ExecuteTime": {
     "end_time": "2018-12-05T12:31:47.249339Z",
     "start_time": "2018-12-05T12:31:38.485523Z"
    }
   },
   "outputs": [],
   "source": [
    "import pandas as pd\n",
    "\n",
    "wd = '/Users/ewenwang/Documents/practice_data/conversion_rate/'\n",
    "data = 'round1_ijcai_18_train_20180301.txt'\n",
    "\n",
    "target = 'is_trade'\n",
    "features = ['item_price_level', 'item_sales_level', 'item_collected_level', 'item_pv_level', \n",
    "            'user_gender_id', 'user_age_level', 'user_occupation_id', 'user_star_level']\n",
    "sourcetarget = ['user_id', 'item_id']\n",
    "nodecol = 'user_id'\n",
    "\n",
    "data = pd.read_csv(wd+data, sep=' ')\n",
    "\n",
    "data = data.head(1000)\n",
    "\n",
    "edgelist = pd.DataFrame()\n",
    "edgelist['user_id'] = data.user_id\n",
    "edgelist['item_id'] = data.item_id\n",
    "\n",
    "df_target = data[sourcetarget+[target]].groupby(sourcetarget ,as_index=False).sum()\n",
    "df_features = data[sourcetarget+features].groupby(sourcetarget, as_index=False).mean()\n",
    "\n",
    "df = df_target.merge(df_features, how='left', on=sourcetarget)"
   ]
  },
  {
   "cell_type": "code",
   "execution_count": 2,
   "metadata": {
    "ExecuteTime": {
     "end_time": "2018-12-05T12:31:53.386859Z",
     "start_time": "2018-12-05T12:31:47.251995Z"
    }
   },
   "outputs": [],
   "source": [
    "from GraphCN import GraphCN"
   ]
  },
  {
   "cell_type": "code",
   "execution_count": 3,
   "metadata": {
    "ExecuteTime": {
     "end_time": "2018-12-05T12:31:53.487772Z",
     "start_time": "2018-12-05T12:31:53.389724Z"
    }
   },
   "outputs": [],
   "source": [
    "gcn = GraphCN(edgelist, df, nodecol, target, features)"
   ]
  },
  {
   "cell_type": "code",
   "execution_count": 4,
   "metadata": {
    "ExecuteTime": {
     "end_time": "2018-12-05T12:31:54.370126Z",
     "start_time": "2018-12-05T12:31:53.490968Z"
    },
    "scrolled": false
   },
   "outputs": [
    {
     "name": "stdout",
     "output_type": "stream",
     "text": [
      "0 \tloss: 0.000000\n",
      "10 \tloss: 0.000000\n",
      "20 \tloss: 0.000000\n",
      "30 \tloss: 0.000000\n",
      "40 \tloss: 0.000000\n",
      "50 \tloss: 0.000000\n",
      "60 \tloss: 0.000000\n",
      "70 \tloss: 0.000000\n",
      "80 \tloss: 0.000000\n",
      "90 \tloss: 0.000000\n",
      "model saved in path: ../model/model.ckpt\n"
     ]
    }
   ],
   "source": [
    "gcn.model(n_epochs=100, verbose=10)"
   ]
  },
  {
   "cell_type": "code",
   "execution_count": null,
   "metadata": {},
   "outputs": [],
   "source": []
  }
 ],
 "metadata": {
  "kernelspec": {
   "display_name": "Python 3",
   "language": "python",
   "name": "python3"
  },
  "language_info": {
   "codemirror_mode": {
    "name": "ipython",
    "version": 3
   },
   "file_extension": ".py",
   "mimetype": "text/x-python",
   "name": "python",
   "nbconvert_exporter": "python",
   "pygments_lexer": "ipython3",
   "version": "3.6.3"
  },
  "toc": {
   "nav_menu": {},
   "number_sections": true,
   "sideBar": true,
   "skip_h1_title": false,
   "toc_cell": false,
   "toc_position": {},
   "toc_section_display": "block",
   "toc_window_display": false
  },
  "varInspector": {
   "cols": {
    "lenName": 16,
    "lenType": 16,
    "lenVar": 40
   },
   "kernels_config": {
    "python": {
     "delete_cmd_postfix": "",
     "delete_cmd_prefix": "del ",
     "library": "var_list.py",
     "varRefreshCmd": "print(var_dic_list())"
    },
    "r": {
     "delete_cmd_postfix": ") ",
     "delete_cmd_prefix": "rm(",
     "library": "var_list.r",
     "varRefreshCmd": "cat(var_dic_list()) "
    }
   },
   "types_to_exclude": [
    "module",
    "function",
    "builtin_function_or_method",
    "instance",
    "_Feature"
   ],
   "window_display": false
  }
 },
 "nbformat": 4,
 "nbformat_minor": 2
}
