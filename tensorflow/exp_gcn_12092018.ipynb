{
 "cells": [
  {
   "cell_type": "code",
   "execution_count": 1,
   "metadata": {
    "ExecuteTime": {
     "end_time": "2018-12-17T06:41:50.108443Z",
     "start_time": "2018-12-17T06:41:39.439827Z"
    }
   },
   "outputs": [],
   "source": [
    "import pandas as pd\n",
    "\n",
    "import numpy as np\n",
    "import tensorflow as tf\n",
    "import networkx as nx\n",
    "\n",
    "wd = '/Users/ewenwang/Documents/practice_data/conversion_rate/'\n",
    "data = 'round1_ijcai_18_train_20180301.txt'\n",
    "\n",
    "target = 'is_trade'\n",
    "features = ['user_gender_id', 'user_age_level', 'user_occupation_id', 'user_star_level', \n",
    "            'item_price_level', 'item_sales_level', 'item_collected_level', 'item_pv_level', \n",
    "            'shop_review_num_level', 'shop_review_positive_rate', 'shop_score_service', 'shop_score_delivery', 'shop_score_description']\n",
    "\n",
    "sourcetarget = ['user_id', 'item_id']\n",
    "\n",
    "nodecol = 'user_id'"
   ]
  },
  {
   "cell_type": "code",
   "execution_count": 2,
   "metadata": {
    "ExecuteTime": {
     "end_time": "2018-12-17T06:41:58.254734Z",
     "start_time": "2018-12-17T06:41:51.194029Z"
    }
   },
   "outputs": [],
   "source": [
    "data = pd.read_csv(wd+data, sep=' ')"
   ]
  },
  {
   "cell_type": "code",
   "execution_count": 3,
   "metadata": {
    "ExecuteTime": {
     "end_time": "2018-12-17T06:41:58.893550Z",
     "start_time": "2018-12-17T06:41:58.889145Z"
    }
   },
   "outputs": [],
   "source": [
    "data = data.head(2000)"
   ]
  },
  {
   "cell_type": "code",
   "execution_count": 4,
   "metadata": {
    "ExecuteTime": {
     "end_time": "2018-12-17T06:41:59.990082Z",
     "start_time": "2018-12-17T06:41:59.923423Z"
    }
   },
   "outputs": [],
   "source": [
    "edgelist = pd.DataFrame()\n",
    "edgelist['user_id'] = data.user_id\n",
    "edgelist['item_id'] = data.item_id\n",
    "\n",
    "df_target = data[sourcetarget+[target]].groupby(sourcetarget ,as_index=False).sum()\n",
    "df_features = data[sourcetarget+features].groupby(sourcetarget, as_index=False).mean()\n",
    "\n",
    "df = df_target.merge(df_features, how='left', on=sourcetarget)"
   ]
  },
  {
   "cell_type": "code",
   "execution_count": 5,
   "metadata": {
    "ExecuteTime": {
     "end_time": "2018-12-17T06:42:00.545250Z",
     "start_time": "2018-12-17T06:42:00.516217Z"
    }
   },
   "outputs": [
    {
     "data": {
      "text/html": [
       "<div>\n",
       "<style scoped>\n",
       "    .dataframe tbody tr th:only-of-type {\n",
       "        vertical-align: middle;\n",
       "    }\n",
       "\n",
       "    .dataframe tbody tr th {\n",
       "        vertical-align: top;\n",
       "    }\n",
       "\n",
       "    .dataframe thead th {\n",
       "        text-align: right;\n",
       "    }\n",
       "</style>\n",
       "<table border=\"1\" class=\"dataframe\">\n",
       "  <thead>\n",
       "    <tr style=\"text-align: right;\">\n",
       "      <th></th>\n",
       "      <th>user_id</th>\n",
       "      <th>item_id</th>\n",
       "      <th>is_trade</th>\n",
       "      <th>user_gender_id</th>\n",
       "      <th>user_age_level</th>\n",
       "      <th>user_occupation_id</th>\n",
       "      <th>user_star_level</th>\n",
       "      <th>item_price_level</th>\n",
       "      <th>item_sales_level</th>\n",
       "      <th>item_collected_level</th>\n",
       "      <th>item_pv_level</th>\n",
       "      <th>shop_review_num_level</th>\n",
       "      <th>shop_review_positive_rate</th>\n",
       "      <th>shop_score_service</th>\n",
       "      <th>shop_score_delivery</th>\n",
       "      <th>shop_score_description</th>\n",
       "    </tr>\n",
       "  </thead>\n",
       "  <tbody>\n",
       "    <tr>\n",
       "      <th>0</th>\n",
       "      <td>8078017541935668</td>\n",
       "      <td>4215883534709645310</td>\n",
       "      <td>0</td>\n",
       "      <td>0</td>\n",
       "      <td>1002</td>\n",
       "      <td>2005</td>\n",
       "      <td>3006</td>\n",
       "      <td>7</td>\n",
       "      <td>11</td>\n",
       "      <td>13</td>\n",
       "      <td>19</td>\n",
       "      <td>21</td>\n",
       "      <td>0.99704</td>\n",
       "      <td>0.979661</td>\n",
       "      <td>0.979589</td>\n",
       "      <td>0.975442</td>\n",
       "    </tr>\n",
       "    <tr>\n",
       "      <th>1</th>\n",
       "      <td>8078017541935668</td>\n",
       "      <td>8824610546121211352</td>\n",
       "      <td>0</td>\n",
       "      <td>0</td>\n",
       "      <td>1002</td>\n",
       "      <td>2005</td>\n",
       "      <td>3006</td>\n",
       "      <td>7</td>\n",
       "      <td>11</td>\n",
       "      <td>12</td>\n",
       "      <td>19</td>\n",
       "      <td>21</td>\n",
       "      <td>0.99704</td>\n",
       "      <td>0.979661</td>\n",
       "      <td>0.979589</td>\n",
       "      <td>0.975442</td>\n",
       "    </tr>\n",
       "    <tr>\n",
       "      <th>2</th>\n",
       "      <td>18242482054767926</td>\n",
       "      <td>5323767931396822716</td>\n",
       "      <td>0</td>\n",
       "      <td>0</td>\n",
       "      <td>1003</td>\n",
       "      <td>2005</td>\n",
       "      <td>3004</td>\n",
       "      <td>7</td>\n",
       "      <td>13</td>\n",
       "      <td>14</td>\n",
       "      <td>19</td>\n",
       "      <td>16</td>\n",
       "      <td>1.00000</td>\n",
       "      <td>0.967400</td>\n",
       "      <td>0.967237</td>\n",
       "      <td>0.983510</td>\n",
       "    </tr>\n",
       "    <tr>\n",
       "      <th>3</th>\n",
       "      <td>23297531048455633</td>\n",
       "      <td>4215883534709645310</td>\n",
       "      <td>0</td>\n",
       "      <td>0</td>\n",
       "      <td>1003</td>\n",
       "      <td>2002</td>\n",
       "      <td>3006</td>\n",
       "      <td>7</td>\n",
       "      <td>11</td>\n",
       "      <td>13</td>\n",
       "      <td>19</td>\n",
       "      <td>21</td>\n",
       "      <td>0.99704</td>\n",
       "      <td>0.979661</td>\n",
       "      <td>0.979589</td>\n",
       "      <td>0.975442</td>\n",
       "    </tr>\n",
       "    <tr>\n",
       "      <th>4</th>\n",
       "      <td>23297531048455633</td>\n",
       "      <td>8824610546121211352</td>\n",
       "      <td>0</td>\n",
       "      <td>0</td>\n",
       "      <td>1003</td>\n",
       "      <td>2002</td>\n",
       "      <td>3006</td>\n",
       "      <td>7</td>\n",
       "      <td>11</td>\n",
       "      <td>12</td>\n",
       "      <td>19</td>\n",
       "      <td>21</td>\n",
       "      <td>0.99704</td>\n",
       "      <td>0.979661</td>\n",
       "      <td>0.979589</td>\n",
       "      <td>0.975442</td>\n",
       "    </tr>\n",
       "  </tbody>\n",
       "</table>\n",
       "</div>"
      ],
      "text/plain": [
       "             user_id              item_id  is_trade  user_gender_id  \\\n",
       "0   8078017541935668  4215883534709645310         0               0   \n",
       "1   8078017541935668  8824610546121211352         0               0   \n",
       "2  18242482054767926  5323767931396822716         0               0   \n",
       "3  23297531048455633  4215883534709645310         0               0   \n",
       "4  23297531048455633  8824610546121211352         0               0   \n",
       "\n",
       "   user_age_level  user_occupation_id  user_star_level  item_price_level  \\\n",
       "0            1002                2005             3006                 7   \n",
       "1            1002                2005             3006                 7   \n",
       "2            1003                2005             3004                 7   \n",
       "3            1003                2002             3006                 7   \n",
       "4            1003                2002             3006                 7   \n",
       "\n",
       "   item_sales_level  item_collected_level  item_pv_level  \\\n",
       "0                11                    13             19   \n",
       "1                11                    12             19   \n",
       "2                13                    14             19   \n",
       "3                11                    13             19   \n",
       "4                11                    12             19   \n",
       "\n",
       "   shop_review_num_level  shop_review_positive_rate  shop_score_service  \\\n",
       "0                     21                    0.99704            0.979661   \n",
       "1                     21                    0.99704            0.979661   \n",
       "2                     16                    1.00000            0.967400   \n",
       "3                     21                    0.99704            0.979661   \n",
       "4                     21                    0.99704            0.979661   \n",
       "\n",
       "   shop_score_delivery  shop_score_description  \n",
       "0             0.979589                0.975442  \n",
       "1             0.979589                0.975442  \n",
       "2             0.967237                0.983510  \n",
       "3             0.979589                0.975442  \n",
       "4             0.979589                0.975442  "
      ]
     },
     "execution_count": 5,
     "metadata": {},
     "output_type": "execute_result"
    }
   ],
   "source": [
    "df.head()"
   ]
  },
  {
   "cell_type": "code",
   "execution_count": 39,
   "metadata": {
    "ExecuteTime": {
     "end_time": "2018-12-17T07:16:37.629175Z",
     "start_time": "2018-12-17T07:16:37.622304Z"
    }
   },
   "outputs": [],
   "source": [
    "def onehot_encoder(target_ls):\n",
    "    classes = set(target_ls)\n",
    "    classes_dict = {c: np.identity(len(classes))[i, :] for i, c in enumerate(classes)}\n",
    "    target_onehot = np.array(list(map(classes_dict.get, target_ls)), dtype=np.int32)\n",
    "    return target_onehot, [*classes]\n",
    "\n",
    "def adjacency_normalizer(adj):\n",
    "    adj = adj + np.eye(adj.shape[0])\n",
    "    d = np.diagflat(np.power(np.array(adj.sum(1)), -1))\n",
    "    a_norm = d.dot(adj)\n",
    "    return a_norm"
   ]
  },
  {
   "cell_type": "code",
   "execution_count": 40,
   "metadata": {
    "ExecuteTime": {
     "end_time": "2018-12-17T07:16:38.805626Z",
     "start_time": "2018-12-17T07:16:38.544430Z"
    }
   },
   "outputs": [],
   "source": [
    "g = nx.from_pandas_edgelist(edgelist, \n",
    "                            source=edgelist.columns[0], \n",
    "                            target=edgelist.columns[1], \n",
    "                            create_using=nx.MultiGraph())\n",
    "\n",
    "a = adjacency_normalizer(nx.to_numpy_matrix(g))"
   ]
  },
  {
   "cell_type": "code",
   "execution_count": 41,
   "metadata": {
    "ExecuteTime": {
     "end_time": "2018-12-17T07:16:39.156272Z",
     "start_time": "2018-12-17T07:16:39.137082Z"
    },
    "scrolled": true
   },
   "outputs": [],
   "source": [
    "df_node = pd.DataFrame({nodecol: g.nodes()})\n",
    "df_node = pd.merge(df_node, df, how='left', on=nodecol, sort=False)\n",
    "\n",
    "df_node = df_node[np.isfinite(df_node[target])]\n",
    "\n",
    "df_node = df_node.head(a.shape[0])    # trick!\n",
    "\n",
    "x = df_node[features]\n",
    "y, classes = onehot_encoder(list(df_node[target]))"
   ]
  },
  {
   "cell_type": "code",
   "execution_count": 42,
   "metadata": {
    "ExecuteTime": {
     "end_time": "2018-12-17T07:16:43.010199Z",
     "start_time": "2018-12-17T07:16:43.000457Z"
    },
    "scrolled": true
   },
   "outputs": [
    {
     "data": {
      "text/plain": [
       "(1747, 16)"
      ]
     },
     "execution_count": 42,
     "metadata": {},
     "output_type": "execute_result"
    }
   ],
   "source": [
    "df_node.shape"
   ]
  },
  {
   "cell_type": "markdown",
   "metadata": {},
   "source": [
    "### training"
   ]
  },
  {
   "cell_type": "code",
   "execution_count": 74,
   "metadata": {
    "ExecuteTime": {
     "end_time": "2018-12-17T07:33:45.791916Z",
     "start_time": "2018-12-17T07:33:45.788544Z"
    }
   },
   "outputs": [],
   "source": [
    "from datetime import datetime\n",
    "\n",
    "now = datetime.utcnow().strftime(\"%Y%m%d%H%M%S\")\n",
    "root_logdir = \"tf_logs\"\n",
    "logdir = \"{}/run-{}/\".format(root_logdir, now)"
   ]
  },
  {
   "cell_type": "code",
   "execution_count": 75,
   "metadata": {
    "ExecuteTime": {
     "end_time": "2018-12-17T07:33:46.285056Z",
     "start_time": "2018-12-17T07:33:46.281231Z"
    }
   },
   "outputs": [],
   "source": [
    "n_nodes = g.number_of_nodes()\n",
    "n_features = len(features)\n",
    "n_classes = len(classes)"
   ]
  },
  {
   "cell_type": "code",
   "execution_count": 79,
   "metadata": {
    "ExecuteTime": {
     "end_time": "2018-12-17T07:38:43.797064Z",
     "start_time": "2018-12-17T07:38:43.784788Z"
    }
   },
   "outputs": [],
   "source": [
    "loss_ls = []\n",
    "predictions = None\n",
    "\n",
    "learning_rate = 0.001\n",
    "n_epochs = 1000\n",
    "verbose = 50\n",
    "early_stopping = 200"
   ]
  },
  {
   "cell_type": "code",
   "execution_count": 85,
   "metadata": {
    "ExecuteTime": {
     "end_time": "2018-12-17T07:57:12.394066Z",
     "start_time": "2018-12-17T07:57:11.503778Z"
    },
    "scrolled": false
   },
   "outputs": [],
   "source": [
    "def graph_convolution(a, x, w, b):\n",
    "    with tf.name_scope('gcn_layer'):\n",
    "        kernel = tf.add(tf.matmul(a, tf.matmul(x, w)), b)\n",
    "        return tf.nn.tanh(kernel)\n",
    "\n",
    "n_dense1 = 512\n",
    "n_dense2 = 256\n",
    "n_dense3 = 128\n",
    "n_dense4 = 64\n",
    "n_dense5 = 16\n",
    "\n",
    "tf.reset_default_graph()\n",
    "tf.set_random_seed(1)\n",
    "\n",
    "adjacency = tf.placeholder(tf.float32, shape=(n_nodes, n_nodes), name='adjacency')\n",
    "feature = tf.placeholder(tf.float32, shape=(n_nodes, n_features), name='feature')\n",
    "label = tf.placeholder(tf.float32, shape=(n_nodes, n_classes), name='label')\n",
    "\n",
    "with tf.name_scope('gcn1'):\n",
    "    weights1 = tf.Variable(tf.random_normal([n_features, n_features]), name='weights1')\n",
    "    bais1 = tf.Variable(tf.random_normal([n_nodes, n_features]), name='bais1')\n",
    "    gcn1 = graph_convolution(a=adjacency, x=feature, w=weights1, b=bais1)\n",
    "\n",
    "with tf.name_scope('gcn2'):\n",
    "    weights2 = tf.Variable(tf.random_normal([n_features, n_dense1]), name='weights2')\n",
    "    bais2 = tf.Variable(tf.random_normal([n_nodes, n_dense1]), name='bais2')\n",
    "    gcn2 = graph_convolution(a=adjacency, x=gcn1, w=weights2, b=bais2)\n",
    "\n",
    "with tf.contrib.framework.arg_scope([tf.contrib.layers.fully_connected], activation_fn=tf.nn.elu,):\n",
    "    dense1 = tf.contrib.layers.fully_connected(inputs=gcn2, num_outputs=n_dense2, scope='dense1')\n",
    "    dense2 = tf.contrib.layers.fully_connected(inputs=dense1, num_outputs=n_dense3, scope='dense2')\n",
    "    dense3 = tf.contrib.layers.fully_connected(inputs=dense2, num_outputs=n_dense4, scope='dense3')\n",
    "    dense4 = tf.contrib.layers.fully_connected(inputs=dense3, num_outputs=n_dense5, scope='dense4')\n",
    "    dense5 = tf.contrib.layers.fully_connected(inputs=dense4, num_outputs=n_classes, scope='dense5')\n",
    "\n",
    "with tf.name_scope('output'):\n",
    "    output = tf.nn.softmax(logits=dense5, axis=-1, name='output')\n",
    "\n",
    "with tf.name_scope('loss'):\n",
    "    loss = tf.reduce_mean(tf.nn.softmax_cross_entropy_with_logits_v2(logits=output, labels=label))\n",
    "\n",
    "training_op = tf.train.AdamOptimizer(learning_rate).minimize(loss)"
   ]
  },
  {
   "cell_type": "code",
   "execution_count": 86,
   "metadata": {
    "ExecuteTime": {
     "end_time": "2018-12-17T08:00:48.382044Z",
     "start_time": "2018-12-17T07:57:12.843395Z"
    },
    "scrolled": true
   },
   "outputs": [
    {
     "name": "stdout",
     "output_type": "stream",
     "text": [
      "0 \tloss: 0.339588\n",
      "50 \tloss: 0.319562\n",
      "100 \tloss: 0.319561\n",
      "150 \tloss: 0.319560\n",
      "200 \tloss: 0.319560\n",
      "250 \tloss: 0.319560\n",
      "300 \tloss: 0.319560\n",
      "350 \tloss: 0.319559\n",
      "400 \tloss: 0.319559\n",
      "450 \tloss: 0.319559\n",
      "500 \tloss: 0.319559\n",
      "550 \tloss: 0.319559\n",
      "600 \tloss: 0.319559\n",
      "650 \tloss: 0.319559\n",
      "700 \tloss: 0.319559\n",
      "750 \tloss: 0.319559\n",
      "800 \tloss: 0.319559\n",
      "850 \tloss: 0.319559\n",
      "900 \tloss: 0.319559\n",
      "950 \tloss: 0.319559\n",
      "early stopping triggered at epoch: 950 with best loss: 0.319559.\n"
     ]
    }
   ],
   "source": [
    "init = tf.global_variables_initializer()\n",
    "\n",
    "loss_summary = tf.summary.scalar('loss', loss)\n",
    "file_writer = tf.summary.FileWriter(logdir, tf.get_default_graph())\n",
    "\n",
    "best_loss = 999\n",
    "stopping_step = 0\n",
    "\n",
    "with tf.Session() as sess:\n",
    "    sess.run(init)\n",
    "    for epoch in range(n_epochs):\n",
    "        training_op.run(feed_dict={adjacency: a, feature: x, label: y})\n",
    "        if verbose <= 0:\n",
    "            pass\n",
    "        elif epoch % verbose == 0:\n",
    "            cost = loss.eval(feed_dict={adjacency: a, feature: x, label: y})\n",
    "            loss_ls.append(cost)\n",
    "            print(epoch, '\\tloss: %.6f' %cost)\n",
    "            summary_str = loss_summary.eval(feed_dict={adjacency: a, feature: x, label: y})\n",
    "            file_writer.add_summary(summary_str, epoch)\n",
    "        \n",
    "        if best_loss > cost:\n",
    "            stopping_step = 0\n",
    "            best_loss = cost\n",
    "        else:\n",
    "            stopping_step += 1\n",
    "        if stopping_step >= early_stopping:\n",
    "            print('early stopping triggered at epoch: %d with best loss: %.6f.' % (epoch, best_loss))\n",
    "            break\n",
    "    predictions = output.eval(feed_dict={adjacency: a, feature: x, label: y})\n",
    "file_writer.close()"
   ]
  },
  {
   "cell_type": "code",
   "execution_count": 87,
   "metadata": {
    "ExecuteTime": {
     "end_time": "2018-12-17T08:00:56.464920Z",
     "start_time": "2018-12-17T08:00:56.452139Z"
    }
   },
   "outputs": [
    {
     "data": {
      "text/html": [
       "<div>\n",
       "<style scoped>\n",
       "    .dataframe tbody tr th:only-of-type {\n",
       "        vertical-align: middle;\n",
       "    }\n",
       "\n",
       "    .dataframe tbody tr th {\n",
       "        vertical-align: top;\n",
       "    }\n",
       "\n",
       "    .dataframe thead th {\n",
       "        text-align: right;\n",
       "    }\n",
       "</style>\n",
       "<table border=\"1\" class=\"dataframe\">\n",
       "  <thead>\n",
       "    <tr style=\"text-align: right;\">\n",
       "      <th></th>\n",
       "      <th>0.0</th>\n",
       "      <th>1.0</th>\n",
       "    </tr>\n",
       "  </thead>\n",
       "  <tbody>\n",
       "    <tr>\n",
       "      <th>0</th>\n",
       "      <td>0.999999</td>\n",
       "      <td>5.813629e-07</td>\n",
       "    </tr>\n",
       "    <tr>\n",
       "      <th>1</th>\n",
       "      <td>0.999999</td>\n",
       "      <td>6.301595e-07</td>\n",
       "    </tr>\n",
       "    <tr>\n",
       "      <th>2</th>\n",
       "      <td>0.999999</td>\n",
       "      <td>6.157786e-07</td>\n",
       "    </tr>\n",
       "    <tr>\n",
       "      <th>3</th>\n",
       "      <td>0.999999</td>\n",
       "      <td>8.482277e-07</td>\n",
       "    </tr>\n",
       "    <tr>\n",
       "      <th>4</th>\n",
       "      <td>0.999999</td>\n",
       "      <td>9.131590e-07</td>\n",
       "    </tr>\n",
       "  </tbody>\n",
       "</table>\n",
       "</div>"
      ],
      "text/plain": [
       "        0.0           1.0\n",
       "0  0.999999  5.813629e-07\n",
       "1  0.999999  6.301595e-07\n",
       "2  0.999999  6.157786e-07\n",
       "3  0.999999  8.482277e-07\n",
       "4  0.999999  9.131590e-07"
      ]
     },
     "execution_count": 87,
     "metadata": {},
     "output_type": "execute_result"
    }
   ],
   "source": [
    "pred = pd.DataFrame(predictions, columns=classes)\n",
    "pred.head()"
   ]
  },
  {
   "cell_type": "code",
   "execution_count": 51,
   "metadata": {
    "ExecuteTime": {
     "end_time": "2018-12-17T07:18:38.862859Z",
     "start_time": "2018-12-17T07:18:38.841555Z"
    }
   },
   "outputs": [],
   "source": [
    "from Report import Visual"
   ]
  },
  {
   "cell_type": "code",
   "execution_count": 88,
   "metadata": {
    "ExecuteTime": {
     "end_time": "2018-12-17T08:01:01.764555Z",
     "start_time": "2018-12-17T08:01:01.760758Z"
    }
   },
   "outputs": [],
   "source": [
    "vis = Visual(df_node[target], pred[pred.columns[1]])"
   ]
  },
  {
   "cell_type": "code",
   "execution_count": 89,
   "metadata": {
    "ExecuteTime": {
     "end_time": "2018-12-17T08:01:03.243283Z",
     "start_time": "2018-12-17T08:01:02.590865Z"
    },
    "scrolled": true
   },
   "outputs": [
    {
     "name": "stdout",
     "output_type": "stream",
     "text": [
      "\n",
      "Model Report\n",
      "Recall metric in the testing dataset:  0.0\n",
      "             precision    recall  f1-score   support\n",
      "\n",
      "        0.0       0.99      1.00      1.00      1736\n",
      "        1.0       0.00      0.00      0.00        11\n",
      "\n",
      "avg / total       0.99      0.99      0.99      1747\n",
      "\n",
      "Confusion matrix, without normalization\n"
     ]
    },
    {
     "name": "stderr",
     "output_type": "stream",
     "text": [
      "/Library/Frameworks/Python.framework/Versions/3.6/lib/python3.6/site-packages/sklearn/metrics/classification.py:1135: UndefinedMetricWarning: Precision and F-score are ill-defined and being set to 0.0 in labels with no predicted samples.\n",
      "  'precision', 'predicted', average, warn_for)\n"
     ]
    },
    {
     "data": {
      "image/png": "[encoded data removed]",
      "text/plain": [
       "<matplotlib.figure.Figure at 0x11a922320>"
      ]
     },
     "metadata": {
      "needs_background": "light"
     },
     "output_type": "display_data"
    },
    {
     "data": {
      "image/png": "[encoded data removed]",
      "text/plain": [
       "<matplotlib.figure.Figure at 0x11a9d7cc0>"
      ]
     },
     "metadata": {
      "needs_background": "light"
     },
     "output_type": "display_data"
    },
    {
     "name": "stdout",
     "output_type": "stream",
     "text": [
      "\n",
      "Model Report\n",
      "Average Precision: 0.008\n"
     ]
    },
    {
     "data": {
      "image/png": "[encoded data removed]",
      "text/plain": [
       "<matplotlib.figure.Figure at 0x11a922e80>"
      ]
     },
     "metadata": {
      "needs_background": "light"
     },
     "output_type": "display_data"
    }
   ],
   "source": [
    "vis.CM()\n",
    "vis.ROC()\n",
    "vis.PR()"
   ]
  },
  {
   "cell_type": "code",
   "execution_count": null,
   "metadata": {},
   "outputs": [],
   "source": []
  }
 ],
 "metadata": {
  "kernelspec": {
   "display_name": "Python 3",
   "language": "python",
   "name": "python3"
  },
  "language_info": {
   "codemirror_mode": {
    "name": "ipython",
    "version": 3
   },
   "file_extension": ".py",
   "mimetype": "text/x-python",
   "name": "python",
   "nbconvert_exporter": "python",
   "pygments_lexer": "ipython3",
   "version": "3.6.3"
  },
  "toc": {
   "nav_menu": {},
   "number_sections": true,
   "sideBar": true,
   "skip_h1_title": false,
   "toc_cell": false,
   "toc_position": {},
   "toc_section_display": "block",
   "toc_window_display": false
  },
  "varInspector": {
   "cols": {
    "lenName": 16,
    "lenType": 16,
    "lenVar": 40
   },
   "kernels_config": {
    "python": {
     "delete_cmd_postfix": "",
     "delete_cmd_prefix": "del ",
     "library": "var_list.py",
     "varRefreshCmd": "print(var_dic_list())"
    },
    "r": {
     "delete_cmd_postfix": ") ",
     "delete_cmd_prefix": "rm(",
     "library": "var_list.r",
     "varRefreshCmd": "cat(var_dic_list()) "
    }
   },
   "types_to_exclude": [
    "module",
    "function",
    "builtin_function_or_method",
    "instance",
    "_Feature"
   ],
   "window_display": false
  }
 },
 "nbformat": 4,
 "nbformat_minor": 2
}
