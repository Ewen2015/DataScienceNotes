{
 "cells": [
  {
   "cell_type": "code",
   "execution_count": 25,
   "metadata": {
    "ExecuteTime": {
     "end_time": "2018-12-09T15:34:59.319933Z",
     "start_time": "2018-12-09T15:34:51.691946Z"
    }
   },
   "outputs": [],
   "source": [
    "import pandas as pd\n",
    "\n",
    "import numpy as np\n",
    "import tensorflow as tf\n",
    "import networkx as nx\n",
    "\n",
    "wd = '/Users/ewenwang/Documents/practice_data/conversion_rate/'\n",
    "data = 'round1_ijcai_18_train_20180301.txt'\n",
    "\n",
    "target = 'is_trade'\n",
    "features = ['user_gender_id', 'user_age_level', 'user_occupation_id', 'user_star_level', \n",
    "            'item_price_level', 'item_sales_level', 'item_collected_level', 'item_pv_level', \n",
    "            'shop_review_num_level', 'shop_review_positive_rate', 'shop_score_service', 'shop_score_delivery', 'shop_score_description']\n",
    "\n",
    "sourcetarget = ['user_id', 'item_id']\n",
    "\n",
    "nodecol = 'user_id'"
   ]
  },
  {
   "cell_type": "code",
   "execution_count": null,
   "metadata": {},
   "outputs": [],
   "source": [
    "data = pd.read_csv(wd+data, sep=' ')"
   ]
  },
  {
   "cell_type": "code",
   "execution_count": 26,
   "metadata": {
    "ExecuteTime": {
     "end_time": "2018-12-09T15:35:11.392867Z",
     "start_time": "2018-12-09T15:35:11.388649Z"
    }
   },
   "outputs": [],
   "source": [
    "data = data.head(2000)"
   ]
  },
  {
   "cell_type": "code",
   "execution_count": 27,
   "metadata": {
    "ExecuteTime": {
     "end_time": "2018-12-09T15:35:12.095270Z",
     "start_time": "2018-12-09T15:35:12.054811Z"
    }
   },
   "outputs": [],
   "source": [
    "edgelist = pd.DataFrame()\n",
    "edgelist['user_id'] = data.user_id\n",
    "edgelist['item_id'] = data.item_id\n",
    "\n",
    "df_target = data[sourcetarget+[target]].groupby(sourcetarget ,as_index=False).sum()\n",
    "df_features = data[sourcetarget+features].groupby(sourcetarget, as_index=False).mean()\n",
    "\n",
    "df = df_target.merge(df_features, how='left', on=sourcetarget)"
   ]
  },
  {
   "cell_type": "code",
   "execution_count": 67,
   "metadata": {
    "ExecuteTime": {
     "end_time": "2018-12-09T16:05:39.062536Z",
     "start_time": "2018-12-09T16:05:39.034301Z"
    }
   },
   "outputs": [
    {
     "data": {
      "text/html": [
       "<div>\n",
       "<style scoped>\n",
       "    .dataframe tbody tr th:only-of-type {\n",
       "        vertical-align: middle;\n",
       "    }\n",
       "\n",
       "    .dataframe tbody tr th {\n",
       "        vertical-align: top;\n",
       "    }\n",
       "\n",
       "    .dataframe thead th {\n",
       "        text-align: right;\n",
       "    }\n",
       "</style>\n",
       "<table border=\"1\" class=\"dataframe\">\n",
       "  <thead>\n",
       "    <tr style=\"text-align: right;\">\n",
       "      <th></th>\n",
       "      <th>user_id</th>\n",
       "      <th>item_id</th>\n",
       "      <th>is_trade</th>\n",
       "      <th>user_gender_id</th>\n",
       "      <th>user_age_level</th>\n",
       "      <th>user_occupation_id</th>\n",
       "      <th>user_star_level</th>\n",
       "      <th>item_price_level</th>\n",
       "      <th>item_sales_level</th>\n",
       "      <th>item_collected_level</th>\n",
       "      <th>item_pv_level</th>\n",
       "      <th>shop_review_num_level</th>\n",
       "      <th>shop_review_positive_rate</th>\n",
       "      <th>shop_score_service</th>\n",
       "      <th>shop_score_delivery</th>\n",
       "      <th>shop_score_description</th>\n",
       "    </tr>\n",
       "  </thead>\n",
       "  <tbody>\n",
       "    <tr>\n",
       "      <th>0</th>\n",
       "      <td>8078017541935668</td>\n",
       "      <td>4215883534709645310</td>\n",
       "      <td>0</td>\n",
       "      <td>0</td>\n",
       "      <td>1002</td>\n",
       "      <td>2005</td>\n",
       "      <td>3006</td>\n",
       "      <td>7</td>\n",
       "      <td>11</td>\n",
       "      <td>13</td>\n",
       "      <td>19</td>\n",
       "      <td>21</td>\n",
       "      <td>0.99704</td>\n",
       "      <td>0.979661</td>\n",
       "      <td>0.979589</td>\n",
       "      <td>0.975442</td>\n",
       "    </tr>\n",
       "    <tr>\n",
       "      <th>1</th>\n",
       "      <td>8078017541935668</td>\n",
       "      <td>8824610546121211352</td>\n",
       "      <td>0</td>\n",
       "      <td>0</td>\n",
       "      <td>1002</td>\n",
       "      <td>2005</td>\n",
       "      <td>3006</td>\n",
       "      <td>7</td>\n",
       "      <td>11</td>\n",
       "      <td>12</td>\n",
       "      <td>19</td>\n",
       "      <td>21</td>\n",
       "      <td>0.99704</td>\n",
       "      <td>0.979661</td>\n",
       "      <td>0.979589</td>\n",
       "      <td>0.975442</td>\n",
       "    </tr>\n",
       "    <tr>\n",
       "      <th>2</th>\n",
       "      <td>18242482054767926</td>\n",
       "      <td>5323767931396822716</td>\n",
       "      <td>0</td>\n",
       "      <td>0</td>\n",
       "      <td>1003</td>\n",
       "      <td>2005</td>\n",
       "      <td>3004</td>\n",
       "      <td>7</td>\n",
       "      <td>13</td>\n",
       "      <td>14</td>\n",
       "      <td>19</td>\n",
       "      <td>16</td>\n",
       "      <td>1.00000</td>\n",
       "      <td>0.967400</td>\n",
       "      <td>0.967237</td>\n",
       "      <td>0.983510</td>\n",
       "    </tr>\n",
       "    <tr>\n",
       "      <th>3</th>\n",
       "      <td>23297531048455633</td>\n",
       "      <td>4215883534709645310</td>\n",
       "      <td>0</td>\n",
       "      <td>0</td>\n",
       "      <td>1003</td>\n",
       "      <td>2002</td>\n",
       "      <td>3006</td>\n",
       "      <td>7</td>\n",
       "      <td>11</td>\n",
       "      <td>13</td>\n",
       "      <td>19</td>\n",
       "      <td>21</td>\n",
       "      <td>0.99704</td>\n",
       "      <td>0.979661</td>\n",
       "      <td>0.979589</td>\n",
       "      <td>0.975442</td>\n",
       "    </tr>\n",
       "    <tr>\n",
       "      <th>4</th>\n",
       "      <td>23297531048455633</td>\n",
       "      <td>8824610546121211352</td>\n",
       "      <td>0</td>\n",
       "      <td>0</td>\n",
       "      <td>1003</td>\n",
       "      <td>2002</td>\n",
       "      <td>3006</td>\n",
       "      <td>7</td>\n",
       "      <td>11</td>\n",
       "      <td>12</td>\n",
       "      <td>19</td>\n",
       "      <td>21</td>\n",
       "      <td>0.99704</td>\n",
       "      <td>0.979661</td>\n",
       "      <td>0.979589</td>\n",
       "      <td>0.975442</td>\n",
       "    </tr>\n",
       "  </tbody>\n",
       "</table>\n",
       "</div>"
      ],
      "text/plain": [
       "             user_id              item_id  is_trade  user_gender_id  \\\n",
       "0   8078017541935668  4215883534709645310         0               0   \n",
       "1   8078017541935668  8824610546121211352         0               0   \n",
       "2  18242482054767926  5323767931396822716         0               0   \n",
       "3  23297531048455633  4215883534709645310         0               0   \n",
       "4  23297531048455633  8824610546121211352         0               0   \n",
       "\n",
       "   user_age_level  user_occupation_id  user_star_level  item_price_level  \\\n",
       "0            1002                2005             3006                 7   \n",
       "1            1002                2005             3006                 7   \n",
       "2            1003                2005             3004                 7   \n",
       "3            1003                2002             3006                 7   \n",
       "4            1003                2002             3006                 7   \n",
       "\n",
       "   item_sales_level  item_collected_level  item_pv_level  \\\n",
       "0                11                    13             19   \n",
       "1                11                    12             19   \n",
       "2                13                    14             19   \n",
       "3                11                    13             19   \n",
       "4                11                    12             19   \n",
       "\n",
       "   shop_review_num_level  shop_review_positive_rate  shop_score_service  \\\n",
       "0                     21                    0.99704            0.979661   \n",
       "1                     21                    0.99704            0.979661   \n",
       "2                     16                    1.00000            0.967400   \n",
       "3                     21                    0.99704            0.979661   \n",
       "4                     21                    0.99704            0.979661   \n",
       "\n",
       "   shop_score_delivery  shop_score_description  \n",
       "0             0.979589                0.975442  \n",
       "1             0.979589                0.975442  \n",
       "2             0.967237                0.983510  \n",
       "3             0.979589                0.975442  \n",
       "4             0.979589                0.975442  "
      ]
     },
     "execution_count": 67,
     "metadata": {},
     "output_type": "execute_result"
    }
   ],
   "source": [
    "df.head()"
   ]
  },
  {
   "cell_type": "code",
   "execution_count": 50,
   "metadata": {
    "ExecuteTime": {
     "end_time": "2018-12-09T15:50:15.250627Z",
     "start_time": "2018-12-09T15:50:15.244669Z"
    }
   },
   "outputs": [],
   "source": [
    "def onehot_encoder(target_ls):\n",
    "    classes = set(target_ls)\n",
    "    classes_dict = {c: np.identity(len(classes))[i, :] for i, c in enumerate(classes)}\n",
    "    target_onehot = np.array(list(map(classes_dict.get, target_ls)), dtype=np.int32)\n",
    "    return target_onehot, [*classes]\n",
    "\n",
    "def adjacency_normalizer(adj):\n",
    "    adj = adj + np.eye(adj.shape[0])\n",
    "    d = np.diagflat(np.power(np.array(adj.sum(1)), -1))\n",
    "    a_norm = d.dot(adj)\n",
    "    return a_norm\n",
    "\n",
    "def graph_convolution(a, x, w, b):\n",
    "    with tf.name_scope('gcn_layer'):\n",
    "        kernel = tf.add(tf.matmul(a, tf.matmul(x, w)), b)\n",
    "        return tf.nn.leaky_relu(kernel)"
   ]
  },
  {
   "cell_type": "code",
   "execution_count": 51,
   "metadata": {
    "ExecuteTime": {
     "end_time": "2018-12-09T15:50:17.678040Z",
     "start_time": "2018-12-09T15:50:17.367738Z"
    }
   },
   "outputs": [],
   "source": [
    "g = nx.from_pandas_edgelist(edgelist, \n",
    "                            source=edgelist.columns[0], \n",
    "                            target=edgelist.columns[1], \n",
    "                            create_using=nx.MultiGraph())\n",
    "\n",
    "a = adjacency_normalizer(nx.to_numpy_matrix(g))"
   ]
  },
  {
   "cell_type": "code",
   "execution_count": 78,
   "metadata": {
    "ExecuteTime": {
     "end_time": "2018-12-09T16:13:34.357973Z",
     "start_time": "2018-12-09T16:13:34.352704Z"
    }
   },
   "outputs": [
    {
     "data": {
      "text/plain": [
       "1747"
      ]
     },
     "execution_count": 78,
     "metadata": {},
     "output_type": "execute_result"
    }
   ],
   "source": [
    "len(g.nodes)"
   ]
  },
  {
   "cell_type": "code",
   "execution_count": 145,
   "metadata": {
    "ExecuteTime": {
     "end_time": "2018-12-09T16:33:59.782753Z",
     "start_time": "2018-12-09T16:33:59.758148Z"
    },
    "scrolled": true
   },
   "outputs": [],
   "source": [
    "df_node = pd.DataFrame({nodecol: g.nodes()})\n",
    "df_node = pd.merge(df_node, df, how='left', on=nodecol, sort=False)\n",
    "\n",
    "df_node = df_node[np.isfinite(df_node[target])]\n",
    "\n",
    "df_node = df_node.head(a.shape[0])    # trick!\n",
    "\n",
    "x = df_node[features]\n",
    "y, classes = onehot_encoder(list(df_node[target]))"
   ]
  },
  {
   "cell_type": "code",
   "execution_count": 146,
   "metadata": {
    "ExecuteTime": {
     "end_time": "2018-12-09T16:34:00.233333Z",
     "start_time": "2018-12-09T16:34:00.223012Z"
    },
    "scrolled": true
   },
   "outputs": [
    {
     "data": {
      "text/plain": [
       "(1747, 16)"
      ]
     },
     "execution_count": 146,
     "metadata": {},
     "output_type": "execute_result"
    }
   ],
   "source": [
    "df_node.shape"
   ]
  },
  {
   "cell_type": "code",
   "execution_count": 147,
   "metadata": {
    "ExecuteTime": {
     "end_time": "2018-12-09T16:34:05.324784Z",
     "start_time": "2018-12-09T16:34:05.314751Z"
    }
   },
   "outputs": [
    {
     "data": {
      "text/plain": [
       "1747"
      ]
     },
     "execution_count": 147,
     "metadata": {},
     "output_type": "execute_result"
    }
   ],
   "source": [
    "a.shape[0]"
   ]
  },
  {
   "cell_type": "code",
   "execution_count": 148,
   "metadata": {
    "ExecuteTime": {
     "end_time": "2018-12-09T16:34:09.436125Z",
     "start_time": "2018-12-09T16:34:09.428098Z"
    }
   },
   "outputs": [],
   "source": [
    "n_nodes = g.number_of_nodes()\n",
    "n_featues = len(features)\n",
    "n_classes = len(classes)"
   ]
  },
  {
   "cell_type": "code",
   "execution_count": 149,
   "metadata": {
    "ExecuteTime": {
     "end_time": "2018-12-09T16:34:10.242871Z",
     "start_time": "2018-12-09T16:34:10.237137Z"
    }
   },
   "outputs": [],
   "source": [
    "keep_prob = 0.5\n",
    "learning_rate = 0.001\n",
    "\n",
    "n_epochs = 100\n",
    "verbose = 10\n",
    "loss_ls = []"
   ]
  },
  {
   "cell_type": "code",
   "execution_count": 159,
   "metadata": {
    "ExecuteTime": {
     "end_time": "2018-12-09T16:36:10.299145Z",
     "start_time": "2018-12-09T16:36:09.625718Z"
    },
    "scrolled": false
   },
   "outputs": [],
   "source": [
    "adjacency = tf.placeholder(tf.float32, shape=(n_nodes, n_nodes), name='adjacency')\n",
    "feature = tf.placeholder(tf.float32, shape=(n_nodes, n_featues), name='feature')\n",
    "label = tf.placeholder(tf.float32, shape=(n_nodes, n_classes), name='label')\n",
    "\n",
    "weights = tf.Variable(tf.random_normal([n_featues, n_classes], seed=0), name='weights')\n",
    "bais = tf.Variable(tf.random_normal([n_nodes, n_classes], seed=0), name='bais')\n",
    "    \n",
    "hidden1 = graph_convolution(a=adjacency, x=feature, w=weights, b=bais)\n",
    "hidden2 = tf.nn.dropout(hidden1, keep_prob=keep_prob)\n",
    "# output = tf.nn.softmax(logits=hidden2, axis=n_classes)\n",
    "output = tf.nn.softmax(logits=hidden2, axis=-1)\n",
    "\n",
    "loss = tf.reduce_mean(tf.nn.softmax_cross_entropy_with_logits_v2(logits=output, labels=label))\n",
    "\n",
    "optimizer = tf.train.AdamOptimizer(learning_rate)\n",
    "training_op = optimizer.minimize(loss)\n",
    "\n",
    "init = tf.global_variables_initializer()"
   ]
  },
  {
   "cell_type": "code",
   "execution_count": 160,
   "metadata": {
    "ExecuteTime": {
     "end_time": "2018-12-09T16:36:11.097575Z",
     "start_time": "2018-12-09T16:36:11.065794Z"
    }
   },
   "outputs": [],
   "source": [
    "predictions = None"
   ]
  },
  {
   "cell_type": "code",
   "execution_count": 161,
   "metadata": {
    "ExecuteTime": {
     "end_time": "2018-12-09T16:36:17.498093Z",
     "start_time": "2018-12-09T16:36:11.842293Z"
    },
    "scrolled": false
   },
   "outputs": [
    {
     "name": "stdout",
     "output_type": "stream",
     "text": [
      "0 \tloss: 0.893691\n",
      "10 \tloss: 0.909639\n",
      "20 \tloss: 0.920780\n",
      "30 \tloss: 0.907017\n",
      "40 \tloss: 0.910829\n",
      "50 \tloss: 0.884805\n",
      "60 \tloss: 0.920550\n",
      "70 \tloss: 0.876733\n",
      "80 \tloss: 0.915213\n",
      "90 \tloss: 0.907314\n"
     ]
    }
   ],
   "source": [
    "with tf.Session() as sess:\n",
    "    sess.run(init)\n",
    "    for epoch in range(n_epochs):\n",
    "        training_op.run(feed_dict={adjacency: a, feature: x, label: y})\n",
    "        if verbose <= 0:\n",
    "            pass\n",
    "        elif epoch % verbose == 0:\n",
    "            err = loss.eval(feed_dict={adjacency: a, feature: x, label: y})\n",
    "            loss_ls.append(err)\n",
    "            print(epoch, '\\tloss: %.6f' %err)\n",
    "    predictions = output.eval(feed_dict={adjacency: a, feature: x, label: y})"
   ]
  },
  {
   "cell_type": "code",
   "execution_count": 155,
   "metadata": {
    "ExecuteTime": {
     "end_time": "2018-12-09T16:34:56.184232Z",
     "start_time": "2018-12-09T16:34:56.150945Z"
    }
   },
   "outputs": [
    {
     "data": {
      "text/html": [
       "<div>\n",
       "<style scoped>\n",
       "    .dataframe tbody tr th:only-of-type {\n",
       "        vertical-align: middle;\n",
       "    }\n",
       "\n",
       "    .dataframe tbody tr th {\n",
       "        vertical-align: top;\n",
       "    }\n",
       "\n",
       "    .dataframe thead th {\n",
       "        text-align: right;\n",
       "    }\n",
       "</style>\n",
       "<table border=\"1\" class=\"dataframe\">\n",
       "  <thead>\n",
       "    <tr style=\"text-align: right;\">\n",
       "      <th></th>\n",
       "      <th>0.0</th>\n",
       "      <th>1.0</th>\n",
       "    </tr>\n",
       "  </thead>\n",
       "  <tbody>\n",
       "    <tr>\n",
       "      <th>0</th>\n",
       "      <td>0.0</td>\n",
       "      <td>1.000000e+00</td>\n",
       "    </tr>\n",
       "    <tr>\n",
       "      <th>1</th>\n",
       "      <td>1.0</td>\n",
       "      <td>1.952767e-21</td>\n",
       "    </tr>\n",
       "    <tr>\n",
       "      <th>2</th>\n",
       "      <td>0.5</td>\n",
       "      <td>5.000000e-01</td>\n",
       "    </tr>\n",
       "    <tr>\n",
       "      <th>3</th>\n",
       "      <td>0.0</td>\n",
       "      <td>1.000000e+00</td>\n",
       "    </tr>\n",
       "    <tr>\n",
       "      <th>4</th>\n",
       "      <td>0.5</td>\n",
       "      <td>5.000000e-01</td>\n",
       "    </tr>\n",
       "  </tbody>\n",
       "</table>\n",
       "</div>"
      ],
      "text/plain": [
       "   0.0           1.0\n",
       "0  0.0  1.000000e+00\n",
       "1  1.0  1.952767e-21\n",
       "2  0.5  5.000000e-01\n",
       "3  0.0  1.000000e+00\n",
       "4  0.5  5.000000e-01"
      ]
     },
     "execution_count": 155,
     "metadata": {},
     "output_type": "execute_result"
    }
   ],
   "source": [
    "pred = pd.DataFrame(predictions, columns=classes)\n",
    "pred.head()"
   ]
  },
  {
   "cell_type": "code",
   "execution_count": 162,
   "metadata": {
    "ExecuteTime": {
     "end_time": "2018-12-09T16:41:28.282385Z",
     "start_time": "2018-12-09T16:41:28.251353Z"
    }
   },
   "outputs": [],
   "source": [
    "from Report import Report"
   ]
  },
  {
   "cell_type": "code",
   "execution_count": 164,
   "metadata": {
    "ExecuteTime": {
     "end_time": "2018-12-09T16:43:14.181787Z",
     "start_time": "2018-12-09T16:43:14.172396Z"
    }
   },
   "outputs": [],
   "source": [
    "rpt = Report(classifier=None, train=df_node, test=df_node, target=target, predictors=features)"
   ]
  },
  {
   "cell_type": "code",
   "execution_count": 166,
   "metadata": {
    "ExecuteTime": {
     "end_time": "2018-12-09T16:45:01.588649Z",
     "start_time": "2018-12-09T16:45:01.580836Z"
    }
   },
   "outputs": [],
   "source": [
    "rpt.train_predprob = predictions[1]\n",
    "rpt.test_predprob = predictions[1]\n",
    "\n",
    "rpt.train_predictions = np.where(rpt.train_predprob>=0.5, 1, 0)\n",
    "rpt.test_predictions = np.where(rpt.test_predprob>=0.5, 1, 0)"
   ]
  },
  {
   "cell_type": "code",
   "execution_count": 168,
   "metadata": {
    "ExecuteTime": {
     "end_time": "2018-12-09T16:45:30.964029Z",
     "start_time": "2018-12-09T16:45:30.888353Z"
    }
   },
   "outputs": [
    {
     "ename": "ValueError",
     "evalue": "Found input variables with inconsistent numbers of samples: [1747, 2]",
     "output_type": "error",
     "traceback": [
      "\u001b[0;31m---------------------------------------------------------------------------\u001b[0m",
      "\u001b[0;31mValueError\u001b[0m                                Traceback (most recent call last)",
      "\u001b[0;32m<ipython-input-168-a2d4966907b9>\u001b[0m in \u001b[0;36m<module>\u001b[0;34m()\u001b[0m\n\u001b[0;32m----> 1\u001b[0;31m \u001b[0mrpt\u001b[0m\u001b[0;34m.\u001b[0m\u001b[0mROC\u001b[0m\u001b[0;34m(\u001b[0m\u001b[0;34m)\u001b[0m\u001b[0;34m\u001b[0m\u001b[0m\n\u001b[0m",
      "\u001b[0;32m~/Documents/GitHub/DataScienceNotes/tensorflow/Report.py\u001b[0m in \u001b[0;36mROC\u001b[0;34m(self)\u001b[0m\n\u001b[1;32m    133\u001b[0m         \u001b[0mReports\u001b[0m \u001b[0mROC\u001b[0m \u001b[0mcurve\u001b[0m \u001b[0;32mand\u001b[0m \u001b[0mgives\u001b[0m \u001b[0mroc\u001b[0m \u001b[0mauc\u001b[0m \u001b[0mscore\u001b[0m\u001b[0;34m.\u001b[0m\u001b[0;34m\u001b[0m\u001b[0m\n\u001b[1;32m    134\u001b[0m         \"\"\"\n\u001b[0;32m--> 135\u001b[0;31m         \u001b[0mroc_auc\u001b[0m \u001b[0;34m=\u001b[0m \u001b[0mmetrics\u001b[0m\u001b[0;34m.\u001b[0m\u001b[0mroc_auc_score\u001b[0m\u001b[0;34m(\u001b[0m\u001b[0mself\u001b[0m\u001b[0;34m.\u001b[0m\u001b[0mtest\u001b[0m\u001b[0;34m[\u001b[0m\u001b[0mself\u001b[0m\u001b[0;34m.\u001b[0m\u001b[0mtarget\u001b[0m\u001b[0;34m]\u001b[0m\u001b[0;34m,\u001b[0m \u001b[0mself\u001b[0m\u001b[0;34m.\u001b[0m\u001b[0mtest_predprob\u001b[0m\u001b[0;34m)\u001b[0m\u001b[0;34m\u001b[0m\u001b[0m\n\u001b[0m\u001b[1;32m    136\u001b[0m         \u001b[0mfpr\u001b[0m\u001b[0;34m,\u001b[0m \u001b[0mtpr\u001b[0m\u001b[0;34m,\u001b[0m \u001b[0m_\u001b[0m \u001b[0;34m=\u001b[0m \u001b[0mmetrics\u001b[0m\u001b[0;34m.\u001b[0m\u001b[0mroc_curve\u001b[0m\u001b[0;34m(\u001b[0m\u001b[0mself\u001b[0m\u001b[0;34m.\u001b[0m\u001b[0mtest\u001b[0m\u001b[0;34m[\u001b[0m\u001b[0mself\u001b[0m\u001b[0;34m.\u001b[0m\u001b[0mtarget\u001b[0m\u001b[0;34m]\u001b[0m\u001b[0;34m,\u001b[0m \u001b[0mself\u001b[0m\u001b[0;34m.\u001b[0m\u001b[0mtest_predprob\u001b[0m\u001b[0;34m)\u001b[0m\u001b[0;34m\u001b[0m\u001b[0m\n\u001b[1;32m    137\u001b[0m \u001b[0;34m\u001b[0m\u001b[0m\n",
      "\u001b[0;32m/Library/Frameworks/Python.framework/Versions/3.6/lib/python3.6/site-packages/sklearn/metrics/ranking.py\u001b[0m in \u001b[0;36mroc_auc_score\u001b[0;34m(y_true, y_score, average, sample_weight)\u001b[0m\n\u001b[1;32m    275\u001b[0m     return _average_binary_score(\n\u001b[1;32m    276\u001b[0m         \u001b[0m_binary_roc_auc_score\u001b[0m\u001b[0;34m,\u001b[0m \u001b[0my_true\u001b[0m\u001b[0;34m,\u001b[0m \u001b[0my_score\u001b[0m\u001b[0;34m,\u001b[0m \u001b[0maverage\u001b[0m\u001b[0;34m,\u001b[0m\u001b[0;34m\u001b[0m\u001b[0m\n\u001b[0;32m--> 277\u001b[0;31m         sample_weight=sample_weight)\n\u001b[0m\u001b[1;32m    278\u001b[0m \u001b[0;34m\u001b[0m\u001b[0m\n\u001b[1;32m    279\u001b[0m \u001b[0;34m\u001b[0m\u001b[0m\n",
      "\u001b[0;32m/Library/Frameworks/Python.framework/Versions/3.6/lib/python3.6/site-packages/sklearn/metrics/base.py\u001b[0m in \u001b[0;36m_average_binary_score\u001b[0;34m(binary_metric, y_true, y_score, average, sample_weight)\u001b[0m\n\u001b[1;32m     73\u001b[0m \u001b[0;34m\u001b[0m\u001b[0m\n\u001b[1;32m     74\u001b[0m     \u001b[0;32mif\u001b[0m \u001b[0my_type\u001b[0m \u001b[0;34m==\u001b[0m \u001b[0;34m\"binary\"\u001b[0m\u001b[0;34m:\u001b[0m\u001b[0;34m\u001b[0m\u001b[0m\n\u001b[0;32m---> 75\u001b[0;31m         \u001b[0;32mreturn\u001b[0m \u001b[0mbinary_metric\u001b[0m\u001b[0;34m(\u001b[0m\u001b[0my_true\u001b[0m\u001b[0;34m,\u001b[0m \u001b[0my_score\u001b[0m\u001b[0;34m,\u001b[0m \u001b[0msample_weight\u001b[0m\u001b[0;34m=\u001b[0m\u001b[0msample_weight\u001b[0m\u001b[0;34m)\u001b[0m\u001b[0;34m\u001b[0m\u001b[0m\n\u001b[0m\u001b[1;32m     76\u001b[0m \u001b[0;34m\u001b[0m\u001b[0m\n\u001b[1;32m     77\u001b[0m     \u001b[0mcheck_consistent_length\u001b[0m\u001b[0;34m(\u001b[0m\u001b[0my_true\u001b[0m\u001b[0;34m,\u001b[0m \u001b[0my_score\u001b[0m\u001b[0;34m,\u001b[0m \u001b[0msample_weight\u001b[0m\u001b[0;34m)\u001b[0m\u001b[0;34m\u001b[0m\u001b[0m\n",
      "\u001b[0;32m/Library/Frameworks/Python.framework/Versions/3.6/lib/python3.6/site-packages/sklearn/metrics/ranking.py\u001b[0m in \u001b[0;36m_binary_roc_auc_score\u001b[0;34m(y_true, y_score, sample_weight)\u001b[0m\n\u001b[1;32m    270\u001b[0m \u001b[0;34m\u001b[0m\u001b[0m\n\u001b[1;32m    271\u001b[0m         fpr, tpr, tresholds = roc_curve(y_true, y_score,\n\u001b[0;32m--> 272\u001b[0;31m                                         sample_weight=sample_weight)\n\u001b[0m\u001b[1;32m    273\u001b[0m         \u001b[0;32mreturn\u001b[0m \u001b[0mauc\u001b[0m\u001b[0;34m(\u001b[0m\u001b[0mfpr\u001b[0m\u001b[0;34m,\u001b[0m \u001b[0mtpr\u001b[0m\u001b[0;34m,\u001b[0m \u001b[0mreorder\u001b[0m\u001b[0;34m=\u001b[0m\u001b[0;32mTrue\u001b[0m\u001b[0;34m)\u001b[0m\u001b[0;34m\u001b[0m\u001b[0m\n\u001b[1;32m    274\u001b[0m \u001b[0;34m\u001b[0m\u001b[0m\n",
      "\u001b[0;32m/Library/Frameworks/Python.framework/Versions/3.6/lib/python3.6/site-packages/sklearn/metrics/ranking.py\u001b[0m in \u001b[0;36mroc_curve\u001b[0;34m(y_true, y_score, pos_label, sample_weight, drop_intermediate)\u001b[0m\n\u001b[1;32m    532\u001b[0m     \"\"\"\n\u001b[1;32m    533\u001b[0m     fps, tps, thresholds = _binary_clf_curve(\n\u001b[0;32m--> 534\u001b[0;31m         y_true, y_score, pos_label=pos_label, sample_weight=sample_weight)\n\u001b[0m\u001b[1;32m    535\u001b[0m \u001b[0;34m\u001b[0m\u001b[0m\n\u001b[1;32m    536\u001b[0m     \u001b[0;31m# Attempt to drop thresholds corresponding to points in between and\u001b[0m\u001b[0;34m\u001b[0m\u001b[0;34m\u001b[0m\u001b[0m\n",
      "\u001b[0;32m/Library/Frameworks/Python.framework/Versions/3.6/lib/python3.6/site-packages/sklearn/metrics/ranking.py\u001b[0m in \u001b[0;36m_binary_clf_curve\u001b[0;34m(y_true, y_score, pos_label, sample_weight)\u001b[0m\n\u001b[1;32m    318\u001b[0m         \u001b[0;32mraise\u001b[0m \u001b[0mValueError\u001b[0m\u001b[0;34m(\u001b[0m\u001b[0;34m\"{0} format is not supported\"\u001b[0m\u001b[0;34m.\u001b[0m\u001b[0mformat\u001b[0m\u001b[0;34m(\u001b[0m\u001b[0my_type\u001b[0m\u001b[0;34m)\u001b[0m\u001b[0;34m)\u001b[0m\u001b[0;34m\u001b[0m\u001b[0m\n\u001b[1;32m    319\u001b[0m \u001b[0;34m\u001b[0m\u001b[0m\n\u001b[0;32m--> 320\u001b[0;31m     \u001b[0mcheck_consistent_length\u001b[0m\u001b[0;34m(\u001b[0m\u001b[0my_true\u001b[0m\u001b[0;34m,\u001b[0m \u001b[0my_score\u001b[0m\u001b[0;34m,\u001b[0m \u001b[0msample_weight\u001b[0m\u001b[0;34m)\u001b[0m\u001b[0;34m\u001b[0m\u001b[0m\n\u001b[0m\u001b[1;32m    321\u001b[0m     \u001b[0my_true\u001b[0m \u001b[0;34m=\u001b[0m \u001b[0mcolumn_or_1d\u001b[0m\u001b[0;34m(\u001b[0m\u001b[0my_true\u001b[0m\u001b[0;34m)\u001b[0m\u001b[0;34m\u001b[0m\u001b[0m\n\u001b[1;32m    322\u001b[0m     \u001b[0my_score\u001b[0m \u001b[0;34m=\u001b[0m \u001b[0mcolumn_or_1d\u001b[0m\u001b[0;34m(\u001b[0m\u001b[0my_score\u001b[0m\u001b[0;34m)\u001b[0m\u001b[0;34m\u001b[0m\u001b[0m\n",
      "\u001b[0;32m/Library/Frameworks/Python.framework/Versions/3.6/lib/python3.6/site-packages/sklearn/utils/validation.py\u001b[0m in \u001b[0;36mcheck_consistent_length\u001b[0;34m(*arrays)\u001b[0m\n\u001b[1;32m    202\u001b[0m     \u001b[0;32mif\u001b[0m \u001b[0mlen\u001b[0m\u001b[0;34m(\u001b[0m\u001b[0muniques\u001b[0m\u001b[0;34m)\u001b[0m \u001b[0;34m>\u001b[0m \u001b[0;36m1\u001b[0m\u001b[0;34m:\u001b[0m\u001b[0;34m\u001b[0m\u001b[0m\n\u001b[1;32m    203\u001b[0m         raise ValueError(\"Found input variables with inconsistent numbers of\"\n\u001b[0;32m--> 204\u001b[0;31m                          \" samples: %r\" % [int(l) for l in lengths])\n\u001b[0m\u001b[1;32m    205\u001b[0m \u001b[0;34m\u001b[0m\u001b[0m\n\u001b[1;32m    206\u001b[0m \u001b[0;34m\u001b[0m\u001b[0m\n",
      "\u001b[0;31mValueError\u001b[0m: Found input variables with inconsistent numbers of samples: [1747, 2]"
     ]
    }
   ],
   "source": [
    "rpt.ROC()"
   ]
  },
  {
   "cell_type": "code",
   "execution_count": null,
   "metadata": {},
   "outputs": [],
   "source": []
  }
 ],
 "metadata": {
  "kernelspec": {
   "display_name": "Python 3",
   "language": "python",
   "name": "python3"
  },
  "language_info": {
   "codemirror_mode": {
    "name": "ipython",
    "version": 3
   },
   "file_extension": ".py",
   "mimetype": "text/x-python",
   "name": "python",
   "nbconvert_exporter": "python",
   "pygments_lexer": "ipython3",
   "version": "3.6.3"
  },
  "toc": {
   "nav_menu": {},
   "number_sections": true,
   "sideBar": true,
   "skip_h1_title": false,
   "toc_cell": false,
   "toc_position": {},
   "toc_section_display": "block",
   "toc_window_display": false
  },
  "varInspector": {
   "cols": {
    "lenName": 16,
    "lenType": 16,
    "lenVar": 40
   },
   "kernels_config": {
    "python": {
     "delete_cmd_postfix": "",
     "delete_cmd_prefix": "del ",
     "library": "var_list.py",
     "varRefreshCmd": "print(var_dic_list())"
    },
    "r": {
     "delete_cmd_postfix": ") ",
     "delete_cmd_prefix": "rm(",
     "library": "var_list.r",
     "varRefreshCmd": "cat(var_dic_list()) "
    }
   },
   "types_to_exclude": [
    "module",
    "function",
    "builtin_function_or_method",
    "instance",
    "_Feature"
   ],
   "window_display": false
  }
 },
 "nbformat": 4,
 "nbformat_minor": 2
}
