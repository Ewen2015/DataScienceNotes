{
 "cells": [
  {
   "cell_type": "markdown",
   "metadata": {},
   "source": [
    "## data manipulating"
   ]
  },
  {
   "cell_type": "code",
   "execution_count": 31,
   "metadata": {
    "ExecuteTime": {
     "end_time": "2019-07-15T12:51:23.774515Z",
     "start_time": "2019-07-15T12:51:23.768062Z"
    }
   },
   "outputs": [],
   "source": [
    "s = [4, 8, 7]\n",
    "l = [2, 4]\n",
    "u = [8, 4]\n",
    "\n",
    "def jobOffers(scores, lowerLimit, upperLimit):\n",
    "    \"\"\"\n",
    "    \"\"\"\n",
    "    numOffers = []\n",
    "    for ind, val in enumerate(lowerLimit):\n",
    "        numOffers.append(len([x for x in scores if lowerLimit[ind] <= x <= upperLimit[ind]]))\n",
    "    return numOffers"
   ]
  },
  {
   "cell_type": "code",
   "execution_count": 32,
   "metadata": {
    "ExecuteTime": {
     "end_time": "2019-07-15T12:51:23.923467Z",
     "start_time": "2019-07-15T12:51:23.908873Z"
    }
   },
   "outputs": [
    {
     "data": {
      "text/plain": [
       "[3, 1]"
      ]
     },
     "execution_count": 32,
     "metadata": {},
     "output_type": "execute_result"
    }
   ],
   "source": [
    "jobOffers(s, l, u)"
   ]
  },
  {
   "cell_type": "markdown",
   "metadata": {},
   "source": [
    "## linear regression model"
   ]
  },
  {
   "cell_type": "code",
   "execution_count": 35,
   "metadata": {
    "ExecuteTime": {
     "end_time": "2019-07-15T12:55:19.395010Z",
     "start_time": "2019-07-15T12:55:19.385464Z"
    }
   },
   "outputs": [],
   "source": [
    "startDate = '2013-01-01'\n",
    "endDate = '2013-01-01'\n",
    "knownTimestamps = ['2013-01-01 07:00', '2013-01-01 08:00', '2013-01-01 09:00', '2013-01-01 10:00',\n",
    "                   '2013-01-01 11:00', '2013-01-01 12:00']\n",
    "humidity = [10.0, 11.1, 13.2, 14.8, 15.6, 16.7]\n",
    "timestamps = ['2013-01-01 13:00', '2013-01-01 14:00']"
   ]
  },
  {
   "cell_type": "code",
   "execution_count": 37,
   "metadata": {
    "ExecuteTime": {
     "end_time": "2019-07-15T12:55:59.785833Z",
     "start_time": "2019-07-15T12:55:59.774240Z"
    }
   },
   "outputs": [],
   "source": [
    "import datetime\n",
    "import numpy as np\n",
    "from sklearn.linear_model import LinearRegression\n",
    "\n",
    "def predictMissingHumidity(startDate, \n",
    "                           endDate,\n",
    "                           knownTimestamps,\n",
    "                           humidity,\n",
    "                           timestamps):\n",
    "    \n",
    "    def _preprocessing(timestampes):\n",
    "        ts =  [int(abs((datetime.datetime.utcfromtimestamp(0) - datetime.datetime.strptime(item,\"%Y-%m-%d %H:%M\")).total_seconds())) for item in timestampes]\n",
    "        return np.array(ts).reshape(-1, 1)\n",
    "    \n",
    "    x = _preprocessing(knownTimestamps)      # preprocess the data\n",
    "    y = humidity\n",
    "    x_test = _preprocessing(timestamps)\n",
    "    \n",
    "    lm = LinearRegression()                  # setup a linear regression model\n",
    "    lm.fit(x, y)                             # train the model\n",
    "    \n",
    "    y_pred = lm.predict(x_test)              # predict\n",
    "    \n",
    "    return y_pred"
   ]
  },
  {
   "cell_type": "code",
   "execution_count": 38,
   "metadata": {
    "ExecuteTime": {
     "end_time": "2019-07-15T12:56:00.478659Z",
     "start_time": "2019-07-15T12:56:00.466955Z"
    }
   },
   "outputs": [
    {
     "data": {
      "text/plain": [
       "array([18.42666667, 19.8152381 ])"
      ]
     },
     "execution_count": 38,
     "metadata": {},
     "output_type": "execute_result"
    }
   ],
   "source": [
    "predictMissingHumidity(startDate, \n",
    "                       endDate,\n",
    "                       knownTimestamps,\n",
    "                       humidity,\n",
    "                       timestamps)"
   ]
  },
  {
   "cell_type": "code",
   "execution_count": 12,
   "metadata": {
    "ExecuteTime": {
     "end_time": "2019-07-15T12:38:55.332978Z",
     "start_time": "2019-07-15T12:38:55.324432Z"
    }
   },
   "outputs": [],
   "source": [
    "knownTimestamps = ['2013-01-01 07:00', '2013-01-01 08:00', '2013-01-01 09:00', '2013-01-01 10:00',\n",
    "                   '2013-01-01 11:00', '2013-01-01 12:00']\n",
    "x = [int(abs((datetime.datetime.utcfromtimestamp(0) - datetime.datetime.strptime(item,\"%Y-%m-%d %H:%M\")).total_seconds())) for item in knownTimestamps]"
   ]
  },
  {
   "cell_type": "code",
   "execution_count": 13,
   "metadata": {
    "ExecuteTime": {
     "end_time": "2019-07-15T12:38:56.804905Z",
     "start_time": "2019-07-15T12:38:56.790459Z"
    }
   },
   "outputs": [
    {
     "data": {
      "text/plain": [
       "[1357023600, 1357027200, 1357030800, 1357034400, 1357038000, 1357041600]"
      ]
     },
     "execution_count": 13,
     "metadata": {},
     "output_type": "execute_result"
    }
   ],
   "source": [
    "x"
   ]
  },
  {
   "cell_type": "code",
   "execution_count": 14,
   "metadata": {
    "ExecuteTime": {
     "end_time": "2019-07-15T12:40:44.157470Z",
     "start_time": "2019-07-15T12:40:44.149961Z"
    }
   },
   "outputs": [
    {
     "data": {
      "text/plain": [
       "datetime.datetime(2013, 1, 1, 7, 0)"
      ]
     },
     "execution_count": 14,
     "metadata": {},
     "output_type": "execute_result"
    }
   ],
   "source": [
    "datetime.datetime.strptime('2013-01-01 07:00', \"%Y-%m-%d %H:%M\")"
   ]
  },
  {
   "cell_type": "code",
   "execution_count": 16,
   "metadata": {
    "ExecuteTime": {
     "end_time": "2019-07-15T12:41:33.165117Z",
     "start_time": "2019-07-15T12:41:33.158177Z"
    }
   },
   "outputs": [],
   "source": [
    "diff = datetime.datetime.utcfromtimestamp(0) - datetime.datetime.strptime('2013-01-01 07:00', \"%Y-%m-%d %H:%M\")"
   ]
  },
  {
   "cell_type": "code",
   "execution_count": 19,
   "metadata": {
    "ExecuteTime": {
     "end_time": "2019-07-15T12:42:00.146427Z",
     "start_time": "2019-07-15T12:42:00.139208Z"
    }
   },
   "outputs": [
    {
     "data": {
      "text/plain": [
       "1357023600"
      ]
     },
     "execution_count": 19,
     "metadata": {},
     "output_type": "execute_result"
    }
   ],
   "source": [
    "int(abs(diff.total_seconds()))"
   ]
  },
  {
   "cell_type": "code",
   "execution_count": 20,
   "metadata": {
    "ExecuteTime": {
     "end_time": "2019-07-15T12:42:20.762576Z",
     "start_time": "2019-07-15T12:42:20.757780Z"
    }
   },
   "outputs": [],
   "source": [
    "y = humidity = [10.0, 11.1, 13.2, 14.8, 15.6, 16.7]"
   ]
  },
  {
   "cell_type": "code",
   "execution_count": 22,
   "metadata": {
    "ExecuteTime": {
     "end_time": "2019-07-15T12:43:44.211179Z",
     "start_time": "2019-07-15T12:43:44.202068Z"
    }
   },
   "outputs": [
    {
     "data": {
      "text/plain": [
       "LinearRegression(copy_X=True, fit_intercept=True, n_jobs=None,\n",
       "         normalize=False)"
      ]
     },
     "execution_count": 22,
     "metadata": {},
     "output_type": "execute_result"
    }
   ],
   "source": [
    "lm = LinearRegression()\n",
    "lm.fit(np.array(x).reshape(-1, 1), y)"
   ]
  },
  {
   "cell_type": "code",
   "execution_count": 23,
   "metadata": {
    "ExecuteTime": {
     "end_time": "2019-07-15T12:46:22.884788Z",
     "start_time": "2019-07-15T12:46:22.878846Z"
    }
   },
   "outputs": [],
   "source": [
    "def _preprocessing(timestampes):\n",
    "    ts =  [int(abs((datetime.datetime.utcfromtimestamp(0) - datetime.datetime.strptime(item,\"%Y-%m-%d %H:%M\")).total_seconds())) for item in timestampes]\n",
    "    return np.array(ts).reshape(-1, 1)"
   ]
  },
  {
   "cell_type": "code",
   "execution_count": 28,
   "metadata": {
    "ExecuteTime": {
     "end_time": "2019-07-15T12:48:55.142408Z",
     "start_time": "2019-07-15T12:48:55.135929Z"
    }
   },
   "outputs": [],
   "source": [
    "x = _preprocessing(knownTimestamps)"
   ]
  },
  {
   "cell_type": "code",
   "execution_count": 24,
   "metadata": {
    "ExecuteTime": {
     "end_time": "2019-07-15T12:47:01.193452Z",
     "start_time": "2019-07-15T12:47:01.188570Z"
    }
   },
   "outputs": [],
   "source": [
    "timestamps = ['2013-01-01 13:00', '2013-01-01 14:00']\n",
    "x_test = _preprocessing(timestamps)"
   ]
  },
  {
   "cell_type": "code",
   "execution_count": 25,
   "metadata": {
    "ExecuteTime": {
     "end_time": "2019-07-15T12:47:21.635177Z",
     "start_time": "2019-07-15T12:47:21.630703Z"
    }
   },
   "outputs": [],
   "source": [
    "y_test = lm.predict(x_test)"
   ]
  },
  {
   "cell_type": "code",
   "execution_count": 26,
   "metadata": {
    "ExecuteTime": {
     "end_time": "2019-07-15T12:47:23.829167Z",
     "start_time": "2019-07-15T12:47:23.821717Z"
    }
   },
   "outputs": [
    {
     "data": {
      "text/plain": [
       "array([18.42666667, 19.8152381 ])"
      ]
     },
     "execution_count": 26,
     "metadata": {},
     "output_type": "execute_result"
    }
   ],
   "source": [
    "y_test"
   ]
  },
  {
   "cell_type": "code",
   "execution_count": 27,
   "metadata": {
    "ExecuteTime": {
     "end_time": "2019-07-15T12:48:11.055413Z",
     "start_time": "2019-07-15T12:48:05.746821Z"
    }
   },
   "outputs": [],
   "source": [
    "import matplotlib.pyplot as plt"
   ]
  },
  {
   "cell_type": "code",
   "execution_count": 29,
   "metadata": {
    "ExecuteTime": {
     "end_time": "2019-07-15T12:49:00.440513Z",
     "start_time": "2019-07-15T12:49:00.191888Z"
    }
   },
   "outputs": [
    {
     "data": {
      "text/plain": [
       "[<matplotlib.lines.Line2D at 0x1171c0978>]"
      ]
     },
     "execution_count": 29,
     "metadata": {},
     "output_type": "execute_result"
    },
    {
     "data": {
      "image/png": "[encoded data removed]",
      "text/plain": [
       "<Figure size 432x288 with 1 Axes>"
      ]
     },
     "metadata": {
      "needs_background": "light"
     },
     "output_type": "display_data"
    }
   ],
   "source": [
    "plt.plot(x, y)"
   ]
  },
  {
   "cell_type": "markdown",
   "metadata": {},
   "source": [
    "## "
   ]
  },
  {
   "cell_type": "code",
   "execution_count": 39,
   "metadata": {
    "ExecuteTime": {
     "end_time": "2019-07-15T13:04:58.084019Z",
     "start_time": "2019-07-15T13:04:58.074049Z"
    }
   },
   "outputs": [],
   "source": [
    "# necessary import libraries\n",
    "import numpy as np\n",
    "import datetime,time\n",
    "from sklearn.linear_model import LinearRegression\n",
    "\n",
    "# dummy inputs (one day)\n",
    "data=[10.0,11.1,12.3,13.2,14.8,15.6,16.7,17.5,18.9,19.7,20.7,21.1,22.6,23.5,24.9,25.1,26.3,27.8,28.8,29.6,30.2,31.6,32.1,33.7]\n",
    "startDate = '2013-01-01'\n",
    "endDate = '2013-01-01'\n",
    "p = 1\n",
    "n = 1"
   ]
  },
  {
   "cell_type": "code",
   "execution_count": 40,
   "metadata": {
    "ExecuteTime": {
     "end_time": "2019-07-15T13:05:04.947138Z",
     "start_time": "2019-07-15T13:05:04.735210Z"
    }
   },
   "outputs": [
    {
     "data": {
      "text/plain": [
       "[<matplotlib.lines.Line2D at 0x119305860>]"
      ]
     },
     "execution_count": 40,
     "metadata": {},
     "output_type": "execute_result"
    },
    {
     "data": {
      "image/png": "[encoded data removed]",
      "text/plain": [
       "<Figure size 432x288 with 1 Axes>"
      ]
     },
     "metadata": {
      "needs_background": "light"
     },
     "output_type": "display_data"
    }
   ],
   "source": [
    "plt.plot(data)"
   ]
  },
  {
   "cell_type": "code",
   "execution_count": null,
   "metadata": {},
   "outputs": [],
   "source": [
    "def predictTemperature(startDate, \n",
    "                       endDate,\n",
    "                       temperature,\n",
    "                       n):\n",
    "    \n",
    "    \n",
    "        \n",
    "    \n",
    "    return "
   ]
  },
  {
   "cell_type": "code",
   "execution_count": 63,
   "metadata": {
    "ExecuteTime": {
     "end_time": "2019-07-15T13:32:54.474860Z",
     "start_time": "2019-07-15T13:32:54.463704Z"
    },
    "scrolled": true
   },
   "outputs": [
    {
     "name": "stdout",
     "output_type": "stream",
     "text": [
      "24\n",
      "0\n",
      "48\n",
      "1\n",
      "96\n",
      "2\n",
      "192\n"
     ]
    }
   ],
   "source": [
    "data=[10.0,11.1,12.3,13.2,14.8,15.6,16.7,17.5,18.9,19.7,20.7,21.1,22.6,23.5,24.9,25.1,26.3,27.8,28.8,29.6,30.2,31.6,32.1,33.7]\n",
    "\n",
    "print(len(data))\n",
    "for i in range(3):\n",
    "    print(i)\n",
    "    data += data\n",
    "    print(len(data))"
   ]
  },
  {
   "cell_type": "code",
   "execution_count": 61,
   "metadata": {
    "ExecuteTime": {
     "end_time": "2019-07-15T13:31:45.115341Z",
     "start_time": "2019-07-15T13:31:45.105042Z"
    }
   },
   "outputs": [
    {
     "data": {
      "text/plain": [
       "8.0"
      ]
     },
     "execution_count": 61,
     "metadata": {},
     "output_type": "execute_result"
    }
   ],
   "source": [
    "len(data)/24"
   ]
  },
  {
   "cell_type": "code",
   "execution_count": 64,
   "metadata": {
    "ExecuteTime": {
     "end_time": "2019-07-15T13:33:24.193860Z",
     "start_time": "2019-07-15T13:33:24.186286Z"
    }
   },
   "outputs": [],
   "source": [
    "data = [x + np.random.random() for x in data]"
   ]
  },
  {
   "cell_type": "code",
   "execution_count": 65,
   "metadata": {
    "ExecuteTime": {
     "end_time": "2019-07-15T13:33:26.119798Z",
     "start_time": "2019-07-15T13:33:26.110084Z"
    }
   },
   "outputs": [
    {
     "data": {
      "text/plain": [
       "8"
      ]
     },
     "execution_count": 65,
     "metadata": {},
     "output_type": "execute_result"
    }
   ],
   "source": [
    "p = int(len(data)/24)\n",
    "p"
   ]
  },
  {
   "cell_type": "code",
   "execution_count": 72,
   "metadata": {
    "ExecuteTime": {
     "end_time": "2019-07-15T13:39:31.171144Z",
     "start_time": "2019-07-15T13:39:31.164309Z"
    }
   },
   "outputs": [],
   "source": [
    "x_list = []\n",
    "\n",
    "for i in range(1, ((24*p)+1)):\n",
    "    x_list.append(i)\n",
    "    \n",
    "x = np.array(x_list).reshape(-1, 1)"
   ]
  },
  {
   "cell_type": "code",
   "execution_count": 67,
   "metadata": {
    "ExecuteTime": {
     "end_time": "2019-07-15T13:35:50.672165Z",
     "start_time": "2019-07-15T13:35:50.667014Z"
    }
   },
   "outputs": [],
   "source": [
    "y = data"
   ]
  },
  {
   "cell_type": "code",
   "execution_count": 80,
   "metadata": {
    "ExecuteTime": {
     "end_time": "2019-07-15T13:49:14.683698Z",
     "start_time": "2019-07-15T13:49:14.436797Z"
    }
   },
   "outputs": [
    {
     "data": {
      "text/plain": [
       "[<matplotlib.lines.Line2D at 0x1192fa7b8>]"
      ]
     },
     "execution_count": 80,
     "metadata": {},
     "output_type": "execute_result"
    },
    {
     "data": {
      "image/png": "[encoded data removed]",
      "text/plain": [
       "<Figure size 432x288 with 1 Axes>"
      ]
     },
     "metadata": {
      "needs_background": "light"
     },
     "output_type": "display_data"
    }
   ],
   "source": [
    "plt.plot(y)"
   ]
  },
  {
   "cell_type": "code",
   "execution_count": 69,
   "metadata": {
    "ExecuteTime": {
     "end_time": "2019-07-15T13:36:55.827959Z",
     "start_time": "2019-07-15T13:36:55.816096Z"
    }
   },
   "outputs": [
    {
     "data": {
      "text/plain": [
       "LinearRegression(copy_X=True, fit_intercept=True, n_jobs=None,\n",
       "         normalize=False)"
      ]
     },
     "execution_count": 69,
     "metadata": {},
     "output_type": "execute_result"
    }
   ],
   "source": [
    "lm = LinearRegression()\n",
    "lm.fit(x, y)"
   ]
  },
  {
   "cell_type": "code",
   "execution_count": 75,
   "metadata": {
    "ExecuteTime": {
     "end_time": "2019-07-15T13:39:53.980320Z",
     "start_time": "2019-07-15T13:39:53.975416Z"
    }
   },
   "outputs": [],
   "source": [
    "f = x_list[-1] + 1\n",
    "x_test_list = []\n",
    "\n",
    "for i in range(24*n):\n",
    "    x_test_list.append(f)\n",
    "    f += 1"
   ]
  },
  {
   "cell_type": "code",
   "execution_count": 76,
   "metadata": {
    "ExecuteTime": {
     "end_time": "2019-07-15T13:40:13.273824Z",
     "start_time": "2019-07-15T13:40:13.269246Z"
    }
   },
   "outputs": [],
   "source": [
    "x_test = np.array(x_test_list).reshape(-1, 1)"
   ]
  },
  {
   "cell_type": "code",
   "execution_count": 78,
   "metadata": {
    "ExecuteTime": {
     "end_time": "2019-07-15T13:40:53.359116Z",
     "start_time": "2019-07-15T13:40:53.354708Z"
    }
   },
   "outputs": [],
   "source": [
    "y_pred = lm.predict(x_test)"
   ]
  },
  {
   "cell_type": "code",
   "execution_count": 79,
   "metadata": {
    "ExecuteTime": {
     "end_time": "2019-07-15T13:41:05.230149Z",
     "start_time": "2019-07-15T13:41:04.997065Z"
    }
   },
   "outputs": [
    {
     "data": {
      "text/plain": [
       "[<matplotlib.lines.Line2D at 0x11948db38>]"
      ]
     },
     "execution_count": 79,
     "metadata": {},
     "output_type": "execute_result"
    },
    {
     "data": {
      "image/png": "[encoded data removed]",
      "text/plain": [
       "<Figure size 432x288 with 1 Axes>"
      ]
     },
     "metadata": {
      "needs_background": "light"
     },
     "output_type": "display_data"
    }
   ],
   "source": [
    "plt.plot(x_test, y_pred)"
   ]
  },
  {
   "cell_type": "code",
   "execution_count": null,
   "metadata": {},
   "outputs": [],
   "source": []
  }
 ],
 "metadata": {
  "kernelspec": {
   "display_name": "python3.7",
   "language": "python",
   "name": "python3.7"
  },
  "language_info": {
   "codemirror_mode": {
    "name": "ipython",
    "version": 3
   },
   "file_extension": ".py",
   "mimetype": "text/x-python",
   "name": "python",
   "nbconvert_exporter": "python",
   "pygments_lexer": "ipython3",
   "version": "3.7.3"
  },
  "toc": {
   "nav_menu": {},
   "number_sections": true,
   "sideBar": true,
   "skip_h1_title": false,
   "toc_cell": false,
   "toc_position": {},
   "toc_section_display": "block",
   "toc_window_display": false
  },
  "varInspector": {
   "cols": {
    "lenName": 16,
    "lenType": 16,
    "lenVar": 40
   },
   "kernels_config": {
    "python": {
     "delete_cmd_postfix": "",
     "delete_cmd_prefix": "del ",
     "library": "var_list.py",
     "varRefreshCmd": "print(var_dic_list())"
    },
    "r": {
     "delete_cmd_postfix": ") ",
     "delete_cmd_prefix": "rm(",
     "library": "var_list.r",
     "varRefreshCmd": "cat(var_dic_list()) "
    }
   },
   "types_to_exclude": [
    "module",
    "function",
    "builtin_function_or_method",
    "instance",
    "_Feature"
   ],
   "window_display": false
  }
 },
 "nbformat": 4,
 "nbformat_minor": 2
}
