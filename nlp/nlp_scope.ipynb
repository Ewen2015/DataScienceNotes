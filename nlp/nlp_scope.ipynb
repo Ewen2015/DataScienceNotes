{
 "cells": [
  {
   "cell_type": "code",
   "execution_count": 1,
   "metadata": {
    "ExecuteTime": {
     "end_time": "2018-02-09T07:54:28.290255Z",
     "start_time": "2018-02-09T07:54:26.699682Z"
    }
   },
   "outputs": [],
   "source": [
    "import os\n",
    "import pandas as pd"
   ]
  },
  {
   "cell_type": "code",
   "execution_count": 2,
   "metadata": {
    "ExecuteTime": {
     "end_time": "2018-02-09T07:54:29.225808Z",
     "start_time": "2018-02-09T07:54:29.154809Z"
    }
   },
   "outputs": [
    {
     "data": {
      "text/html": [
       "<div>\n",
       "<style scoped>\n",
       "    .dataframe tbody tr th:only-of-type {\n",
       "        vertical-align: middle;\n",
       "    }\n",
       "\n",
       "    .dataframe tbody tr th {\n",
       "        vertical-align: top;\n",
       "    }\n",
       "\n",
       "    .dataframe thead th {\n",
       "        text-align: right;\n",
       "    }\n",
       "</style>\n",
       "<table border=\"1\" class=\"dataframe\">\n",
       "  <thead>\n",
       "    <tr style=\"text-align: right;\">\n",
       "      <th></th>\n",
       "      <th>id</th>\n",
       "      <th>scope</th>\n",
       "    </tr>\n",
       "  </thead>\n",
       "  <tbody>\n",
       "    <tr>\n",
       "      <th>0</th>\n",
       "      <td>8355</td>\n",
       "      <td>技术推广、技术开发、技术转让、技术咨询、技术服务；软件开发；从事房地产经纪业务；物业管理；...</td>\n",
       "    </tr>\n",
       "    <tr>\n",
       "      <th>1</th>\n",
       "      <td>1765</td>\n",
       "      <td>信息科技、环保科技、新能源科技领域内的技术开发、技术转让、技术咨询和技术服务；上述领域内的...</td>\n",
       "    </tr>\n",
       "    <tr>\n",
       "      <th>2</th>\n",
       "      <td>8648</td>\n",
       "      <td>软件开发；技术开发、技术转让、技术咨询、技术服务、技术推广;计算机系统服务；数据处理；计算...</td>\n",
       "    </tr>\n",
       "    <tr>\n",
       "      <th>3</th>\n",
       "      <td>5931</td>\n",
       "      <td>出版马列主义、毛泽东思想理论著作，以马克思主义为指导的哲学、政治、法律、经济、历史等研究著...</td>\n",
       "    </tr>\n",
       "    <tr>\n",
       "      <th>4</th>\n",
       "      <td>4613</td>\n",
       "      <td>生产碳酸饮料（汽水）；生产啤酒（熟啤酒、生啤酒、鲜啤酒、特种啤酒）（全国工业产品生产许可证...</td>\n",
       "    </tr>\n",
       "  </tbody>\n",
       "</table>\n",
       "</div>"
      ],
      "text/plain": [
       "     id                                              scope\n",
       "0  8355   技术推广、技术开发、技术转让、技术咨询、技术服务；软件开发；从事房地产经纪业务；物业管理；...\n",
       "1  1765   信息科技、环保科技、新能源科技领域内的技术开发、技术转让、技术咨询和技术服务；上述领域内的...\n",
       "2  8648   软件开发；技术开发、技术转让、技术咨询、技术服务、技术推广;计算机系统服务；数据处理；计算...\n",
       "3  5931   出版马列主义、毛泽东思想理论著作，以马克思主义为指导的哲学、政治、法律、经济、历史等研究著...\n",
       "4  4613   生产碳酸饮料（汽水）；生产啤酒（熟啤酒、生啤酒、鲜啤酒、特种啤酒）（全国工业产品生产许可证..."
      ]
     },
     "execution_count": 2,
     "metadata": {},
     "output_type": "execute_result"
    }
   ],
   "source": [
    "wd = '/Users/ewenwang/Documents/practice_data'\n",
    "os.chdir(wd)\n",
    "\n",
    "file = 'nlp_practice.csv'\n",
    "questions = pd.read_csv(file)\n",
    "questions.head()"
   ]
  },
  {
   "cell_type": "code",
   "execution_count": 3,
   "metadata": {
    "ExecuteTime": {
     "end_time": "2018-02-09T07:59:39.171233Z",
     "start_time": "2018-02-09T07:59:39.106331Z"
    }
   },
   "outputs": [],
   "source": [
    "import jieba"
   ]
  },
  {
   "cell_type": "code",
   "execution_count": 4,
   "metadata": {
    "ExecuteTime": {
     "end_time": "2018-02-09T08:29:20.823544Z",
     "start_time": "2018-02-09T08:29:20.819896Z"
    }
   },
   "outputs": [],
   "source": [
    "blacklist = [u'、', u'；', u'（', u'）', u'从事', u'业务', u'上述', u'领域', u'等', u'全国']\n",
    "hist = {}"
   ]
  },
  {
   "cell_type": "code",
   "execution_count": 8,
   "metadata": {
    "ExecuteTime": {
     "end_time": "2018-02-09T08:31:17.528495Z",
     "start_time": "2018-02-09T08:31:17.523741Z"
    }
   },
   "outputs": [
    {
     "data": {
      "text/plain": [
       "' 技术推广、技术开发、技术转让、技术咨询、技术服务；软件开发；从事房地产经纪业务；物业管理；出租办公用房；投资管理；资产管理。（企业依法自主选择经营项目，开展经营活动；依法须经批准的项目，经相关部门批准后依批准的内容开展经营活动；不得从事本市产业政策禁止和限制类项目的经营活动。）'"
      ]
     },
     "execution_count": 8,
     "metadata": {},
     "output_type": "execute_result"
    }
   ],
   "source": [
    "questions.values[0,1]"
   ]
  },
  {
   "cell_type": "code",
   "execution_count": 9,
   "metadata": {
    "ExecuteTime": {
     "end_time": "2018-02-09T08:32:18.512187Z",
     "start_time": "2018-02-09T08:32:17.384346Z"
    }
   },
   "outputs": [
    {
     "name": "stderr",
     "output_type": "stream",
     "text": [
      "Building prefix dict from the default dictionary ...\n",
      "Dumping model to file cache /var/folders/qj/j182jn510qx8l3wqb64zvjfc0000gn/T/jieba.cache\n",
      "Loading model cost 1.119 seconds.\n",
      "Prefix dict has been built succesfully.\n"
     ]
    }
   ],
   "source": [
    "for word in jieba.cut(questions.values[0,1]):\n",
    "    if word in blacklist:\n",
    "        continue\n",
    "    hist[word] = hist.get(word, 0) + 1"
   ]
  },
  {
   "cell_type": "code",
   "execution_count": 10,
   "metadata": {
    "ExecuteTime": {
     "end_time": "2018-02-09T08:32:30.890131Z",
     "start_time": "2018-02-09T08:32:30.884417Z"
    }
   },
   "outputs": [
    {
     "data": {
      "text/plain": [
       "{' ': 1,\n",
       " '。': 2,\n",
       " '不得': 1,\n",
       " '产业政策': 1,\n",
       " '企业': 1,\n",
       " '依': 1,\n",
       " '依法': 2,\n",
       " '内容': 1,\n",
       " '出租': 1,\n",
       " '办公用房': 1,\n",
       " '后': 1,\n",
       " '和': 1,\n",
       " '开展': 2,\n",
       " '房地产': 1,\n",
       " '批准': 3,\n",
       " '技术': 1,\n",
       " '技术咨询': 1,\n",
       " '技术开发': 1,\n",
       " '技术推广': 1,\n",
       " '技术转让': 1,\n",
       " '投资': 1,\n",
       " '服务': 1,\n",
       " '本市': 1,\n",
       " '活动': 3,\n",
       " '物业管理': 1,\n",
       " '的': 3,\n",
       " '相关': 1,\n",
       " '禁止': 1,\n",
       " '管理': 2,\n",
       " '类': 1,\n",
       " '经': 2,\n",
       " '经纪': 1,\n",
       " '经营': 3,\n",
       " '经营项目': 1,\n",
       " '自主': 1,\n",
       " '资产': 1,\n",
       " '软件开发': 1,\n",
       " '选择': 1,\n",
       " '部门': 1,\n",
       " '限制': 1,\n",
       " '项目': 2,\n",
       " '须': 1,\n",
       " '，': 2}"
      ]
     },
     "execution_count": 10,
     "metadata": {},
     "output_type": "execute_result"
    }
   ],
   "source": [
    "hist"
   ]
  },
  {
   "cell_type": "code",
   "execution_count": 12,
   "metadata": {
    "ExecuteTime": {
     "end_time": "2018-02-09T08:37:22.654785Z",
     "start_time": "2018-02-09T08:37:22.651741Z"
    }
   },
   "outputs": [],
   "source": [
    "hist_sorted = sorted(hist.items(), key=lambda d: d[1], reverse=True)"
   ]
  },
  {
   "cell_type": "code",
   "execution_count": 13,
   "metadata": {
    "ExecuteTime": {
     "end_time": "2018-02-09T08:37:26.827421Z",
     "start_time": "2018-02-09T08:37:26.820961Z"
    }
   },
   "outputs": [
    {
     "data": {
      "text/plain": [
       "[('经营', 3),\n",
       " ('活动', 3),\n",
       " ('批准', 3),\n",
       " ('的', 3),\n",
       " ('管理', 2),\n",
       " ('。', 2),\n",
       " ('依法', 2),\n",
       " ('，', 2),\n",
       " ('开展', 2),\n",
       " ('经', 2),\n",
       " ('项目', 2),\n",
       " (' ', 1),\n",
       " ('技术推广', 1),\n",
       " ('技术开发', 1),\n",
       " ('技术转让', 1),\n",
       " ('技术咨询', 1),\n",
       " ('技术', 1),\n",
       " ('服务', 1),\n",
       " ('软件开发', 1),\n",
       " ('房地产', 1),\n",
       " ('经纪', 1),\n",
       " ('物业管理', 1),\n",
       " ('出租', 1),\n",
       " ('办公用房', 1),\n",
       " ('投资', 1),\n",
       " ('资产', 1),\n",
       " ('企业', 1),\n",
       " ('自主', 1),\n",
       " ('选择', 1),\n",
       " ('经营项目', 1),\n",
       " ('须', 1),\n",
       " ('相关', 1),\n",
       " ('部门', 1),\n",
       " ('后', 1),\n",
       " ('依', 1),\n",
       " ('内容', 1),\n",
       " ('不得', 1),\n",
       " ('本市', 1),\n",
       " ('产业政策', 1),\n",
       " ('禁止', 1),\n",
       " ('和', 1),\n",
       " ('限制', 1),\n",
       " ('类', 1)]"
      ]
     },
     "execution_count": 13,
     "metadata": {},
     "output_type": "execute_result"
    }
   ],
   "source": [
    "hist_sorted"
   ]
  },
  {
   "cell_type": "code",
   "execution_count": 22,
   "metadata": {
    "ExecuteTime": {
     "end_time": "2018-02-09T09:02:43.175856Z",
     "start_time": "2018-02-09T09:02:43.168991Z"
    }
   },
   "outputs": [
    {
     "data": {
      "text/plain": [
       "[('管理', 2),\n",
       " ('技术推广', 1),\n",
       " ('技术开发', 1),\n",
       " ('技术转让', 1),\n",
       " ('技术咨询', 1),\n",
       " ('技术', 1),\n",
       " ('服务', 1),\n",
       " ('软件开发', 1),\n",
       " ('房地产', 1),\n",
       " ('经纪', 1),\n",
       " ('物业管理', 1),\n",
       " ('出租', 1),\n",
       " ('办公用房', 1),\n",
       " ('投资', 1),\n",
       " ('资产', 1)]"
      ]
     },
     "execution_count": 22,
     "metadata": {},
     "output_type": "execute_result"
    }
   ],
   "source": [
    "checker(0)"
   ]
  },
  {
   "cell_type": "code",
   "execution_count": 14,
   "metadata": {
    "ExecuteTime": {
     "end_time": "2018-02-09T08:50:02.785147Z",
     "start_time": "2018-02-09T08:50:02.759743Z"
    }
   },
   "outputs": [
    {
     "data": {
      "text/plain": [
       "[('科技', 2),\n",
       " ('内', 2),\n",
       " ('服务', 2),\n",
       " ('信息', 1),\n",
       " ('环保', 1),\n",
       " ('新能源', 1),\n",
       " ('科技领域', 1),\n",
       " ('技术开发', 1),\n",
       " ('技术转让', 1),\n",
       " ('技术咨询', 1),\n",
       " ('技术', 1),\n",
       " ('软件开发', 1),\n",
       " ('市场', 1),\n",
       " ('营销策划', 1),\n",
       " ('计算机信息', 1),\n",
       " ('系统集成', 1),\n",
       " ('集成电路', 1),\n",
       " ('产品', 1),\n",
       " ('通讯设备', 1),\n",
       " ('除', 1),\n",
       " ('卫星', 1),\n",
       " ('电视广播', 1),\n",
       " ('地面', 1),\n",
       " ('接收', 1),\n",
       " ('设施', 1),\n",
       " ('批发', 1),\n",
       " ('进出口', 1),\n",
       " ('佣金', 1),\n",
       " ('代理', 1),\n",
       " ('拍卖', 1),\n",
       " ('除外', 1),\n",
       " ('及其', 1),\n",
       " ('配套', 1),\n",
       " ('【', 1),\n",
       " ('后方', 1),\n",
       " ('可', 1),\n",
       " ('】', 1)]"
      ]
     },
     "execution_count": 14,
     "metadata": {},
     "output_type": "execute_result"
    }
   ],
   "source": [
    "blacklist = [u'类', u'限制', u'和', u'禁止', u'产业政策', u'本市', u'内容', u'不得', u'依', u'后', u'部门', \n",
    "             u'相关', u'须', u'经营项目', u'选择', u'自主', u'企业', u' ', u'项目', u'经', u'开展', u'，', \n",
    "             u'依法', u'。', u'的', u'批准', u'活动', u'经营', u'、', u'；', u'（', u'）', u'从事', u'业务', \n",
    "             u'上述', u'领域', u'等', u'全国']\n",
    "hist2 = {}\n",
    "\n",
    "for word in jieba.cut(questions.values[1,1]):\n",
    "    if word in blacklist:\n",
    "        continue\n",
    "    hist2[word] = hist2.get(word, 0) + 1\n",
    "    \n",
    "hist_sorted2 = sorted(hist2.items(), key=lambda d: d[1], reverse=True)\n",
    "\n",
    "hist_sorted2"
   ]
  },
  {
   "cell_type": "code",
   "execution_count": 21,
   "metadata": {
    "ExecuteTime": {
     "end_time": "2018-02-09T09:02:04.875787Z",
     "start_time": "2018-02-09T09:02:04.867451Z"
    }
   },
   "outputs": [
    {
     "data": {
      "text/plain": [
       "[('科技', 2),\n",
       " ('服务', 2),\n",
       " ('信息', 1),\n",
       " ('环保', 1),\n",
       " ('新能源', 1),\n",
       " ('科技领域', 1),\n",
       " ('技术开发', 1),\n",
       " ('技术转让', 1),\n",
       " ('技术咨询', 1),\n",
       " ('技术', 1),\n",
       " ('软件开发', 1),\n",
       " ('市场', 1),\n",
       " ('营销策划', 1),\n",
       " ('计算机信息', 1),\n",
       " ('系统集成', 1),\n",
       " ('集成电路', 1),\n",
       " ('产品', 1),\n",
       " ('通讯设备', 1),\n",
       " ('卫星', 1),\n",
       " ('电视广播', 1),\n",
       " ('地面', 1),\n",
       " ('接收', 1),\n",
       " ('设施', 1),\n",
       " ('批发', 1),\n",
       " ('进出口', 1),\n",
       " ('佣金', 1),\n",
       " ('代理', 1),\n",
       " ('拍卖', 1),\n",
       " ('配套', 1)]"
      ]
     },
     "execution_count": 21,
     "metadata": {},
     "output_type": "execute_result"
    }
   ],
   "source": [
    "checker(1)"
   ]
  },
  {
   "cell_type": "code",
   "execution_count": 17,
   "metadata": {
    "ExecuteTime": {
     "end_time": "2018-02-09T08:56:47.278142Z",
     "start_time": "2018-02-09T08:56:47.246222Z"
    }
   },
   "outputs": [
    {
     "data": {
      "text/plain": [
       "[('服务', 4),\n",
       " ('计算机', 3),\n",
       " ('进出口', 3),\n",
       " ('技术', 2),\n",
       " (';', 2),\n",
       " ('软件', 2),\n",
       " ('软件开发', 1),\n",
       " ('技术开发', 1),\n",
       " ('技术转让', 1),\n",
       " ('技术咨询', 1),\n",
       " ('技术推广', 1),\n",
       " ('计算机系统', 1),\n",
       " ('数据处理', 1),\n",
       " ('维修', 1),\n",
       " ('基础', 1),\n",
       " ('应用软件', 1),\n",
       " ('技术培训', 1),\n",
       " ('货物', 1),\n",
       " ('代理', 1),\n",
       " ('管理', 1),\n",
       " ('咨询', 1),\n",
       " ('销售', 1),\n",
       " ('及', 1),\n",
       " ('辅助', 1),\n",
       " ('设备', 1),\n",
       " ('通讯设备', 1)]"
      ]
     },
     "execution_count": 17,
     "metadata": {},
     "output_type": "execute_result"
    }
   ],
   "source": [
    "blacklist = [u'类', u'限制', u'和', u'禁止', u'产业政策', u'本市', u'内容', u'不得', u'依', u'后', u'部门', \n",
    "             u'相关', u'须', u'经营项目', u'选择', u'自主', u'企业', u' ', u'项目', u'经', u'开展', u'，', \n",
    "             u'依法', u'。', u'的', u'批准', u'活动', u'经营', u'、', u'；', u'（', u'）', u'从事', u'业务', \n",
    "             u'上述', u'领域', u'等', u'全国', u'】', u'可', u'后方', u'【', u'及其', u'除外', u'除', u'内']\n",
    "hist3 = {}\n",
    "\n",
    "for word in jieba.cut(questions.values[2,1]):\n",
    "    if word in blacklist:\n",
    "        continue\n",
    "    hist3[word] = hist3.get(word, 0) + 1\n",
    "    \n",
    "hist_sorted3 = sorted(hist3.items(), key=lambda d: d[1], reverse=True)\n",
    "\n",
    "hist_sorted3"
   ]
  },
  {
   "cell_type": "code",
   "execution_count": 20,
   "metadata": {
    "ExecuteTime": {
     "end_time": "2018-02-09T09:01:35.414798Z",
     "start_time": "2018-02-09T09:01:35.400685Z"
    }
   },
   "outputs": [
    {
     "data": {
      "text/plain": [
       "[('服务', 4),\n",
       " ('计算机', 3),\n",
       " ('进出口', 3),\n",
       " ('技术', 2),\n",
       " ('软件', 2),\n",
       " ('软件开发', 1),\n",
       " ('技术开发', 1),\n",
       " ('技术转让', 1),\n",
       " ('技术咨询', 1),\n",
       " ('技术推广', 1),\n",
       " ('计算机系统', 1),\n",
       " ('数据处理', 1),\n",
       " ('维修', 1),\n",
       " ('应用软件', 1),\n",
       " ('技术培训', 1),\n",
       " ('货物', 1),\n",
       " ('代理', 1),\n",
       " ('管理', 1),\n",
       " ('咨询', 1),\n",
       " ('销售', 1),\n",
       " ('设备', 1),\n",
       " ('通讯设备', 1)]"
      ]
     },
     "execution_count": 20,
     "metadata": {},
     "output_type": "execute_result"
    }
   ],
   "source": [
    "checker(2)"
   ]
  },
  {
   "cell_type": "code",
   "execution_count": 18,
   "metadata": {
    "ExecuteTime": {
     "end_time": "2018-02-09T08:58:21.218356Z",
     "start_time": "2018-02-09T08:58:21.212582Z"
    }
   },
   "outputs": [],
   "source": [
    "blacklist = [u'类', u'限制', u'和', u'禁止', u'产业政策', u'本市', u'内容', u'不得', u'依', u'后', u'部门', \n",
    "             u'相关', u'须', u'经营项目', u'选择', u'自主', u'企业', u' ', u'项目', u'经', u'开展', u'，', \n",
    "             u'依法', u'。', u'的', u'批准', u'活动', u'经营', u'、', u'；', u'（', u'）', u'从事', u'业务', \n",
    "             u'上述', u'领域', u'等', u'全国', u'】', u'可', u'后方', u'【', u'及其', u'除外', u'除', u'内',\n",
    "             u'及', u';', u'辅助', u'基础']"
   ]
  },
  {
   "cell_type": "code",
   "execution_count": 16,
   "metadata": {
    "ExecuteTime": {
     "end_time": "2018-02-09T08:56:15.541838Z",
     "start_time": "2018-02-09T08:56:15.533537Z"
    }
   },
   "outputs": [],
   "source": [
    "def checker(index):\n",
    "    hist = {}\n",
    "    for word in jieba.cut(questions.values[index,1]):\n",
    "        if word in blacklist:\n",
    "            continue\n",
    "        hist[word] = hist.get(word, 0) + 1\n",
    "    hist_sorted = sorted(hist.items(), key=lambda d: d[1], reverse=True)\n",
    "    return hist_sorted"
   ]
  },
  {
   "cell_type": "code",
   "execution_count": 19,
   "metadata": {
    "ExecuteTime": {
     "end_time": "2018-02-09T08:58:37.262325Z",
     "start_time": "2018-02-09T08:58:37.244241Z"
    },
    "scrolled": true
   },
   "outputs": [
    {
     "data": {
      "text/plain": [
       "[('出版', 5),\n",
       " ('读物', 5),\n",
       " ('图书', 4),\n",
       " ('著作', 3),\n",
       " ('各类', 3),\n",
       " ('理论', 2),\n",
       " ('以', 2),\n",
       " ('政治', 2),\n",
       " ('研究', 2),\n",
       " ('宣传', 2),\n",
       " ('古籍', 2),\n",
       " ('国内', 2),\n",
       " ('出版物', 2),\n",
       " ('许可证', 2),\n",
       " ('有效期', 2),\n",
       " ('至', 2),\n",
       " ('年', 2),\n",
       " ('月', 2),\n",
       " ('日', 2),\n",
       " ('10', 2),\n",
       " ('产品', 2),\n",
       " ('马列主义', 1),\n",
       " ('毛泽东思想', 1),\n",
       " ('马克思主义', 1),\n",
       " ('为', 1),\n",
       " ('指导', 1),\n",
       " ('哲学', 1),\n",
       " ('法律', 1),\n",
       " ('经济', 1),\n",
       " ('历史', 1),\n",
       " ('辞书', 1),\n",
       " ('工具书', 1),\n",
       " ('当地', 1),\n",
       " ('党委', 1),\n",
       " ('政府', 1),\n",
       " ('责成', 1),\n",
       " ('方针', 1),\n",
       " ('政策', 1),\n",
       " ('时事', 1),\n",
       " ('党史', 1),\n",
       " ('党建', 1),\n",
       " ('通俗', 1),\n",
       " ('青年', 1),\n",
       " ('思想', 1),\n",
       " ('教育', 1),\n",
       " ('地方', 1),\n",
       " ('为主', 1),\n",
       " ('原著', 1),\n",
       " ('有关', 1),\n",
       " ('本版', 1),\n",
       " ('总', 1),\n",
       " ('发行', 1),\n",
       " ('版图', 1),\n",
       " ('书', 1),\n",
       " ('音像', 1),\n",
       " ('电子', 1),\n",
       " ('批发', 1),\n",
       " ('兼', 1),\n",
       " ('零售', 1),\n",
       " ('2019', 1),\n",
       " ('6', 1),\n",
       " ('30', 1),\n",
       " ('同本', 1),\n",
       " ('公司', 1),\n",
       " ('范围', 1),\n",
       " ('相一致', 1),\n",
       " ('互联网', 1),\n",
       " ('手机', 1),\n",
       " ('联网', 1),\n",
       " ('2016', 1),\n",
       " ('信息', 1),\n",
       " ('服务', 1),\n",
       " ('设计', 1),\n",
       " ('制作', 1),\n",
       " ('发布', 1),\n",
       " ('代理', 1),\n",
       " ('广告', 1),\n",
       " ('IT', 1),\n",
       " ('软件', 1),\n",
       " ('教学', 1),\n",
       " ('销售', 1),\n",
       " ('中小学', 1),\n",
       " ('教辅', 1),\n",
       " ('材料', 1),\n",
       " ('出版发行', 1),\n",
       " ('凭', 1),\n",
       " ('新闻出版', 1),\n",
       " ('总署', 1),\n",
       " ('批复', 1)]"
      ]
     },
     "execution_count": 19,
     "metadata": {},
     "output_type": "execute_result"
    }
   ],
   "source": [
    "checker(3)"
   ]
  },
  {
   "cell_type": "code",
   "execution_count": 53,
   "metadata": {
    "ExecuteTime": {
     "end_time": "2018-02-11T01:41:43.797143Z",
     "start_time": "2018-02-11T01:41:43.789596Z"
    }
   },
   "outputs": [],
   "source": [
    "blacklist = [u'类', u'限制', u'和', u'禁止', u'产业政策', u'本市', u'内容', u'不得', u'依', u'后', u'部门', \n",
    "             u'相关', u'须', u'经营项目', u'选择', u'自主', u'企业', u' ', u'项目', u'经', u'开展', u'，', \n",
    "             u'依法', u'。', u'的', u'批准', u'活动', u'经营', u'、', u'；', u'（', u'）', u'从事', u'业务', \n",
    "             u'上述', u'领域', u'等', u'全国', u'】', u'可', u'后方', u'【', u'及其', u'除外', u'除', u'内',\n",
    "             u'及', u';', u'辅助', u'基础', u'以', u'许可证', u'有效期', u'至', u'年', u'月', u'日', u'为', \n",
    "             u'为主', u'总', u'兼', u'凭']"
   ]
  },
  {
   "cell_type": "code",
   "execution_count": 54,
   "metadata": {
    "ExecuteTime": {
     "end_time": "2018-02-11T01:41:53.844236Z",
     "start_time": "2018-02-11T01:41:53.744548Z"
    }
   },
   "outputs": [
    {
     "data": {
      "text/plain": [
       "[('出版', 5),\n",
       " ('读物', 5),\n",
       " ('图书', 4),\n",
       " ('著作', 3),\n",
       " ('各类', 3),\n",
       " ('理论', 2),\n",
       " ('政治', 2),\n",
       " ('研究', 2),\n",
       " ('宣传', 2),\n",
       " ('古籍', 2),\n",
       " ('国内', 2),\n",
       " ('出版物', 2),\n",
       " ('10', 2),\n",
       " ('产品', 2),\n",
       " ('马列主义', 1),\n",
       " ('毛泽东思想', 1),\n",
       " ('马克思主义', 1),\n",
       " ('指导', 1),\n",
       " ('哲学', 1),\n",
       " ('法律', 1),\n",
       " ('经济', 1),\n",
       " ('历史', 1),\n",
       " ('辞书', 1),\n",
       " ('工具书', 1),\n",
       " ('当地', 1),\n",
       " ('党委', 1),\n",
       " ('政府', 1),\n",
       " ('责成', 1),\n",
       " ('方针', 1),\n",
       " ('政策', 1),\n",
       " ('时事', 1),\n",
       " ('党史', 1),\n",
       " ('党建', 1),\n",
       " ('通俗', 1),\n",
       " ('青年', 1),\n",
       " ('思想', 1),\n",
       " ('教育', 1),\n",
       " ('地方', 1),\n",
       " ('原著', 1),\n",
       " ('有关', 1),\n",
       " ('本版', 1),\n",
       " ('发行', 1),\n",
       " ('版图', 1),\n",
       " ('书', 1),\n",
       " ('音像', 1),\n",
       " ('电子', 1),\n",
       " ('批发', 1),\n",
       " ('零售', 1),\n",
       " ('2019', 1),\n",
       " ('6', 1),\n",
       " ('30', 1),\n",
       " ('同本', 1),\n",
       " ('公司', 1),\n",
       " ('范围', 1),\n",
       " ('相一致', 1),\n",
       " ('互联网', 1),\n",
       " ('手机', 1),\n",
       " ('联网', 1),\n",
       " ('2016', 1),\n",
       " ('信息', 1),\n",
       " ('服务', 1),\n",
       " ('设计', 1),\n",
       " ('制作', 1),\n",
       " ('发布', 1),\n",
       " ('代理', 1),\n",
       " ('广告', 1),\n",
       " ('IT', 1),\n",
       " ('软件', 1),\n",
       " ('教学', 1),\n",
       " ('销售', 1),\n",
       " ('中小学', 1),\n",
       " ('教辅', 1),\n",
       " ('材料', 1),\n",
       " ('出版发行', 1),\n",
       " ('新闻出版', 1),\n",
       " ('总署', 1),\n",
       " ('批复', 1)]"
      ]
     },
     "execution_count": 54,
     "metadata": {},
     "output_type": "execute_result"
    }
   ],
   "source": [
    "checker(3)"
   ]
  },
  {
   "cell_type": "code",
   "execution_count": null,
   "metadata": {},
   "outputs": [],
   "source": [
    "def checker(index):\n",
    "    hist = {}\n",
    "    for word in jieba.cut(questions.values[index,1]):\n",
    "        if word in blacklist:\n",
    "            continue\n",
    "        hist[word] = hist.get(word, 0) + 1\n",
    "    hist_sorted = sorted(hist.items(), key=lambda d: d[1], reverse=True)\n",
    "    return hist_sorted"
   ]
  },
  {
   "cell_type": "code",
   "execution_count": 55,
   "metadata": {
    "ExecuteTime": {
     "end_time": "2018-02-11T01:52:07.582374Z",
     "start_time": "2018-02-11T01:52:07.539681Z"
    }
   },
   "outputs": [
    {
     "data": {
      "text/plain": [
       "[('生产', 4),\n",
       " ('啤酒', 4),\n",
       " ('工业', 2),\n",
       " ('产品', 2),\n",
       " ('碳酸', 1),\n",
       " ('饮料', 1),\n",
       " ('汽水', 1),\n",
       " ('熟', 1),\n",
       " ('生啤酒', 1),\n",
       " ('鲜', 1),\n",
       " ('特种', 1),\n",
       " ('1', 1),\n",
       " ('有效期限', 1),\n",
       " ('为准', 1)]"
      ]
     },
     "execution_count": 55,
     "metadata": {},
     "output_type": "execute_result"
    }
   ],
   "source": [
    "checker(4)"
   ]
  },
  {
   "cell_type": "code",
   "execution_count": 56,
   "metadata": {
    "ExecuteTime": {
     "end_time": "2018-02-11T01:53:32.028194Z",
     "start_time": "2018-02-11T01:53:32.019003Z"
    }
   },
   "outputs": [],
   "source": [
    "blacklist = [u'类', u'限制', u'和', u'禁止', u'产业政策', u'本市', u'内容', u'不得', u'依', u'后', u'部门', \n",
    "             u'相关', u'须', u'经营项目', u'选择', u'自主', u'企业', u' ', u'项目', u'经', u'开展', u'，', \n",
    "             u'依法', u'。', u'的', u'批准', u'活动', u'经营', u'、', u'；', u'（', u'）', u'从事', u'业务', \n",
    "             u'上述', u'领域', u'等', u'全国', u'】', u'可', u'后方', u'【', u'及其', u'除外', u'除', u'内',\n",
    "             u'及', u';', u'辅助', u'基础', u'以', u'许可证', u'有效期', u'至', u'年', u'月', u'日', u'为', \n",
    "             u'为主', u'总', u'兼', u'凭', u'有效期限', u'为准']"
   ]
  },
  {
   "cell_type": "code",
   "execution_count": 57,
   "metadata": {
    "ExecuteTime": {
     "end_time": "2018-02-11T01:53:42.810668Z",
     "start_time": "2018-02-11T01:53:42.802681Z"
    }
   },
   "outputs": [
    {
     "data": {
      "text/plain": [
       "[('生产', 4),\n",
       " ('啤酒', 4),\n",
       " ('工业', 2),\n",
       " ('产品', 2),\n",
       " ('碳酸', 1),\n",
       " ('饮料', 1),\n",
       " ('汽水', 1),\n",
       " ('熟', 1),\n",
       " ('生啤酒', 1),\n",
       " ('鲜', 1),\n",
       " ('特种', 1),\n",
       " ('1', 1)]"
      ]
     },
     "execution_count": 57,
     "metadata": {},
     "output_type": "execute_result"
    }
   ],
   "source": [
    "checker(4)"
   ]
  },
  {
   "cell_type": "code",
   "execution_count": 58,
   "metadata": {
    "ExecuteTime": {
     "end_time": "2018-02-11T01:53:51.142801Z",
     "start_time": "2018-02-11T01:53:51.107761Z"
    }
   },
   "outputs": [
    {
     "data": {
      "text/plain": [
       "[('金融', 3),\n",
       " ('外', 3),\n",
       " ('包', 3),\n",
       " ('技术', 2),\n",
       " ('服务', 2),\n",
       " ('网络', 1),\n",
       " ('计算机技术', 1),\n",
       " ('技术开发', 1),\n",
       " ('技术咨询', 1),\n",
       " ('技术转让', 1),\n",
       " ('软件开发', 1),\n",
       " ('计算机系统', 1),\n",
       " ('集成', 1),\n",
       " ('网络工程', 1),\n",
       " ('计算机', 1),\n",
       " ('软件', 1),\n",
       " ('设备', 1),\n",
       " ('计算机信息', 1),\n",
       " ('系统安全', 1),\n",
       " ('专用', 1),\n",
       " ('产品', 1),\n",
       " ('日用百货', 1),\n",
       " ('办公用品', 1),\n",
       " ('销售', 1),\n",
       " ('电子商务', 1),\n",
       " ('增值', 1),\n",
       " ('电信', 1),\n",
       " ('金融业务', 1),\n",
       " ('会务', 1),\n",
       " ('管理', 1),\n",
       " ('咨询', 1),\n",
       " ('利用', 1),\n",
       " ('自有', 1),\n",
       " ('媒体', 1),\n",
       " ('发布', 1),\n",
       " ('广告', 1),\n",
       " ('食品', 1),\n",
       " ('流通', 1),\n",
       " ('接受', 1),\n",
       " ('金融机构', 1),\n",
       " ('委托', 1),\n",
       " ('信息技术', 1),\n",
       " ('业务流程', 1),\n",
       " ('知识', 1),\n",
       " ('流程', 1)]"
      ]
     },
     "execution_count": 58,
     "metadata": {},
     "output_type": "execute_result"
    }
   ],
   "source": [
    "checker(5)"
   ]
  },
  {
   "cell_type": "code",
   "execution_count": null,
   "metadata": {},
   "outputs": [],
   "source": []
  },
  {
   "cell_type": "code",
   "execution_count": 23,
   "metadata": {
    "ExecuteTime": {
     "end_time": "2018-02-09T09:50:00.283301Z",
     "start_time": "2018-02-09T09:50:00.271514Z"
    }
   },
   "outputs": [],
   "source": [
    "import re"
   ]
  },
  {
   "cell_type": "code",
   "execution_count": 24,
   "metadata": {
    "ExecuteTime": {
     "end_time": "2018-02-09T09:59:28.761156Z",
     "start_time": "2018-02-09T09:59:28.736486Z"
    }
   },
   "outputs": [],
   "source": [
    "def stripPunc(wordList):\n",
    "    \"\"\"Strips punctuation from list of words\"\"\"\n",
    "    puncList = [\".\",\";\",\":\",\"!\",\"?\",\"/\",\"\\\\\",\",\",\"#\",\"@\",\"$\",\"&\",\")\",\"(\",\"\\\"\",\n",
    "               \"。\",\"，\",\"。\",\"？\",\"【\",\"】\",\"（\",\"）\",\"「\",\"」\",\"；\",\"、\",\" \"]\n",
    "    for punc in puncList:\n",
    "        for word in wordList:\n",
    "            wordList=[word.replace(punc,'') for word in wordList]\n",
    "    return wordList"
   ]
  },
  {
   "cell_type": "code",
   "execution_count": 25,
   "metadata": {
    "ExecuteTime": {
     "end_time": "2018-02-09T10:03:17.347917Z",
     "start_time": "2018-02-09T10:03:17.337274Z"
    }
   },
   "outputs": [],
   "source": [
    "def sentence_to_wordlist(sentence):\n",
    "    # 1. Remove charactors\n",
    "    sentence_text = re.sub('^\\d+\\s|\\s\\d+\\s|\\s\\d+$', '', sentence)\n",
    "    sentence_text = stripPunc(sentence_text)\n",
    "    # 2. Split words\n",
    "    words = []\n",
    "    for word in jieba.cut(sentence_text):\n",
    "        if word in blacklist:\n",
    "            continue\n",
    "        words = words+word\n",
    "    # 3. Return a list of words\n",
    "    return words"
   ]
  },
  {
   "cell_type": "code",
   "execution_count": 47,
   "metadata": {
    "ExecuteTime": {
     "end_time": "2018-02-09T10:22:39.998017Z",
     "start_time": "2018-02-09T10:22:39.991697Z"
    }
   },
   "outputs": [],
   "source": [
    "def sentence_to_wordlist(sentence):\n",
    "    words = list()\n",
    "    for word in jieba.cut(sentence):\n",
    "        if word in blacklist:\n",
    "            continue\n",
    "        words = words.append(word)\n",
    "    return words"
   ]
  },
  {
   "cell_type": "code",
   "execution_count": 49,
   "metadata": {
    "ExecuteTime": {
     "end_time": "2018-02-09T10:23:02.397316Z",
     "start_time": "2018-02-09T10:23:02.394449Z"
    }
   },
   "outputs": [],
   "source": [
    "words = list()"
   ]
  },
  {
   "cell_type": "code",
   "execution_count": 51,
   "metadata": {
    "ExecuteTime": {
     "end_time": "2018-02-09T10:24:35.172729Z",
     "start_time": "2018-02-09T10:24:35.164180Z"
    }
   },
   "outputs": [
    {
     "name": "stdout",
     "output_type": "stream",
     "text": [
      "技术推广\n",
      "技术开发\n",
      "技术转让\n",
      "技术咨询\n",
      "技术\n",
      "服务\n",
      "软件开发\n",
      "房地产\n",
      "经纪\n",
      "物业管理\n",
      "出租\n",
      "办公用房\n",
      "投资\n",
      "管理\n",
      "资产\n",
      "管理\n"
     ]
    }
   ],
   "source": [
    "for word in jieba.cut(questions.values[0,1]):\n",
    "    if word in blacklist:\n",
    "        continue\n",
    "    print()"
   ]
  },
  {
   "cell_type": "code",
   "execution_count": null,
   "metadata": {},
   "outputs": [],
   "source": []
  }
 ],
 "metadata": {
  "kernelspec": {
   "display_name": "Python 3",
   "language": "python",
   "name": "python3"
  },
  "language_info": {
   "codemirror_mode": {
    "name": "ipython",
    "version": 3
   },
   "file_extension": ".py",
   "mimetype": "text/x-python",
   "name": "python",
   "nbconvert_exporter": "python",
   "pygments_lexer": "ipython3",
   "version": "3.6.3"
  },
  "toc": {
   "nav_menu": {},
   "number_sections": true,
   "sideBar": true,
   "skip_h1_title": false,
   "toc_cell": false,
   "toc_position": {},
   "toc_section_display": "block",
   "toc_window_display": false
  },
  "varInspector": {
   "cols": {
    "lenName": 16,
    "lenType": 16,
    "lenVar": 40
   },
   "kernels_config": {
    "python": {
     "delete_cmd_postfix": "",
     "delete_cmd_prefix": "del ",
     "library": "var_list.py",
     "varRefreshCmd": "print(var_dic_list())"
    },
    "r": {
     "delete_cmd_postfix": ") ",
     "delete_cmd_prefix": "rm(",
     "library": "var_list.r",
     "varRefreshCmd": "cat(var_dic_list()) "
    }
   },
   "types_to_exclude": [
    "module",
    "function",
    "builtin_function_or_method",
    "instance",
    "_Feature"
   ],
   "window_display": false
  }
 },
 "nbformat": 4,
 "nbformat_minor": 2
}
